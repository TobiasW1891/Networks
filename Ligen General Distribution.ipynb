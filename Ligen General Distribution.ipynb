{
 "cells": [
  {
   "cell_type": "markdown",
   "metadata": {},
   "source": [
    "import sys\n",
    "!{sys.executable} -m pip install pydot"
   ]
  },
  {
   "cell_type": "code",
   "execution_count": 1,
   "metadata": {},
   "outputs": [],
   "source": [
    "import pandas as pd\n",
    "import scipy\n",
    "from scipy.stats import skew\n",
    "import matplotlib.pyplot as plt\n",
    "import numpy as np\n",
    "import networkx\n",
    "import networkx.convert_matrix as nx\n",
    "import pyvis\n",
    "import graphviz\n",
    "from pyvis.network import Network\n",
    "import pyvis.network as net\n",
    "import pydot\n",
    "import random\n",
    "import time\n",
    "from matplotlib.ticker import ScalarFormatter\n",
    "import sklearn\n",
    "from sklearn.linear_model import LinearRegression\n",
    "import statsmodels.api as sm\n",
    "\n",
    "# https://towardsdatascience.com/social-network-analysis-from-theory-to-applications-with-python-d12e9a34c2c7\n",
    "# https://github.com/ewenme/transfers\n",
    "# https://towardsdatascience.com/visualizing-networks-in-python-d70f4cbeb259\n",
    "# https://github.com/MridulS/pydata-networkx\n",
    "# https://datapane.com/u/khuyentran1401/reports/63OQaRk/pyvis-visualize-interactive-network-graphs-in-python/"
   ]
  },
  {
   "cell_type": "code",
   "execution_count": 2,
   "metadata": {},
   "outputs": [],
   "source": [
    "year = \"1992\""
   ]
  },
  {
   "cell_type": "code",
   "execution_count": 3,
   "metadata": {},
   "outputs": [],
   "source": [
    "BuLi = pd.read_csv(r\"DataFootball/\"+year+\"_german_bundesliga_1.csv\")\n",
    "PL = pd.read_csv(r\"DataFootball/\"+year+\"_english_premier_league.csv\")\n",
    "SA = pd.read_csv(r\"DataFootball/\"+year+\"_italian_serie_a.csv\")\n",
    "PD = pd.read_csv(r\"DataFootball/\"+year+\"_spanish_primera_division.csv\")\n",
    "L1 = pd.read_csv(r\"DataFootball/\"+year+\"_french_ligue_1.csv\")\n",
    "NOS = pd.read_csv(r\"DataFootball/\"+year+\"_portugese_liga_nos.csv\")\n",
    "Ere = pd.read_csv(r\"DataFootball/\"+year+\"_dutch_eredivisie.csv\")\n",
    "EC = pd.read_csv(r\"DataFootball/\"+year+\"_english_championship.csv\")\n",
    "Rus = pd.read_csv(r\"DataFootball/\"+year+\"_russian_premier_liga.csv\")"
   ]
  },
  {
   "cell_type": "code",
   "execution_count": 4,
   "metadata": {},
   "outputs": [],
   "source": [
    "DF = pd.concat([BuLi, PL, SA,\n",
    "                  PD, L1, NOS, \n",
    "                  Ere, EC, Rus],ignore_index=True)"
   ]
  },
  {
   "cell_type": "code",
   "execution_count": 5,
   "metadata": {},
   "outputs": [
    {
     "data": {
      "text/plain": [
       "(2671, 12)"
      ]
     },
     "execution_count": 5,
     "metadata": {},
     "output_type": "execute_result"
    }
   ],
   "source": [
    "DF.shape"
   ]
  },
  {
   "cell_type": "code",
   "execution_count": 6,
   "metadata": {},
   "outputs": [
    {
     "data": {
      "text/html": [
       "<div>\n",
       "<style scoped>\n",
       "    .dataframe tbody tr th:only-of-type {\n",
       "        vertical-align: middle;\n",
       "    }\n",
       "\n",
       "    .dataframe tbody tr th {\n",
       "        vertical-align: top;\n",
       "    }\n",
       "\n",
       "    .dataframe thead th {\n",
       "        text-align: right;\n",
       "    }\n",
       "</style>\n",
       "<table border=\"1\" class=\"dataframe\">\n",
       "  <thead>\n",
       "    <tr style=\"text-align: right;\">\n",
       "      <th></th>\n",
       "      <th>club_name</th>\n",
       "      <th>player_name</th>\n",
       "      <th>club_involved_name</th>\n",
       "      <th>transfer_movement</th>\n",
       "      <th>fee_cleaned</th>\n",
       "    </tr>\n",
       "  </thead>\n",
       "  <tbody>\n",
       "    <tr>\n",
       "      <th>0</th>\n",
       "      <td>1. FC Köln</td>\n",
       "      <td>Andrzej Kobylanski</td>\n",
       "      <td>Siarka T.</td>\n",
       "      <td>in</td>\n",
       "      <td>0.270</td>\n",
       "    </tr>\n",
       "    <tr>\n",
       "      <th>1</th>\n",
       "      <td>1. FC Köln</td>\n",
       "      <td>Dirk Lehmann</td>\n",
       "      <td>A. Aachen II</td>\n",
       "      <td>in</td>\n",
       "      <td>0.014</td>\n",
       "    </tr>\n",
       "    <tr>\n",
       "      <th>2</th>\n",
       "      <td>1. FC Köln</td>\n",
       "      <td>Kim Christofte</td>\n",
       "      <td>Bröndby IF</td>\n",
       "      <td>in</td>\n",
       "      <td>0.122</td>\n",
       "    </tr>\n",
       "    <tr>\n",
       "      <th>3</th>\n",
       "      <td>1.FC Kaiserslautern</td>\n",
       "      <td>Martin Wagner</td>\n",
       "      <td>1.FC Nuremberg</td>\n",
       "      <td>in</td>\n",
       "      <td>0.450</td>\n",
       "    </tr>\n",
       "    <tr>\n",
       "      <th>4</th>\n",
       "      <td>1.FC Kaiserslautern</td>\n",
       "      <td>Marcus Marin</td>\n",
       "      <td>Stuttg. Kickers</td>\n",
       "      <td>in</td>\n",
       "      <td>0.648</td>\n",
       "    </tr>\n",
       "  </tbody>\n",
       "</table>\n",
       "</div>"
      ],
      "text/plain": [
       "             club_name         player_name club_involved_name  \\\n",
       "0           1. FC Köln  Andrzej Kobylanski          Siarka T.   \n",
       "1           1. FC Köln        Dirk Lehmann       A. Aachen II   \n",
       "2           1. FC Köln      Kim Christofte         Bröndby IF   \n",
       "3  1.FC Kaiserslautern       Martin Wagner     1.FC Nuremberg   \n",
       "4  1.FC Kaiserslautern        Marcus Marin    Stuttg. Kickers   \n",
       "\n",
       "  transfer_movement  fee_cleaned  \n",
       "0                in        0.270  \n",
       "1                in        0.014  \n",
       "2                in        0.122  \n",
       "3                in        0.450  \n",
       "4                in        0.648  "
      ]
     },
     "execution_count": 6,
     "metadata": {},
     "output_type": "execute_result"
    }
   ],
   "source": [
    "def DelCol(DF):\n",
    "    \n",
    "    DF = DF.loc[DF[\"fee_cleaned\"]>0] # only \"real\" transfers\n",
    "    #del DF[\"player_name\"]\n",
    "    #del DF[\"transfer_movement\"]\n",
    "    del DF[\"age\"]\n",
    "    del DF[\"position\"]\n",
    "    del DF[\"fee\"]\n",
    "    del DF[\"league_name\"]\n",
    "    del DF[\"transfer_period\"]\n",
    "    del DF[\"year\"]\n",
    "    del DF[\"season\"]\n",
    "    return(DF)\n",
    "DF = DelCol(DF)\n",
    "DF.head()\n",
    "DF  = DF.sort_values(by=['club_name'], ascending = True)\n",
    "DF = DF.reset_index()\n",
    "del DF[\"index\"]\n",
    "DF.head()"
   ]
  },
  {
   "cell_type": "code",
   "execution_count": 7,
   "metadata": {},
   "outputs": [],
   "source": [
    "## There is a problem with \"double names\", e.g. Leicester and Leicester City\n",
    "def Change(DF,old,new):\n",
    "    DF.loc[DF[\"club_name\"].isin([old]), [\"club_name\"]] = new\n",
    "    DF.loc[DF[\"club_involved_name\"].isin([old]), [\"club_involved_name\"]] = new\n",
    "    return DF"
   ]
  },
  {
   "cell_type": "code",
   "execution_count": 8,
   "metadata": {},
   "outputs": [],
   "source": [
    "old = [\"Leicester\", \"SC Paderborn\", \"Real Betis\", \"Sassuolo\", \"Liverpool\", \"Watford\", \"Queens Park Rangers\",\n",
    "       \"Brighton & Hove Albion\", \"Manchester United\", \"Inter\", \"UC Sampdoria\", \"Genoa\", \"Juventus FC\", \"Braga\",\n",
    "      \"Zenit S-Pb\", \"Valencia CF\", \"Marseille\", \"Espanyol\", \"Villarreal\", \"Getafe\", \"Toulouse\", \"Cardiff\",\n",
    "      \"Paris Saint-Germain\", \"SL Benfica\", \"R. Strasbourg\", \"Racing Club\", \"Spartak Moscow\", \"Ajax Amsterdam\",\n",
    "      \"Feyenoord Rotterdam\", \"Dijon FCO\", \"F. Düsseldorf\", \"Man City\", \"E. Frankfurt\", \"West Ham United\",\n",
    "      \"Huddersfield Town\", \"Charlton\", \"Nottm Forest\", \"Swansea\", \"SS Lazio\", \"Arsenal FC\", \"Newcastle\",\n",
    "      \"Chelsea FC\", \"Vitesse Arnheim\", \"Heerenveen\", \"Levante\", \"Brentford\", \"Bologna\", \"SV Werder Bremen\",\n",
    "      \"Ipswich\", \"Montpellier\", \"Bolton\", \"Marítimo\", \"Millwall\",\"FC Sochaux-Montbéliard\", \"Blackpool FC\",\n",
    "       \"ES Troyes AC\", \"Middlesbrough FC\", \"Vit. Guimarães\", \"Doncaster\", \"Norwich City\", \"Coventry City\",\n",
    "       \"Roda JC\", \"Rostov\", \"Heerenveen\", \"Bilbao Athletic\", \"Leeds United\", \"Derby\", \n",
    "       \"Dep. La Coruña\", \"G. Bordeaux\", \"Naval\", \"CF Estrela\", \"Twente FC\", \"Willem II\", \n",
    "      \"Stade Rennais FC\", \"Athletic\", \"1.FC K'lautern\", \"Preston\", \"Spurs\", \"Bor. Dortmund\", '1. FC Kaiserslautern',\n",
    "      'Anzhi', 'Bay. Leverkusen', 'Birmingham',  'Blackburn', 'Brescia', \"Bor. M'gladbach\", 'Burnley', 'Krasnodar',\n",
    "      'Loko Moscow','Parma', 'Preston NE','Scunthorpe Utd.','Sheffield Utd.','Sunderland','TSG Hoffenheim',\n",
    "       'Tottenham Hotspur','West Bromwich Albion','Wigan Athletic','Wolves', \"Southampton\", \"Alavés\",\n",
    "      \"FC Penafiel\", \"Luton Town\", \"Academica Coimbra\", \"Plymouth Argyle\", \"CD Nacional\", \"Fulham FC\",\n",
    "      'AC Fiorentina','Atalanta', \"Sparta R.\", \"Vitesse Arnhem\", 'Udinese', \n",
    "       \"Padova\" ,'FC Internazionale', 'Milan', \"Genoa 1893\", \"Piacenza FC\"]"
   ]
  },
  {
   "cell_type": "code",
   "execution_count": 9,
   "metadata": {},
   "outputs": [],
   "source": [
    "new = [\"Leicester City\", \"SC Paderborn 07\", \"Real Betis Balompié\", \"US Sassuolo\", \"Liverpool FC\", \"Watford FC\",\n",
    "      \"QPR\", \"Brighton\", \"Man Utd\", \"Inter Milan\", \"Sampdoria\", \"Genoa CFC\", \"Juventus\", \"SC Braga\", \n",
    "       \"Zenit St. Petersburg\", \"Valencia\", \"Olympique Marseille\", \"RCD Espanyol Barcelona\", \"Villarreal CF\", \n",
    "       \"Getafe CF\", \"FC Toulouse\", \"Cardiff City\", \"Paris SG\", \"Benfica\", \"RC Strasbourg Alsace\", \"RC Strasbourg Alsace\",\n",
    "      \"Spartak\", \"Ajax\", \"Feyenoord\", \"Dijon\", \"Fortuna Düsseldorf\", \"Manchester City\",\"Eintracht Frankfurt\", \"West Ham\",\n",
    "       \"Huddersfield\",\"Charlton Athletic\", \"Nottingham Forest\", \"Swansea City\", \"Lazio\", \"Arsenal\", \"Newcastle United\",\n",
    "       \"Chelsea\",\"Vitesse\", \"SC Heerenveen\", \"Levante UD\", \"Brentford FC\", \"Bologna FC 1909\", \"Werder Bremen\",\n",
    "      \"Ipswich Town\", \"Montpellier HSC\", \"Bolton Wanderers\", \"CS Marítimo\", \"Millwall FC\",\"FC Sochaux\", \"Blackpool\",\n",
    "      \"Troyes\", \"Middlesbrough\", \"Vitória Guimarães SC\", \"Doncaster Rovers\", \"Norwich\", \"Coventry\", \n",
    "       \"Roda JC Kerkrade\", \"FK Rostov\", \"SC Heerenveen\", \"Athletic Bilbao\", \"Leeds\", \"Derby County\",\n",
    "      \"Deportivo de La Coruña\", \"FC Girondins Bordeaux\", \"Naval 1º de Maio\", \"CF Estrela Amadora SAD\", \"Twente Enschede FC\",\n",
    "      \"Willem II Tilburg\", \"Stade Rennais\", \"Athletic Bilbao\", \"1. FC Kaiserslautern\", \"Preston North End\", \"Tottenham Hotspurs\",\n",
    "      \"Borussia Dortmund\", '1.FC Kaiserslautern','Anzhi Makhachkala','Bayer 04 Leverkusen','Birmingham City','Blackburn Rovers',\n",
    "      'Brescia Calcio', 'Borussia Mönchengladbach', 'Burnley FC','Kuban Krasnodar','Lokomotiv Moscow','Parma FC','Preston North End',\n",
    "      'Scunthorpe United','Sheffield United','Sunderland AFC','TSG 1899 Hoffenheim','Tottenham Hotspurs','West Brom',\n",
    "      'Wigan','Wolverhampton Wanderers', \"Southampton FC\", \"Deportivo Alavés\", \"Penafiel\", \"Luton\", \"Coimbra\",\n",
    "      \"Plymouth\", \"Nacional\", \"Fulham\",'Fiorentina','Atalanta BC', \"Sparta Rotterdam\", \"Vitesse\", 'Udinese Calcio',\n",
    "      \"Calcio Padova\",'Inter Milan', 'Milan AC', \"Genoa CFC\", \"Piacenza\"]"
   ]
  },
  {
   "cell_type": "code",
   "execution_count": 10,
   "metadata": {},
   "outputs": [],
   "source": [
    "for i in range(len(new)):\n",
    "    DF = Change(DF, old[i], new[i])\n",
    "    BuLi = Change(BuLi,old[i], new[i])\n",
    "    PL = Change(PL,old[i], new[i])\n",
    "    PD = Change(PD,old[i], new[i])\n",
    "    SA = Change(SA,old[i], new[i])\n",
    "    L1 = Change(L1,old[i], new[i])\n",
    "    NOS = Change(NOS, old[i], new[i])\n",
    "    Ere = Change(Ere, old[i], new[i])\n",
    "    EC = Change(EC, old[i], new[i])\n",
    "    Rus = Change(Rus, old[i], new[i])"
   ]
  },
  {
   "cell_type": "code",
   "execution_count": 11,
   "metadata": {
    "scrolled": true
   },
   "outputs": [
    {
     "data": {
      "text/plain": [
       "{'1. FC Köln',\n",
       " '1.FC Kaiserslautern',\n",
       " '1.FC Nuremberg',\n",
       " '1.FC Saarbrücken',\n",
       " 'AJ Auxerre',\n",
       " 'AS Monaco',\n",
       " 'AS Roma',\n",
       " 'Ajax',\n",
       " 'Ancona Calcio',\n",
       " 'Arsenal',\n",
       " 'Aston Villa',\n",
       " 'Atalanta BC',\n",
       " 'Barnsley FC',\n",
       " 'Bayer 04 Leverkusen',\n",
       " 'Bayer 05 Uerdingen',\n",
       " 'Bayern Munich',\n",
       " 'Benfica',\n",
       " 'Birmingham City',\n",
       " 'Blackburn Rovers',\n",
       " 'Boavista FC',\n",
       " 'Borussia Dortmund',\n",
       " 'Brentford FC',\n",
       " 'Brescia Calcio',\n",
       " 'Bristol City',\n",
       " 'Burgos CF',\n",
       " 'CSKA Moscow',\n",
       " 'Cagliari Calcio',\n",
       " 'Cambuur-Leeuwarden bvo',\n",
       " 'Celta de Vigo',\n",
       " 'Charlton Athletic',\n",
       " 'Chelsea',\n",
       " 'Coventry',\n",
       " 'Crystal Palace',\n",
       " 'Deportivo de La Coruña',\n",
       " 'Derby County',\n",
       " 'Eintracht Frankfurt',\n",
       " 'Everton FC',\n",
       " 'FC Barcelona',\n",
       " 'FC Girondins Bordeaux',\n",
       " 'FC Groningen',\n",
       " 'Feyenoord',\n",
       " 'Fiorentina',\n",
       " 'Foggia Calcio',\n",
       " 'Hamburger SV',\n",
       " 'Huddersfield',\n",
       " 'Inter Milan',\n",
       " 'Ipswich Town',\n",
       " 'Juventus',\n",
       " 'Karlsruher SC',\n",
       " 'Lazio',\n",
       " 'Leeds',\n",
       " 'Liverpool FC',\n",
       " 'Luton',\n",
       " 'MVV Maastricht',\n",
       " 'Man Utd',\n",
       " 'Manchester City',\n",
       " 'Middlesbrough',\n",
       " 'Milan AC',\n",
       " 'Millwall FC',\n",
       " 'Norwich',\n",
       " 'Nottingham Forest',\n",
       " 'Oldham Athletic',\n",
       " 'Olympique Marseille',\n",
       " 'PSV Eindhoven',\n",
       " 'Paris SG',\n",
       " 'Preston North End',\n",
       " 'QPR',\n",
       " 'RC Strasbourg Alsace',\n",
       " 'Reading FC',\n",
       " 'Real Madrid',\n",
       " 'Real Zaragoza',\n",
       " 'Roda JC Kerkrade',\n",
       " 'SG Dynamo Dresden',\n",
       " 'Sampdoria',\n",
       " 'Sevilla FC',\n",
       " 'Sheffield United',\n",
       " 'Sheffield Wednesday',\n",
       " 'Southampton FC',\n",
       " 'Sparta Rotterdam',\n",
       " 'Stoke City',\n",
       " 'Swansea City',\n",
       " 'Torino Calcio',\n",
       " 'Tottenham Hotspurs',\n",
       " 'Twente Enschede FC',\n",
       " 'Udinese Calcio',\n",
       " 'VfB Stuttgart',\n",
       " 'Werder Bremen',\n",
       " 'West Brom',\n",
       " 'Wigan',\n",
       " 'Willem II Tilburg',\n",
       " 'Wimbledon FC'}"
      ]
     },
     "execution_count": 11,
     "metadata": {},
     "output_type": "execute_result"
    }
   ],
   "source": [
    "set(DF[\"club_name\"])"
   ]
  },
  {
   "cell_type": "code",
   "execution_count": 12,
   "metadata": {},
   "outputs": [],
   "source": [
    "# Now that all club names are brought \"in line\", save the names of the clubse whose full leagues are in the data \n",
    "# that means the clubs currently in \"club_name\" column\n",
    "\n",
    "Names = set(DF[\"club_name\"])\n",
    "Names = list(Names)\n",
    "\n",
    "# If any of these clubs appears on the club_involved_name-column, then the transfer is included twice in our data\n",
    "# so we delete all \"out\"-directions of the double transfers"
   ]
  },
  {
   "cell_type": "code",
   "execution_count": 13,
   "metadata": {},
   "outputs": [
    {
     "data": {
      "text/plain": [
       "91"
      ]
     },
     "execution_count": 13,
     "metadata": {},
     "output_type": "execute_result"
    }
   ],
   "source": [
    "len(Names)"
   ]
  },
  {
   "cell_type": "code",
   "execution_count": 14,
   "metadata": {},
   "outputs": [],
   "source": [
    "DF_clean = pd.DataFrame(columns = DF.columns)\n",
    "\n",
    "for i in range(DF.shape[0]):\n",
    "    if not(DF[\"club_involved_name\"].iloc[i] in Names and DF[\"transfer_movement\"].iloc[i]==\"out\"):\n",
    "        DF_clean= DF_clean.append(DF.iloc[i])\n",
    "        \n",
    "DF = DF_clean\n",
    "DF = DF.reset_index()\n",
    "del DF[\"index\"]\n",
    "del DF[\"player_name\"]"
   ]
  },
  {
   "cell_type": "code",
   "execution_count": 15,
   "metadata": {},
   "outputs": [
    {
     "name": "stdout",
     "output_type": "stream",
     "text": [
      "Empty DataFrame\n",
      "Columns: [club_name, player_name, club_involved_name, transfer_movement, fee_cleaned]\n",
      "Index: []\n"
     ]
    }
   ],
   "source": [
    "print(DF_clean.loc[DF_clean[\"player_name\"]== \"Javi Martínez\"]) # Not counted twice!!"
   ]
  },
  {
   "cell_type": "markdown",
   "metadata": {},
   "source": [
    "## Clean the Data"
   ]
  },
  {
   "cell_type": "code",
   "execution_count": 16,
   "metadata": {},
   "outputs": [
    {
     "name": "stderr",
     "output_type": "stream",
     "text": [
      "/home/users/t_wand01/.local/lib/python3.7/site-packages/pandas/core/indexing.py:1732: SettingWithCopyWarning: \n",
      "A value is trying to be set on a copy of a slice from a DataFrame\n",
      "\n",
      "See the caveats in the documentation: https://pandas.pydata.org/pandas-docs/stable/user_guide/indexing.html#returning-a-view-versus-a-copy\n",
      "  self._setitem_single_block(indexer, value, name)\n"
     ]
    }
   ],
   "source": [
    "# encode \"direction\" of transfers: \"club_name\" is the buyer, \"club_involved_name\" the seller\n",
    "for i in range(DF.shape[0]):\n",
    "    if DF[\"transfer_movement\"].iloc[i] == \"out\": # switch positions\n",
    "        source = DF[\"club_name\"].iloc[i]\n",
    "        DF[\"club_name\"].iloc[i] = DF[\"club_involved_name\"].iloc[i]\n",
    "        DF[\"club_involved_name\"].iloc[i] = source\n",
    "\n",
    "del DF[\"transfer_movement\"]"
   ]
  },
  {
   "cell_type": "code",
   "execution_count": 17,
   "metadata": {},
   "outputs": [
    {
     "data": {
      "text/html": [
       "<div>\n",
       "<style scoped>\n",
       "    .dataframe tbody tr th:only-of-type {\n",
       "        vertical-align: middle;\n",
       "    }\n",
       "\n",
       "    .dataframe tbody tr th {\n",
       "        vertical-align: top;\n",
       "    }\n",
       "\n",
       "    .dataframe thead th {\n",
       "        text-align: right;\n",
       "    }\n",
       "</style>\n",
       "<table border=\"1\" class=\"dataframe\">\n",
       "  <thead>\n",
       "    <tr style=\"text-align: right;\">\n",
       "      <th></th>\n",
       "      <th>club_name</th>\n",
       "      <th>club_involved_name</th>\n",
       "      <th>fee_cleaned</th>\n",
       "    </tr>\n",
       "  </thead>\n",
       "  <tbody>\n",
       "    <tr>\n",
       "      <th>0</th>\n",
       "      <td>1. FC Köln</td>\n",
       "      <td>Siarka T.</td>\n",
       "      <td>0.270</td>\n",
       "    </tr>\n",
       "    <tr>\n",
       "      <th>1</th>\n",
       "      <td>1. FC Köln</td>\n",
       "      <td>A. Aachen II</td>\n",
       "      <td>0.014</td>\n",
       "    </tr>\n",
       "    <tr>\n",
       "      <th>2</th>\n",
       "      <td>1. FC Köln</td>\n",
       "      <td>Bröndby IF</td>\n",
       "      <td>0.122</td>\n",
       "    </tr>\n",
       "    <tr>\n",
       "      <th>3</th>\n",
       "      <td>1.FC Kaiserslautern</td>\n",
       "      <td>1.FC Nuremberg</td>\n",
       "      <td>0.450</td>\n",
       "    </tr>\n",
       "    <tr>\n",
       "      <th>4</th>\n",
       "      <td>1.FC Kaiserslautern</td>\n",
       "      <td>Stuttg. Kickers</td>\n",
       "      <td>0.648</td>\n",
       "    </tr>\n",
       "  </tbody>\n",
       "</table>\n",
       "</div>"
      ],
      "text/plain": [
       "             club_name club_involved_name  fee_cleaned\n",
       "0           1. FC Köln          Siarka T.        0.270\n",
       "1           1. FC Köln       A. Aachen II        0.014\n",
       "2           1. FC Köln         Bröndby IF        0.122\n",
       "3  1.FC Kaiserslautern     1.FC Nuremberg        0.450\n",
       "4  1.FC Kaiserslautern    Stuttg. Kickers        0.648"
      ]
     },
     "execution_count": 17,
     "metadata": {},
     "output_type": "execute_result"
    }
   ],
   "source": [
    "DF.head()"
   ]
  },
  {
   "cell_type": "code",
   "execution_count": 18,
   "metadata": {},
   "outputs": [
    {
     "data": {
      "text/html": [
       "<div>\n",
       "<style scoped>\n",
       "    .dataframe tbody tr th:only-of-type {\n",
       "        vertical-align: middle;\n",
       "    }\n",
       "\n",
       "    .dataframe tbody tr th {\n",
       "        vertical-align: top;\n",
       "    }\n",
       "\n",
       "    .dataframe thead th {\n",
       "        text-align: right;\n",
       "    }\n",
       "</style>\n",
       "<table border=\"1\" class=\"dataframe\">\n",
       "  <thead>\n",
       "    <tr style=\"text-align: right;\">\n",
       "      <th></th>\n",
       "      <th>club_name</th>\n",
       "      <th>club_involved_name</th>\n",
       "      <th>fee_cleaned</th>\n",
       "    </tr>\n",
       "  </thead>\n",
       "  <tbody>\n",
       "    <tr>\n",
       "      <th>0</th>\n",
       "      <td>1. FC Köln</td>\n",
       "      <td>Siarka T.</td>\n",
       "      <td>0.270</td>\n",
       "    </tr>\n",
       "    <tr>\n",
       "      <th>1</th>\n",
       "      <td>1. FC Köln</td>\n",
       "      <td>A. Aachen II</td>\n",
       "      <td>0.014</td>\n",
       "    </tr>\n",
       "    <tr>\n",
       "      <th>2</th>\n",
       "      <td>1. FC Köln</td>\n",
       "      <td>Bröndby IF</td>\n",
       "      <td>0.122</td>\n",
       "    </tr>\n",
       "    <tr>\n",
       "      <th>3</th>\n",
       "      <td>1.FC Kaiserslautern</td>\n",
       "      <td>1.FC Nuremberg</td>\n",
       "      <td>0.450</td>\n",
       "    </tr>\n",
       "    <tr>\n",
       "      <th>4</th>\n",
       "      <td>1.FC Kaiserslautern</td>\n",
       "      <td>Stuttg. Kickers</td>\n",
       "      <td>0.648</td>\n",
       "    </tr>\n",
       "  </tbody>\n",
       "</table>\n",
       "</div>"
      ],
      "text/plain": [
       "             club_name club_involved_name  fee_cleaned\n",
       "0           1. FC Köln          Siarka T.        0.270\n",
       "1           1. FC Köln       A. Aachen II        0.014\n",
       "2           1. FC Köln         Bröndby IF        0.122\n",
       "3  1.FC Kaiserslautern     1.FC Nuremberg        0.450\n",
       "4  1.FC Kaiserslautern    Stuttg. Kickers        0.648"
      ]
     },
     "execution_count": 18,
     "metadata": {},
     "output_type": "execute_result"
    }
   ],
   "source": [
    "# sort alphabetically\n",
    "DF  = DF.sort_values(by=['club_name'], ascending = True)\n",
    "DF = DF.reset_index()\n",
    "del DF[\"index\"]\n",
    "\n",
    "DF.head()"
   ]
  },
  {
   "cell_type": "code",
   "execution_count": 19,
   "metadata": {},
   "outputs": [
    {
     "data": {
      "text/plain": [
       "(237, 5)"
      ]
     },
     "execution_count": 19,
     "metadata": {},
     "output_type": "execute_result"
    }
   ],
   "source": [
    "DF_clean.shape"
   ]
  },
  {
   "cell_type": "markdown",
   "metadata": {},
   "source": [
    "### Combine multiple transfers between clubs a and b"
   ]
  },
  {
   "cell_type": "code",
   "execution_count": 20,
   "metadata": {},
   "outputs": [],
   "source": [
    "# now as a function\n",
    "        \n",
    "def AddFees(DF): # adds fees of multiple transfers from club a to b\n",
    "    # output\n",
    "    DF_out = pd.DataFrame({'club_name' : [],\n",
    "                         \"club_involved_name\":[],\n",
    "                         \"fee_cleaned\":[]})\n",
    "    \n",
    "    for i in range(DF.shape[0]):\n",
    "        # is this a new match?\n",
    "        if DF_out.loc[(DF_out[\"club_name\"]== DF[\"club_name\"].iloc[i])&  \n",
    "                     DF_out[\"club_involved_name\"].isin([DF[\"club_involved_name\"].iloc[i]])].size ==0:\n",
    "            DF_out = DF_out.append(DF.iloc[i])\n",
    "        else:\n",
    "            # add fee value to already existing value\n",
    "            DF_out[\"fee_cleaned\"].loc[(DF_out[\"club_name\"]== DF[\"club_name\"].iloc[i])&  \n",
    "                     DF_out[\"club_involved_name\"].isin([DF[\"club_involved_name\"].iloc[i]])] += DF[\"fee_cleaned\"].iloc[i]\n",
    "            \n",
    "    return(DF_out)    \n",
    "        "
   ]
  },
  {
   "cell_type": "code",
   "execution_count": 21,
   "metadata": {},
   "outputs": [
    {
     "name": "stderr",
     "output_type": "stream",
     "text": [
      "/home/users/t_wand01/.local/lib/python3.7/site-packages/pandas/core/indexing.py:1732: SettingWithCopyWarning: \n",
      "A value is trying to be set on a copy of a slice from a DataFrame\n",
      "\n",
      "See the caveats in the documentation: https://pandas.pydata.org/pandas-docs/stable/user_guide/indexing.html#returning-a-view-versus-a-copy\n",
      "  self._setitem_single_block(indexer, value, name)\n"
     ]
    }
   ],
   "source": [
    "DF = AddFees(DF)"
   ]
  },
  {
   "cell_type": "code",
   "execution_count": 22,
   "metadata": {},
   "outputs": [
    {
     "data": {
      "text/html": [
       "<div>\n",
       "<style scoped>\n",
       "    .dataframe tbody tr th:only-of-type {\n",
       "        vertical-align: middle;\n",
       "    }\n",
       "\n",
       "    .dataframe tbody tr th {\n",
       "        vertical-align: top;\n",
       "    }\n",
       "\n",
       "    .dataframe thead th {\n",
       "        text-align: right;\n",
       "    }\n",
       "</style>\n",
       "<table border=\"1\" class=\"dataframe\">\n",
       "  <thead>\n",
       "    <tr style=\"text-align: right;\">\n",
       "      <th></th>\n",
       "      <th>club_name</th>\n",
       "      <th>club_involved_name</th>\n",
       "      <th>fee_cleaned</th>\n",
       "    </tr>\n",
       "  </thead>\n",
       "  <tbody>\n",
       "    <tr>\n",
       "      <th>0</th>\n",
       "      <td>1. FC Köln</td>\n",
       "      <td>Siarka T.</td>\n",
       "      <td>0.270</td>\n",
       "    </tr>\n",
       "    <tr>\n",
       "      <th>1</th>\n",
       "      <td>1. FC Köln</td>\n",
       "      <td>A. Aachen II</td>\n",
       "      <td>0.014</td>\n",
       "    </tr>\n",
       "    <tr>\n",
       "      <th>2</th>\n",
       "      <td>1. FC Köln</td>\n",
       "      <td>Bröndby IF</td>\n",
       "      <td>0.122</td>\n",
       "    </tr>\n",
       "    <tr>\n",
       "      <th>3</th>\n",
       "      <td>1.FC Kaiserslautern</td>\n",
       "      <td>1.FC Nuremberg</td>\n",
       "      <td>0.450</td>\n",
       "    </tr>\n",
       "    <tr>\n",
       "      <th>4</th>\n",
       "      <td>1.FC Kaiserslautern</td>\n",
       "      <td>Stuttg. Kickers</td>\n",
       "      <td>0.648</td>\n",
       "    </tr>\n",
       "    <tr>\n",
       "      <th>...</th>\n",
       "      <td>...</td>\n",
       "      <td>...</td>\n",
       "      <td>...</td>\n",
       "    </tr>\n",
       "    <tr>\n",
       "      <th>197</th>\n",
       "      <td>Wimbledon FC</td>\n",
       "      <td>Brentford FC</td>\n",
       "      <td>0.900</td>\n",
       "    </tr>\n",
       "    <tr>\n",
       "      <th>198</th>\n",
       "      <td>Wimbledon FC</td>\n",
       "      <td>Chelsea</td>\n",
       "      <td>0.747</td>\n",
       "    </tr>\n",
       "    <tr>\n",
       "      <th>199</th>\n",
       "      <td>Wolverhampton Wanderers</td>\n",
       "      <td>Norwich</td>\n",
       "      <td>0.340</td>\n",
       "    </tr>\n",
       "    <tr>\n",
       "      <th>200</th>\n",
       "      <td>Wolverhampton Wanderers</td>\n",
       "      <td>Coventry</td>\n",
       "      <td>0.101</td>\n",
       "    </tr>\n",
       "    <tr>\n",
       "      <th>201</th>\n",
       "      <td>York City</td>\n",
       "      <td>Stoke City</td>\n",
       "      <td>0.051</td>\n",
       "    </tr>\n",
       "  </tbody>\n",
       "</table>\n",
       "<p>202 rows × 3 columns</p>\n",
       "</div>"
      ],
      "text/plain": [
       "                   club_name club_involved_name  fee_cleaned\n",
       "0                 1. FC Köln          Siarka T.        0.270\n",
       "1                 1. FC Köln       A. Aachen II        0.014\n",
       "2                 1. FC Köln         Bröndby IF        0.122\n",
       "3        1.FC Kaiserslautern     1.FC Nuremberg        0.450\n",
       "4        1.FC Kaiserslautern    Stuttg. Kickers        0.648\n",
       "..                       ...                ...          ...\n",
       "197             Wimbledon FC       Brentford FC        0.900\n",
       "198             Wimbledon FC            Chelsea        0.747\n",
       "199  Wolverhampton Wanderers            Norwich        0.340\n",
       "200  Wolverhampton Wanderers           Coventry        0.101\n",
       "201                York City         Stoke City        0.051\n",
       "\n",
       "[202 rows x 3 columns]"
      ]
     },
     "execution_count": 22,
     "metadata": {},
     "output_type": "execute_result"
    }
   ],
   "source": [
    "DF = DF.reset_index()\n",
    "del DF[\"index\"]\n",
    "DF"
   ]
  },
  {
   "cell_type": "markdown",
   "metadata": {},
   "source": [
    "## 10 x 10 Matrix\n",
    "Just show the transfer streams between the nine leagues (+ outside as tenth column/row)"
   ]
  },
  {
   "cell_type": "code",
   "execution_count": 23,
   "metadata": {},
   "outputs": [],
   "source": [
    "# Teams of individual leagues 19/20\n",
    "BL_teams = list(set(BuLi[\"club_name\"])) # Bundesliga\n",
    "\n",
    "BLList = pd.Series(BL_teams)\n",
    "PLList = pd.Series(list(set(PL[\"club_name\"])))\n",
    "SAList = pd.Series(list(set(SA[\"club_name\"])))\n",
    "PDList = pd.Series(list(set(PD[\"club_name\"])))\n",
    "L1List = pd.Series(list(set(L1[\"club_name\"])))\n",
    "NOSList = pd.Series(list(set(NOS[\"club_name\"])))\n",
    "EreList = pd.Series(list(set(Ere[\"club_name\"])))\n",
    "ECList = pd.Series(list(set(EC[\"club_name\"])))\n",
    "RusList = pd.Series(list(set(Rus[\"club_name\"])))\n",
    "ListNames = list([BLList, PLList, SAList, PDList, L1List, NOSList, EreList, ECList, RusList])"
   ]
  },
  {
   "cell_type": "code",
   "execution_count": 24,
   "metadata": {},
   "outputs": [],
   "source": [
    "def flatten(t): # combine sublists into one list\n",
    "    return [item for sublist in t for item in sublist]"
   ]
  },
  {
   "cell_type": "code",
   "execution_count": 25,
   "metadata": {},
   "outputs": [
    {
     "name": "stdout",
     "output_type": "stream",
     "text": [
      "              club_name club_involved_name  fee_cleaned\n",
      "17              Arsenal            Everton        2.700\n",
      "18              Arsenal         Bröndby IF        1.440\n",
      "19          Aston Villa       Liverpool FC        3.539\n",
      "35     Blackburn Rovers   Newcastle United        0.432\n",
      "36     Blackburn Rovers      Leyton Orient        0.172\n",
      "..                  ...                ...          ...\n",
      "181  Tottenham Hotspurs         Portsmouth        2.430\n",
      "182  Tottenham Hotspurs     Southampton FC        0.765\n",
      "196        Wimbledon FC      Leyton Orient        0.282\n",
      "197        Wimbledon FC       Brentford FC        0.900\n",
      "198        Wimbledon FC            Chelsea        0.747\n",
      "\n",
      "[63 rows x 3 columns]\n",
      "['Hamburger SV', '1. FC Köln', 'Karlsruher SC', '1.FC Saarbrücken', 'VfL Bochum', 'SG Dynamo Dresden', 'Bayern Munich', 'SG Wattenscheid 09', 'Bayer 05 Uerdingen', 'VfB Stuttgart', 'Eintracht Frankfurt', 'FC Schalke 04', '1.FC Nuremberg', 'Werder Bremen', 'Borussia Mönchengladbach', '1.FC Kaiserslautern', 'Bayer 04 Leverkusen', 'Borussia Dortmund', 'Liverpool FC', 'Tottenham Hotspurs', 'QPR', 'Crystal Palace', 'Nottingham Forest', 'Everton FC', 'Middlesbrough', 'Sheffield Wednesday', 'Ipswich Town', 'Arsenal', 'Man Utd', 'Wimbledon FC', 'Coventry', 'Southampton FC', 'Sheffield United', 'Norwich', 'Oldham Athletic', 'Leeds', 'Manchester City', 'Chelsea', 'Blackburn Rovers', 'Aston Villa', 'Inter Milan', 'AC Parma', 'Sampdoria', 'Brescia Calcio', 'Cagliari Calcio', 'Atalanta BC', 'Juventus', 'SSC Napoli', 'Milan AC', 'Lazio', 'Foggia Calcio', 'AS Roma', 'Torino Calcio', 'Genoa CFC', 'Udinese Calcio', 'Ancona Calcio', 'Delfino Pescara 1936', 'Fiorentina', 'Celta de Vigo', 'Rayo Vallecano', 'Athletic Bilbao', 'CD Tenerife', 'FC Barcelona', 'Burgos CF', 'CD Logroñés (liq.)', 'Deportivo de La Coruña', 'Valencia', 'Real Oviedo', 'CA Osasuna', 'Real Zaragoza', 'Atlético Madrid', 'Real Sociedad', 'Albacete Balompié', 'Sporting Gijón', 'RCD Espanyol Barcelona', 'Sevilla FC', 'Real Madrid', 'Cádiz CF', 'Olympique Lyon', 'LOSC Lille', 'AC Le Havre', 'Montpellier HSC', 'FC Nantes', 'FC Toulouse', 'AS Monaco', 'Paris SG', 'AJ Auxerre', 'SM Caen', 'FC Metz', 'RC Strasbourg Alsace', 'FC Girondins Bordeaux', 'Sporting Club de Toulon et du Var', 'Union Sportive Valenciennes-Anzin Arrondissement', 'RC Lens', 'Olympique Marseille', 'AS Saint-Étienne', 'FC Sochaux', 'Nîmes Olympique', 'Boavista FC', 'SC Beira-Mar', 'Gil Vicente FC', 'FC Paços de Ferreira', 'Vitória Guimarães SC', 'FC Tirsense', 'SC Salgueiros', 'SC Espinho', 'Estoril Praia', 'GD Chaves', 'Sporting CP', 'Benfica', 'FC Famalicão', 'SC Farense', 'FC Porto', 'Belenenses SAD', 'SC Braga', 'CS Marítimo', 'Ajax', 'Vitesse', 'MVV Maastricht', 'Go Ahead Eagles Deventer', 'Fortuna Sittard', 'Roda JC Kerkrade', 'PSV Eindhoven', 'Willem II Tilburg', 'FC Groningen', 'FC Volendam', 'Sparta Rotterdam', \"Dordrecht'90\", 'RKC Waalwijk', 'Feyenoord', 'Cambuur-Leeuwarden bvo', 'Twente Enschede FC', 'FC Utrecht', 'FC Den Bosch', 'Barnsley FC', 'Bristol City', 'Wigan', 'QPR', 'Hull City', 'Nottingham Forest', 'Middlesbrough', 'Swansea City', 'Millwall FC', 'Sheffield Wednesday', 'Derby County', 'Preston North End', 'Luton', 'Stoke City', 'West Brom', 'Fulham', 'Leeds', 'Blackburn Rovers', 'Birmingham City', 'Cardiff City', 'Charlton Athletic', 'Reading FC', 'Huddersfield', 'Brentford FC', 'Spartak Vladikavkaz', 'Rostselmash Rostov', 'KamAZ Naberezhnye Chelny', 'Dinamo Stavropol', 'Asmaral Moskau', 'Lokomotiv Nizhniy Novgorod', 'Krylya Sovetov Samara', 'Spartak', 'Ocean Nakhodka', 'Luch Vladivostok', 'Dinamo Moscow', 'Torpedo Moscow', 'Uralmash Ekaterinburg', 'Lokomotiv Moscow', 'Tekstilshchik Kamyshin', 'Rotor Volgograd', 'Zhemchuzhina Sochi', 'CSKA Moscow']\n",
      "                   club_name   club_involved_name  fee_cleaned\n",
      "11               Aberdeen FC     Blackburn Rovers        1.350\n",
      "15                    Ancona       1.FC Nuremberg        0.315\n",
      "30                  Besiktas   Twente Enschede FC        0.328\n",
      "45          Bolton Wanderers       Southampton FC        0.310\n",
      "46          Bolton Wanderers          Millwall FC        0.135\n",
      "49               Bournemouth              Norwich        0.032\n",
      "57            Bristol Rovers                  QPR        0.802\n",
      "59                Burnley FC  Sheffield Wednesday        0.252\n",
      "61            Cambridge Utd.                Luton        0.252\n",
      "64           Carlisle United           Stoke City        0.016\n",
      "66                    Celtic              Chelsea        1.010\n",
      "90              FC St. Pauli       1.FC Nuremberg        0.115\n",
      "94        Fortuna Düsseldorf    Borussia Dortmund        0.900\n",
      "95              Grasshoppers                 Ajax        0.266\n",
      "96              Grimsby Town     Sheffield United        0.096\n",
      "115           Leicester City                Leeds        0.118\n",
      "116           Leicester City         Ipswich Town        0.270\n",
      "117           Leicester City     Blackburn Rovers        0.676\n",
      "134                   Monaco          Inter Milan        6.300\n",
      "135         Newcastle United         Liverpool FC        0.266\n",
      "136         Newcastle United          Barnsley FC        0.504\n",
      "137         Newcastle United    Charlton Athletic        0.945\n",
      "146                Port Vale          Millwall FC        0.158\n",
      "147               Portsmouth   Tottenham Hotspurs        0.405\n",
      "150               RC Lüttich       MVV Maastricht        0.205\n",
      "153                  Rangers  Olympique Marseille        2.340\n",
      "157                Rotherham     Sheffield United        0.063\n",
      "158              SC Freiburg        Werder Bremen        0.585\n",
      "159              Saarbrücken         Hamburger SV        0.135\n",
      "161                Sheff Wed       Crystal Palace        1.530\n",
      "162                Sheff Wed  Olympique Marseille        1.350\n",
      "171          Southend United       Crystal Palace        0.150\n",
      "173                Stockport            West Brom        0.029\n",
      "174                Stockport    Preston North End        0.131\n",
      "177           Sunderland AFC              Chelsea        0.257\n",
      "178           Sunderland AFC          Millwall FC        0.405\n",
      "179             Swindon Town           Reading FC        0.270\n",
      "183          Tranmere Rovers           Everton FC        0.405\n",
      "187              VfB Leipzig       1.FC Nuremberg        0.158\n",
      "199  Wolverhampton Wanderers              Norwich        0.340\n",
      "200  Wolverhampton Wanderers             Coventry        0.101\n",
      "201                York City           Stoke City        0.051\n"
     ]
    }
   ],
   "source": [
    "# Regard each league individually\n",
    "BL0 = DF.loc[DF[\"club_name\"].isin( BLList)]\n",
    "PL0 = DF.loc[DF[\"club_name\"].isin( PLList)]\n",
    "SA0 = DF.loc[DF[\"club_name\"].isin( SAList)]\n",
    "PD0 = DF.loc[DF[\"club_name\"].isin( PDList)]\n",
    "L10 = DF.loc[DF[\"club_name\"].isin( L1List)]\n",
    "NOS0 = DF.loc[DF[\"club_name\"].isin( NOSList)]\n",
    "Ere0 = DF.loc[DF[\"club_name\"].isin( EreList)]\n",
    "EC0 = DF.loc[DF[\"club_name\"].isin( ECList)]\n",
    "Rus0 = DF.loc[DF[\"club_name\"].isin( RusList)]\n",
    "Leagues = list([BL0, PL0, SA0, PD0, L10, NOS0, Ere0, EC0, Rus0])\n",
    "print(Leagues[1])\n",
    "print(flatten(ListNames))\n",
    "Other = DF.loc[~DF[\"club_name\"].isin(flatten(ListNames))]\n",
    "print(Other)\n",
    "Leagues.append(Other)"
   ]
  },
  {
   "cell_type": "code",
   "execution_count": 26,
   "metadata": {},
   "outputs": [
    {
     "name": "stdout",
     "output_type": "stream",
     "text": [
      "10\n",
      "9\n"
     ]
    }
   ],
   "source": [
    "print(len(Leagues))\n",
    "print(len(Leagues[0:(len(Leagues)-1)]))"
   ]
  },
  {
   "cell_type": "code",
   "execution_count": 27,
   "metadata": {},
   "outputs": [],
   "source": [
    "def StreamLeagues(Liga, Others):\n",
    "    # takes DF of league as Liga and list of other league names as Others\n",
    "    # calculates how much the aggregated transfers from all other Leagues (Others) to the league \"Liga\" is\n",
    "    Out = np.zeros(len(Others)+1) \n",
    "    \n",
    "    for i in range(len(Others)): # -1: treat \"other leagues than top 9\" differently\n",
    "        # Data frame of transfers from Others[i] to Liga\n",
    "        df2 = Liga.loc[Liga[\"club_involved_name\"].isin(Others[i])]\n",
    "        Out[i] = sum(df2[\"fee_cleaned\"])\n",
    "        \n",
    "        \n",
    "    # final output \"all leagues except the top 9\"    \n",
    "    dfrest = Liga.loc[~Liga[\"club_involved_name\"].isin(flatten(Others[0:(len(Others)-1)]))]  \n",
    "    Out[len(Others)] = sum(dfrest[\"fee_cleaned\"])\n",
    "    return(Out)"
   ]
  },
  {
   "cell_type": "code",
   "execution_count": 28,
   "metadata": {},
   "outputs": [
    {
     "data": {
      "text/plain": [
       "array([11.395,  0.   ,  7.52 ,  0.   ,  0.   ,  0.   ,  0.   ,  0.   ,\n",
       "        0.   ,  7.568])"
      ]
     },
     "execution_count": 28,
     "metadata": {},
     "output_type": "execute_result"
    }
   ],
   "source": [
    "StreamLeagues(BL0, ListNames)"
   ]
  },
  {
   "cell_type": "code",
   "execution_count": 29,
   "metadata": {},
   "outputs": [
    {
     "data": {
      "text/plain": [
       "array([2.208, 8.433, 6.3  , 0.   , 3.69 , 0.   , 0.799, 6.094, 0.   ,\n",
       "       0.   ])"
      ]
     },
     "execution_count": 29,
     "metadata": {},
     "output_type": "execute_result"
    }
   ],
   "source": [
    "StreamLeagues(Other, ListNames)"
   ]
  },
  {
   "cell_type": "code",
   "execution_count": 30,
   "metadata": {},
   "outputs": [
    {
     "name": "stdout",
     "output_type": "stream",
     "text": [
      "(10, 10)\n",
      "[11.395  0.     7.52   0.     0.     0.     0.     0.     0.     7.568]\n",
      "                  BL      PL  SerieA  LaLiga  Ligue1  Portug    NED  \\\n",
      "BL            11.395   0.000   7.520   0.000   0.000     0.0  0.000   \n",
      "PL             0.000  43.706   0.000   0.000   2.943     0.0  0.000   \n",
      "SerieA        13.595   8.190  23.283   1.800  10.800     0.0  2.600   \n",
      "LaLiga         0.000   0.000   0.000   4.808   0.000     0.0  0.327   \n",
      "Ligue1         0.000   0.450   6.300   0.000   0.000     0.0  0.000   \n",
      "Portug         0.000   0.000   0.000   0.000   0.000     0.0  0.000   \n",
      "NED            0.000   0.000   0.000   0.000   0.000     0.0  4.216   \n",
      "Championship   0.000  25.937   0.000   0.000   2.943     0.0  0.000   \n",
      "RUS            0.000   0.000   0.000   0.000   0.000     0.0  0.000   \n",
      "Others         2.208   8.433   6.300   0.000   3.690     0.0  0.799   \n",
      "\n",
      "              Championship   RUS  Others  \n",
      "BL                   0.000  0.00   7.568  \n",
      "PL                  12.650  0.36  23.697  \n",
      "SerieA               1.530  0.00  47.470  \n",
      "LaLiga               0.000  0.00   2.520  \n",
      "Ligue1               0.000  0.00  12.364  \n",
      "Portug               0.000  0.00   2.250  \n",
      "NED                  0.000  0.00   1.551  \n",
      "Championship         6.343  0.00  16.781  \n",
      "RUS                  0.000  0.00   0.000  \n",
      "Others               6.094  0.00   0.000  \n"
     ]
    }
   ],
   "source": [
    "MatrixLeagues = np.zeros((10,10))\n",
    "i = 0\n",
    "for L in Leagues:\n",
    "    MatrixLeagues[i,:] = StreamLeagues(L, ListNames)\n",
    "    i +=1\n",
    "\n",
    "print(MatrixLeagues.shape)\n",
    "print(MatrixLeagues[0])\n",
    "Names = list([\"BL\", \"PL\", \"SerieA\", \"LaLiga\", \"Ligue1\", \"Portug\", \"NED\", \"Championship\", \"RUS\", \"Others\"])\n",
    "\n",
    "# DF10x10 column i shows all transfers out of league i\n",
    "# DF10x10 row j shows all transfers to league j\n",
    "DF10x10 = pd.DataFrame(data = MatrixLeagues,\n",
    "                      index = Names,\n",
    "                      columns = Names)\n",
    "print(DF10x10)"
   ]
  },
  {
   "cell_type": "markdown",
   "metadata": {},
   "source": [
    "#### Symmetric 10x10"
   ]
  },
  {
   "cell_type": "code",
   "execution_count": 31,
   "metadata": {},
   "outputs": [
    {
     "name": "stdout",
     "output_type": "stream",
     "text": [
      "                  BL      PL  SerieA  LaLiga  Ligue1  Portug    NED  \\\n",
      "BL            22.790   0.000  21.115   0.000   0.000    0.00  0.000   \n",
      "PL             0.000  87.412   8.190   0.000   3.393    0.00  0.000   \n",
      "SerieA        21.115   8.190  46.566   1.800  17.100    0.00  2.600   \n",
      "LaLiga         0.000   0.000   1.800   9.616   0.000    0.00  0.327   \n",
      "Ligue1         0.000   3.393  17.100   0.000   0.000    0.00  0.000   \n",
      "Portug         0.000   0.000   0.000   0.000   0.000    0.00  0.000   \n",
      "NED            0.000   0.000   2.600   0.327   0.000    0.00  8.432   \n",
      "Championship   0.000  38.587   1.530   0.000   2.943    0.00  0.000   \n",
      "RUS            0.000   0.360   0.000   0.000   0.000    0.00  0.000   \n",
      "Others         9.776  32.130  53.770   2.520  16.054    2.25  2.350   \n",
      "\n",
      "              Championship   RUS  Others  \n",
      "BL                   0.000  0.00   9.776  \n",
      "PL                  38.587  0.36  32.130  \n",
      "SerieA               1.530  0.00  53.770  \n",
      "LaLiga               0.000  0.00   2.520  \n",
      "Ligue1               2.943  0.00  16.054  \n",
      "Portug               0.000  0.00   2.250  \n",
      "NED                  0.000  0.00   2.350  \n",
      "Championship        12.686  0.00  22.875  \n",
      "RUS                  0.000  0.00   0.000  \n",
      "Others              22.875  0.00   0.000  \n"
     ]
    }
   ],
   "source": [
    "Symmetric = (np.transpose(MatrixLeagues) + MatrixLeagues)\n",
    "DFsym = pd.DataFrame(data = Symmetric,\n",
    "                      index = Names,\n",
    "                      columns = Names)\n",
    "print(DFsym)\n",
    "DFsym.to_csv(\"10x10_\"+year)"
   ]
  },
  {
   "cell_type": "code",
   "execution_count": null,
   "metadata": {},
   "outputs": [],
   "source": []
  },
  {
   "cell_type": "code",
   "execution_count": null,
   "metadata": {},
   "outputs": [],
   "source": []
  },
  {
   "cell_type": "markdown",
   "metadata": {},
   "source": [
    "## Second Data Set: Undirected\n",
    "Combine both transfer fees from A to B and B to A as one \"transfer volume\""
   ]
  },
  {
   "cell_type": "code",
   "execution_count": 32,
   "metadata": {},
   "outputs": [],
   "source": [
    "DFun =  pd.DataFrame({'club1' : [],\n",
    "                         \"club2\":[],\n",
    "                         \"fee_cleaned\":[]})"
   ]
  },
  {
   "cell_type": "code",
   "execution_count": 33,
   "metadata": {},
   "outputs": [],
   "source": [
    "DFun[\"club1\"] = np.minimum(DF['club_name'], DF['club_involved_name']) \n",
    "DFun[\"club2\"] = np.maximum(DF['club_name'], DF['club_involved_name']) "
   ]
  },
  {
   "cell_type": "code",
   "execution_count": 34,
   "metadata": {},
   "outputs": [],
   "source": [
    "       \n",
    "def AddFeesUndirected(DF): # adds fees of multiple transfers from club a to b\n",
    "    # output\n",
    "    DF_out = pd.DataFrame({'club_name' : [],\n",
    "                         \"club_involved_name\":[],\n",
    "                         \"fee_cleaned\":[]})\n",
    "    \n",
    "    for i in range(DF.shape[0]):\n",
    "        # is this a new match?\n",
    "        \n",
    "        if ((DF_out.loc[(DF_out[\"club_name\"]== DF[\"club_name\"].iloc[i])&  \n",
    "                     DF_out[\"club_involved_name\"].isin([DF[\"club_involved_name\"].iloc[i]])].size ==0) and \n",
    "            (DF_out.loc[(DF_out[\"club_involved_name\"]== DF[\"club_name\"].iloc[i])&  # Neither direction!\n",
    "                     DF_out[\"club_name\"].isin([DF[\"club_involved_name\"].iloc[i]])].size ==0)):\n",
    "            DF_out = DF_out.append(DF.iloc[i])\n",
    "        \n",
    "        elif (DF_out.loc[(DF_out[\"club_name\"]== DF[\"club_name\"].iloc[i])&  \n",
    "                     DF_out[\"club_involved_name\"].isin([DF[\"club_involved_name\"].iloc[i]])].size > 0):\n",
    "            # add fee value to already existing value\n",
    "            DF_out[\"fee_cleaned\"].loc[(DF_out[\"club_name\"]== DF[\"club_name\"].iloc[i])&  \n",
    "                     DF_out[\"club_involved_name\"].isin([DF[\"club_involved_name\"].iloc[i]])] += DF[\"fee_cleaned\"].iloc[i]\n",
    "        \n",
    "        else: # add the \"reversed\" fee to existing value\n",
    "            DF_out[\"fee_cleaned\"].loc[(DF_out[\"club_involved_name\"]== DF[\"club_name\"].iloc[i])&  \n",
    "                     DF_out[\"club_name\"].isin([DF[\"club_involved_name\"].iloc[i]])] += DF[\"fee_cleaned\"].iloc[i]\n",
    "            \n",
    "            \n",
    "    return(DF_out)    \n",
    "        "
   ]
  },
  {
   "cell_type": "code",
   "execution_count": 35,
   "metadata": {},
   "outputs": [
    {
     "name": "stderr",
     "output_type": "stream",
     "text": [
      "/home/users/t_wand01/.local/lib/python3.7/site-packages/pandas/core/indexing.py:1732: SettingWithCopyWarning: \n",
      "A value is trying to be set on a copy of a slice from a DataFrame\n",
      "\n",
      "See the caveats in the documentation: https://pandas.pydata.org/pandas-docs/stable/user_guide/indexing.html#returning-a-view-versus-a-copy\n",
      "  self._setitem_single_block(indexer, value, name)\n"
     ]
    }
   ],
   "source": [
    "DFun = AddFeesUndirected(DF)"
   ]
  },
  {
   "cell_type": "markdown",
   "metadata": {},
   "source": [
    "# Graphs"
   ]
  },
  {
   "cell_type": "code",
   "execution_count": 36,
   "metadata": {},
   "outputs": [],
   "source": [
    "G = nx.from_pandas_edgelist(DF, \n",
    "                            source = \"club_name\",\n",
    "                            target = \"club_involved_name\",\n",
    "                            edge_attr=[\"fee_cleaned\"],#, \"colour\"],\n",
    "                            create_using=networkx.DiGraph()\n",
    "                           )"
   ]
  },
  {
   "cell_type": "code",
   "execution_count": 37,
   "metadata": {},
   "outputs": [],
   "source": [
    "# Teams of individual leagues 19/20\n",
    "BL_teams = list(set(BuLi[\"club_name\"])) # Bundesliga\n",
    "BLList = pd.Series(BL_teams)\n",
    "\n",
    "PLList = pd.Series(list(set(PL[\"club_name\"])))\n",
    "SAList = pd.Series(list(set(SA[\"club_name\"])))\n",
    "PDList = pd.Series(list(set(PD[\"club_name\"])))\n",
    "L1List = pd.Series(list(set(L1[\"club_name\"])))\n",
    "\n"
   ]
  },
  {
   "cell_type": "markdown",
   "metadata": {},
   "source": [
    "\n",
    "l = [\"red\", \"blue\"]\n",
    "print(len(G.nodes))\n",
    "Colours = random.choices(l, k=len(G.nodes))"
   ]
  },
  {
   "cell_type": "code",
   "execution_count": 38,
   "metadata": {},
   "outputs": [],
   "source": [
    "Colours = [\"none\"]*len(G.nodes)\n",
    "j = 0\n",
    "for i in G.nodes:\n",
    "    if np.sum(BLList.isin([i])) > 0: # if Bundesliga-Team\n",
    "        Colours[j] = \"red\"\n",
    "    j = j+1"
   ]
  },
  {
   "cell_type": "code",
   "execution_count": 39,
   "metadata": {},
   "outputs": [
    {
     "data": {
      "image/png": "[encoded data removed]",
      "text/plain": [
       "<Figure size 432x288 with 1 Axes>"
      ]
     },
     "metadata": {},
     "output_type": "display_data"
    }
   ],
   "source": [
    "networkx.draw_kamada_kawai(G,node_color = Colours, with_labels=False, alpha=0.1)"
   ]
  },
  {
   "cell_type": "code",
   "execution_count": 40,
   "metadata": {},
   "outputs": [],
   "source": [
    "def Colour1(node):\n",
    "    if np.sum(BLList.isin([node])):\n",
    "        out = \"red\"\n",
    "    elif np.sum(PLList.isin([node])):\n",
    "        out = \"blue\"\n",
    "    elif np.sum(SAList.isin([node])):\n",
    "        out = \"green\" \n",
    "    elif np.sum(PDList.isin([node])):\n",
    "        out = \"yellow\"\n",
    "    elif np.sum(L1List.isin([node])):\n",
    "        out = \"purple\"\n",
    "    else:\n",
    "        out = \"none\"\n",
    "    return(out)"
   ]
  },
  {
   "cell_type": "code",
   "execution_count": 41,
   "metadata": {},
   "outputs": [],
   "source": [
    "j = 0\n",
    "for i in G.nodes:\n",
    "    Colours[j] = Colour1(i)\n",
    "    j = j+1"
   ]
  },
  {
   "cell_type": "code",
   "execution_count": 42,
   "metadata": {},
   "outputs": [
    {
     "data": {
      "image/png": "[encoded data removed]",
      "text/plain": [
       "<Figure size 432x288 with 1 Axes>"
      ]
     },
     "metadata": {},
     "output_type": "display_data"
    }
   ],
   "source": [
    "networkx.draw_spring(G,node_color = Colours, with_labels=False, alpha = 0.1)\n"
   ]
  },
  {
   "cell_type": "code",
   "execution_count": 43,
   "metadata": {},
   "outputs": [
    {
     "data": {
      "image/png": "[encoded data removed]",
      "text/plain": [
       "<Figure size 432x288 with 1 Axes>"
      ]
     },
     "metadata": {},
     "output_type": "display_data"
    }
   ],
   "source": [
    "networkx.draw_circular(G,node_color = Colours, with_labels=False, alpha = 0.1)\n",
    "# one can see blocks of the individual countries + crosslinks\n",
    "#plt.savefig(year+\"_Circular\")"
   ]
  },
  {
   "cell_type": "code",
   "execution_count": 44,
   "metadata": {},
   "outputs": [],
   "source": [
    "# Visual inspection: much less \"Small World\"-connected than before!"
   ]
  },
  {
   "cell_type": "code",
   "execution_count": null,
   "metadata": {},
   "outputs": [],
   "source": []
  },
  {
   "cell_type": "code",
   "execution_count": 45,
   "metadata": {
    "scrolled": true
   },
   "outputs": [
    {
     "data": {
      "text/html": [
       "\n",
       "        <iframe\n",
       "            width=\"800px\"\n",
       "            height=\"800px\"\n",
       "            src=\"Test.html\"\n",
       "            frameborder=\"0\"\n",
       "            allowfullscreen\n",
       "            \n",
       "        ></iframe>\n",
       "        "
      ],
      "text/plain": [
       "<IPython.lib.display.IFrame at 0x7f0d92b4a2b0>"
      ]
     },
     "execution_count": 45,
     "metadata": {},
     "output_type": "execute_result"
    }
   ],
   "source": [
    "net = Network(\"800px\", \"800px\",notebook=True)\n",
    "net.from_nx(G)\n",
    "net.show(\"Test.html\")"
   ]
  },
  {
   "cell_type": "markdown",
   "metadata": {},
   "source": [
    "## Pyvis"
   ]
  },
  {
   "cell_type": "code",
   "execution_count": 46,
   "metadata": {},
   "outputs": [],
   "source": [
    "g = Network(\"800px\", \"800px\",notebook=True)\n",
    "g.toggle_physics(True)\n",
    "G = nx.from_pandas_edgelist(DFun, \n",
    "                            source = \"club_involved_name\",\n",
    "                            target = \"club_name\",\n",
    "                            edge_attr=[\"fee_cleaned\"],#, \"colour\"],\n",
    "                            create_using=networkx.DiGraph()\n",
    "                           )"
   ]
  },
  {
   "cell_type": "markdown",
   "metadata": {},
   "source": [
    "g.add_nodes(np.array(G.nodes), \n",
    "            color = random.choices([\"red\",\"grey\"], k=len(G.nodes)),\n",
    "            options = {\n",
    "                \"title\":\"lel\"\n",
    "            })"
   ]
  },
  {
   "cell_type": "code",
   "execution_count": 47,
   "metadata": {},
   "outputs": [],
   "source": [
    "def Colour(node):\n",
    "    # from https://www.hexcolortool.com/#f429ff,0.33\n",
    "    if np.sum(BLList.isin([node])):\n",
    "        out = \"rgba(244, 15, 11, 0.66)\"\n",
    "    elif np.sum(PLList.isin([node])):\n",
    "        out = \"rgba(41, 155, 255, 0.66)\"\n",
    "    elif np.sum(SAList.isin([node])):\n",
    "        out = \"rgba(41, 255, 77, 0.66)\" \n",
    "    elif np.sum(PDList.isin([node])):\n",
    "        out = \"rgba(255, 241, 41, 0.66)\"\n",
    "    elif np.sum(L1List.isin([node])):\n",
    "        out = \"rgba(244, 41, 255, 0.66)\"\n",
    "    else:\n",
    "        out = \"rgba(0, 0, 0, 0.22)\"\n",
    "    return(out)"
   ]
  },
  {
   "cell_type": "code",
   "execution_count": 48,
   "metadata": {},
   "outputs": [],
   "source": [
    "# https://www.hexcolortool.com/#f40f0b,0.33\n",
    "for node in G.nodes:\n",
    "    g.add_node(str(node), color = Colour(node), #alpha=0.1,\n",
    "              options = {\"physics\":False\n",
    "              })"
   ]
  },
  {
   "cell_type": "code",
   "execution_count": 49,
   "metadata": {},
   "outputs": [],
   "source": [
    "#var options = {\n",
    "# \"nodes\": {\n",
    "#    \"color\": {\n",
    "#      \"border\": \"rgba(43,124,233,0.46)\",\n",
    "#      \"background\": \"rgba(90,65,252,0.51)\"\n",
    "#    }\n",
    "#  },\n",
    "#  \"edges\": {\n",
    "#    \"color\": {\n",
    "#      \"inherit\": true\n",
    "#    },\n",
    "#    \"smooth\": false\n",
    "#  },\n",
    "#  \"physics\": {\n",
    "# \"enabled\": false,\n",
    "#    \"repulsion\": {\n",
    "#     \"springLength\": 500\n",
    "#   },\n",
    "#    \"minVelocity\": 0.75,\n",
    "#    \"solver\": \"repulsion\"\n",
    "#  }\n",
    "#}"
   ]
  },
  {
   "cell_type": "code",
   "execution_count": 50,
   "metadata": {},
   "outputs": [],
   "source": [
    "#g.add_edges(DF19[\"club_name\"],DF19[\"club_involved_name\"], value =DF19[\"fee_cleaned\"])"
   ]
  },
  {
   "cell_type": "code",
   "execution_count": 51,
   "metadata": {},
   "outputs": [],
   "source": [
    "for i in range(DFun.shape[0]):\n",
    "    g.add_edge(DFun[\"club_name\"].iloc[i], \n",
    "              DFun[\"club_involved_name\"].iloc[i],\n",
    "              value=DFun[\"fee_cleaned\"].iloc[i], \n",
    "            kwargs ={\n",
    "               \"physics\":False\n",
    "           })\n"
   ]
  },
  {
   "cell_type": "code",
   "execution_count": 52,
   "metadata": {
    "scrolled": true
   },
   "outputs": [
    {
     "data": {
      "text/html": [
       "\n",
       "        <iframe\n",
       "            width=\"800px\"\n",
       "            height=\"800px\"\n",
       "            src=\"Test.html\"\n",
       "            frameborder=\"0\"\n",
       "            allowfullscreen\n",
       "            \n",
       "        ></iframe>\n",
       "        "
      ],
      "text/plain": [
       "<IPython.lib.display.IFrame at 0x7f0d92b3b320>"
      ]
     },
     "execution_count": 52,
     "metadata": {},
     "output_type": "execute_result"
    }
   ],
   "source": [
    "\n",
    "#g.show_buttons(filter_=[\"nodes\", \"edges\", \"physics\"])\n",
    "g.show(\"Test.html\")"
   ]
  },
  {
   "cell_type": "code",
   "execution_count": 53,
   "metadata": {},
   "outputs": [],
   "source": [
    "#g.save_graph(year+\"_allLeagues.html\")"
   ]
  },
  {
   "cell_type": "markdown",
   "metadata": {},
   "source": [
    "## Analysis"
   ]
  },
  {
   "cell_type": "code",
   "execution_count": 54,
   "metadata": {},
   "outputs": [],
   "source": [
    "G_undir = nx.from_pandas_edgelist(DFun, \n",
    "                            source = \"club_name\",\n",
    "                            target = \"club_involved_name\",\n",
    "                            edge_attr=\"fee_cleaned\",\n",
    "                            create_using=networkx.Graph # or Graph, DiGraph, MultiGraph, MultiDiGraph\n",
    "                           )"
   ]
  },
  {
   "cell_type": "code",
   "execution_count": 55,
   "metadata": {},
   "outputs": [],
   "source": [
    "G_dir = nx.from_pandas_edgelist(DF, \n",
    "                            source = \"club_name\",\n",
    "                            target = \"club_involved_name\",\n",
    "                            edge_attr=[\"fee_cleaned\"],#, \"colour\"],\n",
    "                            create_using=networkx.DiGraph()\n",
    "                           )"
   ]
  },
  {
   "cell_type": "markdown",
   "metadata": {},
   "source": [
    "#### Small World"
   ]
  },
  {
   "cell_type": "code",
   "execution_count": 56,
   "metadata": {},
   "outputs": [],
   "source": [
    "## Small world\n",
    "\n",
    "# random reference graph\n",
    "#G_ref = networkx.algorithms.smallworld.random_reference(G_undir, seed = 10)\n",
    "#DFcon19 = DFun19.iloc[DFun19[\"club_name\"]!=\"SC Paderborn 07\"]\n",
    "#DFcon19 = DFcon19.iloc[DFcon19[\"club_involved_name\"]!=\"SC Paderborn 07\"]\n",
    "SepList20 = [\"CD Nacional\", \"Al-Batin\", \"Shimizu S-Pulse\", \"Portimonense SC\", \"SV Sandhausen\",\n",
    "            \"CD Tondela\", \"Coventry\"]\n",
    "SepList19 = [\"Vitória Setúbal FC\",\"RKC Waalwijk\",\"Portimonense SC\",\"ADO Den Haag\",\"Sparta Rotterdam\",\n",
    "             \"FC Paços de Ferreira\", \"FK Ufa\"]\n",
    "SepList18 = [\"CD Santa Clara\", \"Pau FC\", \"FC Emmen\", \"KS Samara\",\"Khimki\", \"Tottenham Hotspurs\",\n",
    "            \"C. Rizespor\", \"CD Nacional\"]\n",
    "SepList17 = [\"Omiya Ardija\", \"SK Brann\"]\n",
    "SepList16 = [\"FK Orenburg\",\"Rotherham United\",\"Belenenses SAD\", \"SC Heerenveen\",\"MVV Maastricht\",\n",
    "            \"Ross County\", \"GD Chaves\"]\n",
    "SepList15 = [\"Boavista FC\", \"RSC Charleroi\", \"Helmond Sport\",\"Lienden\",\"Go Ahead Eagles\"]\n",
    "SepList14 = [ \"Cracovia\",\"Gaish\",\"FK Ufa\", \"FC Nantes\", \"Brisbane Roar\", \"Shinnik\"]\n",
    "SepList13 = [\"CFR Cluj\",\"Zawisza\",\"Académica Coimbra\", \"Tom Tomsk\",\"Rio Ave FC\",\"Alianza Lima\",\n",
    "             \"Belenenses SAD\",\"Waterford FC\", \"Leeds\"]\n",
    "SepList12 = [\"Mordovia Saransk\",\"Telstar\", \"CS Marítimo\"]\n",
    "SepList11 = [\"Rio Ave FC\",\"SC Olhanense\",\"Sheriff\", \"Indjija\"]\n",
    "SepList10 = [\"SM Caen\",\"CS Marítimo\",\"Sligo Rovers\", \"Roda JC Kerkrade\", \"Athletic Bilbao\", \n",
    "             \"Watford FC\", \"Cracovia\",\"FK Rostov\"]\n",
    "SepList09 = [\"AS Trencin\", \"Santo André\",\"Anorthosis\", \"Sharjah FC\"]\n",
    "SepList08 = [\"Ittihad\"]\n",
    "SepList07 = [\"CF Estrela Amadora SAD\"]\n",
    "SepList06 = [\"Mordovia\", \"Amkar Perm\", \"Zrinjski Mostar\",\"Skoda Xanthi\", \"Tigre\"]\n",
    "SepList05 = [\"Hertha BSC\",  \"FC Flora\", \"Guarani\", \"Crewe Alexandra\", \"Penafiel\",\"Moreirense\"]\n",
    "SepList04 = [\"SC Beira-Mar\", \"Planète Champ.\", \"FC Seoul\", \"FC Empoli\", \"Treviso\",\n",
    "             \"Spartak Vladikavkaz\", \"Reading FC\"]\n",
    "SepList03 = [\"PSV Eindhoven\", \"Huachipato FC\", \"Portimonense\", \"AC Perugia\", \"FC National\" ,\n",
    "             \"CD Numancia\", \"SC Freiburg\", \"Barnsley FC\", \"Rayo Mallecano\", \"Steaua Bukarest\",\n",
    "             \"Real Sociedad\", \"Bayer 04 Leverkusen\", \"Real Zaragoza\", \"Como\", \"Al-Jazira\", \n",
    "             \"AEK Athens\", \"Rayo Vallecano\"]\n",
    "SepList02 = [ 'Celta de Vigo', 'Racing Santander', 'VfB Stuttgart', 'Torino Calcio', \n",
    "             'Feyenoord', 'SW Bregenz', 'União de Leiria','AJ Auxerre','Sokol Saratov', 'Como Calcio']\n",
    "SepList01 = [\"AZ Alkmaar\", \"Levski Sofia\", \"Rostselmash Rostov\", \"NAC Breda\", \"Sporting Gijón\", \n",
    "             \"Exeter City\", \"Volta Redonda\", \"Sokol Saratov\", \"Obolon Kyiv\", \"Vojvodina\", \"EA Guingamp\",\n",
    "             \"Wycombe\", \"Dinamo Moscow\", \"Lokomotiv Moscow\", \"CSKA Moscow\", \"Rubin Kazan\", \"Dinamo S-Pb\"] \n",
    "                # Problem 2001: Russian sub-cluster\n",
    "SepList00 = [\"Belshina\", \"Lyngby BK\", \"Stoke City\", \"Sport Recife\", \"Zemun\", \"Deportivo Alavés\", \n",
    "             \"NAC Breda\", \"AS Bari\", \"Lev. Maardu\", \"Gaz Metan\", \"Millwall FC\", \"Pskov\"]\n",
    "SepList99 =  [\"FC Empoli\", \"Stavropol\", \"Saturn Ramenskoe\", \"Shinnik\",\"FC Nantes\", \"Madureira-RJ\",\n",
    "             \"FK Zvezdara\", \"Rosenborg BK\", \"CSKA Moscow\", \"FC Metz\", \"Werder Bremen\"]\n",
    "SepList98 = [\"Rio Ave FC\", \"Rotor Volgograd\", \"FC Alverca\", \"Felgueiras\", \"Gamba Osaka\",\n",
    "            \"SC Braga\", \"Real Zaragoza\", \"MVV Maastricht\", \"SK Tavriya\", \"AC Le Havre\"]\n",
    "SepList97 = [\"SV Meppen\", \"Lokomotiv-96\", \"Spartak\", \"Zenit St. Petersburg\", \"MSV Duisburg\",\n",
    "            \"FC Copenhagen\", 'Istanbulspor', \"Newell's\", 'Brescia Calcio','Steaua Bukarest',\n",
    "            'Alania Vladikavkaz', \"Hull City\"]\n",
    "SepList96 = [\"Spartak\", \"SC Bastia\", \"AZ Alkmaar\",'Olympique Lyon','Lokomotiv Moscow', \"Zenit St. Petersburg\",\n",
    "            'Twente Enschede FC', \"Vitesse\",\"Sparta Rotterdam\",\"SC Heerenveen\", \"FC Utrecht\"]\n",
    "SepList95 = [\"Montijo\", \"AS Bari\", \"NAC Breda\", \"MVV Maastricht\",\"Zenit St. Petersburg\", \"RC Lens\",\n",
    "            \"Lech Poznan\", \"Lokomotiv Moscow\", \"Udinese Calcio\"]\n",
    "SepList94 = [\"Ajax\", \"Sparta Rotterdam\", \"Stade Rennais\", \"Legia Warszawa\", \"US Cremonese\", \"Olympiacos\",\n",
    "             \"NAC Breda\", \"Brentford FC\", \"KAA Gent\", \"Fulham\", \"SC Heerenveen\", \"Real Zaragoza\", \n",
    "            ]\n",
    "SepList93 = [\"Valencia\", \"AS Roma\",\"Real Madrid\", \"Paris SG\", \"Spartak\", \"AS Cannes\", \"Feyenoord\", \n",
    "            'Uralmash Ekaterinburg','AC Parma',\"Udinese Calcio\"]\n",
    "SepList92 = [\"FC Zwolle\", \"MVV Maastricht\", \"Everton FC\", \"FC Barcelona\", \"Cannes\", \"Boavista\",\n",
    "            \"RSC Anderlecht\", \"De Graafschap\", \"Burgos CF\", 'Bayer 05 Uerdingen','Deportivo de La Coruña',\n",
    "            \"Eintracht Frankfurt\"]\n",
    "\n",
    "SepList = SepList92\n",
    "\n",
    "DFcon= DFun.drop(DFun[ DFun['club_involved_name'].isin( SepList)].index)\n",
    "\n",
    "DFcon = DFcon.drop(DFcon[ DFcon['club_name'].isin(SepList)].index)\n",
    "\n"
   ]
  },
  {
   "cell_type": "code",
   "execution_count": null,
   "metadata": {},
   "outputs": [],
   "source": []
  },
  {
   "cell_type": "code",
   "execution_count": 57,
   "metadata": {},
   "outputs": [],
   "source": [
    "G_undirconnected = nx.from_pandas_edgelist(DFcon, \n",
    "                            source = \"club_name\",\n",
    "                            target = \"club_involved_name\",\n",
    "                            edge_attr=\"fee_cleaned\",\n",
    "                            create_using=networkx.Graph # or Graph, DiGraph, MultiGraph, MultiDiGraph\n",
    "                           )\n",
    "\n",
    "\n"
   ]
  },
  {
   "cell_type": "code",
   "execution_count": 58,
   "metadata": {
    "scrolled": false
   },
   "outputs": [
    {
     "data": {
      "text/html": [
       "\n",
       "        <iframe\n",
       "            width=\"800px\"\n",
       "            height=\"800px\"\n",
       "            src=\"nx.html\"\n",
       "            frameborder=\"0\"\n",
       "            allowfullscreen\n",
       "            \n",
       "        ></iframe>\n",
       "        "
      ],
      "text/plain": [
       "<IPython.lib.display.IFrame at 0x7f0d92b32588>"
      ]
     },
     "execution_count": 58,
     "metadata": {},
     "output_type": "execute_result"
    }
   ],
   "source": [
    "# Quick check: plot\n",
    "nt = Network('800px', '800px',notebook=True)\n",
    "#nt.from_nx(G_undirconnected)\n",
    "\n",
    "\n",
    "for node in G_undirconnected.nodes:\n",
    "    nt.add_node(str(node), color = Colour(node), #alpha=0.1,\n",
    "              options = {\n",
    "              })\n",
    "    \n",
    "for i in range(DFcon.shape[0]):\n",
    "    nt.add_edge(DFcon[\"club_name\"].iloc[i], \n",
    "              DFcon[\"club_involved_name\"].iloc[i],\n",
    "              value=DFcon[\"fee_cleaned\"].iloc[i], \n",
    "            kwargs ={\n",
    "               \"physics\":False\n",
    "           })\n",
    "\n",
    "nt.show('nx.html')\n",
    "# Is connected!!"
   ]
  },
  {
   "cell_type": "code",
   "execution_count": 59,
   "metadata": {
    "scrolled": true
   },
   "outputs": [
    {
     "name": "stdout",
     "output_type": "stream",
     "text": [
      "95\n"
     ]
    },
    {
     "data": {
      "text/plain": [
       "{'1. FC Köln',\n",
       " '1.FC Kaiserslautern',\n",
       " '1.FC Nuremberg',\n",
       " '1.FC Saarbrücken',\n",
       " 'AJ Auxerre',\n",
       " 'AS Monaco',\n",
       " 'AS Roma',\n",
       " 'Aberdeen FC',\n",
       " 'Ajax',\n",
       " 'Ancona',\n",
       " 'Ancona Calcio',\n",
       " 'Arsenal',\n",
       " 'Aston Villa',\n",
       " 'Atalanta BC',\n",
       " 'Barnsley FC',\n",
       " 'Bayer 04 Leverkusen',\n",
       " 'Bayern Munich',\n",
       " 'Besiktas',\n",
       " 'Birmingham City',\n",
       " 'Blackburn Rovers',\n",
       " 'Bolton Wanderers',\n",
       " 'Borussia Dortmund',\n",
       " 'Bournemouth',\n",
       " 'Brentford FC',\n",
       " 'Brescia Calcio',\n",
       " 'Bristol City',\n",
       " 'Bristol Rovers',\n",
       " 'Burnley FC',\n",
       " 'Cambridge Utd.',\n",
       " 'Cardiff City',\n",
       " 'Carlisle United',\n",
       " 'Celta de Vigo',\n",
       " 'Celtic',\n",
       " 'Chelsea',\n",
       " 'Coventry',\n",
       " 'Crystal Palace',\n",
       " 'Derby County',\n",
       " 'FC St. Pauli',\n",
       " 'Feyenoord',\n",
       " 'Fiorentina',\n",
       " 'Fortuna Düsseldorf',\n",
       " 'Grasshoppers',\n",
       " 'Grimsby Town',\n",
       " 'Hamburger SV',\n",
       " 'Inter Milan',\n",
       " 'Ipswich Town',\n",
       " 'Juventus',\n",
       " 'Lazio',\n",
       " 'Leeds',\n",
       " 'Leicester City',\n",
       " 'Liverpool FC',\n",
       " 'Man Utd',\n",
       " 'Manchester City',\n",
       " 'Middlesbrough',\n",
       " 'Milan AC',\n",
       " 'Millwall FC',\n",
       " 'Monaco',\n",
       " 'Newcastle United',\n",
       " 'Norwich',\n",
       " 'Nottingham Forest',\n",
       " 'Oldham Athletic',\n",
       " 'PSV Eindhoven',\n",
       " 'Paris SG',\n",
       " 'Port Vale',\n",
       " 'Portsmouth',\n",
       " 'Preston North End',\n",
       " 'QPR',\n",
       " 'RC Strasbourg Alsace',\n",
       " 'Rangers',\n",
       " 'Reading FC',\n",
       " 'Real Madrid',\n",
       " 'Rotherham',\n",
       " 'SC Freiburg',\n",
       " 'Saarbrücken',\n",
       " 'Sampdoria',\n",
       " 'Sheff Wed',\n",
       " 'Sheffield United',\n",
       " 'Sheffield Wednesday',\n",
       " 'Southampton FC',\n",
       " 'Southend United',\n",
       " 'Sparta Rotterdam',\n",
       " 'Stockport',\n",
       " 'Stoke City',\n",
       " 'Sunderland AFC',\n",
       " 'Swindon Town',\n",
       " 'Tottenham Hotspurs',\n",
       " 'Twente Enschede FC',\n",
       " 'Udinese Calcio',\n",
       " 'VfB Leipzig',\n",
       " 'VfB Stuttgart',\n",
       " 'Werder Bremen',\n",
       " 'West Brom',\n",
       " 'Wimbledon FC',\n",
       " 'Wolverhampton Wanderers',\n",
       " 'York City'}"
      ]
     },
     "execution_count": 59,
     "metadata": {},
     "output_type": "execute_result"
    }
   ],
   "source": [
    "print(len(set(DFcon[\"club_name\"])))\n",
    "set(DFcon[\"club_name\"])"
   ]
  },
  {
   "cell_type": "code",
   "execution_count": 60,
   "metadata": {},
   "outputs": [
    {
     "data": {
      "text/plain": [
       "{'1.FC Nuremberg',\n",
       " 'A. Aachen II',\n",
       " 'AJ Auxerre',\n",
       " 'Ajax',\n",
       " 'Anorthosis',\n",
       " 'Arsenal',\n",
       " 'Aston Villa',\n",
       " 'Bari',\n",
       " 'Barnsley FC',\n",
       " 'Bayer 04 Leverkusen',\n",
       " 'Bayern Munich',\n",
       " 'Birmingham City',\n",
       " 'Blackburn Rovers',\n",
       " 'Borussia Dortmund',\n",
       " 'Bournemouth',\n",
       " 'Bradford',\n",
       " 'Brentford FC',\n",
       " 'Brescia Calcio',\n",
       " 'Bristol City',\n",
       " 'Bröndby IF',\n",
       " 'CSKA Moscow',\n",
       " 'CSKA Sofia',\n",
       " 'Cambridge Utd.',\n",
       " 'Cambuur L.',\n",
       " 'Charlton Athletic',\n",
       " 'Chelsea',\n",
       " 'Colchester Utd.',\n",
       " 'Coventry',\n",
       " 'Cremonese',\n",
       " 'Crewe Alexandra',\n",
       " 'Crystal Palace',\n",
       " 'Derby County',\n",
       " 'Dynamo Dresden',\n",
       " 'Eastwood Town',\n",
       " 'Everton',\n",
       " 'Excelsior',\n",
       " 'Exeter City',\n",
       " 'FC 08 Homburg',\n",
       " 'Feyenoord',\n",
       " 'Foggia',\n",
       " 'Halesowen',\n",
       " 'Hamburger SV',\n",
       " 'Hartlepool Utd.',\n",
       " 'Huddersfield',\n",
       " 'Inter Milan',\n",
       " 'Ipswich Town',\n",
       " 'JS Kabylie',\n",
       " 'Jagiellonia',\n",
       " 'Juventus',\n",
       " 'Karlsruher SC',\n",
       " 'Lazio',\n",
       " 'Leeds',\n",
       " 'Leicester City',\n",
       " 'Leyton Orient',\n",
       " 'Lillestrøm SK',\n",
       " 'Liverpool FC',\n",
       " 'Luton',\n",
       " 'MYPA',\n",
       " 'Malmö FF',\n",
       " 'Man Utd',\n",
       " 'Manchester City',\n",
       " 'Middlesbrough',\n",
       " 'Milan AC',\n",
       " 'Millwall FC',\n",
       " 'Monaco',\n",
       " 'Morton',\n",
       " 'Newcastle United',\n",
       " 'Norwich',\n",
       " 'Nottingham Forest',\n",
       " 'Notts County',\n",
       " 'Oldham Athletic',\n",
       " 'Olympique Marseille',\n",
       " 'Portadown',\n",
       " 'Portsmouth',\n",
       " 'Preston North End',\n",
       " 'QPR',\n",
       " 'Rangers',\n",
       " 'Rapid Vienna',\n",
       " 'Reading FC',\n",
       " 'Real Madrid',\n",
       " 'Red Star',\n",
       " 'Sampdoria',\n",
       " 'Sevilla FC',\n",
       " 'Sheffield United',\n",
       " 'Sheffield Wednesday',\n",
       " 'Siarka T.',\n",
       " 'Sigma Olomouc',\n",
       " 'Southampton FC',\n",
       " 'Sparta Rotterdam',\n",
       " 'Sport. Cristal',\n",
       " 'Start',\n",
       " 'Stoke City',\n",
       " 'Stuttg. Kickers',\n",
       " 'Sunderland AFC',\n",
       " 'Swansea City',\n",
       " 'Swindon Town',\n",
       " 'Torino',\n",
       " 'Toronto Bliz.',\n",
       " 'Tottenham Hotspurs',\n",
       " 'Twente Enschede FC',\n",
       " 'VfB Leipzig',\n",
       " 'VfB Stuttgart',\n",
       " 'Watford FC',\n",
       " 'Werder Bremen',\n",
       " 'West Brom',\n",
       " 'Wigan',\n",
       " 'Willem II Tilburg'}"
      ]
     },
     "execution_count": 60,
     "metadata": {},
     "output_type": "execute_result"
    }
   ],
   "source": [
    "set(DFcon[\"club_involved_name\"])"
   ]
  },
  {
   "cell_type": "code",
   "execution_count": 61,
   "metadata": {},
   "outputs": [],
   "source": [
    "nt.save_graph(year+\"_connection.html\")"
   ]
  },
  {
   "cell_type": "code",
   "execution_count": 62,
   "metadata": {},
   "outputs": [
    {
     "name": "stdout",
     "output_type": "stream",
     "text": [
      "0.5814903049886696\n",
      "57.85487079620361\n"
     ]
    }
   ],
   "source": [
    "\n",
    "start = time.time()\n",
    "\n",
    "SW = networkx.algorithms.smallworld.omega(G_undirconnected,niter=20, seed=42)\n",
    "print(SW)\n",
    "\n",
    "end = time.time()\n",
    "print(end - start)"
   ]
  },
  {
   "cell_type": "markdown",
   "metadata": {},
   "source": [
    "#### Degree Distribution"
   ]
  },
  {
   "cell_type": "code",
   "execution_count": 63,
   "metadata": {},
   "outputs": [
    {
     "data": {
      "text/plain": [
       "[0, 90, 31, 14, 17, 7, 5, 3, 1, 0, 1, 0, 2]"
      ]
     },
     "execution_count": 63,
     "metadata": {},
     "output_type": "execute_result"
    }
   ],
   "source": [
    "networkx.classes.function.degree_histogram(G_undir)"
   ]
  },
  {
   "cell_type": "code",
   "execution_count": null,
   "metadata": {},
   "outputs": [],
   "source": []
  },
  {
   "cell_type": "code",
   "execution_count": 64,
   "metadata": {},
   "outputs": [
    {
     "data": {
      "image/png": "[encoded data removed]",
      "text/plain": [
       "<Figure size 432x288 with 1 Axes>"
      ]
     },
     "metadata": {
      "needs_background": "light"
     },
     "output_type": "display_data"
    }
   ],
   "source": [
    "import networkx as nx\n",
    "\n",
    "def plot_degree_dist(G):\n",
    "    degrees = [G.degree(n) for n in G.nodes()]\n",
    "    plt.hist(degrees)\n",
    "    plt.show()\n",
    "\n",
    "plot_degree_dist(G_undir)"
   ]
  },
  {
   "cell_type": "code",
   "execution_count": 65,
   "metadata": {},
   "outputs": [
    {
     "data": {
      "image/png": "[encoded data removed]",
      "text/plain": [
       "<Figure size 432x288 with 1 Axes>"
      ]
     },
     "metadata": {
      "needs_background": "light"
     },
     "output_type": "display_data"
    }
   ],
   "source": [
    "def plot_degree_dist(G):\n",
    "    degrees = [G.degree(n) for n in G.nodes()]\n",
    "    plt.hist(np.log(degrees), bins = int(len(G.nodes())/20), log = True)\n",
    "    plt.show()\n",
    "\n",
    "plot_degree_dist(G_undir)"
   ]
  },
  {
   "cell_type": "code",
   "execution_count": 66,
   "metadata": {},
   "outputs": [
    {
     "name": "stdout",
     "output_type": "stream",
     "text": [
      "0.5605238122359343 0.6764864741642834 0.8388522244343659\n"
     ]
    }
   ],
   "source": [
    "degrees = [G.degree(n) for n in G.nodes()]\n",
    "log_degrees = np.log(degrees)\n",
    "print(np.mean(log_degrees), np.std(log_degrees), skew(log_degrees))\n"
   ]
  },
  {
   "cell_type": "code",
   "execution_count": 67,
   "metadata": {},
   "outputs": [
    {
     "data": {
      "image/png": "[encoded data removed]",
      "text/plain": [
       "<Figure size 432x288 with 1 Axes>"
      ]
     },
     "metadata": {
      "needs_background": "light"
     },
     "output_type": "display_data"
    }
   ],
   "source": [
    "plt.hist(degrees, bins = np.arange(-0.5,max(degrees)+0.5,1))\n",
    "plt.show()"
   ]
  },
  {
   "cell_type": "code",
   "execution_count": 68,
   "metadata": {},
   "outputs": [],
   "source": [
    "degree_dist = np.zeros(max(degrees)+1)"
   ]
  },
  {
   "cell_type": "code",
   "execution_count": 69,
   "metadata": {},
   "outputs": [],
   "source": [
    "for i in range(max(degrees)):\n",
    "    degree_dist[i] = np.sum(np.array(degrees) == i)"
   ]
  },
  {
   "cell_type": "code",
   "execution_count": 70,
   "metadata": {},
   "outputs": [
    {
     "data": {
      "text/plain": [
       "array([ 0., 90., 31., 14., 17.,  7.,  5.,  3.,  1.,  0.,  1.,  0.,  0.])"
      ]
     },
     "execution_count": 70,
     "metadata": {},
     "output_type": "execute_result"
    }
   ],
   "source": [
    "degree_dist"
   ]
  },
  {
   "cell_type": "code",
   "execution_count": 71,
   "metadata": {},
   "outputs": [
    {
     "data": {
      "image/png": "[encoded data removed]",
      "text/plain": [
       "<Figure size 432x288 with 1 Axes>"
      ]
     },
     "metadata": {
      "needs_background": "light"
     },
     "output_type": "display_data"
    }
   ],
   "source": [
    "plt.scatter(np.arange(max(degrees)+1), degree_dist)\n",
    "plt.show()"
   ]
  },
  {
   "cell_type": "markdown",
   "metadata": {},
   "source": [
    "#### in-degree"
   ]
  },
  {
   "cell_type": "code",
   "execution_count": 72,
   "metadata": {},
   "outputs": [
    {
     "name": "stdout",
     "output_type": "stream",
     "text": [
      "0 48.0\n",
      "1 81.0\n",
      "2 21.0\n",
      "3 10.0\n",
      "4 8.0\n",
      "5 1.0\n",
      "6 2.0\n"
     ]
    },
    {
     "data": {
      "image/png": "[encoded data removed]",
      "text/plain": [
       "<Figure size 432x288 with 1 Axes>"
      ]
     },
     "metadata": {
      "needs_background": "light"
     },
     "output_type": "display_data"
    }
   ],
   "source": [
    "indegrees = [G_dir.in_degree(n) for n in G_dir.nodes()]\n",
    "indegree_dist = np.zeros(max(indegrees)+1)\n",
    "for i in range(max(indegrees)+1):\n",
    "    indegree_dist[i] = np.sum(np.array(indegrees) == i)\n",
    "    print(i,indegree_dist[i])\n",
    "plt.scatter(np.arange(max(indegrees)+1), indegree_dist)\n",
    "plt.show()"
   ]
  },
  {
   "cell_type": "code",
   "execution_count": 73,
   "metadata": {},
   "outputs": [],
   "source": [
    "# calculate for everything without 0 (artifact because of limited data)"
   ]
  },
  {
   "cell_type": "code",
   "execution_count": 74,
   "metadata": {},
   "outputs": [
    {
     "data": {
      "text/plain": [
       "array([48., 81., 21., 10.,  8.,  1.,  2.])"
      ]
     },
     "execution_count": 74,
     "metadata": {},
     "output_type": "execute_result"
    }
   ],
   "source": [
    "indegree_dist"
   ]
  },
  {
   "cell_type": "code",
   "execution_count": 75,
   "metadata": {},
   "outputs": [
    {
     "name": "stdout",
     "output_type": "stream",
     "text": [
      "[1 2 3 4 5 6]\n"
     ]
    }
   ],
   "source": [
    "x = np.arange(1,max(indegrees)+1)\n",
    "y = indegree_dist[1:]\n",
    "\n",
    "Logical = (y!= 0) # else the linear regression has to deal with - infinity\n",
    "print(x[Logical])\n",
    "\n",
    "regIN = LinearRegression().fit(np.log(x[Logical]).reshape(-1, 1),\n",
    "                               np.log(y[Logical]).reshape(-1, 1))\n"
   ]
  },
  {
   "cell_type": "code",
   "execution_count": 76,
   "metadata": {},
   "outputs": [
    {
     "data": {
      "image/png": "[encoded data removed]",
      "text/plain": [
       "<Figure size 288x576 with 1 Axes>"
      ]
     },
     "metadata": {
      "needs_background": "light"
     },
     "output_type": "display_data"
    }
   ],
   "source": [
    "plt.figure(figsize=(4,8))\n",
    "plt.xscale('log')\n",
    "plt.yscale('log')\n",
    "plt.scatter(x, y)\n",
    "plt.ylim(0.99, 1.5*max(y))\n",
    "xrange = np.arange(1.0, 12,0.1)\n",
    "plt.plot(xrange,np.exp(regIN.predict(np.log(xrange.reshape(-1, 1)))), \"red\" )\n",
    "#plt.plot(np.exp(np.arange(0,3,0.01)), \n",
    " #       np.exp(reg.predict(np.arange(0,3,0.01).reshape(-1, 1))), color=\"red\")\n",
    "\n",
    "ax = plt.gca()\n",
    "ax.xaxis.set_major_formatter(ScalarFormatter())\n",
    "plt.xlabel(\"k - In-Degree of Nodes\", fontsize = 16)\n",
    "plt.ylabel(\"Number of Nodes\", fontsize = 16)\n",
    "plt.xticks(fontsize=14, rotation=0)\n",
    "plt.yticks(fontsize=14, rotation=0)\n",
    "plt.savefig(year+\"_InNodeDistrPlot\",bbox_inches='tight')\n",
    "\n",
    "plt.show()"
   ]
  },
  {
   "cell_type": "code",
   "execution_count": 77,
   "metadata": {},
   "outputs": [
    {
     "data": {
      "text/plain": [
       "array([[-2.25812047]])"
      ]
     },
     "execution_count": 77,
     "metadata": {},
     "output_type": "execute_result"
    }
   ],
   "source": [
    "regIN.coef_"
   ]
  },
  {
   "cell_type": "code",
   "execution_count": 78,
   "metadata": {},
   "outputs": [
    {
     "name": "stdout",
     "output_type": "stream",
     "text": [
      "[4.39444915 3.04452244 2.30258509 2.07944154 0.         0.69314718] [0.         0.69314718 1.09861229 1.38629436 1.60943791 1.79175947]\n"
     ]
    }
   ],
   "source": [
    "print(np.log(y[Logical]), \n",
    "               np.log(x[Logical]))"
   ]
  },
  {
   "cell_type": "code",
   "execution_count": 79,
   "metadata": {},
   "outputs": [
    {
     "name": "stdout",
     "output_type": "stream",
     "text": [
      "0.3979995349119091\n",
      "0.8894740660525395\n"
     ]
    }
   ],
   "source": [
    "\n",
    "X = np.log(x[Logical]).reshape(-1,1)\n",
    "X =  sm.add_constant(X)\n",
    "model = sm.OLS(np.log(y[Logical]), X)\n",
    "resultIN = model.fit()\n",
    "print(resultIN.bse[1])\n",
    "print(resultIN.rsquared)\n",
    "\n"
   ]
  },
  {
   "cell_type": "markdown",
   "metadata": {},
   "source": [
    "#### Out-Degree"
   ]
  },
  {
   "cell_type": "code",
   "execution_count": 80,
   "metadata": {},
   "outputs": [
    {
     "name": "stdout",
     "output_type": "stream",
     "text": [
      "0 60.0\n",
      "1 65.0\n",
      "2 23.0\n",
      "3 12.0\n",
      "4 7.0\n",
      "5 2.0\n",
      "6 0.0\n",
      "7 1.0\n",
      "8 0.0\n",
      "9 0.0\n",
      "10 1.0\n"
     ]
    }
   ],
   "source": [
    "outdegrees = [G_dir.out_degree(n) for n in G_dir.nodes()]\n",
    "outdegrees_dist = np.zeros(max(outdegrees)+1)\n",
    "for i in range(max(outdegrees)+1):\n",
    "    outdegrees_dist[i] = np.sum(np.array(outdegrees) == i)\n",
    "    print(i,outdegrees_dist[i])\n"
   ]
  },
  {
   "cell_type": "code",
   "execution_count": 81,
   "metadata": {},
   "outputs": [],
   "source": [
    "xout = np.arange(1,max(outdegrees)+1)\n",
    "yout = outdegrees_dist[1:]\n",
    "\n",
    "\n",
    "Logical = (yout!=0)*(xout>4) # else the linear regression has to deal with - infinity\n",
    "                        # also x>4: Tail of distribution\n",
    "\n",
    "regOUT = LinearRegression().fit(np.log(xout[Logical]).reshape(-1, 1),\n",
    "                               np.log(yout[Logical]).reshape(-1, 1))\n"
   ]
  },
  {
   "cell_type": "code",
   "execution_count": 82,
   "metadata": {},
   "outputs": [
    {
     "data": {
      "image/png": "[encoded data removed]",
      "text/plain": [
       "<Figure size 288x576 with 1 Axes>"
      ]
     },
     "metadata": {
      "needs_background": "light"
     },
     "output_type": "display_data"
    }
   ],
   "source": [
    "plt.figure(figsize=(4,8))\n",
    "plt.xscale('log')\n",
    "plt.yscale('log')\n",
    "plt.scatter(xout, yout)\n",
    "plt.ylim(0.99, 1.5*max(yout))\n",
    "#plt.plot(np.exp(np.arange(0,3,0.01)), \n",
    " #       np.exp(reg.predict(np.arange(0,3,0.01).reshape(-1, 1))), color=\"red\")\n",
    "plt.plot(xrange,np.exp(regOUT.predict(np.log(xrange.reshape(-1, 1)))), \"red\" )\n",
    "ax = plt.gca()\n",
    "ax.xaxis.set_major_formatter(ScalarFormatter())\n",
    "plt.xlabel(\"k - Out-Degree of Nodes\", fontsize = 16)\n",
    "plt.ylabel(\"Number of Nodes\", fontsize = 16)\n",
    "plt.xticks(fontsize=14, rotation=0)\n",
    "plt.yticks(fontsize=14, rotation=0)\n",
    "plt.savefig(year+\"_OutNodeDistrPlot\",bbox_inches='tight')\n",
    "plt.show()"
   ]
  },
  {
   "cell_type": "code",
   "execution_count": 83,
   "metadata": {},
   "outputs": [
    {
     "data": {
      "text/plain": [
       "-0.9900042121305287"
      ]
     },
     "execution_count": 83,
     "metadata": {},
     "output_type": "execute_result"
    }
   ],
   "source": [
    "regOUT.coef_[0][0]"
   ]
  },
  {
   "cell_type": "code",
   "execution_count": 84,
   "metadata": {},
   "outputs": [
    {
     "name": "stdout",
     "output_type": "stream",
     "text": [
      "0.5940097140771771\n"
     ]
    },
    {
     "name": "stderr",
     "output_type": "stream",
     "text": [
      "/home/users/t_wand01/.local/lib/python3.7/site-packages/statsmodels/stats/stattools.py:75: ValueWarning: omni_normtest is not valid with less than 8 observations; 3 samples were given.\n",
      "  \"samples were given.\" % int(n), ValueWarning)\n"
     ]
    },
    {
     "data": {
      "text/html": [
       "<table class=\"simpletable\">\n",
       "<caption>OLS Regression Results</caption>\n",
       "<tr>\n",
       "  <th>Dep. Variable:</th>            <td>y</td>        <th>  R-squared:         </th> <td>   0.735</td>\n",
       "</tr>\n",
       "<tr>\n",
       "  <th>Model:</th>                   <td>OLS</td>       <th>  Adj. R-squared:    </th> <td>   0.471</td>\n",
       "</tr>\n",
       "<tr>\n",
       "  <th>Method:</th>             <td>Least Squares</td>  <th>  F-statistic:       </th> <td>   2.778</td>\n",
       "</tr>\n",
       "<tr>\n",
       "  <th>Date:</th>             <td>Tue, 25 Jan 2022</td> <th>  Prob (F-statistic):</th>  <td> 0.344</td> \n",
       "</tr>\n",
       "<tr>\n",
       "  <th>Time:</th>                 <td>16:02:11</td>     <th>  Log-Likelihood:    </th> <td>  1.0925</td>\n",
       "</tr>\n",
       "<tr>\n",
       "  <th>No. Observations:</th>      <td>     3</td>      <th>  AIC:               </th> <td>   1.815</td>\n",
       "</tr>\n",
       "<tr>\n",
       "  <th>Df Residuals:</th>          <td>     1</td>      <th>  BIC:               </th> <td> 0.01219</td>\n",
       "</tr>\n",
       "<tr>\n",
       "  <th>Df Model:</th>              <td>     1</td>      <th>                     </th>     <td> </td>   \n",
       "</tr>\n",
       "<tr>\n",
       "  <th>Covariance Type:</th>      <td>nonrobust</td>    <th>                     </th>     <td> </td>   \n",
       "</tr>\n",
       "</table>\n",
       "<table class=\"simpletable\">\n",
       "<tr>\n",
       "    <td></td>       <th>coef</th>     <th>std err</th>      <th>t</th>      <th>P>|t|</th>  <th>[0.025</th>    <th>0.975]</th>  \n",
       "</tr>\n",
       "<tr>\n",
       "  <th>const</th> <td>    2.1642</td> <td>    1.172</td> <td>    1.847</td> <td> 0.316</td> <td>  -12.728</td> <td>   17.056</td>\n",
       "</tr>\n",
       "<tr>\n",
       "  <th>x1</th>    <td>   -0.9900</td> <td>    0.594</td> <td>   -1.667</td> <td> 0.344</td> <td>   -8.538</td> <td>    6.558</td>\n",
       "</tr>\n",
       "</table>\n",
       "<table class=\"simpletable\">\n",
       "<tr>\n",
       "  <th>Omnibus:</th>       <td>   nan</td> <th>  Durbin-Watson:     </th> <td>   2.999</td>\n",
       "</tr>\n",
       "<tr>\n",
       "  <th>Prob(Omnibus):</th> <td>   nan</td> <th>  Jarque-Bera (JB):  </th> <td>   0.531</td>\n",
       "</tr>\n",
       "<tr>\n",
       "  <th>Skew:</th>          <td>-0.706</td> <th>  Prob(JB):          </th> <td>   0.767</td>\n",
       "</tr>\n",
       "<tr>\n",
       "  <th>Kurtosis:</th>      <td> 1.500</td> <th>  Cond. No.          </th> <td>    17.2</td>\n",
       "</tr>\n",
       "</table><br/><br/>Notes:<br/>[1] Standard Errors assume that the covariance matrix of the errors is correctly specified."
      ],
      "text/plain": [
       "<class 'statsmodels.iolib.summary.Summary'>\n",
       "\"\"\"\n",
       "                            OLS Regression Results                            \n",
       "==============================================================================\n",
       "Dep. Variable:                      y   R-squared:                       0.735\n",
       "Model:                            OLS   Adj. R-squared:                  0.471\n",
       "Method:                 Least Squares   F-statistic:                     2.778\n",
       "Date:                Tue, 25 Jan 2022   Prob (F-statistic):              0.344\n",
       "Time:                        16:02:11   Log-Likelihood:                 1.0925\n",
       "No. Observations:                   3   AIC:                             1.815\n",
       "Df Residuals:                       1   BIC:                           0.01219\n",
       "Df Model:                           1                                         \n",
       "Covariance Type:            nonrobust                                         \n",
       "==============================================================================\n",
       "                 coef    std err          t      P>|t|      [0.025      0.975]\n",
       "------------------------------------------------------------------------------\n",
       "const          2.1642      1.172      1.847      0.316     -12.728      17.056\n",
       "x1            -0.9900      0.594     -1.667      0.344      -8.538       6.558\n",
       "==============================================================================\n",
       "Omnibus:                          nan   Durbin-Watson:                   2.999\n",
       "Prob(Omnibus):                    nan   Jarque-Bera (JB):                0.531\n",
       "Skew:                          -0.706   Prob(JB):                        0.767\n",
       "Kurtosis:                       1.500   Cond. No.                         17.2\n",
       "==============================================================================\n",
       "\n",
       "Notes:\n",
       "[1] Standard Errors assume that the covariance matrix of the errors is correctly specified.\n",
       "\"\"\""
      ]
     },
     "execution_count": 84,
     "metadata": {},
     "output_type": "execute_result"
    }
   ],
   "source": [
    "\n",
    "X = np.log(xout[Logical]).reshape(-1,1)\n",
    "X =  sm.add_constant(X)\n",
    "model = sm.OLS(np.log(yout[Logical]), X)\n",
    "resultOUT= model.fit()\n",
    "print(resultOUT.bse[1])\n",
    "resultOUT.summary()"
   ]
  },
  {
   "cell_type": "markdown",
   "metadata": {},
   "source": [
    "OutSlopes=pd.DataFrame(data = {\"Slope In-Degree\": regIN.coef_[0],\n",
    "                               \"StandError Slope In\": resultIN.bse[1],\n",
    "                               \"R^2 In-Degree\":resultIN.rsquared,\n",
    "                    \"Slope Out-Degree\": regOUT.coef_[0],\n",
    "                              \"StandError Slope Out\": resultOUT.bse[1],\n",
    "                              \"R^2 Out-Degree\":resultOUT.rsquared})\n",
    "OutSlopes\n",
    "#OutSlopes.to_csv(year+\"_slopes.csv\",index=False)\n"
   ]
  },
  {
   "cell_type": "code",
   "execution_count": null,
   "metadata": {},
   "outputs": [],
   "source": []
  },
  {
   "cell_type": "code",
   "execution_count": 85,
   "metadata": {},
   "outputs": [
    {
     "data": {
      "image/png": "[encoded data removed]",
      "text/plain": [
       "<Figure size 547.2x576 with 1 Axes>"
      ]
     },
     "metadata": {
      "needs_background": "light"
     },
     "output_type": "display_data"
    }
   ],
   "source": [
    "#plt.figure(figsize=(6.6,6))\n",
    "plt.figure(figsize=(7.6,8))\n",
    "\n",
    "plt.xscale('log')\n",
    "plt.yscale('log')\n",
    "plt.ylim(0.99, 1.5*max(yout))\n",
    "xrange = np.arange(1.0, 20,0.1)\n",
    "\n",
    "# in\n",
    "plt.scatter(x, y,s = 200, marker=\"+\", color = \"blue\", label=\"In-Degree\")\n",
    "plt.plot(xrange,np.exp(regIN.predict(np.log(xrange.reshape(-1, 1)))), \"blue\" )\n",
    "\n",
    "#out\n",
    "plt.scatter(xout, yout,s = 100, color = \"red\", label=\"Out-Degree\")\n",
    "plt.plot(xrange,np.exp(regOUT.predict(np.log(xrange.reshape(-1, 1)))), \"red\" )\n",
    "\n",
    "\n",
    "ax = plt.gca()\n",
    "ax.xaxis.set_major_formatter(ScalarFormatter())\n",
    "\n",
    "\n",
    "plt.xlabel(\"k - In/Out-Degree of Nodes\", fontsize = 24)\n",
    "plt.ylabel(\"Number of Nodes\", fontsize = 24)\n",
    "plt.xticks(fontsize=20, rotation=0)\n",
    "plt.yticks(fontsize=20, rotation=0)\n",
    "plt.legend(fontsize = 20)\n",
    "plt.savefig(year+\"_DistributionsDegrees\", dpi=1200,bbox_inches='tight')\n",
    "plt.show()"
   ]
  },
  {
   "cell_type": "code",
   "execution_count": null,
   "metadata": {},
   "outputs": [],
   "source": []
  },
  {
   "cell_type": "code",
   "execution_count": null,
   "metadata": {},
   "outputs": [],
   "source": []
  },
  {
   "cell_type": "code",
   "execution_count": null,
   "metadata": {},
   "outputs": [],
   "source": []
  },
  {
   "cell_type": "markdown",
   "metadata": {},
   "source": [
    "### Clustering"
   ]
  },
  {
   "cell_type": "code",
   "execution_count": 86,
   "metadata": {},
   "outputs": [],
   "source": [
    "G_dir = nx.from_pandas_edgelist(DF, \n",
    "                            source = \"club_involved_name\",\n",
    "                            target = \"club_name\",\n",
    "                            edge_attr=\"fee_cleaned\",\n",
    "                            create_using=networkx.DiGraph # or Graph, DiGraph, MultiGraph, MultiDiGraph\n",
    "                           )"
   ]
  },
  {
   "cell_type": "code",
   "execution_count": 87,
   "metadata": {},
   "outputs": [
    {
     "data": {
      "text/plain": [
       "0.7920792079207921"
      ]
     },
     "execution_count": 87,
     "metadata": {},
     "output_type": "execute_result"
    }
   ],
   "source": [
    "networkx.algorithms.hierarchy.flow_hierarchy(G_dir)"
   ]
  },
  {
   "cell_type": "code",
   "execution_count": 88,
   "metadata": {},
   "outputs": [
    {
     "name": "stdout",
     "output_type": "stream",
     "text": [
      "0.005404528231257977\n"
     ]
    }
   ],
   "source": [
    "# Regular Clustering\n",
    "\n",
    "Clust = networkx.algorithms.cluster.clustering(G_dir)\n",
    "BDN_C = np.mean(list(Clust.values()))\n",
    "print(BDN_C)"
   ]
  },
  {
   "cell_type": "code",
   "execution_count": 89,
   "metadata": {},
   "outputs": [],
   "source": [
    "WeightClust = networkx.algorithms.cluster.clustering(G_dir, weight = \"fee_cleaned\")"
   ]
  },
  {
   "cell_type": "code",
   "execution_count": 90,
   "metadata": {},
   "outputs": [
    {
     "name": "stdout",
     "output_type": "stream",
     "text": [
      "0.0005641221941457668\n"
     ]
    }
   ],
   "source": [
    "# Weighted Clustering\n",
    "# https://journals.aps.org/pre/abstract/10.1103/PhysRevE.76.026107\n",
    "\n",
    "WDN_C = np.mean(list(WeightClust.values()))  ## ?\n",
    "print(WDN_C)"
   ]
  },
  {
   "cell_type": "code",
   "execution_count": 91,
   "metadata": {},
   "outputs": [
    {
     "name": "stdout",
     "output_type": "stream",
     "text": [
      "0.013897488820089439\n"
     ]
    }
   ],
   "source": [
    "NumberNodes = len(list(G_dir.nodes))\n",
    "NumberEdges = len(list(G_dir.edges))\n",
    "\n",
    "p = 2*NumberEdges / (NumberNodes*(NumberNodes-1)) # p. 19 in Large Scale Structures....\n",
    "print(p)"
   ]
  },
  {
   "cell_type": "markdown",
   "metadata": {},
   "source": [
    "Kind of like Eq. (11) in https://journals.aps.org/pre/abstract/10.1103/PhysRevE.76.026107\n",
    "it holds that Clustering_WDN < Clustering_BDN ~ p_random"
   ]
  },
  {
   "cell_type": "markdown",
   "metadata": {},
   "source": [
    "### Calculate Node Strength Distribution"
   ]
  },
  {
   "cell_type": "code",
   "execution_count": 92,
   "metadata": {},
   "outputs": [
    {
     "name": "stdout",
     "output_type": "stream",
     "text": [
      "171\n",
      "171\n",
      "8\n"
     ]
    }
   ],
   "source": [
    "l=0\n",
    "for n in G.nodes():\n",
    "    l = l+1\n",
    "print(l)\n",
    "print(len(G.nodes()))\n",
    "print(int(len(G.nodes())/20))"
   ]
  },
  {
   "cell_type": "code",
   "execution_count": 93,
   "metadata": {},
   "outputs": [
    {
     "name": "stdout",
     "output_type": "stream",
     "text": [
      "0.005 47.035000000000004\n"
     ]
    },
    {
     "data": {
      "image/png": "[encoded data removed]",
      "text/plain": [
       "<Figure size 432x288 with 1 Axes>"
      ]
     },
     "metadata": {
      "needs_background": "light"
     },
     "output_type": "display_data"
    }
   ],
   "source": [
    "# Roughly symmetrical around 1.5?\n",
    "def plot_strength_dist(G):\n",
    "    strengths = [G.degree(n, weight=\"fee_cleaned\") for n in G.nodes()]\n",
    "    plt.hist(np.log(strengths), bins = int(len(G.nodes())/20), log = True)\n",
    "    print(min(strengths), max(strengths))\n",
    "    #plt.savefig(year+\"_LogStrengthDistrib\")\n",
    "    plt.show()\n",
    "plot_strength_dist(G_dir)\n",
    "\n"
   ]
  },
  {
   "cell_type": "code",
   "execution_count": 94,
   "metadata": {},
   "outputs": [
    {
     "name": "stdout",
     "output_type": "stream",
     "text": [
      "-0.03945399437544985 1.7145591235616526 -0.28881707688126934\n"
     ]
    }
   ],
   "source": [
    "strengths = [G.degree(n, weight=\"fee_cleaned\") for n in G.nodes()]\n",
    "log_strengths = np.log(strengths)\n",
    "print(np.mean(log_strengths), np.std(log_strengths), skew(log_strengths))"
   ]
  },
  {
   "cell_type": "markdown",
   "metadata": {},
   "source": [
    "### Disparity for undirected Network"
   ]
  },
  {
   "cell_type": "code",
   "execution_count": 95,
   "metadata": {},
   "outputs": [],
   "source": [
    "A = networkx.linalg.graphmatrix.adjacency_matrix(G_undir, weight = \"fee_cleaned\")"
   ]
  },
  {
   "cell_type": "code",
   "execution_count": 96,
   "metadata": {},
   "outputs": [
    {
     "name": "stdout",
     "output_type": "stream",
     "text": [
      "(171, 171)\n"
     ]
    }
   ],
   "source": [
    "print(A.shape)"
   ]
  },
  {
   "cell_type": "code",
   "execution_count": 97,
   "metadata": {},
   "outputs": [
    {
     "name": "stdout",
     "output_type": "stream",
     "text": [
      "0.0\n"
     ]
    },
    {
     "name": "stderr",
     "output_type": "stream",
     "text": [
      "/home/users/t_wand01/.local/lib/python3.7/site-packages/ipykernel_launcher.py:2: DeprecationWarning: Calling np.sum(generator) is deprecated, and in the future will give a different result. Use np.sum(np.fromiter(generator)) or the python sum builtin instead.\n",
      "  \n"
     ]
    }
   ],
   "source": [
    "## Sanity check: should be 0\n",
    "print(np.sum(A[i,i] for i in range(A.shape[0])))"
   ]
  },
  {
   "cell_type": "code",
   "execution_count": 98,
   "metadata": {},
   "outputs": [
    {
     "name": "stdout",
     "output_type": "stream",
     "text": [
      "                   club_name club_involved_name  fee_cleaned\n",
      "0                 1. FC Köln          Siarka T.        0.270\n",
      "1                 1. FC Köln       A. Aachen II        0.014\n",
      "2                 1. FC Köln         Bröndby IF        0.122\n",
      "3        1.FC Kaiserslautern     1.FC Nuremberg        0.450\n",
      "4        1.FC Kaiserslautern    Stuttg. Kickers        0.648\n",
      "..                       ...                ...          ...\n",
      "197             Wimbledon FC       Brentford FC        0.900\n",
      "198             Wimbledon FC            Chelsea        0.747\n",
      "199  Wolverhampton Wanderers            Norwich        0.340\n",
      "200  Wolverhampton Wanderers           Coventry        0.101\n",
      "201                York City         Stoke City        0.051\n",
      "\n",
      "[202 rows x 3 columns]\n"
     ]
    }
   ],
   "source": [
    "print(DF)"
   ]
  },
  {
   "cell_type": "code",
   "execution_count": 99,
   "metadata": {},
   "outputs": [
    {
     "name": "stdout",
     "output_type": "stream",
     "text": [
      "  (0, 1)\t0.27\n",
      "  (0, 2)\t0.014\n",
      "  (0, 3)\t0.122\n",
      "  (1, 0)\t0.27\n",
      "  (2, 0)\t0.014\n",
      "  (3, 0)\t0.122\n",
      "  (3, 25)\t1.44\n",
      "  (4, 5)\t0.45\n",
      "  (4, 6)\t0.648\n",
      "  (5, 4)\t0.45\n",
      "  (5, 7)\t0.675\n",
      "  (5, 8)\t0.54\n",
      "  (5, 23)\t0.315\n",
      "  (5, 24)\t0.315\n",
      "  (5, 112)\t0.115\n",
      "  (5, 120)\t1.13\n",
      "  (5, 165)\t0.158\n",
      "  (6, 4)\t0.648\n",
      "  (7, 5)\t0.675\n",
      "  (8, 5)\t0.54\n",
      "  (9, 10)\t0.135\n",
      "  (10, 9)\t0.135\n",
      "  (10, 119)\t0.585\n",
      "  (10, 153)\t0.9\n",
      "  (10, 154)\t0.135\n",
      "  :\t:\n",
      "  (155, 137)\t1.35\n",
      "  (156, 54)\t0.008\n",
      "  (157, 93)\t0.15\n",
      "  (158, 22)\t0.405\n",
      "  (158, 159)\t0.005\n",
      "  (159, 158)\t0.005\n",
      "  (160, 144)\t0.131\n",
      "  (160, 161)\t0.029\n",
      "  (161, 49)\t0.113\n",
      "  (161, 51)\t0.081\n",
      "  (161, 67)\t0.078\n",
      "  (161, 160)\t0.029\n",
      "  (162, 103)\t0.405\n",
      "  (163, 22)\t0.491\n",
      "  (164, 14)\t0.135\n",
      "  (165, 5)\t0.158\n",
      "  (165, 153)\t1.13\n",
      "  (166, 153)\t1.35\n",
      "  (167, 153)\t0.158\n",
      "  (168, 50)\t0.282\n",
      "  (168, 55)\t0.747\n",
      "  (168, 63)\t0.9\n",
      "  (169, 56)\t0.34\n",
      "  (169, 91)\t0.101\n",
      "  (170, 32)\t0.051\n"
     ]
    }
   ],
   "source": [
    "print(A)"
   ]
  },
  {
   "cell_type": "code",
   "execution_count": 100,
   "metadata": {},
   "outputs": [],
   "source": [
    "strengths_undir = [G_undir.degree(n, weight=\"fee_cleaned\") for n in G_undir.nodes()]"
   ]
  },
  {
   "cell_type": "code",
   "execution_count": 101,
   "metadata": {},
   "outputs": [
    {
     "data": {
      "text/plain": [
       "[0.406,\n",
       " 0.27,\n",
       " 0.014,\n",
       " 1.5619999999999998,\n",
       " 1.098,\n",
       " 3.698,\n",
       " 0.648,\n",
       " 0.675,\n",
       " 0.54,\n",
       " 0.135,\n",
       " 1.755,\n",
       " 0.277,\n",
       " 0.034,\n",
       " 6.3,\n",
       " 47.03499999999999,\n",
       " 4.05,\n",
       " 18.990000000000002,\n",
       " 1.35,\n",
       " 22.074,\n",
       " 4.109999999999999,\n",
       " 0.817,\n",
       " 0.013,\n",
       " 3.6040000000000005,\n",
       " 0.315,\n",
       " 0.315,\n",
       " 9.225000000000001,\n",
       " 2.7,\n",
       " 4.343999999999999,\n",
       " 7.545,\n",
       " 0.108,\n",
       " 3.338,\n",
       " 0.7070000000000001,\n",
       " 0.5960000000000001,\n",
       " 3.65,\n",
       " 1.13,\n",
       " 0.6080000000000001,\n",
       " 0.338,\n",
       " 0.27,\n",
       " 18.46,\n",
       " 2.88,\n",
       " 10.0,\n",
       " 2.25,\n",
       " 2.25,\n",
       " 0.328,\n",
       " 1.0090000000000001,\n",
       " 0.36,\n",
       " 0.156,\n",
       " 0.113,\n",
       " 2.483,\n",
       " 2.6649999999999996,\n",
       " 0.45399999999999996,\n",
       " 0.535,\n",
       " 9.339999999999998,\n",
       " 0.99,\n",
       " 12.283000000000001,\n",
       " 8.165999999999999,\n",
       " 2.919,\n",
       " 0.9,\n",
       " 3.174,\n",
       " 0.445,\n",
       " 1.0670000000000002,\n",
       " 26.509999999999998,\n",
       " 0.104,\n",
       " 1.305,\n",
       " 0.09,\n",
       " 2.371,\n",
       " 5.258,\n",
       " 0.411,\n",
       " 0.905,\n",
       " 1.0350000000000001,\n",
       " 0.802,\n",
       " 1.028,\n",
       " 0.327,\n",
       " 0.613,\n",
       " 0.252,\n",
       " 6.0120000000000005,\n",
       " 2.7,\n",
       " 2.7,\n",
       " 2.044,\n",
       " 2.3529999999999998,\n",
       " 0.122,\n",
       " 0.122,\n",
       " 0.085,\n",
       " 6.004000000000001,\n",
       " 0.016,\n",
       " 0.308,\n",
       " 1.01,\n",
       " 0.36,\n",
       " 0.405,\n",
       " 5.14,\n",
       " 1.418,\n",
       " 2.285,\n",
       " 0.27,\n",
       " 5.046,\n",
       " 0.306,\n",
       " 2.07,\n",
       " 1.44,\n",
       " 0.63,\n",
       " 6.299,\n",
       " 3.38,\n",
       " 3.509,\n",
       " 0.338,\n",
       " 0.338,\n",
       " 0.513,\n",
       " 0.108,\n",
       " 1.8,\n",
       " 1.35,\n",
       " 0.45,\n",
       " 6.3,\n",
       " 6.3,\n",
       " 0.307,\n",
       " 0.593,\n",
       " 0.115,\n",
       " 0.327,\n",
       " 7.88,\n",
       " 0.9,\n",
       " 0.266,\n",
       " 0.096,\n",
       " 0.48300000000000004,\n",
       " 0.585,\n",
       " 6.53,\n",
       " 6.08,\n",
       " 17.35,\n",
       " 16.38,\n",
       " 8.78,\n",
       " 2.32,\n",
       " 15.580000000000002,\n",
       " 25.340000000000003,\n",
       " 8.057,\n",
       " 0.63,\n",
       " 2.702,\n",
       " 1.26,\n",
       " 0.203,\n",
       " 2.181,\n",
       " 1.35,\n",
       " 0.042,\n",
       " 8.6,\n",
       " 17.19,\n",
       " 1.0,\n",
       " 12.149999999999999,\n",
       " 6.91,\n",
       " 1.15,\n",
       " 5.85,\n",
       " 0.158,\n",
       " 0.542,\n",
       " 0.205,\n",
       " 0.205,\n",
       " 0.63,\n",
       " 0.18,\n",
       " 0.342,\n",
       " 3.15,\n",
       " 0.063,\n",
       " 0.585,\n",
       " 4.123,\n",
       " 0.135,\n",
       " 2.88,\n",
       " 0.008,\n",
       " 0.15,\n",
       " 0.41000000000000003,\n",
       " 0.005,\n",
       " 0.16,\n",
       " 0.301,\n",
       " 0.405,\n",
       " 0.491,\n",
       " 0.135,\n",
       " 1.2879999999999998,\n",
       " 1.35,\n",
       " 0.158,\n",
       " 1.9289999999999998,\n",
       " 0.44100000000000006,\n",
       " 0.051]"
      ]
     },
     "execution_count": 101,
     "metadata": {},
     "output_type": "execute_result"
    }
   ],
   "source": [
    "strengths_undir"
   ]
  },
  {
   "cell_type": "code",
   "execution_count": 102,
   "metadata": {},
   "outputs": [
    {
     "name": "stdout",
     "output_type": "stream",
     "text": [
      "171\n"
     ]
    }
   ],
   "source": [
    "j = 0\n",
    "Y = np.zeros(A.shape[0])\n",
    "for i in G_undir.nodes:\n",
    "    row = (A[j,:]/np.sum(A[j,:]))\n",
    "    row = row.toarray()\n",
    "    Y[j] = np.sum(row**2)\n",
    "    j = j+1\n",
    "    \n",
    "    \n",
    "print(j)"
   ]
  },
  {
   "cell_type": "code",
   "execution_count": 103,
   "metadata": {},
   "outputs": [],
   "source": [
    "degrees_undir = [G_undir.degree(n) for n in G_undir.nodes()]"
   ]
  },
  {
   "cell_type": "code",
   "execution_count": 104,
   "metadata": {},
   "outputs": [],
   "source": [
    "import sklearn\n",
    "from sklearn.linear_model import LinearRegression\n",
    "reg = LinearRegression().fit(np.log(degrees_undir).reshape(-1, 1), np.log(Y).reshape(-1, 1))"
   ]
  },
  {
   "cell_type": "code",
   "execution_count": 105,
   "metadata": {},
   "outputs": [
    {
     "name": "stdout",
     "output_type": "stream",
     "text": [
      "[-0.7328621]\n"
     ]
    }
   ],
   "source": [
    "print(reg.coef_[0]) # reasonably close to -1?\n"
   ]
  },
  {
   "cell_type": "code",
   "execution_count": 106,
   "metadata": {},
   "outputs": [
    {
     "data": {
      "image/png": "[encoded data removed]",
      "text/plain": [
       "<Figure size 547.2x576 with 1 Axes>"
      ]
     },
     "metadata": {
      "needs_background": "light"
     },
     "output_type": "display_data"
    }
   ],
   "source": [
    "\n",
    "\n",
    "x = degrees_undir\n",
    "y = Y\n",
    "plt.figure(figsize=(7.6,8))\n",
    "plt.scatter(x, y)\n",
    "plt.xscale('log')\n",
    "plt.yscale('log')\n",
    "\n",
    "plt.plot(np.exp(np.arange(0,3,0.01)), \n",
    "        np.exp(reg.predict(np.arange(0,3,0.01).reshape(-1, 1))), color=\"red\")\n",
    "\n",
    "ax = plt.gca()\n",
    "ax.xaxis.set_major_formatter(ScalarFormatter())\n",
    "plt.xlabel(\"log(k) - Number of Neighbours\",fontsize=24)\n",
    "plt.ylabel(\"log(Y) - Disparity\",fontsize=24)\n",
    "plt.xticks(fontsize=20, rotation=0)\n",
    "plt.yticks(fontsize=20, rotation=0)\n",
    "plt.savefig(year+\"_DisparityPlot_new\",dpi = 1200,bbox_inches='tight')\n",
    "\n",
    "plt.show()\n"
   ]
  },
  {
   "cell_type": "code",
   "execution_count": 107,
   "metadata": {},
   "outputs": [
    {
     "name": "stdout",
     "output_type": "stream",
     "text": [
      "0.014800631869855781\n",
      "0.9355157297771574\n"
     ]
    },
    {
     "data": {
      "text/html": [
       "<table class=\"simpletable\">\n",
       "<caption>OLS Regression Results</caption>\n",
       "<tr>\n",
       "  <th>Dep. Variable:</th>            <td>y</td>        <th>  R-squared:         </th> <td>   0.936</td> \n",
       "</tr>\n",
       "<tr>\n",
       "  <th>Model:</th>                   <td>OLS</td>       <th>  Adj. R-squared:    </th> <td>   0.935</td> \n",
       "</tr>\n",
       "<tr>\n",
       "  <th>Method:</th>             <td>Least Squares</td>  <th>  F-statistic:       </th> <td>   2452.</td> \n",
       "</tr>\n",
       "<tr>\n",
       "  <th>Date:</th>             <td>Tue, 25 Jan 2022</td> <th>  Prob (F-statistic):</th> <td>1.59e-102</td>\n",
       "</tr>\n",
       "<tr>\n",
       "  <th>Time:</th>                 <td>16:02:21</td>     <th>  Log-Likelihood:    </th> <td>  106.03</td> \n",
       "</tr>\n",
       "<tr>\n",
       "  <th>No. Observations:</th>      <td>   171</td>      <th>  AIC:               </th> <td>  -208.1</td> \n",
       "</tr>\n",
       "<tr>\n",
       "  <th>Df Residuals:</th>          <td>   169</td>      <th>  BIC:               </th> <td>  -201.8</td> \n",
       "</tr>\n",
       "<tr>\n",
       "  <th>Df Model:</th>              <td>     1</td>      <th>                     </th>     <td> </td>    \n",
       "</tr>\n",
       "<tr>\n",
       "  <th>Covariance Type:</th>      <td>nonrobust</td>    <th>                     </th>     <td> </td>    \n",
       "</tr>\n",
       "</table>\n",
       "<table class=\"simpletable\">\n",
       "<tr>\n",
       "    <td></td>       <th>coef</th>     <th>std err</th>      <th>t</th>      <th>P>|t|</th>  <th>[0.025</th>    <th>0.975]</th>  \n",
       "</tr>\n",
       "<tr>\n",
       "  <th>const</th> <td>    0.0083</td> <td>    0.013</td> <td>    0.638</td> <td> 0.525</td> <td>   -0.017</td> <td>    0.034</td>\n",
       "</tr>\n",
       "<tr>\n",
       "  <th>x1</th>    <td>   -0.7329</td> <td>    0.015</td> <td>  -49.516</td> <td> 0.000</td> <td>   -0.762</td> <td>   -0.704</td>\n",
       "</tr>\n",
       "</table>\n",
       "<table class=\"simpletable\">\n",
       "<tr>\n",
       "  <th>Omnibus:</th>       <td>83.631</td> <th>  Durbin-Watson:     </th> <td>   2.113</td> \n",
       "</tr>\n",
       "<tr>\n",
       "  <th>Prob(Omnibus):</th> <td> 0.000</td> <th>  Jarque-Bera (JB):  </th> <td> 469.144</td> \n",
       "</tr>\n",
       "<tr>\n",
       "  <th>Skew:</th>          <td> 1.741</td> <th>  Prob(JB):          </th> <td>1.34e-102</td>\n",
       "</tr>\n",
       "<tr>\n",
       "  <th>Kurtosis:</th>      <td>10.329</td> <th>  Cond. No.          </th> <td>    2.16</td> \n",
       "</tr>\n",
       "</table><br/><br/>Notes:<br/>[1] Standard Errors assume that the covariance matrix of the errors is correctly specified."
      ],
      "text/plain": [
       "<class 'statsmodels.iolib.summary.Summary'>\n",
       "\"\"\"\n",
       "                            OLS Regression Results                            \n",
       "==============================================================================\n",
       "Dep. Variable:                      y   R-squared:                       0.936\n",
       "Model:                            OLS   Adj. R-squared:                  0.935\n",
       "Method:                 Least Squares   F-statistic:                     2452.\n",
       "Date:                Tue, 25 Jan 2022   Prob (F-statistic):          1.59e-102\n",
       "Time:                        16:02:21   Log-Likelihood:                 106.03\n",
       "No. Observations:                 171   AIC:                            -208.1\n",
       "Df Residuals:                     169   BIC:                            -201.8\n",
       "Df Model:                           1                                         \n",
       "Covariance Type:            nonrobust                                         \n",
       "==============================================================================\n",
       "                 coef    std err          t      P>|t|      [0.025      0.975]\n",
       "------------------------------------------------------------------------------\n",
       "const          0.0083      0.013      0.638      0.525      -0.017       0.034\n",
       "x1            -0.7329      0.015    -49.516      0.000      -0.762      -0.704\n",
       "==============================================================================\n",
       "Omnibus:                       83.631   Durbin-Watson:                   2.113\n",
       "Prob(Omnibus):                  0.000   Jarque-Bera (JB):              469.144\n",
       "Skew:                           1.741   Prob(JB):                    1.34e-102\n",
       "Kurtosis:                      10.329   Cond. No.                         2.16\n",
       "==============================================================================\n",
       "\n",
       "Notes:\n",
       "[1] Standard Errors assume that the covariance matrix of the errors is correctly specified.\n",
       "\"\"\""
      ]
     },
     "execution_count": 107,
     "metadata": {},
     "output_type": "execute_result"
    }
   ],
   "source": [
    "\n",
    "X = np.log(degrees_undir).reshape(-1, 1)\n",
    "X =  sm.add_constant(X)\n",
    "model = sm.OLS(np.log(Y), X)\n",
    "resultDisp= model.fit()\n",
    "print(resultDisp.bse[1])\n",
    "print(resultDisp.rsquared)\n",
    "resultDisp.summary()"
   ]
  },
  {
   "cell_type": "code",
   "execution_count": 108,
   "metadata": {},
   "outputs": [
    {
     "name": "stdout",
     "output_type": "stream",
     "text": [
      "   Slope In-Degree  StandError Slope In  R^2 In-Degree  Slope Out-Degree  \\\n",
      "0         -2.25812                0.398       0.889474         -0.990004   \n",
      "\n",
      "   StandError Slope Out  R^2 Out-Degree  Slope Disparity  \\\n",
      "0               0.59401        0.735289        -0.732862   \n",
      "\n",
      "   StandError Disparity  R^2 Disparity  \n",
      "0              0.014801       0.935516  \n"
     ]
    }
   ],
   "source": [
    "OutSlopes=pd.DataFrame(data = {\"Slope In-Degree\": regIN.coef_[0],\n",
    "                               \"StandError Slope In\": resultIN.bse[1],\n",
    "                               \"R^2 In-Degree\":resultIN.rsquared,\n",
    "                    \"Slope Out-Degree\": regOUT.coef_[0],\n",
    "                              \"StandError Slope Out\": resultOUT.bse[1],\n",
    "                              \"R^2 Out-Degree\":resultOUT.rsquared,\n",
    "                              \"Slope Disparity\": reg.coef_[0],\n",
    "                              \"StandError Disparity\":resultDisp.bse[1] ,\n",
    "                              \"R^2 Disparity\":resultDisp.rsquared})\n",
    "print(OutSlopes)\n",
    "OutSlopes.to_csv(year+\"_slopes.csv\",index=False)"
   ]
  },
  {
   "cell_type": "markdown",
   "metadata": {},
   "source": [
    "## Conclusion\n",
    "Save some important results as an exported txt"
   ]
  },
  {
   "cell_type": "code",
   "execution_count": 109,
   "metadata": {},
   "outputs": [],
   "source": [
    "Out = pd.DataFrame(data={\"Year\":year,\n",
    "                         \"NumberClubs\": NumberNodes,\n",
    "                         \"NumberTransfers\": DF_clean.shape[0],\n",
    "                         \"SmallWorldOmega\": SW,\n",
    "                        \"DisparityExponent\": reg.coef_[0],\n",
    "                         \"BDN_RandomClusteringExpecation\": p,\n",
    "                        \"BDN_Clustering\": BDN_C,\n",
    "                        \"WDN_Clustering\":WDN_C,\n",
    "                        \"MeanLogStrength\":np.mean(log_strengths), \n",
    "                         \"StdLogStrength\":np.std(log_strengths), \n",
    "                         \"SkewnessLogStrength\":skew(log_strengths)})"
   ]
  },
  {
   "cell_type": "code",
   "execution_count": 110,
   "metadata": {},
   "outputs": [],
   "source": [
    "Out.to_csv(year+\"_omega_results.csv\",index=False)"
   ]
  },
  {
   "cell_type": "code",
   "execution_count": 111,
   "metadata": {},
   "outputs": [
    {
     "data": {
      "text/html": [
       "<div>\n",
       "<style scoped>\n",
       "    .dataframe tbody tr th:only-of-type {\n",
       "        vertical-align: middle;\n",
       "    }\n",
       "\n",
       "    .dataframe tbody tr th {\n",
       "        vertical-align: top;\n",
       "    }\n",
       "\n",
       "    .dataframe thead th {\n",
       "        text-align: right;\n",
       "    }\n",
       "</style>\n",
       "<table border=\"1\" class=\"dataframe\">\n",
       "  <thead>\n",
       "    <tr style=\"text-align: right;\">\n",
       "      <th></th>\n",
       "      <th>Year</th>\n",
       "      <th>NumberClubs</th>\n",
       "      <th>NumberTransfers</th>\n",
       "      <th>SmallWorldOmega</th>\n",
       "      <th>DisparityExponent</th>\n",
       "      <th>BDN_RandomClusteringExpecation</th>\n",
       "      <th>BDN_Clustering</th>\n",
       "      <th>WDN_Clustering</th>\n",
       "      <th>MeanLogStrength</th>\n",
       "      <th>StdLogStrength</th>\n",
       "      <th>SkewnessLogStrength</th>\n",
       "    </tr>\n",
       "  </thead>\n",
       "  <tbody>\n",
       "    <tr>\n",
       "      <th>0</th>\n",
       "      <td>1992</td>\n",
       "      <td>171</td>\n",
       "      <td>237</td>\n",
       "      <td>0.58149</td>\n",
       "      <td>-0.732862</td>\n",
       "      <td>0.013897</td>\n",
       "      <td>0.005405</td>\n",
       "      <td>0.000564</td>\n",
       "      <td>-0.039454</td>\n",
       "      <td>1.714559</td>\n",
       "      <td>-0.288817</td>\n",
       "    </tr>\n",
       "  </tbody>\n",
       "</table>\n",
       "</div>"
      ],
      "text/plain": [
       "   Year  NumberClubs  NumberTransfers  SmallWorldOmega  DisparityExponent  \\\n",
       "0  1992          171              237          0.58149          -0.732862   \n",
       "\n",
       "   BDN_RandomClusteringExpecation  BDN_Clustering  WDN_Clustering  \\\n",
       "0                        0.013897        0.005405        0.000564   \n",
       "\n",
       "   MeanLogStrength  StdLogStrength  SkewnessLogStrength  \n",
       "0        -0.039454        1.714559            -0.288817  "
      ]
     },
     "execution_count": 111,
     "metadata": {},
     "output_type": "execute_result"
    }
   ],
   "source": [
    "Out"
   ]
  },
  {
   "cell_type": "code",
   "execution_count": null,
   "metadata": {},
   "outputs": [],
   "source": []
  },
  {
   "cell_type": "code",
   "execution_count": 112,
   "metadata": {},
   "outputs": [
    {
     "data": {
      "text/plain": [
       "'1992'"
      ]
     },
     "execution_count": 112,
     "metadata": {},
     "output_type": "execute_result"
    }
   ],
   "source": [
    "year"
   ]
  },
  {
   "cell_type": "code",
   "execution_count": null,
   "metadata": {},
   "outputs": [],
   "source": []
  }
 ],
 "metadata": {
  "kernelspec": {
   "display_name": "Python 3 (ipykernel)",
   "language": "python",
   "name": "python3"
  },
  "language_info": {
   "codemirror_mode": {
    "name": "ipython",
    "version": 3
   },
   "file_extension": ".py",
   "mimetype": "text/x-python",
   "name": "python",
   "nbconvert_exporter": "python",
   "pygments_lexer": "ipython3",
   "version": "3.7.3"
  }
 },
 "nbformat": 4,
 "nbformat_minor": 4
}
