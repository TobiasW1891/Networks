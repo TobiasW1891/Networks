{
 "cells": [
  {
   "cell_type": "markdown",
   "metadata": {},
   "source": [
    "import sys\n",
    "!{sys.executable} -m pip install pydot"
   ]
  },
  {
   "cell_type": "code",
   "execution_count": 1,
   "metadata": {},
   "outputs": [],
   "source": [
    "import pandas as pd\n",
    "import scipy\n",
    "from scipy.stats import skew\n",
    "import matplotlib.pyplot as plt\n",
    "import numpy as np\n",
    "import networkx\n",
    "import networkx.convert_matrix as nx\n",
    "import pyvis\n",
    "import graphviz\n",
    "from pyvis.network import Network\n",
    "import pyvis.network as net\n",
    "import pydot\n",
    "import random\n",
    "import time\n",
    "from matplotlib.ticker import ScalarFormatter\n",
    "import sklearn\n",
    "from sklearn.linear_model import LinearRegression\n",
    "import statsmodels.api as sm\n",
    "\n",
    "# https://towardsdatascience.com/social-network-analysis-from-theory-to-applications-with-python-d12e9a34c2c7\n",
    "# https://github.com/ewenme/transfers\n",
    "# https://towardsdatascience.com/visualizing-networks-in-python-d70f4cbeb259\n",
    "# https://github.com/MridulS/pydata-networkx\n",
    "# https://datapane.com/u/khuyentran1401/reports/63OQaRk/pyvis-visualize-interactive-network-graphs-in-python/"
   ]
  },
  {
   "cell_type": "code",
   "execution_count": 2,
   "metadata": {},
   "outputs": [],
   "source": [
    "year = \"2007\""
   ]
  },
  {
   "cell_type": "code",
   "execution_count": 3,
   "metadata": {},
   "outputs": [],
   "source": [
    "BuLi = pd.read_csv(r\"DataFootball/\"+year+\"_german_bundesliga_1.csv\")\n",
    "PL = pd.read_csv(r\"DataFootball/\"+year+\"_english_premier_league.csv\")\n",
    "SA = pd.read_csv(r\"DataFootball/\"+year+\"_italian_serie_a.csv\")\n",
    "PD = pd.read_csv(r\"DataFootball/\"+year+\"_spanish_primera_division.csv\")\n",
    "L1 = pd.read_csv(r\"DataFootball/\"+year+\"_french_ligue_1.csv\")\n",
    "NOS = pd.read_csv(r\"DataFootball/\"+year+\"_portugese_liga_nos.csv\")\n",
    "Ere = pd.read_csv(r\"DataFootball/\"+year+\"_dutch_eredivisie.csv\")\n",
    "EC = pd.read_csv(r\"DataFootball/\"+year+\"_english_championship.csv\")\n",
    "Rus = pd.read_csv(r\"DataFootball/\"+year+\"_russian_premier_liga.csv\")"
   ]
  },
  {
   "cell_type": "code",
   "execution_count": 4,
   "metadata": {},
   "outputs": [],
   "source": [
    "DF = pd.concat([BuLi, PL, SA,\n",
    "                  PD, L1, NOS, \n",
    "                  Ere, EC, Rus],ignore_index=True)"
   ]
  },
  {
   "cell_type": "code",
   "execution_count": 5,
   "metadata": {},
   "outputs": [
    {
     "data": {
      "text/plain": [
       "(6993, 12)"
      ]
     },
     "execution_count": 5,
     "metadata": {},
     "output_type": "execute_result"
    }
   ],
   "source": [
    "DF.shape"
   ]
  },
  {
   "cell_type": "code",
   "execution_count": 6,
   "metadata": {},
   "outputs": [
    {
     "data": {
      "text/html": [
       "<div>\n",
       "<style scoped>\n",
       "    .dataframe tbody tr th:only-of-type {\n",
       "        vertical-align: middle;\n",
       "    }\n",
       "\n",
       "    .dataframe tbody tr th {\n",
       "        vertical-align: top;\n",
       "    }\n",
       "\n",
       "    .dataframe thead th {\n",
       "        text-align: right;\n",
       "    }\n",
       "</style>\n",
       "<table border=\"1\" class=\"dataframe\">\n",
       "  <thead>\n",
       "    <tr style=\"text-align: right;\">\n",
       "      <th></th>\n",
       "      <th>club_name</th>\n",
       "      <th>player_name</th>\n",
       "      <th>club_involved_name</th>\n",
       "      <th>transfer_movement</th>\n",
       "      <th>fee_cleaned</th>\n",
       "    </tr>\n",
       "  </thead>\n",
       "  <tbody>\n",
       "    <tr>\n",
       "      <th>0</th>\n",
       "      <td>1.FC Nuremberg</td>\n",
       "      <td>Joshua Kennedy</td>\n",
       "      <td>Karlsruher SC</td>\n",
       "      <td>out</td>\n",
       "      <td>0.405</td>\n",
       "    </tr>\n",
       "    <tr>\n",
       "      <th>1</th>\n",
       "      <td>1.FC Nuremberg</td>\n",
       "      <td>Jaromír Blazek</td>\n",
       "      <td>Sparta Praha</td>\n",
       "      <td>in</td>\n",
       "      <td>0.450</td>\n",
       "    </tr>\n",
       "    <tr>\n",
       "      <th>2</th>\n",
       "      <td>1.FC Nuremberg</td>\n",
       "      <td>Jan Polak</td>\n",
       "      <td>RSC Anderlecht</td>\n",
       "      <td>out</td>\n",
       "      <td>3.150</td>\n",
       "    </tr>\n",
       "    <tr>\n",
       "      <th>3</th>\n",
       "      <td>1.FC Nuremberg</td>\n",
       "      <td>Raphael Schäfer</td>\n",
       "      <td>VfB Stuttgart</td>\n",
       "      <td>out</td>\n",
       "      <td>1.800</td>\n",
       "    </tr>\n",
       "    <tr>\n",
       "      <th>4</th>\n",
       "      <td>1.FC Nuremberg</td>\n",
       "      <td>Thomas Paulus</td>\n",
       "      <td>Erzgebirge Aue</td>\n",
       "      <td>out</td>\n",
       "      <td>0.135</td>\n",
       "    </tr>\n",
       "  </tbody>\n",
       "</table>\n",
       "</div>"
      ],
      "text/plain": [
       "        club_name      player_name club_involved_name transfer_movement  \\\n",
       "0  1.FC Nuremberg   Joshua Kennedy      Karlsruher SC               out   \n",
       "1  1.FC Nuremberg   Jaromír Blazek       Sparta Praha                in   \n",
       "2  1.FC Nuremberg        Jan Polak     RSC Anderlecht               out   \n",
       "3  1.FC Nuremberg  Raphael Schäfer      VfB Stuttgart               out   \n",
       "4  1.FC Nuremberg    Thomas Paulus     Erzgebirge Aue               out   \n",
       "\n",
       "   fee_cleaned  \n",
       "0        0.405  \n",
       "1        0.450  \n",
       "2        3.150  \n",
       "3        1.800  \n",
       "4        0.135  "
      ]
     },
     "execution_count": 6,
     "metadata": {},
     "output_type": "execute_result"
    }
   ],
   "source": [
    "def DelCol(DF):\n",
    "    \n",
    "    DF = DF.loc[DF[\"fee_cleaned\"]>0] # only \"real\" transfers\n",
    "    #del DF[\"player_name\"]\n",
    "    #del DF[\"transfer_movement\"]\n",
    "    del DF[\"age\"]\n",
    "    del DF[\"position\"]\n",
    "    del DF[\"fee\"]\n",
    "    del DF[\"league_name\"]\n",
    "    del DF[\"transfer_period\"]\n",
    "    del DF[\"year\"]\n",
    "    del DF[\"season\"]\n",
    "    return(DF)\n",
    "DF = DelCol(DF)\n",
    "DF.head()\n",
    "DF  = DF.sort_values(by=['club_name'], ascending = True)\n",
    "DF = DF.reset_index()\n",
    "del DF[\"index\"]\n",
    "DF.head()"
   ]
  },
  {
   "cell_type": "code",
   "execution_count": 7,
   "metadata": {},
   "outputs": [],
   "source": [
    "## There is a problem with \"double names\", e.g. Leicester and Leicester City\n",
    "def Change(DF,old,new):\n",
    "    DF.loc[DF[\"club_name\"].isin([old]), [\"club_name\"]] = new\n",
    "    DF.loc[DF[\"club_involved_name\"].isin([old]), [\"club_involved_name\"]] = new\n",
    "    return DF"
   ]
  },
  {
   "cell_type": "code",
   "execution_count": 8,
   "metadata": {},
   "outputs": [],
   "source": [
    "old = [\"Leicester\", \"SC Paderborn\", \"Real Betis\", \"Sassuolo\", \"Liverpool\", \"Watford\", \"Queens Park Rangers\",\n",
    "       \"Brighton & Hove Albion\", \"Manchester United\", \"Inter\", \"UC Sampdoria\", \"Genoa\", \"Juventus FC\", \"Braga\",\n",
    "      \"Zenit S-Pb\", \"Valencia CF\", \"Marseille\", \"Espanyol\", \"Villarreal\", \"Getafe\", \"Toulouse\", \"Cardiff\",\n",
    "      \"Paris Saint-Germain\", \"SL Benfica\", \"R. Strasbourg\", \"Racing Club\", \"Spartak Moscow\", \"Ajax Amsterdam\",\n",
    "      \"Feyenoord Rotterdam\", \"Dijon FCO\", \"F. Düsseldorf\", \"Man City\", \"E. Frankfurt\", \"West Ham United\",\n",
    "      \"Huddersfield Town\", \"Charlton\", \"Nottm Forest\", \"Swansea\", \"SS Lazio\", \"Arsenal FC\", \"Newcastle\",\n",
    "      \"Chelsea FC\", \"Vitesse Arnheim\", \"Heerenveen\", \"Levante\", \"Brentford\", \"Bologna\", \"SV Werder Bremen\",\n",
    "      \"Ipswich\", \"Montpellier\", \"Bolton\", \"Marítimo\", \"Millwall\",\"FC Sochaux-Montbéliard\", \"Blackpool FC\",\n",
    "       \"ES Troyes AC\", \"Middlesbrough FC\", \"Vit. Guimarães\", \"Doncaster\", \"Norwich City\", \"Coventry City\",\n",
    "       \"Roda JC\", \"Rostov\", \"Heerenveen\", \"Bilbao Athletic\", \"Leeds United\", \"Derby\", \n",
    "       \"Dep. La Coruña\", \"G. Bordeaux\", \"Naval\", \"CF Estrela\", \"Twente FC\", \"Willem II\", \n",
    "      \"Stade Rennais FC\", \"Athletic\", \"1.FC K'lautern\", \"Preston\", \"Spurs\", \"Bor. Dortmund\", '1. FC Kaiserslautern',\n",
    "      'Anzhi', 'Bay. Leverkusen', 'Birmingham',  'Blackburn', 'Brescia', \"Bor. M'gladbach\", 'Burnley', 'Krasnodar',\n",
    "      'Loko Moscow','Parma', 'Preston NE','Scunthorpe Utd.','Sheffield Utd.','Sunderland','TSG Hoffenheim',\n",
    "       'Tottenham Hotspur','West Bromwich Albion','Wigan Athletic','Wolves', \"Southampton\"]"
   ]
  },
  {
   "cell_type": "code",
   "execution_count": 9,
   "metadata": {},
   "outputs": [],
   "source": [
    "new = [\"Leicester City\", \"SC Paderborn 07\", \"Real Betis Balompié\", \"US Sassuolo\", \"Liverpool FC\", \"Watford FC\",\n",
    "      \"QPR\", \"Brighton\", \"Man Utd\", \"Inter Milan\", \"Sampdoria\", \"Genoa CFC\", \"Juventus\", \"SC Braga\", \n",
    "       \"Zenit St. Petersburg\", \"Valencia\", \"Olympique Marseille\", \"RCD Espanyol Barcelona\", \"Villarreal CF\", \n",
    "       \"Getafe CF\", \"FC Toulouse\", \"Cardiff City\", \"Paris SG\", \"Benfica\", \"RC Strasbourg Alsace\", \"RC Strasbourg Alsace\",\n",
    "      \"Spartak\", \"Ajax\", \"Feyenoord\", \"Dijon\", \"Fortuna Düsseldorf\", \"Manchester City\",\"Eintracht Frankfurt\", \"West Ham\",\n",
    "       \"Huddersfield\",\"Charlton Athletic\", \"Nottingham Forest\", \"Swansea City\", \"Lazio\", \"Arsenal\", \"Newcastle United\",\n",
    "       \"Chelsea\",\"Vitesse\", \"SC Heerenveen\", \"Levante UD\", \"Brentford FC\", \"Bologna FC 1909\", \"Werder Bremen\",\n",
    "      \"Ipswich Town\", \"Montpellier HSC\", \"Bolton Wanderers\", \"CS Marítimo\", \"Millwall FC\",\"FC Sochaux\", \"Blackpool\",\n",
    "      \"Troyes\", \"Middlesbrough\", \"Vitória Guimarães SC\", \"Doncaster Rovers\", \"Norwich\", \"Coventry\", \n",
    "       \"Roda JC Kerkrade\", \"FK Rostov\", \"SC Heerenveen\", \"Athletic Bilbao\", \"Leeds\", \"Derby County\",\n",
    "      \"Deportivo de La Coruña\", \"FC Girondins Bordeaux\", \"Naval 1º de Maio\", \"CF Estrela Amadora SAD\", \"Twente Enschede FC\",\n",
    "      \"Willem II Tilburg\", \"Stade Rennais\", \"Athletic Bilbao\", \"1. FC Kaiserslautern\", \"Preston North End\", \"Tottenham Hotspurs\",\n",
    "      \"Borussia Dortmund\", '1.FC Kaiserslautern','Anzhi Makhachkala','Bayer 04 Leverkusen','Birmingham City','Blackburn Rovers',\n",
    "      'Brescia Calcio', 'Borussia Mönchengladbach', 'Burnley FC','Kuban Krasnodar','Lokomotiv Moscow','Parma FC','Preston North End',\n",
    "      'Scunthorpe United','Sheffield United','Sunderland AFC','TSG 1899 Hoffenheim','Tottenham Hotspurs','West Brom',\n",
    "      'Wigan','Wolverhampton Wanderers', \"Southampton FC\"]"
   ]
  },
  {
   "cell_type": "code",
   "execution_count": 10,
   "metadata": {},
   "outputs": [],
   "source": [
    "for i in range(len(new)):\n",
    "    DF = Change(DF, old[i], new[i])\n",
    "    BuLi = Change(BuLi,old[i], new[i])\n",
    "    PL = Change(PL,old[i], new[i])\n",
    "    PD = Change(PD,old[i], new[i])\n",
    "    SA = Change(SA,old[i], new[i])\n",
    "    L1 = Change(L1,old[i], new[i])\n",
    "    NOS = Change(NOS, old[i], new[i])\n",
    "    Ere = Change(Ere, old[i], new[i])\n",
    "    EC = Change(EC, old[i], new[i])\n",
    "    Rus = Change(Rus, old[i], new[i])"
   ]
  },
  {
   "cell_type": "code",
   "execution_count": 11,
   "metadata": {},
   "outputs": [
    {
     "data": {
      "text/plain": [
       "{'1.FC Nuremberg',\n",
       " 'AC Milan',\n",
       " 'AC Siena',\n",
       " 'ACF Fiorentina',\n",
       " 'AJ Auxerre',\n",
       " 'AS Livorno',\n",
       " 'AS Monaco',\n",
       " 'AS Nancy-Lorraine',\n",
       " 'AS Roma',\n",
       " 'AS Saint-Étienne',\n",
       " 'AZ Alkmaar',\n",
       " 'Académica Coimbra',\n",
       " 'Ajax',\n",
       " 'Amkar Perm',\n",
       " 'Arminia Bielefeld',\n",
       " 'Arsenal',\n",
       " 'Aston Villa',\n",
       " 'Atalanta BC',\n",
       " 'Athletic Bilbao',\n",
       " 'Atlético Madrid',\n",
       " 'Barnsley FC',\n",
       " 'Bayer 04 Leverkusen',\n",
       " 'Bayern Munich',\n",
       " 'Belenenses SAD',\n",
       " 'Benfica',\n",
       " 'Birmingham City',\n",
       " 'Blackburn Rovers',\n",
       " 'Blackpool',\n",
       " 'Boavista FC',\n",
       " 'Bolton Wanderers',\n",
       " 'Borussia Dortmund',\n",
       " 'Bristol City',\n",
       " 'Burnley FC',\n",
       " 'CA Osasuna',\n",
       " 'CD Nacional',\n",
       " 'CF Estrela Amadora SAD',\n",
       " 'CS Marítimo',\n",
       " 'CSKA Moscow',\n",
       " 'Cagliari Calcio',\n",
       " 'Calcio Catania',\n",
       " 'Cardiff City',\n",
       " 'Charlton Athletic',\n",
       " 'Chelsea',\n",
       " 'Colchester United',\n",
       " 'Coventry',\n",
       " 'Crystal Palace',\n",
       " 'De Graafschap Doetinchem',\n",
       " 'Deportivo de La Coruña',\n",
       " 'Derby County',\n",
       " 'Dinamo Moscow',\n",
       " 'Eintracht Frankfurt',\n",
       " 'Everton FC',\n",
       " 'FC Barcelona',\n",
       " 'FC Empoli',\n",
       " 'FC Energie Cottbus',\n",
       " 'FC Girondins Bordeaux',\n",
       " 'FC Groningen',\n",
       " 'FC Hansa Rostock',\n",
       " 'FC Internazionale',\n",
       " 'FC Lorient',\n",
       " 'FC Metz',\n",
       " 'FC Paços de Ferreira',\n",
       " 'FC Porto',\n",
       " 'FC Schalke 04',\n",
       " 'FC Sochaux',\n",
       " 'FC Toulouse',\n",
       " 'FC Utrecht',\n",
       " 'FK Khimki',\n",
       " 'FK Moskau',\n",
       " 'Feyenoord',\n",
       " 'Fulham FC',\n",
       " 'Genoa CFC',\n",
       " 'Getafe CF',\n",
       " 'Hamburger SV',\n",
       " 'Hannover 96',\n",
       " 'Heracles Almelo',\n",
       " 'Hertha BSC',\n",
       " 'Hull City',\n",
       " 'Ipswich Town',\n",
       " 'Juventus',\n",
       " 'Karlsruher SC',\n",
       " 'Krylya Sovetov Samara',\n",
       " 'LOSC Lille',\n",
       " 'Lazio',\n",
       " 'Le Mans Union Club 72',\n",
       " 'Leicester City',\n",
       " 'Levante UD',\n",
       " 'Liverpool FC',\n",
       " 'Lokomotiv Moscow',\n",
       " 'Luch Vladivostok',\n",
       " 'MSV Duisburg',\n",
       " 'Man Utd',\n",
       " 'Manchester City',\n",
       " 'Middlesbrough',\n",
       " 'NAC Breda',\n",
       " 'NEC Nijmegen',\n",
       " 'Naval 1º de Maio',\n",
       " 'Newcastle United',\n",
       " 'Norwich',\n",
       " 'OGC Nice',\n",
       " 'Olympique Lyon',\n",
       " 'Olympique Marseille',\n",
       " 'PSV Eindhoven',\n",
       " 'Paris SG',\n",
       " 'Parma FC',\n",
       " 'Plymouth Argyle',\n",
       " 'Portsmouth FC',\n",
       " 'Preston North End',\n",
       " 'QPR',\n",
       " 'RC Lens',\n",
       " 'RC Strasbourg Alsace',\n",
       " 'RCD Espanyol Barcelona',\n",
       " 'RCD Mallorca',\n",
       " 'Racing Santander',\n",
       " 'Reading FC',\n",
       " 'Real Betis Balompié',\n",
       " 'Real Madrid',\n",
       " 'Real Murcia CF',\n",
       " 'Real Valladolid CF',\n",
       " 'Real Zaragoza',\n",
       " 'Recreativo Huelva',\n",
       " 'Reggina Calcio',\n",
       " 'Roda JC Kerkrade',\n",
       " 'Rubin Kazan',\n",
       " 'SC Braga',\n",
       " 'SC Heerenveen',\n",
       " 'SM Caen',\n",
       " 'SSC Napoli',\n",
       " 'Sampdoria',\n",
       " 'Saturn Ramenskoe',\n",
       " 'Scunthorpe United',\n",
       " 'Sevilla FC',\n",
       " 'Sheffield United',\n",
       " 'Sheffield Wednesday',\n",
       " 'Shinnik Yaroslavl',\n",
       " 'Southampton FC',\n",
       " 'Sparta Rotterdam',\n",
       " 'Spartak',\n",
       " 'Spartak Nalchik',\n",
       " 'Sporting CP',\n",
       " 'Stade Rennais',\n",
       " 'Stoke City',\n",
       " 'Sunderland AFC',\n",
       " 'Terek Grozny',\n",
       " 'Tom Tomsk',\n",
       " 'Torino FC',\n",
       " 'Tottenham Hotspurs',\n",
       " 'Twente Enschede FC',\n",
       " 'UD Almería',\n",
       " 'US Palermo',\n",
       " 'Udinese Calcio',\n",
       " 'União de Leiria',\n",
       " 'VVV-Venlo',\n",
       " 'Valencia',\n",
       " 'Valenciennes FC',\n",
       " 'VfB Stuttgart',\n",
       " 'VfL Bochum',\n",
       " 'VfL Wolfsburg',\n",
       " 'Villarreal CF',\n",
       " 'Vitesse Arnhem',\n",
       " 'Vitória Guimarães SC',\n",
       " 'Vitória Setúbal FC',\n",
       " 'Watford FC',\n",
       " 'Werder Bremen',\n",
       " 'West Brom',\n",
       " 'West Ham',\n",
       " 'Wigan',\n",
       " 'Willem II Tilburg',\n",
       " 'Wolverhampton Wanderers',\n",
       " 'Zenit St. Petersburg'}"
      ]
     },
     "execution_count": 11,
     "metadata": {},
     "output_type": "execute_result"
    }
   ],
   "source": [
    "set(DF[\"club_name\"])"
   ]
  },
  {
   "cell_type": "code",
   "execution_count": 12,
   "metadata": {},
   "outputs": [],
   "source": [
    "# Now that all club names are brought \"in line\", save the names of the clubse whose full leagues are in the data \n",
    "# that means the clubs currently in \"club_name\" column\n",
    "\n",
    "Names = set(DF[\"club_name\"])\n",
    "Names = list(Names)\n",
    "\n",
    "# If any of these clubs appears on the club_involved_name-column, then the transfer is included twice in our data\n",
    "# so we delete all \"out\"-directions of the double transfers"
   ]
  },
  {
   "cell_type": "code",
   "execution_count": 13,
   "metadata": {},
   "outputs": [
    {
     "data": {
      "text/plain": [
       "170"
      ]
     },
     "execution_count": 13,
     "metadata": {},
     "output_type": "execute_result"
    }
   ],
   "source": [
    "len(Names)"
   ]
  },
  {
   "cell_type": "code",
   "execution_count": 14,
   "metadata": {},
   "outputs": [],
   "source": [
    "DF_clean = pd.DataFrame(columns = DF.columns)\n",
    "\n",
    "for i in range(DF.shape[0]):\n",
    "    if not(DF[\"club_involved_name\"].iloc[i] in Names and DF[\"transfer_movement\"].iloc[i]==\"out\"):\n",
    "        DF_clean= DF_clean.append(DF.iloc[i])\n",
    "        \n",
    "DF = DF_clean\n",
    "DF = DF.reset_index()\n",
    "del DF[\"index\"]\n",
    "del DF[\"player_name\"]"
   ]
  },
  {
   "cell_type": "code",
   "execution_count": 15,
   "metadata": {},
   "outputs": [
    {
     "name": "stdout",
     "output_type": "stream",
     "text": [
      "Empty DataFrame\n",
      "Columns: [club_name, player_name, club_involved_name, transfer_movement, fee_cleaned]\n",
      "Index: []\n"
     ]
    }
   ],
   "source": [
    "print(DF_clean.loc[DF_clean[\"player_name\"]== \"Javi Martínez\"]) # Not counted twice!!"
   ]
  },
  {
   "cell_type": "markdown",
   "metadata": {},
   "source": [
    "## Clean the Data"
   ]
  },
  {
   "cell_type": "code",
   "execution_count": 16,
   "metadata": {},
   "outputs": [
    {
     "name": "stderr",
     "output_type": "stream",
     "text": [
      "/home/users/t_wand01/.local/lib/python3.7/site-packages/pandas/core/indexing.py:1732: SettingWithCopyWarning: \n",
      "A value is trying to be set on a copy of a slice from a DataFrame\n",
      "\n",
      "See the caveats in the documentation: https://pandas.pydata.org/pandas-docs/stable/user_guide/indexing.html#returning-a-view-versus-a-copy\n",
      "  self._setitem_single_block(indexer, value, name)\n"
     ]
    }
   ],
   "source": [
    "# encode \"direction\" of transfers: \"club_name\" is the buyer, \"club_involved_name\" the seller\n",
    "for i in range(DF.shape[0]):\n",
    "    if DF[\"transfer_movement\"].iloc[i] == \"out\": # switch positions\n",
    "        source = DF[\"club_name\"].iloc[i]\n",
    "        DF[\"club_name\"].iloc[i] = DF[\"club_involved_name\"].iloc[i]\n",
    "        DF[\"club_involved_name\"].iloc[i] = source\n",
    "\n",
    "del DF[\"transfer_movement\"]"
   ]
  },
  {
   "cell_type": "code",
   "execution_count": 17,
   "metadata": {},
   "outputs": [
    {
     "data": {
      "text/html": [
       "<div>\n",
       "<style scoped>\n",
       "    .dataframe tbody tr th:only-of-type {\n",
       "        vertical-align: middle;\n",
       "    }\n",
       "\n",
       "    .dataframe tbody tr th {\n",
       "        vertical-align: top;\n",
       "    }\n",
       "\n",
       "    .dataframe thead th {\n",
       "        text-align: right;\n",
       "    }\n",
       "</style>\n",
       "<table border=\"1\" class=\"dataframe\">\n",
       "  <thead>\n",
       "    <tr style=\"text-align: right;\">\n",
       "      <th></th>\n",
       "      <th>club_name</th>\n",
       "      <th>club_involved_name</th>\n",
       "      <th>fee_cleaned</th>\n",
       "    </tr>\n",
       "  </thead>\n",
       "  <tbody>\n",
       "    <tr>\n",
       "      <th>0</th>\n",
       "      <td>1.FC Nuremberg</td>\n",
       "      <td>Sparta Praha</td>\n",
       "      <td>0.450</td>\n",
       "    </tr>\n",
       "    <tr>\n",
       "      <th>1</th>\n",
       "      <td>RSC Anderlecht</td>\n",
       "      <td>1.FC Nuremberg</td>\n",
       "      <td>3.150</td>\n",
       "    </tr>\n",
       "    <tr>\n",
       "      <th>2</th>\n",
       "      <td>Erzgebirge Aue</td>\n",
       "      <td>1.FC Nuremberg</td>\n",
       "      <td>0.135</td>\n",
       "    </tr>\n",
       "    <tr>\n",
       "      <th>3</th>\n",
       "      <td>OFK Beograd</td>\n",
       "      <td>1.FC Nuremberg</td>\n",
       "      <td>0.090</td>\n",
       "    </tr>\n",
       "    <tr>\n",
       "      <th>4</th>\n",
       "      <td>1.FC Nuremberg</td>\n",
       "      <td>OGC Nice</td>\n",
       "      <td>1.350</td>\n",
       "    </tr>\n",
       "  </tbody>\n",
       "</table>\n",
       "</div>"
      ],
      "text/plain": [
       "        club_name club_involved_name  fee_cleaned\n",
       "0  1.FC Nuremberg       Sparta Praha        0.450\n",
       "1  RSC Anderlecht     1.FC Nuremberg        3.150\n",
       "2  Erzgebirge Aue     1.FC Nuremberg        0.135\n",
       "3     OFK Beograd     1.FC Nuremberg        0.090\n",
       "4  1.FC Nuremberg           OGC Nice        1.350"
      ]
     },
     "execution_count": 17,
     "metadata": {},
     "output_type": "execute_result"
    }
   ],
   "source": [
    "DF.head()"
   ]
  },
  {
   "cell_type": "code",
   "execution_count": 18,
   "metadata": {},
   "outputs": [
    {
     "data": {
      "text/html": [
       "<div>\n",
       "<style scoped>\n",
       "    .dataframe tbody tr th:only-of-type {\n",
       "        vertical-align: middle;\n",
       "    }\n",
       "\n",
       "    .dataframe tbody tr th {\n",
       "        vertical-align: top;\n",
       "    }\n",
       "\n",
       "    .dataframe thead th {\n",
       "        text-align: right;\n",
       "    }\n",
       "</style>\n",
       "<table border=\"1\" class=\"dataframe\">\n",
       "  <thead>\n",
       "    <tr style=\"text-align: right;\">\n",
       "      <th></th>\n",
       "      <th>club_name</th>\n",
       "      <th>club_involved_name</th>\n",
       "      <th>fee_cleaned</th>\n",
       "    </tr>\n",
       "  </thead>\n",
       "  <tbody>\n",
       "    <tr>\n",
       "      <th>0</th>\n",
       "      <td>1. FC Köln</td>\n",
       "      <td>FC Energie Cottbus</td>\n",
       "      <td>0.45</td>\n",
       "    </tr>\n",
       "    <tr>\n",
       "      <th>1</th>\n",
       "      <td>1.FC Nuremberg</td>\n",
       "      <td>Sparta Praha</td>\n",
       "      <td>0.45</td>\n",
       "    </tr>\n",
       "    <tr>\n",
       "      <th>2</th>\n",
       "      <td>1.FC Nuremberg</td>\n",
       "      <td>Feyenoord</td>\n",
       "      <td>2.25</td>\n",
       "    </tr>\n",
       "    <tr>\n",
       "      <th>3</th>\n",
       "      <td>1.FC Nuremberg</td>\n",
       "      <td>Monaco</td>\n",
       "      <td>0.90</td>\n",
       "    </tr>\n",
       "    <tr>\n",
       "      <th>4</th>\n",
       "      <td>1.FC Nuremberg</td>\n",
       "      <td>OGC Nice</td>\n",
       "      <td>1.35</td>\n",
       "    </tr>\n",
       "  </tbody>\n",
       "</table>\n",
       "</div>"
      ],
      "text/plain": [
       "        club_name  club_involved_name  fee_cleaned\n",
       "0      1. FC Köln  FC Energie Cottbus         0.45\n",
       "1  1.FC Nuremberg        Sparta Praha         0.45\n",
       "2  1.FC Nuremberg           Feyenoord         2.25\n",
       "3  1.FC Nuremberg              Monaco         0.90\n",
       "4  1.FC Nuremberg            OGC Nice         1.35"
      ]
     },
     "execution_count": 18,
     "metadata": {},
     "output_type": "execute_result"
    }
   ],
   "source": [
    "# sort alphabetically\n",
    "DF  = DF.sort_values(by=['club_name'], ascending = True)\n",
    "DF = DF.reset_index()\n",
    "del DF[\"index\"]\n",
    "\n",
    "DF.head()"
   ]
  },
  {
   "cell_type": "code",
   "execution_count": 19,
   "metadata": {},
   "outputs": [
    {
     "data": {
      "text/plain": [
       "(1275, 5)"
      ]
     },
     "execution_count": 19,
     "metadata": {},
     "output_type": "execute_result"
    }
   ],
   "source": [
    "DF_clean.shape"
   ]
  },
  {
   "cell_type": "markdown",
   "metadata": {},
   "source": [
    "### Combine multiple transfers between clubs a and b"
   ]
  },
  {
   "cell_type": "code",
   "execution_count": 20,
   "metadata": {},
   "outputs": [],
   "source": [
    "# now as a function\n",
    "        \n",
    "def AddFees(DF): # adds fees of multiple transfers from club a to b\n",
    "    # output\n",
    "    DF_out = pd.DataFrame({'club_name' : [],\n",
    "                         \"club_involved_name\":[],\n",
    "                         \"fee_cleaned\":[]})\n",
    "    \n",
    "    for i in range(DF.shape[0]):\n",
    "        # is this a new match?\n",
    "        if DF_out.loc[(DF_out[\"club_name\"]== DF[\"club_name\"].iloc[i])&  \n",
    "                     DF_out[\"club_involved_name\"].isin([DF[\"club_involved_name\"].iloc[i]])].size ==0:\n",
    "            DF_out = DF_out.append(DF.iloc[i])\n",
    "        else:\n",
    "            # add fee value to already existing value\n",
    "            DF_out[\"fee_cleaned\"].loc[(DF_out[\"club_name\"]== DF[\"club_name\"].iloc[i])&  \n",
    "                     DF_out[\"club_involved_name\"].isin([DF[\"club_involved_name\"].iloc[i]])] += DF[\"fee_cleaned\"].iloc[i]\n",
    "            \n",
    "    return(DF_out)    \n",
    "        "
   ]
  },
  {
   "cell_type": "code",
   "execution_count": 21,
   "metadata": {},
   "outputs": [
    {
     "name": "stderr",
     "output_type": "stream",
     "text": [
      "/home/users/t_wand01/.local/lib/python3.7/site-packages/pandas/core/indexing.py:1732: SettingWithCopyWarning: \n",
      "A value is trying to be set on a copy of a slice from a DataFrame\n",
      "\n",
      "See the caveats in the documentation: https://pandas.pydata.org/pandas-docs/stable/user_guide/indexing.html#returning-a-view-versus-a-copy\n",
      "  self._setitem_single_block(indexer, value, name)\n"
     ]
    }
   ],
   "source": [
    "DF = AddFees(DF)"
   ]
  },
  {
   "cell_type": "code",
   "execution_count": 22,
   "metadata": {},
   "outputs": [
    {
     "data": {
      "text/html": [
       "<div>\n",
       "<style scoped>\n",
       "    .dataframe tbody tr th:only-of-type {\n",
       "        vertical-align: middle;\n",
       "    }\n",
       "\n",
       "    .dataframe tbody tr th {\n",
       "        vertical-align: top;\n",
       "    }\n",
       "\n",
       "    .dataframe thead th {\n",
       "        text-align: right;\n",
       "    }\n",
       "</style>\n",
       "<table border=\"1\" class=\"dataframe\">\n",
       "  <thead>\n",
       "    <tr style=\"text-align: right;\">\n",
       "      <th></th>\n",
       "      <th>club_name</th>\n",
       "      <th>club_involved_name</th>\n",
       "      <th>fee_cleaned</th>\n",
       "    </tr>\n",
       "  </thead>\n",
       "  <tbody>\n",
       "    <tr>\n",
       "      <th>0</th>\n",
       "      <td>1. FC Köln</td>\n",
       "      <td>FC Energie Cottbus</td>\n",
       "      <td>0.45</td>\n",
       "    </tr>\n",
       "    <tr>\n",
       "      <th>1</th>\n",
       "      <td>1.FC Nuremberg</td>\n",
       "      <td>Sparta Praha</td>\n",
       "      <td>0.45</td>\n",
       "    </tr>\n",
       "    <tr>\n",
       "      <th>2</th>\n",
       "      <td>1.FC Nuremberg</td>\n",
       "      <td>Feyenoord</td>\n",
       "      <td>2.25</td>\n",
       "    </tr>\n",
       "    <tr>\n",
       "      <th>3</th>\n",
       "      <td>1.FC Nuremberg</td>\n",
       "      <td>Monaco</td>\n",
       "      <td>0.90</td>\n",
       "    </tr>\n",
       "    <tr>\n",
       "      <th>4</th>\n",
       "      <td>1.FC Nuremberg</td>\n",
       "      <td>OGC Nice</td>\n",
       "      <td>1.35</td>\n",
       "    </tr>\n",
       "    <tr>\n",
       "      <th>...</th>\n",
       "      <td>...</td>\n",
       "      <td>...</td>\n",
       "      <td>...</td>\n",
       "    </tr>\n",
       "    <tr>\n",
       "      <th>1185</th>\n",
       "      <td>Wolverhampton Wanderers</td>\n",
       "      <td>Plymouth</td>\n",
       "      <td>2.03</td>\n",
       "    </tr>\n",
       "    <tr>\n",
       "      <th>1186</th>\n",
       "      <td>Zamalek</td>\n",
       "      <td>Lokomotiv Moscow</td>\n",
       "      <td>1.26</td>\n",
       "    </tr>\n",
       "    <tr>\n",
       "      <th>1187</th>\n",
       "      <td>Zenit St. Petersburg</td>\n",
       "      <td>MSK Zilina</td>\n",
       "      <td>2.88</td>\n",
       "    </tr>\n",
       "    <tr>\n",
       "      <th>1188</th>\n",
       "      <td>Zenit St. Petersburg</td>\n",
       "      <td>KAA Gent</td>\n",
       "      <td>3.60</td>\n",
       "    </tr>\n",
       "    <tr>\n",
       "      <th>1189</th>\n",
       "      <td>Zenit St. Petersburg</td>\n",
       "      <td>Spartak Nalchik</td>\n",
       "      <td>1.80</td>\n",
       "    </tr>\n",
       "  </tbody>\n",
       "</table>\n",
       "<p>1190 rows × 3 columns</p>\n",
       "</div>"
      ],
      "text/plain": [
       "                    club_name  club_involved_name  fee_cleaned\n",
       "0                  1. FC Köln  FC Energie Cottbus         0.45\n",
       "1              1.FC Nuremberg        Sparta Praha         0.45\n",
       "2              1.FC Nuremberg           Feyenoord         2.25\n",
       "3              1.FC Nuremberg              Monaco         0.90\n",
       "4              1.FC Nuremberg            OGC Nice         1.35\n",
       "...                       ...                 ...          ...\n",
       "1185  Wolverhampton Wanderers            Plymouth         2.03\n",
       "1186                  Zamalek    Lokomotiv Moscow         1.26\n",
       "1187     Zenit St. Petersburg          MSK Zilina         2.88\n",
       "1188     Zenit St. Petersburg            KAA Gent         3.60\n",
       "1189     Zenit St. Petersburg     Spartak Nalchik         1.80\n",
       "\n",
       "[1190 rows x 3 columns]"
      ]
     },
     "execution_count": 22,
     "metadata": {},
     "output_type": "execute_result"
    }
   ],
   "source": [
    "DF = DF.reset_index()\n",
    "del DF[\"index\"]\n",
    "DF"
   ]
  },
  {
   "cell_type": "markdown",
   "metadata": {},
   "source": [
    "## 10 x 10 Matrix\n",
    "Just show the transfer streams between the nine leagues (+ outside as tenth column/row)"
   ]
  },
  {
   "cell_type": "code",
   "execution_count": 23,
   "metadata": {},
   "outputs": [],
   "source": [
    "# Teams of individual leagues 19/20\n",
    "BL_teams = list(set(BuLi[\"club_name\"])) # Bundesliga\n",
    "\n",
    "BLList = pd.Series(BL_teams)\n",
    "PLList = pd.Series(list(set(PL[\"club_name\"])))\n",
    "SAList = pd.Series(list(set(SA[\"club_name\"])))\n",
    "PDList = pd.Series(list(set(PD[\"club_name\"])))\n",
    "L1List = pd.Series(list(set(L1[\"club_name\"])))\n",
    "NOSList = pd.Series(list(set(NOS[\"club_name\"])))\n",
    "EreList = pd.Series(list(set(Ere[\"club_name\"])))\n",
    "ECList = pd.Series(list(set(EC[\"club_name\"])))\n",
    "RusList = pd.Series(list(set(Rus[\"club_name\"])))\n",
    "ListNames = list([BLList, PLList, SAList, PDList, L1List, NOSList, EreList, ECList, RusList])"
   ]
  },
  {
   "cell_type": "code",
   "execution_count": 24,
   "metadata": {},
   "outputs": [],
   "source": [
    "def flatten(t): # combine sublists into one list\n",
    "    return [item for sublist in t for item in sublist]"
   ]
  },
  {
   "cell_type": "code",
   "execution_count": 25,
   "metadata": {},
   "outputs": [
    {
     "name": "stdout",
     "output_type": "stream",
     "text": [
      "     club_name club_involved_name  fee_cleaned\n",
      "101    Arsenal            Chelsea        2.610\n",
      "102    Arsenal      Dinamo Zagreb       12.150\n",
      "103    Arsenal         AJ Auxerre        8.100\n",
      "104    Arsenal    Figueirense U17        1.080\n",
      "105    Arsenal     Legia Warszawa        3.920\n",
      "...        ...                ...          ...\n",
      "1172     Wigan      Villarreal CF        1.800\n",
      "1173     Wigan          Sparta R.        0.405\n",
      "1174     Wigan        Helsingborg        0.900\n",
      "1175     Wigan         Watford FC        3.600\n",
      "1176     Wigan            Olimpia        1.170\n",
      "\n",
      "[153 rows x 3 columns]\n",
      "['FC Energie Cottbus', 'MSV Duisburg', 'VfL Bochum', 'Hamburger SV', 'FC Schalke 04', '1.FC Nuremberg', 'FC Hansa Rostock', 'Karlsruher SC', 'Hannover 96', 'Bayer 04 Leverkusen', 'VfL Wolfsburg', 'Hertha BSC', 'Arminia Bielefeld', 'VfB Stuttgart', 'Werder Bremen', 'Bayern Munich', 'Eintracht Frankfurt', 'Borussia Dortmund', 'Birmingham City', 'Everton FC', 'Manchester City', 'Arsenal', 'Derby County', 'Middlesbrough', 'Newcastle United', 'Chelsea', 'Liverpool FC', 'Portsmouth FC', 'Tottenham Hotspurs', 'Fulham FC', 'West Ham', 'Reading FC', 'Aston Villa', 'Sunderland AFC', 'Wigan', 'Blackburn Rovers', 'Bolton Wanderers', 'Man Utd', 'Juventus', 'AC Milan', 'Cagliari Calcio', 'Atalanta BC', 'Sampdoria', 'Lazio', 'Reggina Calcio', 'SSC Napoli', 'Calcio Catania', 'FC Empoli', 'ACF Fiorentina', 'US Palermo', 'Torino FC', 'Parma FC', 'AS Livorno', 'AC Siena', 'AS Roma', 'Udinese Calcio', 'FC Internazionale', 'Genoa CFC', 'Real Betis Balompié', 'Real Zaragoza', 'Deportivo de La Coruña', 'Villarreal CF', 'CA Osasuna', 'Valencia', 'Recreativo Huelva', 'Real Madrid', 'Real Murcia CF', 'Getafe CF', 'Real Valladolid CF', 'RCD Espanyol Barcelona', 'Atlético Madrid', 'Athletic Bilbao', 'RCD Mallorca', 'FC Barcelona', 'Racing Santander', 'Sevilla FC', 'UD Almería', 'Levante UD', 'FC Toulouse', 'Paris SG', 'Stade Rennais', 'RC Strasbourg Alsace', 'AS Nancy-Lorraine', 'FC Girondins Bordeaux', 'RC Lens', 'FC Metz', 'Olympique Lyon', 'Valenciennes FC', 'Olympique Marseille', 'AS Monaco', 'FC Lorient', 'Le Mans Union Club 72', 'AS Saint-Étienne', 'LOSC Lille', 'AJ Auxerre', 'SM Caen', 'FC Sochaux', 'OGC Nice', 'Vitória Setúbal FC', 'FC Porto', 'Benfica', 'CD Nacional', 'União de Leiria', 'Boavista FC', 'Vitória Guimarães SC', 'Académica Coimbra', 'Sporting CP', 'Naval 1º de Maio', 'Leixões SC', 'CF Estrela Amadora SAD', 'SC Braga', 'FC Paços de Ferreira', 'CS Marítimo', 'Belenenses SAD', 'VVV-Venlo', 'Feyenoord', 'PSV Eindhoven', 'SC Heerenveen', 'NEC Nijmegen', 'Sparta Rotterdam', 'Willem II Tilburg', 'De Graafschap Doetinchem', 'Twente Enschede FC', 'NAC Breda', 'Vitesse Arnhem', 'Heracles Almelo', 'Ajax', 'FC Groningen', 'SBV Excelsior Rotterdam', 'FC Utrecht', 'AZ Alkmaar', 'Roda JC Kerkrade', 'Stoke City', 'Cardiff City', 'Norwich', 'Southampton FC', 'Colchester United', 'Crystal Palace', 'Burnley FC', 'Barnsley FC', 'West Brom', 'Hull City', 'Ipswich Town', 'Charlton Athletic', 'QPR', 'Coventry', 'Scunthorpe United', 'Watford FC', 'Preston North End', 'Sheffield Wednesday', 'Blackpool', 'Sheffield United', 'Bristol City', 'Leicester City', 'Wolverhampton Wanderers', 'Plymouth Argyle', 'FK Moskau', 'Krylya Sovetov Samara', 'Saturn Ramenskoe', 'Zenit St. Petersburg', 'Lokomotiv Moscow', 'Rubin Kazan', 'Terek Grozny', 'Spartak Nalchik', 'Luch Vladivostok', 'Dinamo Moscow', 'Amkar Perm', 'Shinnik Yaroslavl', 'CSKA Moscow', 'Spartak', 'FK Khimki', 'Tom Tomsk']\n",
      "            club_name  club_involved_name  fee_cleaned\n",
      "0          1. FC Köln  FC Energie Cottbus        0.450\n",
      "6      1.FSV Mainz 05       VfL Wolfsburg        0.090\n",
      "7      1.FSV Mainz 05  FC Energie Cottbus        0.360\n",
      "8      1.FSV Mainz 05       FC Schalke 04        0.252\n",
      "9         1860 Munich      1.FC Nuremberg        0.135\n",
      "...               ...                 ...          ...\n",
      "1119          Vicenza         Atalanta BC        0.810\n",
      "1130  Villarreal CF B      Southampton FC        0.045\n",
      "1136        Vålerenga         Hannover 96        0.135\n",
      "1137     W. Bremen II   Arminia Bielefeld        0.045\n",
      "1186          Zamalek    Lokomotiv Moscow        1.260\n",
      "\n",
      "[288 rows x 3 columns]\n"
     ]
    }
   ],
   "source": [
    "# Regard each league individually\n",
    "BL0 = DF.loc[DF[\"club_name\"].isin( BLList)]\n",
    "PL0 = DF.loc[DF[\"club_name\"].isin( PLList)]\n",
    "SA0 = DF.loc[DF[\"club_name\"].isin( SAList)]\n",
    "PD0 = DF.loc[DF[\"club_name\"].isin( PDList)]\n",
    "L10 = DF.loc[DF[\"club_name\"].isin( L1List)]\n",
    "NOS0 = DF.loc[DF[\"club_name\"].isin( NOSList)]\n",
    "Ere0 = DF.loc[DF[\"club_name\"].isin( EreList)]\n",
    "EC0 = DF.loc[DF[\"club_name\"].isin( ECList)]\n",
    "Rus0 = DF.loc[DF[\"club_name\"].isin( RusList)]\n",
    "Leagues = list([BL0, PL0, SA0, PD0, L10, NOS0, Ere0, EC0, Rus0])\n",
    "print(Leagues[1])\n",
    "print(flatten(ListNames))\n",
    "Other = DF.loc[~DF[\"club_name\"].isin(flatten(ListNames))]\n",
    "print(Other)\n",
    "Leagues.append(Other)"
   ]
  },
  {
   "cell_type": "code",
   "execution_count": 26,
   "metadata": {},
   "outputs": [
    {
     "name": "stdout",
     "output_type": "stream",
     "text": [
      "10\n",
      "9\n"
     ]
    }
   ],
   "source": [
    "print(len(Leagues))\n",
    "print(len(Leagues[0:(len(Leagues)-1)]))"
   ]
  },
  {
   "cell_type": "code",
   "execution_count": 27,
   "metadata": {},
   "outputs": [],
   "source": [
    "def StreamLeagues(Liga, Others):\n",
    "    # takes DF of league as Liga and list of other league names as Others\n",
    "    # calculates how much the aggregated transfers from all other Leagues (Others) to the league \"Liga\" is\n",
    "    Out = np.zeros(len(Others)+1) \n",
    "    \n",
    "    for i in range(len(Others)): # -1: treat \"other leagues than top 9\" differently\n",
    "        # Data frame of transfers from Others[i] to Liga\n",
    "        df2 = Liga.loc[Liga[\"club_involved_name\"].isin(Others[i])]\n",
    "        Out[i] = sum(df2[\"fee_cleaned\"])\n",
    "        \n",
    "        \n",
    "    # final output \"all leagues except the top 9\"    \n",
    "    dfrest = Liga.loc[~Liga[\"club_involved_name\"].isin(flatten(Others[0:(len(Others)-1)]))]  \n",
    "    Out[len(Others)] = sum(dfrest[\"fee_cleaned\"])\n",
    "    return(Out)"
   ]
  },
  {
   "cell_type": "code",
   "execution_count": 28,
   "metadata": {},
   "outputs": [
    {
     "data": {
      "text/plain": [
       "array([ 46.278,   0.   ,   0.99 ,   2.16 ,  32.22 ,   6.975,   4.5  ,\n",
       "         0.18 ,   0.   , 152.242])"
      ]
     },
     "execution_count": 28,
     "metadata": {},
     "output_type": "execute_result"
    }
   ],
   "source": [
    "StreamLeagues(BL0, ListNames)"
   ]
  },
  {
   "cell_type": "code",
   "execution_count": 29,
   "metadata": {},
   "outputs": [
    {
     "data": {
      "text/plain": [
       "array([ 29.802,  79.647, 110.136,  38.716,  70.605,  30.065,  15.818,\n",
       "        43.225,  21.06 ,  21.06 ])"
      ]
     },
     "execution_count": 29,
     "metadata": {},
     "output_type": "execute_result"
    }
   ],
   "source": [
    "StreamLeagues(Other, ListNames)"
   ]
  },
  {
   "cell_type": "code",
   "execution_count": 30,
   "metadata": {},
   "outputs": [
    {
     "name": "stdout",
     "output_type": "stream",
     "text": [
      "(10, 10)\n",
      "[ 46.278   0.      0.99    2.16   32.22    6.975   4.5     0.18    0.\n",
      " 152.242]\n",
      "                  BL       PL   SerieA   LaLiga  Ligue1  Portug     NED  \\\n",
      "BL            46.278    0.000    0.990    2.160  32.220   6.975   4.500   \n",
      "PL            42.300  210.278    2.070   64.395  62.780  51.300  39.340   \n",
      "SerieA         5.670   14.637  108.251   41.688  11.700   1.800   5.850   \n",
      "LaLiga         8.505   96.300    2.250  107.285  21.375  69.930  57.150   \n",
      "Ligue1         0.135    8.100    3.780    0.450  87.390   6.570   2.700   \n",
      "Portug         0.000    1.170    1.080    3.150   2.250   1.035   0.000   \n",
      "NED            8.262    8.775    2.430    0.000   1.310   0.000  35.042   \n",
      "Championship   0.450   25.113    0.000    0.000   0.000   0.000   0.000   \n",
      "RUS            3.600    0.000    0.000   12.150  13.500   3.150   0.000   \n",
      "Others        29.802   79.647  110.136   38.716  70.605  30.065  15.818   \n",
      "\n",
      "              Championship     RUS   Others  \n",
      "BL                   0.180   0.000  152.242  \n",
      "PL                 126.385  24.975  245.639  \n",
      "SerieA               0.000   0.000  205.000  \n",
      "LaLiga               0.000   0.540  139.860  \n",
      "Ligue1               3.510   6.120  116.550  \n",
      "Portug               0.365   2.115   56.197  \n",
      "NED                  1.053   0.000   46.996  \n",
      "Championship        33.220   0.000   58.199  \n",
      "RUS                  0.000  12.420   81.438  \n",
      "Others              43.225  21.060   21.060  \n"
     ]
    }
   ],
   "source": [
    "MatrixLeagues = np.zeros((10,10))\n",
    "i = 0\n",
    "for L in Leagues:\n",
    "    MatrixLeagues[i,:] = StreamLeagues(L, ListNames)\n",
    "    i +=1\n",
    "\n",
    "print(MatrixLeagues.shape)\n",
    "print(MatrixLeagues[0])\n",
    "Names = list([\"BL\", \"PL\", \"SerieA\", \"LaLiga\", \"Ligue1\", \"Portug\", \"NED\", \"Championship\", \"RUS\", \"Others\"])\n",
    "\n",
    "# DF10x10 column i shows all transfers out of league i\n",
    "# DF10x10 row j shows all transfers to league j\n",
    "DF10x10 = pd.DataFrame(data = MatrixLeagues,\n",
    "                      index = Names,\n",
    "                      columns = Names)\n",
    "print(DF10x10)"
   ]
  },
  {
   "cell_type": "markdown",
   "metadata": {},
   "source": [
    "#### Symmetric 10x10"
   ]
  },
  {
   "cell_type": "code",
   "execution_count": 31,
   "metadata": {},
   "outputs": [
    {
     "name": "stdout",
     "output_type": "stream",
     "text": [
      "                   BL       PL   SerieA   LaLiga   Ligue1  Portug     NED  \\\n",
      "BL             92.556   42.300    6.660   10.665   32.355   6.975  12.762   \n",
      "PL             42.300  420.556   16.707  160.695   70.880  52.470  48.115   \n",
      "SerieA          6.660   16.707  216.502   43.938   15.480   2.880   8.280   \n",
      "LaLiga         10.665  160.695   43.938  214.570   21.825  73.080  57.150   \n",
      "Ligue1         32.355   70.880   15.480   21.825  174.780   8.820   4.010   \n",
      "Portug          6.975   52.470    2.880   73.080    8.820   2.070   0.000   \n",
      "NED            12.762   48.115    8.280   57.150    4.010   0.000  70.084   \n",
      "Championship    0.630  151.498    0.000    0.000    3.510   0.365   1.053   \n",
      "RUS             3.600   24.975    0.000   12.690   19.620   5.265   0.000   \n",
      "Others        182.044  325.286  315.136  178.576  187.155  86.262  62.814   \n",
      "\n",
      "              Championship      RUS   Others  \n",
      "BL                   0.630    3.600  182.044  \n",
      "PL                 151.498   24.975  325.286  \n",
      "SerieA               0.000    0.000  315.136  \n",
      "LaLiga               0.000   12.690  178.576  \n",
      "Ligue1               3.510   19.620  187.155  \n",
      "Portug               0.365    5.265   86.262  \n",
      "NED                  1.053    0.000   62.814  \n",
      "Championship        66.440    0.000  101.424  \n",
      "RUS                  0.000   24.840  102.498  \n",
      "Others             101.424  102.498   42.120  \n"
     ]
    }
   ],
   "source": [
    "Symmetric = (np.transpose(MatrixLeagues) + MatrixLeagues)\n",
    "DFsym = pd.DataFrame(data = Symmetric,\n",
    "                      index = Names,\n",
    "                      columns = Names)\n",
    "print(DFsym)\n",
    "DFsym.to_csv(\"10x10_\"+year)"
   ]
  },
  {
   "cell_type": "code",
   "execution_count": null,
   "metadata": {},
   "outputs": [],
   "source": []
  },
  {
   "cell_type": "code",
   "execution_count": null,
   "metadata": {},
   "outputs": [],
   "source": []
  },
  {
   "cell_type": "markdown",
   "metadata": {},
   "source": [
    "## Second Data Set: Undirected\n",
    "Combine both transfer fees from A to B and B to A as one \"transfer volume\""
   ]
  },
  {
   "cell_type": "code",
   "execution_count": 32,
   "metadata": {},
   "outputs": [],
   "source": [
    "DFun =  pd.DataFrame({'club1' : [],\n",
    "                         \"club2\":[],\n",
    "                         \"fee_cleaned\":[]})"
   ]
  },
  {
   "cell_type": "code",
   "execution_count": 33,
   "metadata": {},
   "outputs": [],
   "source": [
    "DFun[\"club1\"] = np.minimum(DF['club_name'], DF['club_involved_name']) \n",
    "DFun[\"club2\"] = np.maximum(DF['club_name'], DF['club_involved_name']) "
   ]
  },
  {
   "cell_type": "code",
   "execution_count": 34,
   "metadata": {},
   "outputs": [],
   "source": [
    "       \n",
    "def AddFeesUndirected(DF): # adds fees of multiple transfers from club a to b\n",
    "    # output\n",
    "    DF_out = pd.DataFrame({'club_name' : [],\n",
    "                         \"club_involved_name\":[],\n",
    "                         \"fee_cleaned\":[]})\n",
    "    \n",
    "    for i in range(DF.shape[0]):\n",
    "        # is this a new match?\n",
    "        \n",
    "        if ((DF_out.loc[(DF_out[\"club_name\"]== DF[\"club_name\"].iloc[i])&  \n",
    "                     DF_out[\"club_involved_name\"].isin([DF[\"club_involved_name\"].iloc[i]])].size ==0) and \n",
    "            (DF_out.loc[(DF_out[\"club_involved_name\"]== DF[\"club_name\"].iloc[i])&  # Neither direction!\n",
    "                     DF_out[\"club_name\"].isin([DF[\"club_involved_name\"].iloc[i]])].size ==0)):\n",
    "            DF_out = DF_out.append(DF.iloc[i])\n",
    "        \n",
    "        elif (DF_out.loc[(DF_out[\"club_name\"]== DF[\"club_name\"].iloc[i])&  \n",
    "                     DF_out[\"club_involved_name\"].isin([DF[\"club_involved_name\"].iloc[i]])].size > 0):\n",
    "            # add fee value to already existing value\n",
    "            DF_out[\"fee_cleaned\"].loc[(DF_out[\"club_name\"]== DF[\"club_name\"].iloc[i])&  \n",
    "                     DF_out[\"club_involved_name\"].isin([DF[\"club_involved_name\"].iloc[i]])] += DF[\"fee_cleaned\"].iloc[i]\n",
    "        \n",
    "        else: # add the \"reversed\" fee to existing value\n",
    "            DF_out[\"fee_cleaned\"].loc[(DF_out[\"club_involved_name\"]== DF[\"club_name\"].iloc[i])&  \n",
    "                     DF_out[\"club_name\"].isin([DF[\"club_involved_name\"].iloc[i]])] += DF[\"fee_cleaned\"].iloc[i]\n",
    "            \n",
    "            \n",
    "    return(DF_out)    \n",
    "        "
   ]
  },
  {
   "cell_type": "code",
   "execution_count": 35,
   "metadata": {},
   "outputs": [
    {
     "name": "stderr",
     "output_type": "stream",
     "text": [
      "/home/users/t_wand01/.local/lib/python3.7/site-packages/pandas/core/indexing.py:1732: SettingWithCopyWarning: \n",
      "A value is trying to be set on a copy of a slice from a DataFrame\n",
      "\n",
      "See the caveats in the documentation: https://pandas.pydata.org/pandas-docs/stable/user_guide/indexing.html#returning-a-view-versus-a-copy\n",
      "  self._setitem_single_block(indexer, value, name)\n"
     ]
    }
   ],
   "source": [
    "DFun = AddFeesUndirected(DF)"
   ]
  },
  {
   "cell_type": "markdown",
   "metadata": {},
   "source": [
    "# Graphs"
   ]
  },
  {
   "cell_type": "code",
   "execution_count": 36,
   "metadata": {},
   "outputs": [],
   "source": [
    "G = nx.from_pandas_edgelist(DF, \n",
    "                            source = \"club_name\",\n",
    "                            target = \"club_involved_name\",\n",
    "                            edge_attr=[\"fee_cleaned\"],#, \"colour\"],\n",
    "                            create_using=networkx.DiGraph()\n",
    "                           )"
   ]
  },
  {
   "cell_type": "code",
   "execution_count": 37,
   "metadata": {},
   "outputs": [],
   "source": [
    "# Teams of individual leagues 19/20\n",
    "BL_teams = list(set(BuLi[\"club_name\"])) # Bundesliga\n",
    "BLList = pd.Series(BL_teams)\n",
    "\n",
    "PLList = pd.Series(list(set(PL[\"club_name\"])))\n",
    "SAList = pd.Series(list(set(SA[\"club_name\"])))\n",
    "PDList = pd.Series(list(set(PD[\"club_name\"])))\n",
    "L1List = pd.Series(list(set(L1[\"club_name\"])))\n",
    "\n"
   ]
  },
  {
   "cell_type": "markdown",
   "metadata": {},
   "source": [
    "\n",
    "l = [\"red\", \"blue\"]\n",
    "print(len(G.nodes))\n",
    "Colours = random.choices(l, k=len(G.nodes))"
   ]
  },
  {
   "cell_type": "code",
   "execution_count": 38,
   "metadata": {},
   "outputs": [],
   "source": [
    "Colours = [\"none\"]*len(G.nodes)\n",
    "j = 0\n",
    "for i in G.nodes:\n",
    "    if np.sum(BLList.isin([i])) > 0: # if Bundesliga-Team\n",
    "        Colours[j] = \"red\"\n",
    "    j = j+1"
   ]
  },
  {
   "cell_type": "code",
   "execution_count": 39,
   "metadata": {},
   "outputs": [
    {
     "data": {
      "image/png": "[encoded data removed]",
      "text/plain": [
       "<Figure size 432x288 with 1 Axes>"
      ]
     },
     "metadata": {},
     "output_type": "display_data"
    }
   ],
   "source": [
    "networkx.draw_kamada_kawai(G,node_color = Colours, with_labels=False, alpha=0.1)"
   ]
  },
  {
   "cell_type": "code",
   "execution_count": 40,
   "metadata": {},
   "outputs": [],
   "source": [
    "def Colour1(node):\n",
    "    if np.sum(BLList.isin([node])):\n",
    "        out = \"red\"\n",
    "    elif np.sum(PLList.isin([node])):\n",
    "        out = \"blue\"\n",
    "    elif np.sum(SAList.isin([node])):\n",
    "        out = \"green\" \n",
    "    elif np.sum(PDList.isin([node])):\n",
    "        out = \"yellow\"\n",
    "    elif np.sum(L1List.isin([node])):\n",
    "        out = \"purple\"\n",
    "    else:\n",
    "        out = \"none\"\n",
    "    return(out)"
   ]
  },
  {
   "cell_type": "code",
   "execution_count": 41,
   "metadata": {},
   "outputs": [],
   "source": [
    "j = 0\n",
    "for i in G.nodes:\n",
    "    Colours[j] = Colour1(i)\n",
    "    j = j+1"
   ]
  },
  {
   "cell_type": "code",
   "execution_count": 42,
   "metadata": {},
   "outputs": [
    {
     "data": {
      "image/png": "[encoded data removed]",
      "text/plain": [
       "<Figure size 432x288 with 1 Axes>"
      ]
     },
     "metadata": {},
     "output_type": "display_data"
    }
   ],
   "source": [
    "networkx.draw_spring(G,node_color = Colours, with_labels=False, alpha = 0.1)\n"
   ]
  },
  {
   "cell_type": "code",
   "execution_count": 43,
   "metadata": {},
   "outputs": [
    {
     "data": {
      "image/png": "[encoded data removed]",
      "text/plain": [
       "<Figure size 432x288 with 1 Axes>"
      ]
     },
     "metadata": {},
     "output_type": "display_data"
    }
   ],
   "source": [
    "networkx.draw_circular(G,node_color = Colours, with_labels=False, alpha = 0.1)\n",
    "# one can see blocks of the individual countries + crosslinks\n",
    "#plt.savefig(year+\"_Circular\")"
   ]
  },
  {
   "cell_type": "code",
   "execution_count": 44,
   "metadata": {},
   "outputs": [],
   "source": [
    "# Visual inspection: much less \"Small World\"-connected than before!"
   ]
  },
  {
   "cell_type": "code",
   "execution_count": null,
   "metadata": {},
   "outputs": [],
   "source": []
  },
  {
   "cell_type": "code",
   "execution_count": 45,
   "metadata": {
    "scrolled": true
   },
   "outputs": [
    {
     "data": {
      "text/html": [
       "\n",
       "        <iframe\n",
       "            width=\"800px\"\n",
       "            height=\"800px\"\n",
       "            src=\"Test.html\"\n",
       "            frameborder=\"0\"\n",
       "            allowfullscreen\n",
       "            \n",
       "        ></iframe>\n",
       "        "
      ],
      "text/plain": [
       "<IPython.lib.display.IFrame at 0x7f200b519208>"
      ]
     },
     "execution_count": 45,
     "metadata": {},
     "output_type": "execute_result"
    }
   ],
   "source": [
    "net = Network(\"800px\", \"800px\",notebook=True)\n",
    "net.from_nx(G)\n",
    "net.show(\"Test.html\")"
   ]
  },
  {
   "cell_type": "markdown",
   "metadata": {},
   "source": [
    "## Pyvis"
   ]
  },
  {
   "cell_type": "code",
   "execution_count": 46,
   "metadata": {},
   "outputs": [],
   "source": [
    "g = Network(\"800px\", \"800px\",notebook=True)\n",
    "g.toggle_physics(True)\n",
    "G = nx.from_pandas_edgelist(DFun, \n",
    "                            source = \"club_involved_name\",\n",
    "                            target = \"club_name\",\n",
    "                            edge_attr=[\"fee_cleaned\"],#, \"colour\"],\n",
    "                            create_using=networkx.DiGraph()\n",
    "                           )"
   ]
  },
  {
   "cell_type": "markdown",
   "metadata": {},
   "source": [
    "g.add_nodes(np.array(G.nodes), \n",
    "            color = random.choices([\"red\",\"grey\"], k=len(G.nodes)),\n",
    "            options = {\n",
    "                \"title\":\"lel\"\n",
    "            })"
   ]
  },
  {
   "cell_type": "code",
   "execution_count": 47,
   "metadata": {},
   "outputs": [],
   "source": [
    "def Colour(node):\n",
    "    # from https://www.hexcolortool.com/#f429ff,0.33\n",
    "    if np.sum(BLList.isin([node])):\n",
    "        out = \"rgba(244, 15, 11, 0.66)\"\n",
    "    elif np.sum(PLList.isin([node])):\n",
    "        out = \"rgba(41, 155, 255, 0.66)\"\n",
    "    elif np.sum(SAList.isin([node])):\n",
    "        out = \"rgba(41, 255, 77, 0.66)\" \n",
    "    elif np.sum(PDList.isin([node])):\n",
    "        out = \"rgba(255, 241, 41, 0.66)\"\n",
    "    elif np.sum(L1List.isin([node])):\n",
    "        out = \"rgba(244, 41, 255, 0.66)\"\n",
    "    else:\n",
    "        out = \"rgba(0, 0, 0, 0.22)\"\n",
    "    return(out)"
   ]
  },
  {
   "cell_type": "code",
   "execution_count": 48,
   "metadata": {},
   "outputs": [],
   "source": [
    "# https://www.hexcolortool.com/#f40f0b,0.33\n",
    "for node in G.nodes:\n",
    "    g.add_node(str(node), color = Colour(node), #alpha=0.1,\n",
    "              options = {\"physics\":False\n",
    "              })"
   ]
  },
  {
   "cell_type": "code",
   "execution_count": 49,
   "metadata": {},
   "outputs": [],
   "source": [
    "#var options = {\n",
    "# \"nodes\": {\n",
    "#    \"color\": {\n",
    "#      \"border\": \"rgba(43,124,233,0.46)\",\n",
    "#      \"background\": \"rgba(90,65,252,0.51)\"\n",
    "#    }\n",
    "#  },\n",
    "#  \"edges\": {\n",
    "#    \"color\": {\n",
    "#      \"inherit\": true\n",
    "#    },\n",
    "#    \"smooth\": false\n",
    "#  },\n",
    "#  \"physics\": {\n",
    "# \"enabled\": false,\n",
    "#    \"repulsion\": {\n",
    "#     \"springLength\": 500\n",
    "#   },\n",
    "#    \"minVelocity\": 0.75,\n",
    "#    \"solver\": \"repulsion\"\n",
    "#  }\n",
    "#}"
   ]
  },
  {
   "cell_type": "code",
   "execution_count": 50,
   "metadata": {},
   "outputs": [],
   "source": [
    "#g.add_edges(DF19[\"club_name\"],DF19[\"club_involved_name\"], value =DF19[\"fee_cleaned\"])"
   ]
  },
  {
   "cell_type": "code",
   "execution_count": 51,
   "metadata": {},
   "outputs": [],
   "source": [
    "for i in range(DFun.shape[0]):\n",
    "    g.add_edge(DFun[\"club_name\"].iloc[i], \n",
    "              DFun[\"club_involved_name\"].iloc[i],\n",
    "              value=DFun[\"fee_cleaned\"].iloc[i], \n",
    "            kwargs ={\n",
    "               \"physics\":False\n",
    "           })\n"
   ]
  },
  {
   "cell_type": "code",
   "execution_count": 52,
   "metadata": {
    "scrolled": true
   },
   "outputs": [
    {
     "data": {
      "text/html": [
       "\n",
       "        <iframe\n",
       "            width=\"800px\"\n",
       "            height=\"800px\"\n",
       "            src=\"Test.html\"\n",
       "            frameborder=\"0\"\n",
       "            allowfullscreen\n",
       "            \n",
       "        ></iframe>\n",
       "        "
      ],
      "text/plain": [
       "<IPython.lib.display.IFrame at 0x7f200b4b7080>"
      ]
     },
     "execution_count": 52,
     "metadata": {},
     "output_type": "execute_result"
    }
   ],
   "source": [
    "\n",
    "#g.show_buttons(filter_=[\"nodes\", \"edges\", \"physics\"])\n",
    "g.show(\"Test.html\")"
   ]
  },
  {
   "cell_type": "code",
   "execution_count": 53,
   "metadata": {},
   "outputs": [],
   "source": [
    "#g.save_graph(year+\"_allLeagues.html\")"
   ]
  },
  {
   "cell_type": "markdown",
   "metadata": {},
   "source": [
    "## Analysis"
   ]
  },
  {
   "cell_type": "code",
   "execution_count": 54,
   "metadata": {},
   "outputs": [],
   "source": [
    "G_undir = nx.from_pandas_edgelist(DFun, \n",
    "                            source = \"club_name\",\n",
    "                            target = \"club_involved_name\",\n",
    "                            edge_attr=\"fee_cleaned\",\n",
    "                            create_using=networkx.Graph # or Graph, DiGraph, MultiGraph, MultiDiGraph\n",
    "                           )"
   ]
  },
  {
   "cell_type": "code",
   "execution_count": 55,
   "metadata": {},
   "outputs": [],
   "source": [
    "G_dir = nx.from_pandas_edgelist(DF, \n",
    "                            source = \"club_name\",\n",
    "                            target = \"club_involved_name\",\n",
    "                            edge_attr=[\"fee_cleaned\"],#, \"colour\"],\n",
    "                            create_using=networkx.DiGraph()\n",
    "                           )"
   ]
  },
  {
   "cell_type": "markdown",
   "metadata": {},
   "source": [
    "#### Small World"
   ]
  },
  {
   "cell_type": "code",
   "execution_count": 56,
   "metadata": {},
   "outputs": [],
   "source": [
    "## Small world\n",
    "\n",
    "# random reference graph\n",
    "#G_ref = networkx.algorithms.smallworld.random_reference(G_undir, seed = 10)\n",
    "#DFcon19 = DFun19.iloc[DFun19[\"club_name\"]!=\"SC Paderborn 07\"]\n",
    "#DFcon19 = DFcon19.iloc[DFcon19[\"club_involved_name\"]!=\"SC Paderborn 07\"]\n",
    "SepList20 = [\"CD Nacional\", \"Al-Batin\", \"Shimizu S-Pulse\", \"Portimonense SC\", \"SV Sandhausen\",\n",
    "            \"CD Tondela\", \"Coventry\"]\n",
    "SepList19 = [\"Vitória Setúbal FC\",\"RKC Waalwijk\",\"Portimonense SC\",\"ADO Den Haag\",\"Sparta Rotterdam\",\n",
    "             \"FC Paços de Ferreira\", \"FK Ufa\"]\n",
    "SepList18 = [\"CD Santa Clara\", \"Pau FC\", \"FC Emmen\", \"KS Samara\",\"Khimki\", \"Tottenham Hotspurs\",\n",
    "            \"C. Rizespor\", \"CD Nacional\"]\n",
    "SepList17 = [\"Omiya Ardija\", \"SK Brann\"]\n",
    "SepList16 = [\"FK Orenburg\",\"Rotherham United\",\"Belenenses SAD\", \"SC Heerenveen\",\"MVV Maastricht\",\n",
    "            \"Ross County\", \"GD Chaves\"]\n",
    "SepList15 = [\"Boavista FC\", \"RSC Charleroi\", \"Helmond Sport\",\"Lienden\",\"Go Ahead Eagles\"]\n",
    "SepList14 = [ \"Cracovia\",\"Gaish\",\"FK Ufa\", \"FC Nantes\", \"Brisbane Roar\", \"Shinnik\"]\n",
    "SepList13 = [\"CFR Cluj\",\"Zawisza\",\"Académica Coimbra\", \"Tom Tomsk\",\"Rio Ave FC\",\"Alianza Lima\",\n",
    "             \"Belenenses SAD\",\"Waterford FC\", \"Leeds\"]\n",
    "SepList12 = [\"Mordovia Saransk\",\"Telstar\", \"CS Marítimo\"]\n",
    "SepList11 = [\"Rio Ave FC\",\"SC Olhanense\",\"Sheriff\", \"Indjija\"]\n",
    "SepList10 = [\"SM Caen\",\"CS Marítimo\",\"Sligo Rovers\", \"Roda JC Kerkrade\", \"Athletic Bilbao\", \n",
    "             \"Watford FC\", \"Cracovia\",\"FK Rostov\"]\n",
    "SepList09 = [\"AS Trencin\", \"Santo André\",\"Anorthosis\", \"Sharjah FC\"]\n",
    "SepList08 = [\"Ittihad\"]\n",
    "SepList07 = [\"CF Estrela Amadora SAD\"]\n",
    "\n",
    "\n",
    "SepList = SepList07\n",
    "\n",
    "DFcon= DFun.drop(DFun[ DFun['club_involved_name'].isin( SepList)].index)\n",
    "\n",
    "DFcon = DFcon.drop(DFcon[ DFcon['club_name'].isin(SepList)].index)\n",
    "\n",
    "#networkx.algorithms.smallworld.sigma(G_undir,niter=10, seed=10)"
   ]
  },
  {
   "cell_type": "code",
   "execution_count": null,
   "metadata": {},
   "outputs": [],
   "source": []
  },
  {
   "cell_type": "code",
   "execution_count": 57,
   "metadata": {},
   "outputs": [],
   "source": [
    "G_undirconnected = nx.from_pandas_edgelist(DFcon, \n",
    "                            source = \"club_name\",\n",
    "                            target = \"club_involved_name\",\n",
    "                            edge_attr=\"fee_cleaned\",\n",
    "                            create_using=networkx.Graph # or Graph, DiGraph, MultiGraph, MultiDiGraph\n",
    "                           )\n",
    "\n",
    "\n"
   ]
  },
  {
   "cell_type": "code",
   "execution_count": 58,
   "metadata": {
    "scrolled": false
   },
   "outputs": [
    {
     "data": {
      "text/html": [
       "\n",
       "        <iframe\n",
       "            width=\"800px\"\n",
       "            height=\"800px\"\n",
       "            src=\"nx.html\"\n",
       "            frameborder=\"0\"\n",
       "            allowfullscreen\n",
       "            \n",
       "        ></iframe>\n",
       "        "
      ],
      "text/plain": [
       "<IPython.lib.display.IFrame at 0x7f200b4b7eb8>"
      ]
     },
     "execution_count": 58,
     "metadata": {},
     "output_type": "execute_result"
    }
   ],
   "source": [
    "# Quick check: plot\n",
    "nt = Network('800px', '800px',notebook=True)\n",
    "#nt.from_nx(G_undirconnected)\n",
    "\n",
    "\n",
    "for node in G_undirconnected.nodes:\n",
    "    nt.add_node(str(node), color = Colour(node), #alpha=0.1,\n",
    "              options = {\n",
    "              })\n",
    "    \n",
    "for i in range(DFcon.shape[0]):\n",
    "    nt.add_edge(DFcon[\"club_name\"].iloc[i], \n",
    "              DFcon[\"club_involved_name\"].iloc[i],\n",
    "              value=DFcon[\"fee_cleaned\"].iloc[i], \n",
    "            kwargs ={\n",
    "               \"physics\":False\n",
    "           })\n",
    "\n",
    "nt.show('nx.html')\n",
    "# Is connected!!"
   ]
  },
  {
   "cell_type": "code",
   "execution_count": 59,
   "metadata": {},
   "outputs": [],
   "source": [
    "#nt.save_graph(year+\"_connection.html\")"
   ]
  },
  {
   "cell_type": "markdown",
   "metadata": {},
   "source": [
    "\n",
    "start = time.time()\n",
    "\n",
    "SW = networkx.algorithms.smallworld.sigma(G_undirconnected,niter=20, seed=42)\n",
    "print(SW)\n",
    "\n",
    "end = time.time()\n",
    "print(end - start)"
   ]
  },
  {
   "cell_type": "markdown",
   "metadata": {},
   "source": [
    "#### Degree Distribution"
   ]
  },
  {
   "cell_type": "code",
   "execution_count": 60,
   "metadata": {},
   "outputs": [
    {
     "data": {
      "text/plain": [
       "[0,\n",
       " 252,\n",
       " 81,\n",
       " 33,\n",
       " 30,\n",
       " 33,\n",
       " 13,\n",
       " 22,\n",
       " 11,\n",
       " 11,\n",
       " 20,\n",
       " 10,\n",
       " 12,\n",
       " 12,\n",
       " 7,\n",
       " 11,\n",
       " 1,\n",
       " 7,\n",
       " 1,\n",
       " 0,\n",
       " 0,\n",
       " 1,\n",
       " 1,\n",
       " 0,\n",
       " 0,\n",
       " 0,\n",
       " 1]"
      ]
     },
     "execution_count": 60,
     "metadata": {},
     "output_type": "execute_result"
    }
   ],
   "source": [
    "networkx.classes.function.degree_histogram(G_undir)"
   ]
  },
  {
   "cell_type": "code",
   "execution_count": null,
   "metadata": {},
   "outputs": [],
   "source": []
  },
  {
   "cell_type": "code",
   "execution_count": 61,
   "metadata": {},
   "outputs": [
    {
     "data": {
      "image/png": "[encoded data removed]",
      "text/plain": [
       "<Figure size 432x288 with 1 Axes>"
      ]
     },
     "metadata": {
      "needs_background": "light"
     },
     "output_type": "display_data"
    }
   ],
   "source": [
    "import networkx as nx\n",
    "\n",
    "def plot_degree_dist(G):\n",
    "    degrees = [G.degree(n) for n in G.nodes()]\n",
    "    plt.hist(degrees)\n",
    "    plt.show()\n",
    "\n",
    "plot_degree_dist(G_undir)"
   ]
  },
  {
   "cell_type": "code",
   "execution_count": 62,
   "metadata": {},
   "outputs": [
    {
     "data": {
      "image/png": "[encoded data removed]",
      "text/plain": [
       "<Figure size 432x288 with 1 Axes>"
      ]
     },
     "metadata": {
      "needs_background": "light"
     },
     "output_type": "display_data"
    }
   ],
   "source": [
    "def plot_degree_dist(G):\n",
    "    degrees = [G.degree(n) for n in G.nodes()]\n",
    "    plt.hist(np.log(degrees), bins = int(len(G.nodes())/20), log = True)\n",
    "    plt.show()\n",
    "\n",
    "plot_degree_dist(G_undir)"
   ]
  },
  {
   "cell_type": "code",
   "execution_count": 63,
   "metadata": {},
   "outputs": [
    {
     "name": "stdout",
     "output_type": "stream",
     "text": [
      "0.9017993478870286 0.9658332060259751 0.5782335235665407\n"
     ]
    }
   ],
   "source": [
    "degrees = [G.degree(n) for n in G.nodes()]\n",
    "log_degrees = np.log(degrees)\n",
    "print(np.mean(log_degrees), np.std(log_degrees), skew(log_degrees))\n"
   ]
  },
  {
   "cell_type": "code",
   "execution_count": 64,
   "metadata": {},
   "outputs": [
    {
     "data": {
      "image/png": "[encoded data removed]",
      "text/plain": [
       "<Figure size 432x288 with 1 Axes>"
      ]
     },
     "metadata": {
      "needs_background": "light"
     },
     "output_type": "display_data"
    }
   ],
   "source": [
    "plt.hist(degrees, bins = np.arange(-0.5,max(degrees)+0.5,1))\n",
    "plt.show()"
   ]
  },
  {
   "cell_type": "code",
   "execution_count": 65,
   "metadata": {},
   "outputs": [],
   "source": [
    "degree_dist = np.zeros(max(degrees)+1)"
   ]
  },
  {
   "cell_type": "code",
   "execution_count": 66,
   "metadata": {},
   "outputs": [],
   "source": [
    "for i in range(max(degrees)):\n",
    "    degree_dist[i] = np.sum(np.array(degrees) == i)"
   ]
  },
  {
   "cell_type": "code",
   "execution_count": 67,
   "metadata": {},
   "outputs": [
    {
     "data": {
      "text/plain": [
       "array([  0., 252.,  81.,  33.,  30.,  33.,  13.,  22.,  11.,  11.,  20.,\n",
       "        10.,  12.,  12.,   7.,  11.,   1.,   7.,   1.,   0.,   0.,   1.,\n",
       "         1.,   0.,   0.,   0.,   0.])"
      ]
     },
     "execution_count": 67,
     "metadata": {},
     "output_type": "execute_result"
    }
   ],
   "source": [
    "degree_dist"
   ]
  },
  {
   "cell_type": "code",
   "execution_count": 68,
   "metadata": {},
   "outputs": [
    {
     "data": {
      "image/png": "[encoded data removed]",
      "text/plain": [
       "<Figure size 432x288 with 1 Axes>"
      ]
     },
     "metadata": {
      "needs_background": "light"
     },
     "output_type": "display_data"
    }
   ],
   "source": [
    "plt.scatter(np.arange(max(degrees)+1), degree_dist)\n",
    "plt.show()"
   ]
  },
  {
   "cell_type": "markdown",
   "metadata": {},
   "source": [
    "#### in-degree"
   ]
  },
  {
   "cell_type": "code",
   "execution_count": 69,
   "metadata": {},
   "outputs": [
    {
     "name": "stdout",
     "output_type": "stream",
     "text": [
      "0 83.0\n",
      "1 258.0\n",
      "2 84.0\n",
      "3 41.0\n",
      "4 24.0\n",
      "5 27.0\n",
      "6 15.0\n",
      "7 19.0\n",
      "8 6.0\n",
      "9 4.0\n",
      "10 2.0\n",
      "11 4.0\n",
      "12 1.0\n",
      "13 1.0\n",
      "14 1.0\n"
     ]
    },
    {
     "data": {
      "image/png": "[encoded data removed]",
      "text/plain": [
       "<Figure size 432x288 with 1 Axes>"
      ]
     },
     "metadata": {
      "needs_background": "light"
     },
     "output_type": "display_data"
    }
   ],
   "source": [
    "indegrees = [G_dir.in_degree(n) for n in G_dir.nodes()]\n",
    "indegree_dist = np.zeros(max(indegrees)+1)\n",
    "for i in range(max(indegrees)+1):\n",
    "    indegree_dist[i] = np.sum(np.array(indegrees) == i)\n",
    "    print(i,indegree_dist[i])\n",
    "plt.scatter(np.arange(max(indegrees)+1), indegree_dist)\n",
    "plt.show()"
   ]
  },
  {
   "cell_type": "code",
   "execution_count": 70,
   "metadata": {},
   "outputs": [],
   "source": [
    "# calculate for everything without 0 (artifact because of limited data)"
   ]
  },
  {
   "cell_type": "code",
   "execution_count": 71,
   "metadata": {},
   "outputs": [
    {
     "data": {
      "text/plain": [
       "array([ 83., 258.,  84.,  41.,  24.,  27.,  15.,  19.,   6.,   4.,   2.,\n",
       "         4.,   1.,   1.,   1.])"
      ]
     },
     "execution_count": 71,
     "metadata": {},
     "output_type": "execute_result"
    }
   ],
   "source": [
    "indegree_dist"
   ]
  },
  {
   "cell_type": "code",
   "execution_count": 72,
   "metadata": {},
   "outputs": [
    {
     "name": "stdout",
     "output_type": "stream",
     "text": [
      "[ 1  2  3  4  5  6  7  8  9 10 11 12 13 14]\n"
     ]
    }
   ],
   "source": [
    "x = np.arange(1,max(indegrees)+1)\n",
    "y = indegree_dist[1:]\n",
    "\n",
    "Logical = (y!= 0) # else the linear regression has to deal with - infinity\n",
    "print(x[Logical])\n",
    "\n",
    "regIN = LinearRegression().fit(np.log(x[Logical]).reshape(-1, 1),\n",
    "                               np.log(y[Logical]).reshape(-1, 1))\n"
   ]
  },
  {
   "cell_type": "code",
   "execution_count": 73,
   "metadata": {},
   "outputs": [
    {
     "data": {
      "image/png": "[encoded data removed]",
      "text/plain": [
       "<Figure size 288x576 with 1 Axes>"
      ]
     },
     "metadata": {
      "needs_background": "light"
     },
     "output_type": "display_data"
    }
   ],
   "source": [
    "plt.figure(figsize=(4,8))\n",
    "plt.xscale('log')\n",
    "plt.yscale('log')\n",
    "plt.scatter(x, y)\n",
    "plt.ylim(0.99, 1.5*max(y))\n",
    "xrange = np.arange(1.0, 12,0.1)\n",
    "plt.plot(xrange,np.exp(regIN.predict(np.log(xrange.reshape(-1, 1)))), \"red\" )\n",
    "#plt.plot(np.exp(np.arange(0,3,0.01)), \n",
    " #       np.exp(reg.predict(np.arange(0,3,0.01).reshape(-1, 1))), color=\"red\")\n",
    "\n",
    "ax = plt.gca()\n",
    "ax.xaxis.set_major_formatter(ScalarFormatter())\n",
    "plt.xlabel(\"k - In-Degree of Nodes\", fontsize = 16)\n",
    "plt.ylabel(\"Number of Nodes\", fontsize = 16)\n",
    "plt.xticks(fontsize=14, rotation=0)\n",
    "plt.yticks(fontsize=14, rotation=0)\n",
    "plt.savefig(year+\"_InNodeDistrPlot\",bbox_inches='tight')\n",
    "\n",
    "plt.show()"
   ]
  },
  {
   "cell_type": "code",
   "execution_count": 74,
   "metadata": {},
   "outputs": [
    {
     "data": {
      "text/plain": [
       "array([[-2.15551959]])"
      ]
     },
     "execution_count": 74,
     "metadata": {},
     "output_type": "execute_result"
    }
   ],
   "source": [
    "regIN.coef_"
   ]
  },
  {
   "cell_type": "code",
   "execution_count": 75,
   "metadata": {},
   "outputs": [
    {
     "name": "stdout",
     "output_type": "stream",
     "text": [
      "[5.55295958 4.4308168  3.71357207 3.17805383 3.29583687 2.7080502\n",
      " 2.94443898 1.79175947 1.38629436 0.69314718 1.38629436 0.\n",
      " 0.         0.        ] [0.         0.69314718 1.09861229 1.38629436 1.60943791 1.79175947\n",
      " 1.94591015 2.07944154 2.19722458 2.30258509 2.39789527 2.48490665\n",
      " 2.56494936 2.63905733]\n"
     ]
    }
   ],
   "source": [
    "print(np.log(y[Logical]), \n",
    "               np.log(x[Logical]))"
   ]
  },
  {
   "cell_type": "code",
   "execution_count": 76,
   "metadata": {},
   "outputs": [
    {
     "name": "stdout",
     "output_type": "stream",
     "text": [
      "0.19516252077721571\n",
      "0.9104386145039647\n"
     ]
    }
   ],
   "source": [
    "\n",
    "X = np.log(x[Logical]).reshape(-1,1)\n",
    "X =  sm.add_constant(X)\n",
    "model = sm.OLS(np.log(y[Logical]), X)\n",
    "resultIN = model.fit()\n",
    "print(resultIN.bse[1])\n",
    "print(resultIN.rsquared)\n",
    "\n"
   ]
  },
  {
   "cell_type": "markdown",
   "metadata": {},
   "source": [
    "#### Out-Degree"
   ]
  },
  {
   "cell_type": "code",
   "execution_count": 77,
   "metadata": {},
   "outputs": [
    {
     "name": "stdout",
     "output_type": "stream",
     "text": [
      "0 243.0\n",
      "1 113.0\n",
      "2 50.0\n",
      "3 28.0\n",
      "4 25.0\n",
      "5 32.0\n",
      "6 23.0\n",
      "7 13.0\n",
      "8 14.0\n",
      "9 16.0\n",
      "10 5.0\n",
      "11 3.0\n",
      "12 1.0\n",
      "13 3.0\n",
      "14 1.0\n"
     ]
    }
   ],
   "source": [
    "outdegrees = [G_dir.out_degree(n) for n in G_dir.nodes()]\n",
    "outdegrees_dist = np.zeros(max(outdegrees)+1)\n",
    "for i in range(max(outdegrees)+1):\n",
    "    outdegrees_dist[i] = np.sum(np.array(outdegrees) == i)\n",
    "    print(i,outdegrees_dist[i])\n"
   ]
  },
  {
   "cell_type": "code",
   "execution_count": 78,
   "metadata": {},
   "outputs": [],
   "source": [
    "x = np.arange(1,max(outdegrees)+1)\n",
    "y = outdegrees_dist[1:]\n",
    "\n",
    "\n",
    "Logical = (y!=0)*(x>4) # else the linear regression has to deal with - infinity\n",
    "                        # also x>4: Tail of distribution\n",
    "\n",
    "regOUT = LinearRegression().fit(np.log(x[Logical]).reshape(-1, 1),\n",
    "                               np.log(y[Logical]).reshape(-1, 1))\n"
   ]
  },
  {
   "cell_type": "code",
   "execution_count": 79,
   "metadata": {},
   "outputs": [
    {
     "data": {
      "image/png": "[encoded data removed]",
      "text/plain": [
       "<Figure size 288x576 with 1 Axes>"
      ]
     },
     "metadata": {
      "needs_background": "light"
     },
     "output_type": "display_data"
    }
   ],
   "source": [
    "plt.figure(figsize=(4,8))\n",
    "plt.xscale('log')\n",
    "plt.yscale('log')\n",
    "plt.scatter(x, y)\n",
    "plt.ylim(0.99, 1.5*max(y))\n",
    "#plt.plot(np.exp(np.arange(0,3,0.01)), \n",
    " #       np.exp(reg.predict(np.arange(0,3,0.01).reshape(-1, 1))), color=\"red\")\n",
    "plt.plot(xrange,np.exp(regOUT.predict(np.log(xrange.reshape(-1, 1)))), \"red\" )\n",
    "ax = plt.gca()\n",
    "ax.xaxis.set_major_formatter(ScalarFormatter())\n",
    "plt.xlabel(\"k - Out-Degree of Nodes\", fontsize = 16)\n",
    "plt.ylabel(\"Number of Nodes\", fontsize = 16)\n",
    "plt.xticks(fontsize=14, rotation=0)\n",
    "plt.yticks(fontsize=14, rotation=0)\n",
    "plt.savefig(year+\"_OutNodeDistrPlot\",bbox_inches='tight')\n",
    "plt.show()"
   ]
  },
  {
   "cell_type": "code",
   "execution_count": 80,
   "metadata": {},
   "outputs": [
    {
     "data": {
      "text/plain": [
       "-3.372028191419941"
      ]
     },
     "execution_count": 80,
     "metadata": {},
     "output_type": "execute_result"
    }
   ],
   "source": [
    "regOUT.coef_[0][0]"
   ]
  },
  {
   "cell_type": "code",
   "execution_count": 81,
   "metadata": {},
   "outputs": [
    {
     "name": "stdout",
     "output_type": "stream",
     "text": [
      "0.5257194389945508\n"
     ]
    },
    {
     "name": "stderr",
     "output_type": "stream",
     "text": [
      "/home/users/t_wand01/.local/lib/python3.7/site-packages/scipy/stats/stats.py:1542: UserWarning: kurtosistest only valid for n>=20 ... continuing anyway, n=10\n",
      "  \"anyway, n=%i\" % int(n))\n"
     ]
    },
    {
     "data": {
      "text/html": [
       "<table class=\"simpletable\">\n",
       "<caption>OLS Regression Results</caption>\n",
       "<tr>\n",
       "  <th>Dep. Variable:</th>            <td>y</td>        <th>  R-squared:         </th> <td>   0.837</td>\n",
       "</tr>\n",
       "<tr>\n",
       "  <th>Model:</th>                   <td>OLS</td>       <th>  Adj. R-squared:    </th> <td>   0.817</td>\n",
       "</tr>\n",
       "<tr>\n",
       "  <th>Method:</th>             <td>Least Squares</td>  <th>  F-statistic:       </th> <td>   41.14</td>\n",
       "</tr>\n",
       "<tr>\n",
       "  <th>Date:</th>             <td>Tue, 16 Nov 2021</td> <th>  Prob (F-statistic):</th> <td>0.000206</td>\n",
       "</tr>\n",
       "<tr>\n",
       "  <th>Time:</th>                 <td>11:38:57</td>     <th>  Log-Likelihood:    </th> <td> -6.8941</td>\n",
       "</tr>\n",
       "<tr>\n",
       "  <th>No. Observations:</th>      <td>    10</td>      <th>  AIC:               </th> <td>   17.79</td>\n",
       "</tr>\n",
       "<tr>\n",
       "  <th>Df Residuals:</th>          <td>     8</td>      <th>  BIC:               </th> <td>   18.39</td>\n",
       "</tr>\n",
       "<tr>\n",
       "  <th>Df Model:</th>              <td>     1</td>      <th>                     </th>     <td> </td>   \n",
       "</tr>\n",
       "<tr>\n",
       "  <th>Covariance Type:</th>      <td>nonrobust</td>    <th>                     </th>     <td> </td>   \n",
       "</tr>\n",
       "</table>\n",
       "<table class=\"simpletable\">\n",
       "<tr>\n",
       "    <td></td>       <th>coef</th>     <th>std err</th>      <th>t</th>      <th>P>|t|</th>  <th>[0.025</th>    <th>0.975]</th>  \n",
       "</tr>\n",
       "<tr>\n",
       "  <th>const</th> <td>    9.2614</td> <td>    1.170</td> <td>    7.917</td> <td> 0.000</td> <td>    6.564</td> <td>   11.959</td>\n",
       "</tr>\n",
       "<tr>\n",
       "  <th>x1</th>    <td>   -3.3720</td> <td>    0.526</td> <td>   -6.414</td> <td> 0.000</td> <td>   -4.584</td> <td>   -2.160</td>\n",
       "</tr>\n",
       "</table>\n",
       "<table class=\"simpletable\">\n",
       "<tr>\n",
       "  <th>Omnibus:</th>       <td> 0.298</td> <th>  Durbin-Watson:     </th> <td>   1.966</td>\n",
       "</tr>\n",
       "<tr>\n",
       "  <th>Prob(Omnibus):</th> <td> 0.861</td> <th>  Jarque-Bera (JB):  </th> <td>   0.085</td>\n",
       "</tr>\n",
       "<tr>\n",
       "  <th>Skew:</th>          <td> 0.149</td> <th>  Prob(JB):          </th> <td>   0.958</td>\n",
       "</tr>\n",
       "<tr>\n",
       "  <th>Kurtosis:</th>      <td> 2.662</td> <th>  Cond. No.          </th> <td>    18.3</td>\n",
       "</tr>\n",
       "</table><br/><br/>Notes:<br/>[1] Standard Errors assume that the covariance matrix of the errors is correctly specified."
      ],
      "text/plain": [
       "<class 'statsmodels.iolib.summary.Summary'>\n",
       "\"\"\"\n",
       "                            OLS Regression Results                            \n",
       "==============================================================================\n",
       "Dep. Variable:                      y   R-squared:                       0.837\n",
       "Model:                            OLS   Adj. R-squared:                  0.817\n",
       "Method:                 Least Squares   F-statistic:                     41.14\n",
       "Date:                Tue, 16 Nov 2021   Prob (F-statistic):           0.000206\n",
       "Time:                        11:38:57   Log-Likelihood:                -6.8941\n",
       "No. Observations:                  10   AIC:                             17.79\n",
       "Df Residuals:                       8   BIC:                             18.39\n",
       "Df Model:                           1                                         \n",
       "Covariance Type:            nonrobust                                         \n",
       "==============================================================================\n",
       "                 coef    std err          t      P>|t|      [0.025      0.975]\n",
       "------------------------------------------------------------------------------\n",
       "const          9.2614      1.170      7.917      0.000       6.564      11.959\n",
       "x1            -3.3720      0.526     -6.414      0.000      -4.584      -2.160\n",
       "==============================================================================\n",
       "Omnibus:                        0.298   Durbin-Watson:                   1.966\n",
       "Prob(Omnibus):                  0.861   Jarque-Bera (JB):                0.085\n",
       "Skew:                           0.149   Prob(JB):                        0.958\n",
       "Kurtosis:                       2.662   Cond. No.                         18.3\n",
       "==============================================================================\n",
       "\n",
       "Notes:\n",
       "[1] Standard Errors assume that the covariance matrix of the errors is correctly specified.\n",
       "\"\"\""
      ]
     },
     "execution_count": 81,
     "metadata": {},
     "output_type": "execute_result"
    }
   ],
   "source": [
    "\n",
    "X = np.log(x[Logical]).reshape(-1,1)\n",
    "X =  sm.add_constant(X)\n",
    "model = sm.OLS(np.log(y[Logical]), X)\n",
    "resultOUT= model.fit()\n",
    "print(resultOUT.bse[1])\n",
    "resultOUT.summary()"
   ]
  },
  {
   "cell_type": "markdown",
   "metadata": {},
   "source": [
    "OutSlopes=pd.DataFrame(data = {\"Slope In-Degree\": regIN.coef_[0],\n",
    "                               \"StandError Slope In\": resultIN.bse[1],\n",
    "                               \"R^2 In-Degree\":resultIN.rsquared,\n",
    "                    \"Slope Out-Degree\": regOUT.coef_[0],\n",
    "                              \"StandError Slope Out\": resultOUT.bse[1],\n",
    "                              \"R^2 Out-Degree\":resultOUT.rsquared})\n",
    "OutSlopes\n",
    "#OutSlopes.to_csv(year+\"_slopes.csv\",index=False)\n"
   ]
  },
  {
   "cell_type": "markdown",
   "metadata": {},
   "source": [
    "### Clustering"
   ]
  },
  {
   "cell_type": "code",
   "execution_count": 82,
   "metadata": {},
   "outputs": [],
   "source": [
    "G_dir = nx.from_pandas_edgelist(DF, \n",
    "                            source = \"club_involved_name\",\n",
    "                            target = \"club_name\",\n",
    "                            edge_attr=\"fee_cleaned\",\n",
    "                            create_using=networkx.DiGraph # or Graph, DiGraph, MultiGraph, MultiDiGraph\n",
    "                           )"
   ]
  },
  {
   "cell_type": "code",
   "execution_count": 83,
   "metadata": {},
   "outputs": [
    {
     "data": {
      "text/plain": [
       "0.38991596638655457"
      ]
     },
     "execution_count": 83,
     "metadata": {},
     "output_type": "execute_result"
    }
   ],
   "source": [
    "networkx.algorithms.hierarchy.flow_hierarchy(G_dir)"
   ]
  },
  {
   "cell_type": "code",
   "execution_count": 84,
   "metadata": {},
   "outputs": [
    {
     "name": "stdout",
     "output_type": "stream",
     "text": [
      "0.018830721659992927\n"
     ]
    }
   ],
   "source": [
    "# Regular Clustering\n",
    "\n",
    "Clust = networkx.algorithms.cluster.clustering(G_dir)\n",
    "BDN_C = np.mean(list(Clust.values()))\n",
    "print(BDN_C)"
   ]
  },
  {
   "cell_type": "code",
   "execution_count": 85,
   "metadata": {},
   "outputs": [],
   "source": [
    "WeightClust = networkx.algorithms.cluster.clustering(G_dir, weight = \"fee_cleaned\")"
   ]
  },
  {
   "cell_type": "code",
   "execution_count": 86,
   "metadata": {},
   "outputs": [
    {
     "name": "stdout",
     "output_type": "stream",
     "text": [
      "0.0011178648139930746\n"
     ]
    }
   ],
   "source": [
    "# Weighted Clustering\n",
    "# https://journals.aps.org/pre/abstract/10.1103/PhysRevE.76.026107\n",
    "\n",
    "WDN_C = np.mean(list(WeightClust.values()))  ## ?\n",
    "print(WDN_C)"
   ]
  },
  {
   "cell_type": "code",
   "execution_count": 87,
   "metadata": {},
   "outputs": [
    {
     "name": "stdout",
     "output_type": "stream",
     "text": [
      "0.007338204914747325\n"
     ]
    }
   ],
   "source": [
    "NumberNodes = len(list(G_dir.nodes))\n",
    "NumberEdges = len(list(G_dir.edges))\n",
    "\n",
    "p = 2*NumberEdges / (NumberNodes*(NumberNodes-1)) # p. 19 in Large Scale Structures....\n",
    "print(p)"
   ]
  },
  {
   "cell_type": "markdown",
   "metadata": {},
   "source": [
    "Kind of like Eq. (11) in https://journals.aps.org/pre/abstract/10.1103/PhysRevE.76.026107\n",
    "it holds that Clustering_WDN < Clustering_BDN ~ p_random"
   ]
  },
  {
   "cell_type": "markdown",
   "metadata": {},
   "source": [
    "### Calculate Node Strength Distribution"
   ]
  },
  {
   "cell_type": "code",
   "execution_count": 88,
   "metadata": {},
   "outputs": [
    {
     "name": "stdout",
     "output_type": "stream",
     "text": [
      "570\n",
      "570\n",
      "28\n"
     ]
    }
   ],
   "source": [
    "l=0\n",
    "for n in G.nodes():\n",
    "    l = l+1\n",
    "print(l)\n",
    "print(len(G.nodes()))\n",
    "print(int(len(G.nodes())/20))"
   ]
  },
  {
   "cell_type": "code",
   "execution_count": 89,
   "metadata": {},
   "outputs": [
    {
     "name": "stdout",
     "output_type": "stream",
     "text": [
      "0.004 144.36\n"
     ]
    },
    {
     "data": {
      "image/png": "[encoded data removed]",
      "text/plain": [
       "<Figure size 432x288 with 1 Axes>"
      ]
     },
     "metadata": {
      "needs_background": "light"
     },
     "output_type": "display_data"
    }
   ],
   "source": [
    "# Roughly symmetrical around 1.5?\n",
    "def plot_strength_dist(G):\n",
    "    strengths = [G.degree(n, weight=\"fee_cleaned\") for n in G.nodes()]\n",
    "    plt.hist(np.log(strengths), bins = int(len(G.nodes())/20), log = True)\n",
    "    print(min(strengths), max(strengths))\n",
    "    #plt.savefig(year+\"_LogStrengthDistrib\")\n",
    "    plt.show()\n",
    "plot_strength_dist(G_dir)\n",
    "\n"
   ]
  },
  {
   "cell_type": "code",
   "execution_count": 90,
   "metadata": {},
   "outputs": [
    {
     "name": "stdout",
     "output_type": "stream",
     "text": [
      "0.7638853498849539 1.9644054614194164 0.011692160757606224\n"
     ]
    }
   ],
   "source": [
    "strengths = [G.degree(n, weight=\"fee_cleaned\") for n in G.nodes()]\n",
    "log_strengths = np.log(strengths)\n",
    "print(np.mean(log_strengths), np.std(log_strengths), skew(log_strengths))"
   ]
  },
  {
   "cell_type": "markdown",
   "metadata": {},
   "source": [
    "### Disparity for undirected Network"
   ]
  },
  {
   "cell_type": "code",
   "execution_count": 91,
   "metadata": {},
   "outputs": [],
   "source": [
    "A = networkx.linalg.graphmatrix.adjacency_matrix(G_undir, weight = \"fee_cleaned\")"
   ]
  },
  {
   "cell_type": "code",
   "execution_count": 92,
   "metadata": {},
   "outputs": [
    {
     "name": "stdout",
     "output_type": "stream",
     "text": [
      "(570, 570)\n"
     ]
    }
   ],
   "source": [
    "print(A.shape)"
   ]
  },
  {
   "cell_type": "code",
   "execution_count": 93,
   "metadata": {},
   "outputs": [
    {
     "name": "stdout",
     "output_type": "stream",
     "text": [
      "0.0\n"
     ]
    },
    {
     "name": "stderr",
     "output_type": "stream",
     "text": [
      "/home/users/t_wand01/.local/lib/python3.7/site-packages/ipykernel_launcher.py:2: DeprecationWarning: Calling np.sum(generator) is deprecated, and in the future will give a different result. Use np.sum(np.fromiter(generator)) or the python sum builtin instead.\n",
      "  \n"
     ]
    }
   ],
   "source": [
    "## Sanity check: should be 0\n",
    "print(np.sum(A[i,i] for i in range(A.shape[0])))"
   ]
  },
  {
   "cell_type": "code",
   "execution_count": 94,
   "metadata": {},
   "outputs": [
    {
     "name": "stdout",
     "output_type": "stream",
     "text": [
      "                    club_name  club_involved_name  fee_cleaned\n",
      "0                  1. FC Köln  FC Energie Cottbus         0.45\n",
      "1              1.FC Nuremberg        Sparta Praha         0.45\n",
      "2              1.FC Nuremberg           Feyenoord         2.25\n",
      "3              1.FC Nuremberg              Monaco         0.90\n",
      "4              1.FC Nuremberg            OGC Nice         1.35\n",
      "...                       ...                 ...          ...\n",
      "1185  Wolverhampton Wanderers            Plymouth         2.03\n",
      "1186                  Zamalek    Lokomotiv Moscow         1.26\n",
      "1187     Zenit St. Petersburg          MSK Zilina         2.88\n",
      "1188     Zenit St. Petersburg            KAA Gent         3.60\n",
      "1189     Zenit St. Petersburg     Spartak Nalchik         1.80\n",
      "\n",
      "[1190 rows x 3 columns]\n"
     ]
    }
   ],
   "source": [
    "print(DF)"
   ]
  },
  {
   "cell_type": "code",
   "execution_count": 95,
   "metadata": {},
   "outputs": [
    {
     "name": "stdout",
     "output_type": "stream",
     "text": [
      "  (0, 1)\t0.45\n",
      "  (0, 59)\t1.44\n",
      "  (1, 0)\t0.45\n",
      "  (1, 8)\t0.36\n",
      "  (1, 59)\t0.153\n",
      "  (1, 72)\t0.99\n",
      "  (1, 78)\t0.18\n",
      "  (1, 292)\t0.225\n",
      "  (1, 293)\t0.45\n",
      "  (1, 294)\t0.225\n",
      "  (1, 295)\t0.18\n",
      "  (1, 296)\t0.162\n",
      "  (1, 297)\t0.36\n",
      "  (1, 399)\t0.068\n",
      "  (2, 3)\t0.45\n",
      "  (2, 4)\t2.25\n",
      "  (2, 5)\t0.9\n",
      "  (2, 6)\t1.35\n",
      "  (2, 7)\t1.08\n",
      "  (2, 11)\t0.135\n",
      "  (2, 12)\t1.8\n",
      "  (2, 30)\t3.15\n",
      "  (2, 279)\t0.135\n",
      "  (2, 378)\t0.405\n",
      "  (2, 390)\t0.09\n",
      "  :\t:\n",
      "  (546, 145)\t0.315\n",
      "  (547, 145)\t0.675\n",
      "  (547, 373)\t2.88\n",
      "  (548, 145)\t0.135\n",
      "  (549, 9)\t0.18\n",
      "  (550, 119)\t0.81\n",
      "  (551, 129)\t0.72\n",
      "  (552, 250)\t0.045\n",
      "  (553, 502)\t0.068\n",
      "  (554, 502)\t0.18\n",
      "  (555, 288)\t0.198\n",
      "  (556, 288)\t0.153\n",
      "  (557, 104)\t0.045\n",
      "  (558, 201)\t0.248\n",
      "  (559, 201)\t0.27\n",
      "  (560, 98)\t7.02\n",
      "  (561, 141)\t0.9\n",
      "  (562, 141)\t0.81\n",
      "  (563, 141)\t0.743\n",
      "  (564, 280)\t1.17\n",
      "  (565, 77)\t0.45\n",
      "  (566, 77)\t0.135\n",
      "  (567, 197)\t0.675\n",
      "  (568, 167)\t1.26\n",
      "  (569, 373)\t3.6\n"
     ]
    }
   ],
   "source": [
    "print(A)"
   ]
  },
  {
   "cell_type": "code",
   "execution_count": 96,
   "metadata": {},
   "outputs": [],
   "source": [
    "strengths_undir = [G_undir.degree(n, weight=\"fee_cleaned\") for n in G_undir.nodes()]"
   ]
  },
  {
   "cell_type": "code",
   "execution_count": 97,
   "metadata": {},
   "outputs": [
    {
     "data": {
      "text/plain": [
       "[1.89,\n",
       " 3.8030000000000004,\n",
       " 11.745000000000001,\n",
       " 3.6,\n",
       " 29.700000000000003,\n",
       " 29.43,\n",
       " 11.52,\n",
       " 120.24000000000002,\n",
       " 8.802,\n",
       " 40.614000000000004,\n",
       " 29.075000000000003,\n",
       " 2.088,\n",
       " 13.14,\n",
       " 19.044,\n",
       " 6.300000000000001,\n",
       " 53.19,\n",
       " 16.470000000000002,\n",
       " 36.36899999999999,\n",
       " 23.526000000000003,\n",
       " 144.36,\n",
       " 11.593,\n",
       " 0.72,\n",
       " 19.8,\n",
       " 100.703,\n",
       " 11.039000000000001,\n",
       " 84.35900000000002,\n",
       " 34.309000000000005,\n",
       " 0.72,\n",
       " 7.7090000000000005,\n",
       " 7.18,\n",
       " 13.793,\n",
       " 8.64,\n",
       " 37.91,\n",
       " 41.489999999999995,\n",
       " 10.94,\n",
       " 2.196,\n",
       " 0.135,\n",
       " 0.36,\n",
       " 87.203,\n",
       " 0.9,\n",
       " 2.43,\n",
       " 62.01000000000001,\n",
       " 106.92,\n",
       " 0.315,\n",
       " 21.555,\n",
       " 1.62,\n",
       " 20.679000000000002,\n",
       " 1.8910000000000002,\n",
       " 0.36,\n",
       " 0.18,\n",
       " 17.523,\n",
       " 72.89999999999999,\n",
       " 2.0700000000000003,\n",
       " 19.71,\n",
       " 24.884999999999998,\n",
       " 27.0,\n",
       " 16.65,\n",
       " 0.27,\n",
       " 21.785,\n",
       " 19.971,\n",
       " 74.25,\n",
       " 41.58,\n",
       " 5.4,\n",
       " 37.161,\n",
       " 27.629999999999995,\n",
       " 33.53,\n",
       " 44.685,\n",
       " 9.293,\n",
       " 11.700000000000001,\n",
       " 6.93,\n",
       " 32.67,\n",
       " 45.02000000000001,\n",
       " 5.58,\n",
       " 3.6,\n",
       " 3.92,\n",
       " 4.5,\n",
       " 2.75,\n",
       " 7.515,\n",
       " 10.67,\n",
       " 70.453,\n",
       " 24.709999999999994,\n",
       " 62.605000000000004,\n",
       " 11.180000000000001,\n",
       " 48.291,\n",
       " 1.3499999999999999,\n",
       " 1.35,\n",
       " 24.210000000000004,\n",
       " 0.9,\n",
       " 21.42,\n",
       " 0.338,\n",
       " 4.276,\n",
       " 10.8,\n",
       " 42.885000000000005,\n",
       " 0.9,\n",
       " 1.737,\n",
       " 0.086,\n",
       " 13.162999999999998,\n",
       " 1.26,\n",
       " 48.068999999999996,\n",
       " 0.315,\n",
       " 11.34,\n",
       " 2.9480000000000004,\n",
       " 2.813,\n",
       " 3.4480000000000004,\n",
       " 2.318,\n",
       " 0.315,\n",
       " 1.125,\n",
       " 0.81,\n",
       " 86.833,\n",
       " 97.33500000000001,\n",
       " 1.08,\n",
       " 7.699999999999999,\n",
       " 2.7540000000000004,\n",
       " 45.17999999999999,\n",
       " 83.85000000000001,\n",
       " 55.31999999999999,\n",
       " 114.08199999999998,\n",
       " 0.45,\n",
       " 36.897999999999996,\n",
       " 10.544000000000002,\n",
       " 46.334,\n",
       " 0.675,\n",
       " 1.17,\n",
       " 12.87,\n",
       " 52.290000000000006,\n",
       " 10.760000000000002,\n",
       " 30.559999999999995,\n",
       " 127.139,\n",
       " 7.2,\n",
       " 76.14,\n",
       " 0.329,\n",
       " 39.894999999999996,\n",
       " 0.45899999999999996,\n",
       " 19.904,\n",
       " 3.7079999999999993,\n",
       " 2.368,\n",
       " 0.27,\n",
       " 0.36,\n",
       " 0.486,\n",
       " 0.54,\n",
       " 46.575,\n",
       " 57.161000000000016,\n",
       " 25.13,\n",
       " 4.9110000000000005,\n",
       " 4.8149999999999995,\n",
       " 8.549999999999999,\n",
       " 116.415,\n",
       " 18.430000000000003,\n",
       " 15.143,\n",
       " 8.280000000000001,\n",
       " 15.368,\n",
       " 0.09,\n",
       " 0.405,\n",
       " 0.27,\n",
       " 1.35,\n",
       " 0.27,\n",
       " 1.35,\n",
       " 0.45,\n",
       " 0.81,\n",
       " 13.74,\n",
       " 3.33,\n",
       " 7.65,\n",
       " 7.02,\n",
       " 2.7,\n",
       " 32.67,\n",
       " 35.363,\n",
       " 2.566,\n",
       " 42.35500000000001,\n",
       " 10.108,\n",
       " 2.1199999999999997,\n",
       " 0.415,\n",
       " 0.23399999999999999,\n",
       " 4.315,\n",
       " 3.785,\n",
       " 13.264999999999997,\n",
       " 2.5740000000000003,\n",
       " 1.575,\n",
       " 1.125,\n",
       " 0.72,\n",
       " 69.39999999999999,\n",
       " 18.887,\n",
       " 18.0,\n",
       " 2.75,\n",
       " 0.225,\n",
       " 0.518,\n",
       " 9.544999999999998,\n",
       " 5.04,\n",
       " 6.75,\n",
       " 0.072,\n",
       " 4.326000000000001,\n",
       " 24.169999999999998,\n",
       " 36.16,\n",
       " 0.43300000000000005,\n",
       " 3.8980000000000006,\n",
       " 1.285,\n",
       " 2.135,\n",
       " 3.5100000000000002,\n",
       " 7.143999999999998,\n",
       " 1.35,\n",
       " 0.158,\n",
       " 6.172,\n",
       " 21.807,\n",
       " 23.412999999999997,\n",
       " 1.0130000000000001,\n",
       " 58.155,\n",
       " 2.448,\n",
       " 5.67,\n",
       " 0.9,\n",
       " 5.67,\n",
       " 0.72,\n",
       " 0.135,\n",
       " 0.9,\n",
       " 0.126,\n",
       " 5.04,\n",
       " 36.5,\n",
       " 12.374999999999998,\n",
       " 19.78,\n",
       " 2.205,\n",
       " 4.095,\n",
       " 0.81,\n",
       " 0.405,\n",
       " 3.9600000000000004,\n",
       " 2.745,\n",
       " 0.135,\n",
       " 1.5570000000000002,\n",
       " 0.882,\n",
       " 4.469,\n",
       " 10.228000000000002,\n",
       " 5.932,\n",
       " 40.283,\n",
       " 0.054,\n",
       " 0.068,\n",
       " 3.178,\n",
       " 0.068,\n",
       " 14.267999999999999,\n",
       " 87.873,\n",
       " 0.023,\n",
       " 0.169,\n",
       " 0.338,\n",
       " 0.54,\n",
       " 0.743,\n",
       " 9.064999999999998,\n",
       " 3.7350000000000003,\n",
       " 2.7,\n",
       " 2.0300000000000002,\n",
       " 4.05,\n",
       " 1.96,\n",
       " 4.753,\n",
       " 1.734,\n",
       " 6.204,\n",
       " 34.949000000000005,\n",
       " 0.054,\n",
       " 0.6759999999999999,\n",
       " 0.113,\n",
       " 26.955000000000002,\n",
       " 0.855,\n",
       " 6.3,\n",
       " 4.905,\n",
       " 2.7,\n",
       " 0.36,\n",
       " 28.894999999999996,\n",
       " 3.38,\n",
       " 0.36,\n",
       " 12.014999999999999,\n",
       " 0.225,\n",
       " 0.72,\n",
       " 42.61,\n",
       " 2.25,\n",
       " 3.825,\n",
       " 0.054,\n",
       " 10.44,\n",
       " 4.185,\n",
       " 8.55,\n",
       " 11.115,\n",
       " 6.75,\n",
       " 3.195,\n",
       " 3.42,\n",
       " 1.4849999999999999,\n",
       " 4.798,\n",
       " 0.135,\n",
       " 38.900000000000006,\n",
       " 138.87,\n",
       " 33.794999999999995,\n",
       " 1.531,\n",
       " 7.6370000000000005,\n",
       " 0.324,\n",
       " 36.18,\n",
       " 0.36,\n",
       " 5.1209999999999996,\n",
       " 0.405,\n",
       " 0.18,\n",
       " 11.588,\n",
       " 0.225,\n",
       " 0.45,\n",
       " 0.225,\n",
       " 0.18,\n",
       " 1.5619999999999998,\n",
       " 0.675,\n",
       " 30.375000000000007,\n",
       " 0.9450000000000001,\n",
       " 0.495,\n",
       " 2.4299999999999997,\n",
       " 5.85,\n",
       " 0.54,\n",
       " 0.63,\n",
       " 0.261,\n",
       " 37.656,\n",
       " 1.35,\n",
       " 6.615,\n",
       " 0.54,\n",
       " 80.658,\n",
       " 1.35,\n",
       " 1.8,\n",
       " 47.598,\n",
       " 0.648,\n",
       " 12.96,\n",
       " 2.115,\n",
       " 6.029999999999999,\n",
       " 2.88,\n",
       " 2.52,\n",
       " 5.49,\n",
       " 0.9,\n",
       " 0.09,\n",
       " 1.44,\n",
       " 1.44,\n",
       " 0.45,\n",
       " 1.17,\n",
       " 0.004,\n",
       " 7.020000000000001,\n",
       " 4.551,\n",
       " 0.09,\n",
       " 0.383,\n",
       " 0.27,\n",
       " 0.36,\n",
       " 10.665000000000001,\n",
       " 2.25,\n",
       " 0.032,\n",
       " 1.71,\n",
       " 1.8,\n",
       " 1.53,\n",
       " 1.35,\n",
       " 17.253000000000004,\n",
       " 51.60700000000001,\n",
       " 3.2670000000000003,\n",
       " 2.25,\n",
       " 0.09,\n",
       " 2.97,\n",
       " 7.56,\n",
       " 1.08,\n",
       " 0.63,\n",
       " 1.26,\n",
       " 2.7,\n",
       " 27.9,\n",
       " 7.335,\n",
       " 0.27,\n",
       " 0.9,\n",
       " 10.8,\n",
       " 32.540000000000006,\n",
       " 0.54,\n",
       " 0.9,\n",
       " 0.99,\n",
       " 0.405,\n",
       " 0.158,\n",
       " 13.615,\n",
       " 0.972,\n",
       " 0.72,\n",
       " 1.58,\n",
       " 0.18,\n",
       " 1.35,\n",
       " 0.135,\n",
       " 0.09,\n",
       " 60.78000000000001,\n",
       " 0.09,\n",
       " 17.595,\n",
       " 0.45,\n",
       " 10.355,\n",
       " 0.023,\n",
       " 5.984999999999999,\n",
       " 0.81,\n",
       " 8.595,\n",
       " 1.125,\n",
       " 0.675,\n",
       " 0.225,\n",
       " 0.495,\n",
       " 1.08,\n",
       " 1.44,\n",
       " 0.45,\n",
       " 2.7,\n",
       " 79.66699999999999,\n",
       " 1.08,\n",
       " 0.9229999999999999,\n",
       " 10.17,\n",
       " 18.99,\n",
       " 0.585,\n",
       " 0.72,\n",
       " 0.72,\n",
       " 0.09,\n",
       " 0.315,\n",
       " 14.369,\n",
       " 0.068,\n",
       " 0.27,\n",
       " 7.726999999999999,\n",
       " 2.9299999999999997,\n",
       " 0.522,\n",
       " 0.495,\n",
       " 2.52,\n",
       " 0.72,\n",
       " 0.36,\n",
       " 2.7,\n",
       " 0.45,\n",
       " 2.7,\n",
       " 1.13,\n",
       " 1.004,\n",
       " 1.746,\n",
       " 0.315,\n",
       " 0.27,\n",
       " 0.023,\n",
       " 0.45,\n",
       " 3.239,\n",
       " 0.54,\n",
       " 0.54,\n",
       " 0.9,\n",
       " 0.9,\n",
       " 3.15,\n",
       " 34.120000000000005,\n",
       " 17.82,\n",
       " 0.225,\n",
       " 0.945,\n",
       " 0.45,\n",
       " 0.9,\n",
       " 0.563,\n",
       " 0.36,\n",
       " 0.09,\n",
       " 0.342,\n",
       " 1.22,\n",
       " 0.18,\n",
       " 0.405,\n",
       " 0.765,\n",
       " 0.077,\n",
       " 5.67,\n",
       " 1.26,\n",
       " 3.1500000000000004,\n",
       " 0.405,\n",
       " 2.25,\n",
       " 5.535,\n",
       " 1.513,\n",
       " 0.585,\n",
       " 0.225,\n",
       " 2.0700000000000003,\n",
       " 0.54,\n",
       " 10.98,\n",
       " 1.562,\n",
       " 0.568,\n",
       " 5.468,\n",
       " 0.189,\n",
       " 1.8,\n",
       " 0.36,\n",
       " 0.027,\n",
       " 0.675,\n",
       " 0.338,\n",
       " 0.338,\n",
       " 0.158,\n",
       " 18.27,\n",
       " 0.09,\n",
       " 0.315,\n",
       " 0.27,\n",
       " 0.792,\n",
       " 0.068,\n",
       " 21.575000000000003,\n",
       " 1.8,\n",
       " 1.08,\n",
       " 9.09,\n",
       " 11.34,\n",
       " 1.62,\n",
       " 22.97,\n",
       " 4.5,\n",
       " 1.35,\n",
       " 8.757,\n",
       " 2.7,\n",
       " 0.45,\n",
       " 1.71,\n",
       " 1.17,\n",
       " 0.09,\n",
       " 7.470000000000001,\n",
       " 8.676,\n",
       " 3.465,\n",
       " 3.6,\n",
       " 10.26,\n",
       " 1.17,\n",
       " 1.35,\n",
       " 0.365,\n",
       " 0.45,\n",
       " 0.9,\n",
       " 2.115,\n",
       " 2.246,\n",
       " 0.36,\n",
       " 3.03,\n",
       " 11.34,\n",
       " 8.595,\n",
       " 8.82,\n",
       " 2.52,\n",
       " 7.2,\n",
       " 0.518,\n",
       " 0.045,\n",
       " 0.077,\n",
       " 0.27,\n",
       " 1.0350000000000001,\n",
       " 0.045,\n",
       " 0.315,\n",
       " 0.225,\n",
       " 0.675,\n",
       " 5.4,\n",
       " 0.135,\n",
       " 1.35,\n",
       " 0.225,\n",
       " 0.099,\n",
       " 0.225,\n",
       " 0.135,\n",
       " 1.35,\n",
       " 0.45,\n",
       " 2.43,\n",
       " 0.18,\n",
       " 0.18,\n",
       " 1.1700000000000002,\n",
       " 0.9,\n",
       " 0.45,\n",
       " 7.74,\n",
       " 0.495,\n",
       " 0.9,\n",
       " 0.09,\n",
       " 0.36,\n",
       " 0.18,\n",
       " 8.775,\n",
       " 1.35,\n",
       " 0.113,\n",
       " 2.7,\n",
       " 0.473,\n",
       " 3.6,\n",
       " 0.495,\n",
       " 1.8,\n",
       " 0.068,\n",
       " 0.09,\n",
       " 1.62,\n",
       " 0.315,\n",
       " 0.18,\n",
       " 0.18,\n",
       " 0.315,\n",
       " 3.5549999999999997,\n",
       " 0.135,\n",
       " 0.18,\n",
       " 0.81,\n",
       " 0.72,\n",
       " 0.045,\n",
       " 0.068,\n",
       " 0.18,\n",
       " 0.198,\n",
       " 0.153,\n",
       " 0.045,\n",
       " 0.248,\n",
       " 0.27,\n",
       " 7.02,\n",
       " 0.9,\n",
       " 0.81,\n",
       " 0.743,\n",
       " 1.17,\n",
       " 0.45,\n",
       " 0.135,\n",
       " 0.675,\n",
       " 1.26,\n",
       " 3.6]"
      ]
     },
     "execution_count": 97,
     "metadata": {},
     "output_type": "execute_result"
    }
   ],
   "source": [
    "strengths_undir"
   ]
  },
  {
   "cell_type": "code",
   "execution_count": 98,
   "metadata": {},
   "outputs": [
    {
     "name": "stdout",
     "output_type": "stream",
     "text": [
      "570\n"
     ]
    }
   ],
   "source": [
    "j = 0\n",
    "Y = np.zeros(A.shape[0])\n",
    "for i in G_undir.nodes:\n",
    "    row = (A[j,:]/np.sum(A[j,:]))\n",
    "    row = row.toarray()\n",
    "    Y[j] = np.sum(row**2)\n",
    "    j = j+1\n",
    "    \n",
    "    \n",
    "print(j)"
   ]
  },
  {
   "cell_type": "code",
   "execution_count": 99,
   "metadata": {},
   "outputs": [],
   "source": [
    "degrees_undir = [G_undir.degree(n) for n in G_undir.nodes()]"
   ]
  },
  {
   "cell_type": "code",
   "execution_count": 100,
   "metadata": {},
   "outputs": [],
   "source": [
    "import sklearn\n",
    "from sklearn.linear_model import LinearRegression\n",
    "reg = LinearRegression().fit(np.log(degrees_undir).reshape(-1, 1), np.log(Y).reshape(-1, 1))"
   ]
  },
  {
   "cell_type": "code",
   "execution_count": 101,
   "metadata": {},
   "outputs": [
    {
     "name": "stdout",
     "output_type": "stream",
     "text": [
      "[-0.72100506]\n"
     ]
    }
   ],
   "source": [
    "print(reg.coef_[0]) # reasonably close to -1?\n"
   ]
  },
  {
   "cell_type": "code",
   "execution_count": 102,
   "metadata": {},
   "outputs": [
    {
     "data": {
      "image/png": "[encoded data removed]",
      "text/plain": [
       "<Figure size 288x576 with 1 Axes>"
      ]
     },
     "metadata": {
      "needs_background": "light"
     },
     "output_type": "display_data"
    }
   ],
   "source": [
    "\n",
    "\n",
    "x = degrees_undir\n",
    "y = Y\n",
    "plt.figure(figsize=(4,8))\n",
    "plt.scatter(x, y)\n",
    "plt.xscale('log')\n",
    "plt.yscale('log')\n",
    "\n",
    "plt.plot(np.exp(np.arange(0,3,0.01)), \n",
    "        np.exp(reg.predict(np.arange(0,3,0.01).reshape(-1, 1))), color=\"red\")\n",
    "\n",
    "ax = plt.gca()\n",
    "ax.xaxis.set_major_formatter(ScalarFormatter())\n",
    "plt.xlabel(\"log(k) - Number of Neighbours\",fontsize=16)\n",
    "plt.ylabel(\"log(Y) - Disparity\",fontsize=16)\n",
    "plt.xticks(fontsize=14, rotation=0)\n",
    "plt.yticks(fontsize=14, rotation=0)\n",
    "plt.savefig(year+\"_DisparityPlot\",bbox_inches='tight')\n",
    "\n",
    "plt.show()\n"
   ]
  },
  {
   "cell_type": "code",
   "execution_count": 103,
   "metadata": {},
   "outputs": [
    {
     "name": "stdout",
     "output_type": "stream",
     "text": [
      "0.0085388429954033\n",
      "0.9262128755585775\n"
     ]
    },
    {
     "data": {
      "text/html": [
       "<table class=\"simpletable\">\n",
       "<caption>OLS Regression Results</caption>\n",
       "<tr>\n",
       "  <th>Dep. Variable:</th>            <td>y</td>        <th>  R-squared:         </th> <td>   0.926</td> \n",
       "</tr>\n",
       "<tr>\n",
       "  <th>Model:</th>                   <td>OLS</td>       <th>  Adj. R-squared:    </th> <td>   0.926</td> \n",
       "</tr>\n",
       "<tr>\n",
       "  <th>Method:</th>             <td>Least Squares</td>  <th>  F-statistic:       </th> <td>   7130.</td> \n",
       "</tr>\n",
       "<tr>\n",
       "  <th>Date:</th>             <td>Tue, 16 Nov 2021</td> <th>  Prob (F-statistic):</th> <td>9.88e-324</td>\n",
       "</tr>\n",
       "<tr>\n",
       "  <th>Time:</th>                 <td>11:38:58</td>     <th>  Log-Likelihood:    </th> <td>  118.50</td> \n",
       "</tr>\n",
       "<tr>\n",
       "  <th>No. Observations:</th>      <td>   570</td>      <th>  AIC:               </th> <td>  -233.0</td> \n",
       "</tr>\n",
       "<tr>\n",
       "  <th>Df Residuals:</th>          <td>   568</td>      <th>  BIC:               </th> <td>  -224.3</td> \n",
       "</tr>\n",
       "<tr>\n",
       "  <th>Df Model:</th>              <td>     1</td>      <th>                     </th>     <td> </td>    \n",
       "</tr>\n",
       "<tr>\n",
       "  <th>Covariance Type:</th>      <td>nonrobust</td>    <th>                     </th>     <td> </td>    \n",
       "</tr>\n",
       "</table>\n",
       "<table class=\"simpletable\">\n",
       "<tr>\n",
       "    <td></td>       <th>coef</th>     <th>std err</th>      <th>t</th>      <th>P>|t|</th>  <th>[0.025</th>    <th>0.975]</th>  \n",
       "</tr>\n",
       "<tr>\n",
       "  <th>const</th> <td>    0.0170</td> <td>    0.011</td> <td>    1.510</td> <td> 0.132</td> <td>   -0.005</td> <td>    0.039</td>\n",
       "</tr>\n",
       "<tr>\n",
       "  <th>x1</th>    <td>   -0.7210</td> <td>    0.009</td> <td>  -84.438</td> <td> 0.000</td> <td>   -0.738</td> <td>   -0.704</td>\n",
       "</tr>\n",
       "</table>\n",
       "<table class=\"simpletable\">\n",
       "<tr>\n",
       "  <th>Omnibus:</th>       <td>70.998</td> <th>  Durbin-Watson:     </th> <td>   1.844</td>\n",
       "</tr>\n",
       "<tr>\n",
       "  <th>Prob(Omnibus):</th> <td> 0.000</td> <th>  Jarque-Bera (JB):  </th> <td> 129.597</td>\n",
       "</tr>\n",
       "<tr>\n",
       "  <th>Skew:</th>          <td> 0.755</td> <th>  Prob(JB):          </th> <td>7.22e-29</td>\n",
       "</tr>\n",
       "<tr>\n",
       "  <th>Kurtosis:</th>      <td> 4.781</td> <th>  Cond. No.          </th> <td>    2.43</td>\n",
       "</tr>\n",
       "</table><br/><br/>Notes:<br/>[1] Standard Errors assume that the covariance matrix of the errors is correctly specified."
      ],
      "text/plain": [
       "<class 'statsmodels.iolib.summary.Summary'>\n",
       "\"\"\"\n",
       "                            OLS Regression Results                            \n",
       "==============================================================================\n",
       "Dep. Variable:                      y   R-squared:                       0.926\n",
       "Model:                            OLS   Adj. R-squared:                  0.926\n",
       "Method:                 Least Squares   F-statistic:                     7130.\n",
       "Date:                Tue, 16 Nov 2021   Prob (F-statistic):          9.88e-324\n",
       "Time:                        11:38:58   Log-Likelihood:                 118.50\n",
       "No. Observations:                 570   AIC:                            -233.0\n",
       "Df Residuals:                     568   BIC:                            -224.3\n",
       "Df Model:                           1                                         \n",
       "Covariance Type:            nonrobust                                         \n",
       "==============================================================================\n",
       "                 coef    std err          t      P>|t|      [0.025      0.975]\n",
       "------------------------------------------------------------------------------\n",
       "const          0.0170      0.011      1.510      0.132      -0.005       0.039\n",
       "x1            -0.7210      0.009    -84.438      0.000      -0.738      -0.704\n",
       "==============================================================================\n",
       "Omnibus:                       70.998   Durbin-Watson:                   1.844\n",
       "Prob(Omnibus):                  0.000   Jarque-Bera (JB):              129.597\n",
       "Skew:                           0.755   Prob(JB):                     7.22e-29\n",
       "Kurtosis:                       4.781   Cond. No.                         2.43\n",
       "==============================================================================\n",
       "\n",
       "Notes:\n",
       "[1] Standard Errors assume that the covariance matrix of the errors is correctly specified.\n",
       "\"\"\""
      ]
     },
     "execution_count": 103,
     "metadata": {},
     "output_type": "execute_result"
    }
   ],
   "source": [
    "\n",
    "X = np.log(degrees_undir).reshape(-1, 1)\n",
    "X =  sm.add_constant(X)\n",
    "model = sm.OLS(np.log(Y), X)\n",
    "resultDisp= model.fit()\n",
    "print(resultDisp.bse[1])\n",
    "print(resultDisp.rsquared)\n",
    "resultDisp.summary()"
   ]
  },
  {
   "cell_type": "code",
   "execution_count": 104,
   "metadata": {},
   "outputs": [
    {
     "name": "stdout",
     "output_type": "stream",
     "text": [
      "   Slope In-Degree  StandError Slope In  R^2 In-Degree  Slope Out-Degree  \\\n",
      "0         -2.15552             0.195163       0.910439         -3.372028   \n",
      "\n",
      "   StandError Slope Out  R^2 Out-Degree  Slope Disparity  \\\n",
      "0              0.525719        0.837203        -0.721005   \n",
      "\n",
      "   StandError Disparity  R^2 Disparity  \n",
      "0              0.008539       0.926213  \n"
     ]
    }
   ],
   "source": [
    "OutSlopes=pd.DataFrame(data = {\"Slope In-Degree\": regIN.coef_[0],\n",
    "                               \"StandError Slope In\": resultIN.bse[1],\n",
    "                               \"R^2 In-Degree\":resultIN.rsquared,\n",
    "                    \"Slope Out-Degree\": regOUT.coef_[0],\n",
    "                              \"StandError Slope Out\": resultOUT.bse[1],\n",
    "                              \"R^2 Out-Degree\":resultOUT.rsquared,\n",
    "                              \"Slope Disparity\": reg.coef_[0],\n",
    "                              \"StandError Disparity\":resultDisp.bse[1] ,\n",
    "                              \"R^2 Disparity\":resultDisp.rsquared})\n",
    "print(OutSlopes)\n",
    "OutSlopes.to_csv(year+\"_slopes.csv\",index=False)"
   ]
  },
  {
   "cell_type": "markdown",
   "metadata": {},
   "source": [
    "## Conclusion\n",
    "Save some important results as an exported txt"
   ]
  },
  {
   "cell_type": "code",
   "execution_count": 105,
   "metadata": {},
   "outputs": [
    {
     "ename": "NameError",
     "evalue": "name 'SW' is not defined",
     "output_type": "error",
     "traceback": [
      "\u001b[0;31m---------------------------------------------------------------------------\u001b[0m",
      "\u001b[0;31mNameError\u001b[0m                                 Traceback (most recent call last)",
      "\u001b[0;32m/tmp/ipykernel_90177/195544709.py\u001b[0m in \u001b[0;36m<module>\u001b[0;34m\u001b[0m\n\u001b[1;32m      2\u001b[0m                          \u001b[0;34m\"NumberClubs\"\u001b[0m\u001b[0;34m:\u001b[0m \u001b[0mNumberNodes\u001b[0m\u001b[0;34m,\u001b[0m\u001b[0;34m\u001b[0m\u001b[0;34m\u001b[0m\u001b[0m\n\u001b[1;32m      3\u001b[0m                          \u001b[0;34m\"NumberTransfers\"\u001b[0m\u001b[0;34m:\u001b[0m \u001b[0mDF_clean\u001b[0m\u001b[0;34m.\u001b[0m\u001b[0mshape\u001b[0m\u001b[0;34m[\u001b[0m\u001b[0;36m0\u001b[0m\u001b[0;34m]\u001b[0m\u001b[0;34m,\u001b[0m\u001b[0;34m\u001b[0m\u001b[0;34m\u001b[0m\u001b[0m\n\u001b[0;32m----> 4\u001b[0;31m                          \u001b[0;34m\"SmallWorld\"\u001b[0m\u001b[0;34m:\u001b[0m \u001b[0mSW\u001b[0m\u001b[0;34m,\u001b[0m\u001b[0;34m\u001b[0m\u001b[0;34m\u001b[0m\u001b[0m\n\u001b[0m\u001b[1;32m      5\u001b[0m                         \u001b[0;34m\"DisparityExponent\"\u001b[0m\u001b[0;34m:\u001b[0m \u001b[0mreg\u001b[0m\u001b[0;34m.\u001b[0m\u001b[0mcoef_\u001b[0m\u001b[0;34m[\u001b[0m\u001b[0;36m0\u001b[0m\u001b[0;34m]\u001b[0m\u001b[0;34m,\u001b[0m\u001b[0;34m\u001b[0m\u001b[0;34m\u001b[0m\u001b[0m\n\u001b[1;32m      6\u001b[0m                          \u001b[0;34m\"BDN_RandomClusteringExpecation\"\u001b[0m\u001b[0;34m:\u001b[0m \u001b[0mp\u001b[0m\u001b[0;34m,\u001b[0m\u001b[0;34m\u001b[0m\u001b[0;34m\u001b[0m\u001b[0m\n",
      "\u001b[0;31mNameError\u001b[0m: name 'SW' is not defined"
     ]
    }
   ],
   "source": [
    "Out = pd.DataFrame(data={\"Year\":year,\n",
    "                         \"NumberClubs\": NumberNodes,\n",
    "                         \"NumberTransfers\": DF_clean.shape[0],\n",
    "                         \"SmallWorld\": SW,\n",
    "                        \"DisparityExponent\": reg.coef_[0],\n",
    "                         \"BDN_RandomClusteringExpecation\": p,\n",
    "                        \"BDN_Clustering\": BDN_C,\n",
    "                        \"WDN_Clustering\":WDN_C,\n",
    "                        \"MeanLogStrength\":np.mean(log_strengths), \n",
    "                         \"StdLogStrength\":np.std(log_strengths), \n",
    "                         \"SkewnessLogStrength\":skew(log_strengths)})"
   ]
  },
  {
   "cell_type": "code",
   "execution_count": null,
   "metadata": {},
   "outputs": [],
   "source": [
    "#Out.to_csv(year+\"_results.csv\",index=False)"
   ]
  },
  {
   "cell_type": "code",
   "execution_count": null,
   "metadata": {},
   "outputs": [],
   "source": [
    "Out"
   ]
  },
  {
   "cell_type": "code",
   "execution_count": null,
   "metadata": {},
   "outputs": [],
   "source": []
  },
  {
   "cell_type": "code",
   "execution_count": null,
   "metadata": {},
   "outputs": [],
   "source": [
    "year"
   ]
  },
  {
   "cell_type": "code",
   "execution_count": null,
   "metadata": {},
   "outputs": [],
   "source": []
  }
 ],
 "metadata": {
  "kernelspec": {
   "display_name": "Python 3 (ipykernel)",
   "language": "python",
   "name": "python3"
  },
  "language_info": {
   "codemirror_mode": {
    "name": "ipython",
    "version": 3
   },
   "file_extension": ".py",
   "mimetype": "text/x-python",
   "name": "python",
   "nbconvert_exporter": "python",
   "pygments_lexer": "ipython3",
   "version": "3.7.3"
  }
 },
 "nbformat": 4,
 "nbformat_minor": 4
}
