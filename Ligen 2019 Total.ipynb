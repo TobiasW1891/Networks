{
 "cells": [
  {
   "cell_type": "markdown",
   "metadata": {},
   "source": [
    "import sys\n",
    "!{sys.executable} -m pip install pydot"
   ]
  },
  {
   "cell_type": "code",
   "execution_count": 131,
   "metadata": {},
   "outputs": [],
   "source": [
    "import pandas as pd\n",
    "import scipy\n",
    "from scipy.stats import skew\n",
    "import matplotlib.pyplot as plt\n",
    "import numpy as np\n",
    "import networkx\n",
    "import networkx.convert_matrix as nx\n",
    "import pyvis\n",
    "import graphviz\n",
    "from pyvis.network import Network\n",
    "import pyvis.network as net\n",
    "import pydot\n",
    "import random\n",
    "import time\n",
    "from matplotlib.ticker import ScalarFormatter\n",
    "\n",
    "# https://towardsdatascience.com/social-network-analysis-from-theory-to-applications-with-python-d12e9a34c2c7\n",
    "# https://github.com/ewenme/transfers\n",
    "# https://towardsdatascience.com/visualizing-networks-in-python-d70f4cbeb259\n",
    "# https://github.com/MridulS/pydata-networkx\n",
    "# https://datapane.com/u/khuyentran1401/reports/63OQaRk/pyvis-visualize-interactive-network-graphs-in-python/"
   ]
  },
  {
   "cell_type": "code",
   "execution_count": 231,
   "metadata": {},
   "outputs": [],
   "source": [
    "year = \"2019\""
   ]
  },
  {
   "cell_type": "code",
   "execution_count": 232,
   "metadata": {},
   "outputs": [],
   "source": [
    "BuLi19 = pd.read_csv(year+\"_german_bundesliga_1.csv\")\n"
   ]
  },
  {
   "cell_type": "code",
   "execution_count": 2,
   "metadata": {},
   "outputs": [],
   "source": [
    "BuLi19 = pd.read_csv(year+\"_german_bundesliga_1.csv\")\n",
    "PL19 = pd.read_csv(\"2019_english_premier_league.csv\")\n",
    "SA19 = pd.read_csv(\"2019_italian_serie_a.csv\")\n",
    "PD19 = pd.read_csv(\"2019_spanish_primera_division.csv\")\n",
    "L1_19 = pd.read_csv(\"2019_french_ligue_1.csv\")\n",
    "NOS19 = pd.read_csv(\"2019_portugese_liga_nos.csv\")\n",
    "Ere19 = pd.read_csv(\"2019_dutch_eredivisie.csv\")\n",
    "EC19 = pd.read_csv(\"2019_english_championship.csv\")\n",
    "Rus19 = pd.read_csv(\"2019_russian_premier_liga.csv\")"
   ]
  },
  {
   "cell_type": "code",
   "execution_count": 3,
   "metadata": {},
   "outputs": [
    {
     "data": {
      "text/plain": [
       "500          Aston Villa\n",
       "501          Aston Villa\n",
       "502          Aston Villa\n",
       "503          Aston Villa\n",
       "504          Aston Villa\n",
       "505          Aston Villa\n",
       "506          Aston Villa\n",
       "507          Aston Villa\n",
       "508          Aston Villa\n",
       "509          Aston Villa\n",
       "510          Aston Villa\n",
       "511          Aston Villa\n",
       "512          Aston Villa\n",
       "513          Aston Villa\n",
       "514          Aston Villa\n",
       "515          Aston Villa\n",
       "516          Aston Villa\n",
       "517          Aston Villa\n",
       "518          Aston Villa\n",
       "519          Aston Villa\n",
       "520          Aston Villa\n",
       "521          Aston Villa\n",
       "522          Aston Villa\n",
       "523          Aston Villa\n",
       "524          Aston Villa\n",
       "525          Aston Villa\n",
       "526          Aston Villa\n",
       "527          Aston Villa\n",
       "528      Manchester City\n",
       "529      Manchester City\n",
       "530      Manchester City\n",
       "531         Liverpool FC\n",
       "532         Liverpool FC\n",
       "533         Liverpool FC\n",
       "534           Chelsea FC\n",
       "535           Chelsea FC\n",
       "536           Chelsea FC\n",
       "537           Chelsea FC\n",
       "538           Chelsea FC\n",
       "539           Chelsea FC\n",
       "540           Chelsea FC\n",
       "541           Chelsea FC\n",
       "542           Chelsea FC\n",
       "543           Chelsea FC\n",
       "544    Tottenham Hotspur\n",
       "545    Tottenham Hotspur\n",
       "546    Tottenham Hotspur\n",
       "547    Tottenham Hotspur\n",
       "548    Tottenham Hotspur\n",
       "549    Tottenham Hotspur\n",
       "Name: club_name, dtype: object"
      ]
     },
     "execution_count": 3,
     "metadata": {},
     "output_type": "execute_result"
    }
   ],
   "source": [
    "PL19[\"club_name\"].iloc[500:550]"
   ]
  },
  {
   "cell_type": "code",
   "execution_count": 4,
   "metadata": {},
   "outputs": [],
   "source": [
    "DF19 = pd.concat([BuLi19, PL19, SA19,\n",
    "                  PD19, L1_19, NOS19, \n",
    "                  Ere19, EC19, Rus19])"
   ]
  },
  {
   "cell_type": "code",
   "execution_count": 5,
   "metadata": {},
   "outputs": [
    {
     "data": {
      "text/plain": [
       "(7279, 12)"
      ]
     },
     "execution_count": 5,
     "metadata": {},
     "output_type": "execute_result"
    }
   ],
   "source": [
    "DF19.shape"
   ]
  },
  {
   "cell_type": "code",
   "execution_count": 6,
   "metadata": {},
   "outputs": [
    {
     "data": {
      "text/plain": [
       "0      False\n",
       "1      False\n",
       "2      False\n",
       "3      False\n",
       "4      False\n",
       "       ...  \n",
       "582    False\n",
       "583    False\n",
       "584    False\n",
       "585    False\n",
       "586    False\n",
       "Name: club_name, Length: 7279, dtype: bool"
      ]
     },
     "execution_count": 6,
     "metadata": {},
     "output_type": "execute_result"
    }
   ],
   "source": [
    "DF19[\"club_name\"].isin([\"Leicester City\"])"
   ]
  },
  {
   "cell_type": "code",
   "execution_count": 7,
   "metadata": {},
   "outputs": [
    {
     "data": {
      "text/html": [
       "<div>\n",
       "<style scoped>\n",
       "    .dataframe tbody tr th:only-of-type {\n",
       "        vertical-align: middle;\n",
       "    }\n",
       "\n",
       "    .dataframe tbody tr th {\n",
       "        vertical-align: top;\n",
       "    }\n",
       "\n",
       "    .dataframe thead th {\n",
       "        text-align: right;\n",
       "    }\n",
       "</style>\n",
       "<table border=\"1\" class=\"dataframe\">\n",
       "  <thead>\n",
       "    <tr style=\"text-align: right;\">\n",
       "      <th></th>\n",
       "      <th>club_name</th>\n",
       "      <th>player_name</th>\n",
       "      <th>age</th>\n",
       "      <th>position</th>\n",
       "      <th>club_involved_name</th>\n",
       "      <th>fee</th>\n",
       "      <th>transfer_movement</th>\n",
       "      <th>transfer_period</th>\n",
       "      <th>fee_cleaned</th>\n",
       "      <th>league_name</th>\n",
       "      <th>year</th>\n",
       "      <th>season</th>\n",
       "    </tr>\n",
       "  </thead>\n",
       "  <tbody>\n",
       "    <tr>\n",
       "      <th>0</th>\n",
       "      <td>Bayern Munich</td>\n",
       "      <td>Lucas Hernández</td>\n",
       "      <td>23</td>\n",
       "      <td>Centre-Back</td>\n",
       "      <td>Atlético Madrid</td>\n",
       "      <td>£72.00m</td>\n",
       "      <td>in</td>\n",
       "      <td>Summer</td>\n",
       "      <td>72.00</td>\n",
       "      <td>1 Bundesliga</td>\n",
       "      <td>2019</td>\n",
       "      <td>2019/2020</td>\n",
       "    </tr>\n",
       "    <tr>\n",
       "      <th>1</th>\n",
       "      <td>Bayern Munich</td>\n",
       "      <td>Benjamin Pavard</td>\n",
       "      <td>23</td>\n",
       "      <td>Right-Back</td>\n",
       "      <td>VfB Stuttgart</td>\n",
       "      <td>£31.50m</td>\n",
       "      <td>in</td>\n",
       "      <td>Summer</td>\n",
       "      <td>31.50</td>\n",
       "      <td>1 Bundesliga</td>\n",
       "      <td>2019</td>\n",
       "      <td>2019/2020</td>\n",
       "    </tr>\n",
       "    <tr>\n",
       "      <th>2</th>\n",
       "      <td>Bayern Munich</td>\n",
       "      <td>Michaël Cuisance</td>\n",
       "      <td>20</td>\n",
       "      <td>Central Midfield</td>\n",
       "      <td>Bor. M'gladbach</td>\n",
       "      <td>£10.80m</td>\n",
       "      <td>in</td>\n",
       "      <td>Summer</td>\n",
       "      <td>10.80</td>\n",
       "      <td>1 Bundesliga</td>\n",
       "      <td>2019</td>\n",
       "      <td>2019/2020</td>\n",
       "    </tr>\n",
       "    <tr>\n",
       "      <th>3</th>\n",
       "      <td>Bayern Munich</td>\n",
       "      <td>Philippe Coutinho</td>\n",
       "      <td>27</td>\n",
       "      <td>Attacking Midfield</td>\n",
       "      <td>FC Barcelona</td>\n",
       "      <td>Loan fee:£7.65m</td>\n",
       "      <td>in</td>\n",
       "      <td>Summer</td>\n",
       "      <td>7.65</td>\n",
       "      <td>1 Bundesliga</td>\n",
       "      <td>2019</td>\n",
       "      <td>2019/2020</td>\n",
       "    </tr>\n",
       "    <tr>\n",
       "      <th>4</th>\n",
       "      <td>Bayern Munich</td>\n",
       "      <td>Ivan Perisic</td>\n",
       "      <td>30</td>\n",
       "      <td>Left Winger</td>\n",
       "      <td>Inter</td>\n",
       "      <td>Loan fee:£4.50m</td>\n",
       "      <td>in</td>\n",
       "      <td>Summer</td>\n",
       "      <td>4.50</td>\n",
       "      <td>1 Bundesliga</td>\n",
       "      <td>2019</td>\n",
       "      <td>2019/2020</td>\n",
       "    </tr>\n",
       "    <tr>\n",
       "      <th>...</th>\n",
       "      <td>...</td>\n",
       "      <td>...</td>\n",
       "      <td>...</td>\n",
       "      <td>...</td>\n",
       "      <td>...</td>\n",
       "      <td>...</td>\n",
       "      <td>...</td>\n",
       "      <td>...</td>\n",
       "      <td>...</td>\n",
       "      <td>...</td>\n",
       "      <td>...</td>\n",
       "      <td>...</td>\n",
       "    </tr>\n",
       "    <tr>\n",
       "      <th>582</th>\n",
       "      <td>FC Sochi</td>\n",
       "      <td>Giannelli Imbula</td>\n",
       "      <td>27</td>\n",
       "      <td>Defensive Midfield</td>\n",
       "      <td>Stoke City</td>\n",
       "      <td>Free transfer</td>\n",
       "      <td>in</td>\n",
       "      <td>Winter</td>\n",
       "      <td>0.00</td>\n",
       "      <td>Premier Liga</td>\n",
       "      <td>2019</td>\n",
       "      <td>2019/2020</td>\n",
       "    </tr>\n",
       "    <tr>\n",
       "      <th>583</th>\n",
       "      <td>FC Sochi</td>\n",
       "      <td>Aleksandr Kokorin</td>\n",
       "      <td>28</td>\n",
       "      <td>Centre-Forward</td>\n",
       "      <td>Zenit S-Pb</td>\n",
       "      <td>Loan</td>\n",
       "      <td>in</td>\n",
       "      <td>Winter</td>\n",
       "      <td>0.00</td>\n",
       "      <td>Premier Liga</td>\n",
       "      <td>2019</td>\n",
       "      <td>2019/2020</td>\n",
       "    </tr>\n",
       "    <tr>\n",
       "      <th>584</th>\n",
       "      <td>FC Sochi</td>\n",
       "      <td>Fedor Kudryashov</td>\n",
       "      <td>32</td>\n",
       "      <td>Left-Back</td>\n",
       "      <td>Antalyaspor</td>\n",
       "      <td>Free transfer</td>\n",
       "      <td>out</td>\n",
       "      <td>Winter</td>\n",
       "      <td>0.00</td>\n",
       "      <td>Premier Liga</td>\n",
       "      <td>2019</td>\n",
       "      <td>2019/2020</td>\n",
       "    </tr>\n",
       "    <tr>\n",
       "      <th>585</th>\n",
       "      <td>FC Sochi</td>\n",
       "      <td>Evgeniy Frolov</td>\n",
       "      <td>31</td>\n",
       "      <td>Goalkeeper</td>\n",
       "      <td>KS Samara</td>\n",
       "      <td>Free transfer</td>\n",
       "      <td>out</td>\n",
       "      <td>Winter</td>\n",
       "      <td>0.00</td>\n",
       "      <td>Premier Liga</td>\n",
       "      <td>2019</td>\n",
       "      <td>2019/2020</td>\n",
       "    </tr>\n",
       "    <tr>\n",
       "      <th>586</th>\n",
       "      <td>FC Sochi</td>\n",
       "      <td>Igor Yurganov</td>\n",
       "      <td>26</td>\n",
       "      <td>Centre-Back</td>\n",
       "      <td>Tambov</td>\n",
       "      <td>Loan</td>\n",
       "      <td>out</td>\n",
       "      <td>Winter</td>\n",
       "      <td>0.00</td>\n",
       "      <td>Premier Liga</td>\n",
       "      <td>2019</td>\n",
       "      <td>2019/2020</td>\n",
       "    </tr>\n",
       "  </tbody>\n",
       "</table>\n",
       "<p>7279 rows × 12 columns</p>\n",
       "</div>"
      ],
      "text/plain": [
       "         club_name        player_name  age            position  \\\n",
       "0    Bayern Munich    Lucas Hernández   23         Centre-Back   \n",
       "1    Bayern Munich    Benjamin Pavard   23          Right-Back   \n",
       "2    Bayern Munich   Michaël Cuisance   20    Central Midfield   \n",
       "3    Bayern Munich  Philippe Coutinho   27  Attacking Midfield   \n",
       "4    Bayern Munich       Ivan Perisic   30         Left Winger   \n",
       "..             ...                ...  ...                 ...   \n",
       "582       FC Sochi   Giannelli Imbula   27  Defensive Midfield   \n",
       "583       FC Sochi  Aleksandr Kokorin   28      Centre-Forward   \n",
       "584       FC Sochi   Fedor Kudryashov   32           Left-Back   \n",
       "585       FC Sochi     Evgeniy Frolov   31          Goalkeeper   \n",
       "586       FC Sochi      Igor Yurganov   26         Centre-Back   \n",
       "\n",
       "    club_involved_name              fee transfer_movement transfer_period  \\\n",
       "0      Atlético Madrid          £72.00m                in          Summer   \n",
       "1        VfB Stuttgart          £31.50m                in          Summer   \n",
       "2      Bor. M'gladbach          £10.80m                in          Summer   \n",
       "3         FC Barcelona  Loan fee:£7.65m                in          Summer   \n",
       "4                Inter  Loan fee:£4.50m                in          Summer   \n",
       "..                 ...              ...               ...             ...   \n",
       "582         Stoke City    Free transfer                in          Winter   \n",
       "583         Zenit S-Pb             Loan                in          Winter   \n",
       "584        Antalyaspor    Free transfer               out          Winter   \n",
       "585          KS Samara    Free transfer               out          Winter   \n",
       "586             Tambov             Loan               out          Winter   \n",
       "\n",
       "     fee_cleaned   league_name  year     season  \n",
       "0          72.00  1 Bundesliga  2019  2019/2020  \n",
       "1          31.50  1 Bundesliga  2019  2019/2020  \n",
       "2          10.80  1 Bundesliga  2019  2019/2020  \n",
       "3           7.65  1 Bundesliga  2019  2019/2020  \n",
       "4           4.50  1 Bundesliga  2019  2019/2020  \n",
       "..           ...           ...   ...        ...  \n",
       "582         0.00  Premier Liga  2019  2019/2020  \n",
       "583         0.00  Premier Liga  2019  2019/2020  \n",
       "584         0.00  Premier Liga  2019  2019/2020  \n",
       "585         0.00  Premier Liga  2019  2019/2020  \n",
       "586         0.00  Premier Liga  2019  2019/2020  \n",
       "\n",
       "[7279 rows x 12 columns]"
      ]
     },
     "execution_count": 7,
     "metadata": {},
     "output_type": "execute_result"
    }
   ],
   "source": [
    "DF19"
   ]
  },
  {
   "cell_type": "code",
   "execution_count": 8,
   "metadata": {},
   "outputs": [],
   "source": [
    "## There is a problem with \"double names\", e.g. Leicester and Leicester City\n",
    "def Change(DF,old,new):\n",
    "    DF.loc[DF[\"club_name\"].isin([old]), [\"club_name\"]] = new\n",
    "    DF.loc[DF[\"club_involved_name\"].isin([old]), [\"club_involved_name\"]] = new\n",
    "    return DF"
   ]
  },
  {
   "cell_type": "code",
   "execution_count": 9,
   "metadata": {},
   "outputs": [],
   "source": [
    "old = [\"Leicester\", \"SC Paderborn\", \"Real Betis\", \"Sassuolo\", \"Liverpool\", \"Watford\", \"Queens Park Rangers\",\n",
    "       \"Brighton & Hove Albion\", \"Manchester United\", \"Inter\", \"UC Sampdoria\", \"Genoa\", \"Juventus FC\", \"Braga\",\n",
    "      \"Zenit S-Pb\", \"Valencia CF\", \"Marseille\", \"Espanyol\", \"Villarreal\", \"Getafe\", \"Toulouse\", \"Cardiff\",\n",
    "      \"Paris Saint-Germain\", \"SL Benfica\", \"R. Strasbourg\", \"Racing Club\", \"Spartak Moscow\", \"Ajax Amsterdam\",\n",
    "      \"Feyenoord Rotterdam\", \"Dijon FCO\", \"F. Düsseldorf\", \"Man City\", \"E. Frankfurt\", \"West Ham United\",\n",
    "      \"Huddersfield Town\", \"Charlton\", \"Nottm Forest\", \"Swansea\", \"SS Lazio\", \"Arsenal FC\", \"Newcastle\",\n",
    "      \"Chelsea FC\", \"Vitesse Arnheim\", \"Heerenveen\"]"
   ]
  },
  {
   "cell_type": "code",
   "execution_count": 10,
   "metadata": {},
   "outputs": [],
   "source": [
    "new = [\"Leicester City\", \"SC Paderborn 07\", \"Real Betis Balompié\", \"US Sassuolo\", \"Liverpool FC\", \"Watford FC\",\n",
    "      \"QPR\", \"Brighton\", \"Man Utd\", \"Inter Milan\", \"Sampdoria\", \"Genoa CFC\", \"Juventus\", \"SC Braga\", \n",
    "       \"Zenit St. Petersburg\", \"Valencia\", \"Olympique Marseille\", \"RCD Espanyol Barcelona\", \"Villarreal CF\", \n",
    "       \"Getafe CF\", \"FC Toulouse\", \"Cardiff City\", \"Paris SG\", \"Benfica\", \"RC Strasbourg Alsace\", \"RC Strasbourg Alsace\",\n",
    "      \"Spartak\", \"Ajax\", \"Feyenoord\", \"Dijon\", \"Fortuna Düsseldorf\", \"Manchester City\",\"Eintracht Frankfurt\", \"West Ham\",\n",
    "       \"Huddersfield\",\"Charlton Athletic\", \"Nottingham Forest\", \"Swansea City\", \"Lazio\", \"Arsenal\", \"Newcastle United\",\n",
    "       \"Chelsea\",\"Vitesse\", \"SC Heerenveen\"]"
   ]
  },
  {
   "cell_type": "code",
   "execution_count": 11,
   "metadata": {},
   "outputs": [],
   "source": [
    "for i in range(len(new)):\n",
    "    DF19 = Change(DF19, old[i], new[i])\n"
   ]
  },
  {
   "cell_type": "code",
   "execution_count": 12,
   "metadata": {},
   "outputs": [
    {
     "data": {
      "text/plain": [
       "0"
      ]
     },
     "execution_count": 12,
     "metadata": {},
     "output_type": "execute_result"
    }
   ],
   "source": [
    "sum(DF19[\"club_involved_name\"].isin(old))"
   ]
  },
  {
   "cell_type": "markdown",
   "metadata": {},
   "source": [
    "## Clean the Data"
   ]
  },
  {
   "cell_type": "code",
   "execution_count": 13,
   "metadata": {},
   "outputs": [],
   "source": [
    "def DelCol(DF):\n",
    "    DF = DF.loc[DF[\"transfer_movement\"]==\"in\"] # only one direction of transfers should be considered\n",
    "    DF = DF.loc[DF[\"fee_cleaned\"]>0] # only \"real\" transfers\n",
    "    del DF[\"player_name\"]\n",
    "    del DF[\"transfer_movement\"]\n",
    "    del DF[\"age\"]\n",
    "    del DF[\"position\"]\n",
    "    del DF[\"fee\"]\n",
    "    del DF[\"league_name\"]\n",
    "    del DF[\"transfer_period\"]\n",
    "    del DF[\"year\"]\n",
    "    del DF[\"season\"]\n",
    "    return(DF)\n",
    "\n"
   ]
  },
  {
   "cell_type": "code",
   "execution_count": 14,
   "metadata": {},
   "outputs": [],
   "source": [
    "DF19 = DelCol(DF19)"
   ]
  },
  {
   "cell_type": "code",
   "execution_count": 15,
   "metadata": {
    "scrolled": true
   },
   "outputs": [
    {
     "name": "stdout",
     "output_type": "stream",
     "text": [
      "             club_name        player_name  age            position  \\\n",
      "0        Bayern Munich    Lucas Hernández   23         Centre-Back   \n",
      "1        Bayern Munich    Benjamin Pavard   23          Right-Back   \n",
      "2        Bayern Munich   Michaël Cuisance   20    Central Midfield   \n",
      "3        Bayern Munich  Philippe Coutinho   27  Attacking Midfield   \n",
      "4        Bayern Munich       Ivan Perisic   30         Left Winger   \n",
      "..                 ...                ...  ...                 ...   \n",
      "585  1.FC Union Berlin        Yunus Malli   27  Attacking Midfield   \n",
      "586  1.FC Union Berlin      Lennart Moser   20          Goalkeeper   \n",
      "587  1.FC Union Berlin    Lennard Maloney   20         Centre-Back   \n",
      "588  1.FC Union Berlin       Nicolai Rapp   23         Centre-Back   \n",
      "589  1.FC Union Berlin      Lennart Moser   20          Goalkeeper   \n",
      "\n",
      "    club_involved_name                      fee transfer_movement  \\\n",
      "0      Atlético Madrid                  £72.00m                in   \n",
      "1        VfB Stuttgart                  £31.50m                in   \n",
      "2      Bor. M'gladbach                  £10.80m                in   \n",
      "3         FC Barcelona          Loan fee:£7.65m                in   \n",
      "4                Inter          Loan fee:£4.50m                in   \n",
      "..                 ...                      ...               ...   \n",
      "585      VfL Wolfsburg                     Loan                in   \n",
      "586    Energie Cottbus  End of loanJan 20, 2020                in   \n",
      "587      Chemnitzer FC                     Loan               out   \n",
      "588    SV Darmstadt 98                     Loan               out   \n",
      "589      Cercle Brugge                     Loan               out   \n",
      "\n",
      "    transfer_period  fee_cleaned   league_name  year     season colour  \n",
      "0            Summer        72.00  1 Bundesliga  2019  2019/2020    red  \n",
      "1            Summer        31.50  1 Bundesliga  2019  2019/2020    red  \n",
      "2            Summer        10.80  1 Bundesliga  2019  2019/2020    red  \n",
      "3            Summer         7.65  1 Bundesliga  2019  2019/2020    red  \n",
      "4            Summer         4.50  1 Bundesliga  2019  2019/2020    red  \n",
      "..              ...          ...           ...   ...        ...    ...  \n",
      "585          Winter         0.00  1 Bundesliga  2019  2019/2020    red  \n",
      "586          Winter         0.00  1 Bundesliga  2019  2019/2020    red  \n",
      "587          Winter         0.00  1 Bundesliga  2019  2019/2020    red  \n",
      "588          Winter         0.00  1 Bundesliga  2019  2019/2020    red  \n",
      "589          Winter         0.00  1 Bundesliga  2019  2019/2020    red  \n",
      "\n",
      "[590 rows x 13 columns]\n"
     ]
    }
   ],
   "source": [
    "BuLi19[\"colour\"] = \"red\"\n",
    "print(BuLi19)"
   ]
  },
  {
   "cell_type": "code",
   "execution_count": null,
   "metadata": {},
   "outputs": [],
   "source": []
  },
  {
   "cell_type": "code",
   "execution_count": null,
   "metadata": {},
   "outputs": [],
   "source": []
  },
  {
   "cell_type": "markdown",
   "metadata": {},
   "source": [
    "### Combine multiple transfers between clubs a and b"
   ]
  },
  {
   "cell_type": "code",
   "execution_count": 16,
   "metadata": {},
   "outputs": [],
   "source": [
    "# now as a function\n",
    "        \n",
    "def AddFees(DF): # adds fees of multiple transfers from club a to b\n",
    "    # output\n",
    "    DF_out = pd.DataFrame({'club_name' : [],\n",
    "                         \"club_involved_name\":[],\n",
    "                         \"fee_cleaned\":[]})\n",
    "    \n",
    "    for i in range(DF.shape[0]):\n",
    "        # is this a new match?\n",
    "        if DF_out.loc[(DF_out[\"club_name\"]== DF[\"club_name\"].iloc[i])&  \n",
    "                     DF_out[\"club_involved_name\"].isin([DF[\"club_involved_name\"].iloc[i]])].size ==0:\n",
    "            DF_out = DF_out.append(DF.iloc[i])\n",
    "        else:\n",
    "            # add fee value to already existing value\n",
    "            DF_out[\"fee_cleaned\"].loc[(DF_out[\"club_name\"]== DF[\"club_name\"].iloc[i])&  \n",
    "                     DF_out[\"club_involved_name\"].isin([DF[\"club_involved_name\"].iloc[i]])] += DF[\"fee_cleaned\"].iloc[i]\n",
    "            \n",
    "    return(DF_out)    \n",
    "        "
   ]
  },
  {
   "cell_type": "code",
   "execution_count": 17,
   "metadata": {},
   "outputs": [
    {
     "name": "stderr",
     "output_type": "stream",
     "text": [
      "/home/users/t_wand01/.local/lib/python3.7/site-packages/pandas/core/indexing.py:1732: SettingWithCopyWarning: \n",
      "A value is trying to be set on a copy of a slice from a DataFrame\n",
      "\n",
      "See the caveats in the documentation: https://pandas.pydata.org/pandas-docs/stable/user_guide/indexing.html#returning-a-view-versus-a-copy\n",
      "  self._setitem_single_block(indexer, value, name)\n"
     ]
    }
   ],
   "source": [
    "DF19 = AddFees(DF19)"
   ]
  },
  {
   "cell_type": "code",
   "execution_count": 18,
   "metadata": {},
   "outputs": [
    {
     "data": {
      "text/html": [
       "<div>\n",
       "<style scoped>\n",
       "    .dataframe tbody tr th:only-of-type {\n",
       "        vertical-align: middle;\n",
       "    }\n",
       "\n",
       "    .dataframe tbody tr th {\n",
       "        vertical-align: top;\n",
       "    }\n",
       "\n",
       "    .dataframe thead th {\n",
       "        text-align: right;\n",
       "    }\n",
       "</style>\n",
       "<table border=\"1\" class=\"dataframe\">\n",
       "  <thead>\n",
       "    <tr style=\"text-align: right;\">\n",
       "      <th></th>\n",
       "      <th>club_name</th>\n",
       "      <th>club_involved_name</th>\n",
       "      <th>fee_cleaned</th>\n",
       "    </tr>\n",
       "  </thead>\n",
       "  <tbody>\n",
       "    <tr>\n",
       "      <th>0</th>\n",
       "      <td>Bayern Munich</td>\n",
       "      <td>Atlético Madrid</td>\n",
       "      <td>72.000</td>\n",
       "    </tr>\n",
       "    <tr>\n",
       "      <th>1</th>\n",
       "      <td>Bayern Munich</td>\n",
       "      <td>VfB Stuttgart</td>\n",
       "      <td>31.500</td>\n",
       "    </tr>\n",
       "    <tr>\n",
       "      <th>2</th>\n",
       "      <td>Bayern Munich</td>\n",
       "      <td>Bor. M'gladbach</td>\n",
       "      <td>10.800</td>\n",
       "    </tr>\n",
       "    <tr>\n",
       "      <th>3</th>\n",
       "      <td>Bayern Munich</td>\n",
       "      <td>FC Barcelona</td>\n",
       "      <td>7.650</td>\n",
       "    </tr>\n",
       "    <tr>\n",
       "      <th>4</th>\n",
       "      <td>Bayern Munich</td>\n",
       "      <td>Inter Milan</td>\n",
       "      <td>4.500</td>\n",
       "    </tr>\n",
       "    <tr>\n",
       "      <th>...</th>\n",
       "      <td>...</td>\n",
       "      <td>...</td>\n",
       "      <td>...</td>\n",
       "    </tr>\n",
       "    <tr>\n",
       "      <th>537</th>\n",
       "      <td>Dynamo Moscow</td>\n",
       "      <td>Mladá Boleslav</td>\n",
       "      <td>3.150</td>\n",
       "    </tr>\n",
       "    <tr>\n",
       "      <th>545</th>\n",
       "      <td>Krylya Sovetov Samara</td>\n",
       "      <td>Al-Shorta SC</td>\n",
       "      <td>0.135</td>\n",
       "    </tr>\n",
       "    <tr>\n",
       "      <th>558</th>\n",
       "      <td>FK Ufa</td>\n",
       "      <td>Loko Tashkent</td>\n",
       "      <td>0.180</td>\n",
       "    </tr>\n",
       "    <tr>\n",
       "      <th>559</th>\n",
       "      <td>FK Ufa</td>\n",
       "      <td>Anzhi</td>\n",
       "      <td>0.162</td>\n",
       "    </tr>\n",
       "    <tr>\n",
       "      <th>580</th>\n",
       "      <td>FC Sochi</td>\n",
       "      <td>Pyunik Yerevan</td>\n",
       "      <td>0.450</td>\n",
       "    </tr>\n",
       "  </tbody>\n",
       "</table>\n",
       "<p>851 rows × 3 columns</p>\n",
       "</div>"
      ],
      "text/plain": [
       "                 club_name club_involved_name  fee_cleaned\n",
       "0            Bayern Munich    Atlético Madrid       72.000\n",
       "1            Bayern Munich      VfB Stuttgart       31.500\n",
       "2            Bayern Munich    Bor. M'gladbach       10.800\n",
       "3            Bayern Munich       FC Barcelona        7.650\n",
       "4            Bayern Munich        Inter Milan        4.500\n",
       "..                     ...                ...          ...\n",
       "537          Dynamo Moscow     Mladá Boleslav        3.150\n",
       "545  Krylya Sovetov Samara       Al-Shorta SC        0.135\n",
       "558                 FK Ufa      Loko Tashkent        0.180\n",
       "559                 FK Ufa              Anzhi        0.162\n",
       "580               FC Sochi     Pyunik Yerevan        0.450\n",
       "\n",
       "[851 rows x 3 columns]"
      ]
     },
     "execution_count": 18,
     "metadata": {},
     "output_type": "execute_result"
    }
   ],
   "source": [
    "DF19"
   ]
  },
  {
   "cell_type": "markdown",
   "metadata": {},
   "source": [
    "## Second Data Set: Undirected\n",
    "Combine both transfer fees from A to B and B to A as one \"transfer volume\""
   ]
  },
  {
   "cell_type": "code",
   "execution_count": 19,
   "metadata": {},
   "outputs": [],
   "source": [
    "DFun19 =  pd.DataFrame({'club1' : [],\n",
    "                         \"club2\":[],\n",
    "                         \"fee_cleaned\":[]})"
   ]
  },
  {
   "cell_type": "code",
   "execution_count": 20,
   "metadata": {},
   "outputs": [],
   "source": [
    "DFun19[\"club1\"] = np.minimum(DF19['club_name'], DF19['club_involved_name']) \n",
    "DFun19[\"club2\"] = np.maximum(DF19['club_name'], DF19['club_involved_name']) "
   ]
  },
  {
   "cell_type": "code",
   "execution_count": 21,
   "metadata": {},
   "outputs": [],
   "source": [
    "       \n",
    "def AddFeesUndirected(DF): # adds fees of multiple transfers from club a to b\n",
    "    # output\n",
    "    DF_out = pd.DataFrame({'club_name' : [],\n",
    "                         \"club_involved_name\":[],\n",
    "                         \"fee_cleaned\":[]})\n",
    "    \n",
    "    for i in range(DF.shape[0]):\n",
    "        # is this a new match?\n",
    "        \n",
    "        if ((DF_out.loc[(DF_out[\"club_name\"]== DF[\"club_name\"].iloc[i])&  \n",
    "                     DF_out[\"club_involved_name\"].isin([DF[\"club_involved_name\"].iloc[i]])].size ==0) and \n",
    "            (DF_out.loc[(DF_out[\"club_involved_name\"]== DF[\"club_name\"].iloc[i])&  # Neither direction!\n",
    "                     DF_out[\"club_name\"].isin([DF[\"club_involved_name\"].iloc[i]])].size ==0)):\n",
    "            DF_out = DF_out.append(DF.iloc[i])\n",
    "        \n",
    "        elif (DF_out.loc[(DF_out[\"club_name\"]== DF[\"club_name\"].iloc[i])&  \n",
    "                     DF_out[\"club_involved_name\"].isin([DF[\"club_involved_name\"].iloc[i]])].size > 0):\n",
    "            # add fee value to already existing value\n",
    "            DF_out[\"fee_cleaned\"].loc[(DF_out[\"club_name\"]== DF[\"club_name\"].iloc[i])&  \n",
    "                     DF_out[\"club_involved_name\"].isin([DF[\"club_involved_name\"].iloc[i]])] += DF[\"fee_cleaned\"].iloc[i]\n",
    "        \n",
    "        else: # add the \"reversed\" fee to existing value\n",
    "            DF_out[\"fee_cleaned\"].loc[(DF_out[\"club_involved_name\"]== DF[\"club_name\"].iloc[i])&  \n",
    "                     DF_out[\"club_name\"].isin([DF[\"club_involved_name\"].iloc[i]])] += DF[\"fee_cleaned\"].iloc[i]\n",
    "            \n",
    "            \n",
    "    return(DF_out)    \n",
    "        "
   ]
  },
  {
   "cell_type": "code",
   "execution_count": 22,
   "metadata": {},
   "outputs": [
    {
     "name": "stderr",
     "output_type": "stream",
     "text": [
      "/home/users/t_wand01/.local/lib/python3.7/site-packages/pandas/core/indexing.py:1732: SettingWithCopyWarning: \n",
      "A value is trying to be set on a copy of a slice from a DataFrame\n",
      "\n",
      "See the caveats in the documentation: https://pandas.pydata.org/pandas-docs/stable/user_guide/indexing.html#returning-a-view-versus-a-copy\n",
      "  self._setitem_single_block(indexer, value, name)\n"
     ]
    }
   ],
   "source": [
    "DFun19 = AddFeesUndirected(DF19)"
   ]
  },
  {
   "cell_type": "markdown",
   "metadata": {},
   "source": [
    "# Graphs"
   ]
  },
  {
   "cell_type": "code",
   "execution_count": 23,
   "metadata": {},
   "outputs": [],
   "source": [
    "G = nx.from_pandas_edgelist(DF19, \n",
    "                            source = \"club_name\",\n",
    "                            target = \"club_involved_name\",\n",
    "                            edge_attr=[\"fee_cleaned\"],#, \"colour\"],\n",
    "                            create_using=networkx.DiGraph()\n",
    "                           )"
   ]
  },
  {
   "cell_type": "code",
   "execution_count": 24,
   "metadata": {},
   "outputs": [],
   "source": [
    "# Teams of individual leagues 19/20\n",
    "BL19_teams = list(set(BuLi19[\"club_name\"])) # Bundesliga\n",
    "BL19List = pd.Series(BL19_teams)\n",
    "\n",
    "PL19List = pd.Series(list(set(PL19[\"club_name\"])))\n",
    "SA19List = pd.Series(list(set(SA19[\"club_name\"])))\n",
    "PD19List = pd.Series(list(set(PD19[\"club_name\"])))\n",
    "L119List = pd.Series(list(set(L1_19[\"club_name\"])))\n",
    "\n"
   ]
  },
  {
   "cell_type": "markdown",
   "metadata": {},
   "source": [
    "\n",
    "l = [\"red\", \"blue\"]\n",
    "print(len(G.nodes))\n",
    "Colours = random.choices(l, k=len(G.nodes))"
   ]
  },
  {
   "cell_type": "code",
   "execution_count": 25,
   "metadata": {},
   "outputs": [],
   "source": [
    "Colours = [\"none\"]*len(G.nodes)\n",
    "j = 0\n",
    "for i in G.nodes:\n",
    "    if np.sum(BL19List.isin([i])) > 0: # if Bundesliga-Team\n",
    "        Colours[j] = \"red\"\n",
    "    j = j+1"
   ]
  },
  {
   "cell_type": "code",
   "execution_count": 26,
   "metadata": {},
   "outputs": [
    {
     "data": {
      "image/png": "[encoded data removed]",
      "text/plain": [
       "<Figure size 432x288 with 1 Axes>"
      ]
     },
     "metadata": {},
     "output_type": "display_data"
    }
   ],
   "source": [
    "networkx.draw_kamada_kawai(G,node_color = Colours, with_labels=False, alpha=0.1)"
   ]
  },
  {
   "cell_type": "code",
   "execution_count": 27,
   "metadata": {},
   "outputs": [],
   "source": [
    "def Colour1(node):\n",
    "    if np.sum(BL19List.isin([node])):\n",
    "        out = \"red\"\n",
    "    elif np.sum(PL19List.isin([node])):\n",
    "        out = \"blue\"\n",
    "    elif np.sum(SA19List.isin([node])):\n",
    "        out = \"green\" \n",
    "    elif np.sum(PD19List.isin([node])):\n",
    "        out = \"yellow\"\n",
    "    elif np.sum(L119List.isin([node])):\n",
    "        out = \"purple\"\n",
    "    else:\n",
    "        out = \"none\"\n",
    "    return(out)"
   ]
  },
  {
   "cell_type": "code",
   "execution_count": 28,
   "metadata": {},
   "outputs": [],
   "source": [
    "j = 0\n",
    "for i in G.nodes:\n",
    "    Colours[j] = Colour1(i)\n",
    "    j = j+1"
   ]
  },
  {
   "cell_type": "code",
   "execution_count": 29,
   "metadata": {},
   "outputs": [
    {
     "data": {
      "image/png": "[encoded data removed]",
      "text/plain": [
       "<Figure size 432x288 with 1 Axes>"
      ]
     },
     "metadata": {},
     "output_type": "display_data"
    }
   ],
   "source": [
    "networkx.draw_spring(G,node_color = Colours, with_labels=False, alpha = 0.1)"
   ]
  },
  {
   "cell_type": "code",
   "execution_count": 30,
   "metadata": {},
   "outputs": [
    {
     "data": {
      "image/png": "[encoded data removed]",
      "text/plain": [
       "<Figure size 432x288 with 1 Axes>"
      ]
     },
     "metadata": {},
     "output_type": "display_data"
    }
   ],
   "source": [
    "networkx.draw_circular(G,node_color = Colours, with_labels=False, alpha = 0.1)\n",
    "# one can see blocks of the individual countries + crosslinks"
   ]
  },
  {
   "cell_type": "code",
   "execution_count": null,
   "metadata": {},
   "outputs": [],
   "source": []
  },
  {
   "cell_type": "code",
   "execution_count": null,
   "metadata": {},
   "outputs": [],
   "source": []
  },
  {
   "cell_type": "code",
   "execution_count": 31,
   "metadata": {
    "scrolled": true
   },
   "outputs": [
    {
     "data": {
      "text/html": [
       "\n",
       "        <iframe\n",
       "            width=\"800px\"\n",
       "            height=\"800px\"\n",
       "            src=\"Test.html\"\n",
       "            frameborder=\"0\"\n",
       "            allowfullscreen\n",
       "            \n",
       "        ></iframe>\n",
       "        "
      ],
      "text/plain": [
       "<IPython.lib.display.IFrame at 0x7f6f185585f8>"
      ]
     },
     "execution_count": 31,
     "metadata": {},
     "output_type": "execute_result"
    }
   ],
   "source": [
    "net = Network(\"800px\", \"800px\",notebook=True)\n",
    "net.from_nx(G)\n",
    "net.show(\"Test.html\")\n",
    "# net.save_graph(\"Test.html\")"
   ]
  },
  {
   "cell_type": "markdown",
   "metadata": {},
   "source": [
    "## Pyvis"
   ]
  },
  {
   "cell_type": "code",
   "execution_count": 32,
   "metadata": {},
   "outputs": [],
   "source": [
    "g = Network(notebook=True)\n",
    "G = nx.from_pandas_edgelist(DFun19, \n",
    "                            source = \"club_involved_name\",\n",
    "                            target = \"club_name\",\n",
    "                            edge_attr=[\"fee_cleaned\"],#, \"colour\"],\n",
    "                            create_using=networkx.DiGraph()\n",
    "                           )"
   ]
  },
  {
   "cell_type": "markdown",
   "metadata": {},
   "source": [
    "g.add_nodes(np.array(G.nodes), \n",
    "            color = random.choices([\"red\",\"grey\"], k=len(G.nodes)),\n",
    "            options = {\n",
    "                \"title\":\"lel\"\n",
    "            })"
   ]
  },
  {
   "cell_type": "code",
   "execution_count": 33,
   "metadata": {},
   "outputs": [],
   "source": [
    "def Colour(node):\n",
    "    # from https://www.hexcolortool.com/#f429ff,0.33\n",
    "    if np.sum(BL19List.isin([node])):\n",
    "        out = \"rgba(244, 15, 11, 0.66)\"\n",
    "    elif np.sum(PL19List.isin([node])):\n",
    "        out = \"rgba(41, 155, 255, 0.66)\"\n",
    "    elif np.sum(SA19List.isin([node])):\n",
    "        out = \"rgba(41, 255, 77, 0.66)\" \n",
    "    elif np.sum(PD19List.isin([node])):\n",
    "        out = \"rgba(255, 241, 41, 0.66)\"\n",
    "    elif np.sum(L119List.isin([node])):\n",
    "        out = \"rgba(244, 41, 255, 0.66)\"\n",
    "    else:\n",
    "        out = \"rgba(0, 0, 0, 0.22)\"\n",
    "    return(out)"
   ]
  },
  {
   "cell_type": "code",
   "execution_count": 34,
   "metadata": {},
   "outputs": [],
   "source": [
    "# https://www.hexcolortool.com/#f40f0b,0.33\n",
    "for node in G.nodes:\n",
    "    g.add_node(str(node), color = Colour(node), #alpha=0.1,\n",
    "              options = {\"physics\":False\n",
    "              })"
   ]
  },
  {
   "cell_type": "code",
   "execution_count": 35,
   "metadata": {},
   "outputs": [],
   "source": [
    "#var options = {\n",
    "# \"nodes\": {\n",
    "#    \"color\": {\n",
    "#      \"border\": \"rgba(43,124,233,0.46)\",\n",
    "#      \"background\": \"rgba(90,65,252,0.51)\"\n",
    "#    }\n",
    "#  },\n",
    "#  \"edges\": {\n",
    "#    \"color\": {\n",
    "#      \"inherit\": true\n",
    "#    },\n",
    "#    \"smooth\": false\n",
    "#  },\n",
    "#  \"physics\": {\n",
    "# \"enabled\": false,\n",
    "#    \"repulsion\": {\n",
    "#     \"springLength\": 500\n",
    "#   },\n",
    "#    \"minVelocity\": 0.75,\n",
    "#    \"solver\": \"repulsion\"\n",
    "#  }\n",
    "#}"
   ]
  },
  {
   "cell_type": "code",
   "execution_count": 36,
   "metadata": {},
   "outputs": [],
   "source": [
    "#g.add_edges(DF19[\"club_name\"],DF19[\"club_involved_name\"], value =DF19[\"fee_cleaned\"])"
   ]
  },
  {
   "cell_type": "code",
   "execution_count": 37,
   "metadata": {},
   "outputs": [],
   "source": [
    "for i in range(DFun19.shape[0]):\n",
    "    g.add_edge(DFun19[\"club_name\"].iloc[i], \n",
    "              DFun19[\"club_involved_name\"].iloc[i],\n",
    "              value=DFun19[\"fee_cleaned\"].iloc[i], \n",
    "            kwargs ={\n",
    "               \"physics\":False\n",
    "           })\n"
   ]
  },
  {
   "cell_type": "code",
   "execution_count": 38,
   "metadata": {},
   "outputs": [
    {
     "data": {
      "text/html": [
       "\n",
       "        <iframe\n",
       "            width=\"500px\"\n",
       "            height=\"500px\"\n",
       "            src=\"Test.html\"\n",
       "            frameborder=\"0\"\n",
       "            allowfullscreen\n",
       "            \n",
       "        ></iframe>\n",
       "        "
      ],
      "text/plain": [
       "<IPython.lib.display.IFrame at 0x7f6f181ac080>"
      ]
     },
     "execution_count": 38,
     "metadata": {},
     "output_type": "execute_result"
    }
   ],
   "source": [
    "g.show(\"Test.html\")"
   ]
  },
  {
   "cell_type": "code",
   "execution_count": 39,
   "metadata": {},
   "outputs": [],
   "source": [
    "g.save_graph(\"2019_allLeagues.html\")"
   ]
  },
  {
   "cell_type": "code",
   "execution_count": null,
   "metadata": {},
   "outputs": [],
   "source": []
  },
  {
   "cell_type": "code",
   "execution_count": 40,
   "metadata": {},
   "outputs": [
    {
     "data": {
      "text/plain": [
       "851"
      ]
     },
     "execution_count": 40,
     "metadata": {},
     "output_type": "execute_result"
    }
   ],
   "source": [
    "DF19.shape[0]"
   ]
  },
  {
   "cell_type": "code",
   "execution_count": null,
   "metadata": {},
   "outputs": [],
   "source": []
  },
  {
   "cell_type": "code",
   "execution_count": null,
   "metadata": {},
   "outputs": [],
   "source": []
  },
  {
   "cell_type": "code",
   "execution_count": null,
   "metadata": {},
   "outputs": [],
   "source": []
  },
  {
   "cell_type": "code",
   "execution_count": null,
   "metadata": {},
   "outputs": [],
   "source": []
  },
  {
   "cell_type": "markdown",
   "metadata": {},
   "source": [
    "## Analysis"
   ]
  },
  {
   "cell_type": "code",
   "execution_count": 42,
   "metadata": {},
   "outputs": [],
   "source": [
    "G_undir = nx.from_pandas_edgelist(DFun19, \n",
    "                            source = \"club_name\",\n",
    "                            target = \"club_involved_name\",\n",
    "                            edge_attr=\"fee_cleaned\",\n",
    "                            create_using=networkx.Graph # or Graph, DiGraph, MultiGraph, MultiDiGraph\n",
    "                           )"
   ]
  },
  {
   "cell_type": "markdown",
   "metadata": {},
   "source": [
    "#### Small World"
   ]
  },
  {
   "cell_type": "code",
   "execution_count": 68,
   "metadata": {},
   "outputs": [],
   "source": [
    "## Small world\n",
    "\n",
    "# random reference graph\n",
    "#G_ref = networkx.algorithms.smallworld.random_reference(G_undir, seed = 10)\n",
    "#DFcon19 = DFun19.iloc[DFun19[\"club_name\"]!=\"SC Paderborn 07\"]\n",
    "#DFcon19 = DFcon19.iloc[DFcon19[\"club_involved_name\"]!=\"SC Paderborn 07\"]\n",
    "SepList = [\"Vitória Setúbal FC\",\"RKC Waalwijk\",\"Covilhã\",\"Luton Town\",\n",
    "         \"Portimonense SC\",\"Vitória Guimarães SC\",\"FK Ufa\", \"VfL Bochum\"]\n",
    "\n",
    "DFcon19 = DFun19.drop(DFun19[ DFun19['club_name'].isin( SepList)].index)\n",
    "DFcon19 = DFcon19.drop(DFcon19[ DFcon19['club_involved_name'].isin(SepList)].index)\n",
    "\n",
    "#networkx.algorithms.smallworld.sigma(G_undir,niter=10, seed=10)"
   ]
  },
  {
   "cell_type": "code",
   "execution_count": 69,
   "metadata": {},
   "outputs": [
    {
     "data": {
      "text/html": [
       "<div>\n",
       "<style scoped>\n",
       "    .dataframe tbody tr th:only-of-type {\n",
       "        vertical-align: middle;\n",
       "    }\n",
       "\n",
       "    .dataframe tbody tr th {\n",
       "        vertical-align: top;\n",
       "    }\n",
       "\n",
       "    .dataframe thead th {\n",
       "        text-align: right;\n",
       "    }\n",
       "</style>\n",
       "<table border=\"1\" class=\"dataframe\">\n",
       "  <thead>\n",
       "    <tr style=\"text-align: right;\">\n",
       "      <th></th>\n",
       "      <th>club_name</th>\n",
       "      <th>club_involved_name</th>\n",
       "      <th>fee_cleaned</th>\n",
       "    </tr>\n",
       "  </thead>\n",
       "  <tbody>\n",
       "    <tr>\n",
       "      <th>0</th>\n",
       "      <td>Bayern Munich</td>\n",
       "      <td>Atlético Madrid</td>\n",
       "      <td>72.000</td>\n",
       "    </tr>\n",
       "    <tr>\n",
       "      <th>1</th>\n",
       "      <td>Bayern Munich</td>\n",
       "      <td>VfB Stuttgart</td>\n",
       "      <td>31.500</td>\n",
       "    </tr>\n",
       "    <tr>\n",
       "      <th>2</th>\n",
       "      <td>Bayern Munich</td>\n",
       "      <td>Bor. M'gladbach</td>\n",
       "      <td>10.800</td>\n",
       "    </tr>\n",
       "    <tr>\n",
       "      <th>3</th>\n",
       "      <td>Bayern Munich</td>\n",
       "      <td>FC Barcelona</td>\n",
       "      <td>7.650</td>\n",
       "    </tr>\n",
       "    <tr>\n",
       "      <th>4</th>\n",
       "      <td>Bayern Munich</td>\n",
       "      <td>Inter Milan</td>\n",
       "      <td>4.500</td>\n",
       "    </tr>\n",
       "    <tr>\n",
       "      <th>...</th>\n",
       "      <td>...</td>\n",
       "      <td>...</td>\n",
       "      <td>...</td>\n",
       "    </tr>\n",
       "    <tr>\n",
       "      <th>525</th>\n",
       "      <td>Rubin Kazan</td>\n",
       "      <td>Torpedo Moscow</td>\n",
       "      <td>0.045</td>\n",
       "    </tr>\n",
       "    <tr>\n",
       "      <th>536</th>\n",
       "      <td>Dynamo Moscow</td>\n",
       "      <td>Krasnodar</td>\n",
       "      <td>3.870</td>\n",
       "    </tr>\n",
       "    <tr>\n",
       "      <th>537</th>\n",
       "      <td>Dynamo Moscow</td>\n",
       "      <td>Mladá Boleslav</td>\n",
       "      <td>3.150</td>\n",
       "    </tr>\n",
       "    <tr>\n",
       "      <th>545</th>\n",
       "      <td>Krylya Sovetov Samara</td>\n",
       "      <td>Al-Shorta SC</td>\n",
       "      <td>0.135</td>\n",
       "    </tr>\n",
       "    <tr>\n",
       "      <th>580</th>\n",
       "      <td>FC Sochi</td>\n",
       "      <td>Pyunik Yerevan</td>\n",
       "      <td>0.450</td>\n",
       "    </tr>\n",
       "  </tbody>\n",
       "</table>\n",
       "<p>810 rows × 3 columns</p>\n",
       "</div>"
      ],
      "text/plain": [
       "                 club_name club_involved_name  fee_cleaned\n",
       "0            Bayern Munich    Atlético Madrid       72.000\n",
       "1            Bayern Munich      VfB Stuttgart       31.500\n",
       "2            Bayern Munich    Bor. M'gladbach       10.800\n",
       "3            Bayern Munich       FC Barcelona        7.650\n",
       "4            Bayern Munich        Inter Milan        4.500\n",
       "..                     ...                ...          ...\n",
       "525            Rubin Kazan     Torpedo Moscow        0.045\n",
       "536          Dynamo Moscow          Krasnodar        3.870\n",
       "537          Dynamo Moscow     Mladá Boleslav        3.150\n",
       "545  Krylya Sovetov Samara       Al-Shorta SC        0.135\n",
       "580               FC Sochi     Pyunik Yerevan        0.450\n",
       "\n",
       "[810 rows x 3 columns]"
      ]
     },
     "execution_count": 69,
     "metadata": {},
     "output_type": "execute_result"
    }
   ],
   "source": [
    "DFcon19"
   ]
  },
  {
   "cell_type": "code",
   "execution_count": 70,
   "metadata": {},
   "outputs": [],
   "source": [
    "G_undirconnected = nx.from_pandas_edgelist(DFcon19, \n",
    "                            source = \"club_name\",\n",
    "                            target = \"club_involved_name\",\n",
    "                            edge_attr=\"fee_cleaned\",\n",
    "                            create_using=networkx.Graph # or Graph, DiGraph, MultiGraph, MultiDiGraph\n",
    "                           )\n",
    "\n",
    "\n"
   ]
  },
  {
   "cell_type": "code",
   "execution_count": 71,
   "metadata": {},
   "outputs": [
    {
     "data": {
      "text/plain": [
       "'rgba(244, 15, 11, 0.66)'"
      ]
     },
     "execution_count": 71,
     "metadata": {},
     "output_type": "execute_result"
    }
   ],
   "source": [
    "Colour(\"SC Paderborn 07\")"
   ]
  },
  {
   "cell_type": "code",
   "execution_count": 72,
   "metadata": {
    "scrolled": false
   },
   "outputs": [
    {
     "data": {
      "text/html": [
       "\n",
       "        <iframe\n",
       "            width=\"800px\"\n",
       "            height=\"800px\"\n",
       "            src=\"nx.html\"\n",
       "            frameborder=\"0\"\n",
       "            allowfullscreen\n",
       "            \n",
       "        ></iframe>\n",
       "        "
      ],
      "text/plain": [
       "<IPython.lib.display.IFrame at 0x7f6f186cb6d8>"
      ]
     },
     "execution_count": 72,
     "metadata": {},
     "output_type": "execute_result"
    }
   ],
   "source": [
    "# Quick check: plot\n",
    "nt = Network('800px', '800px',notebook=True)\n",
    "#nt.from_nx(G_undirconnected)\n",
    "\n",
    "\n",
    "for node in G_undirconnected.nodes:\n",
    "    nt.add_node(str(node), color = Colour(node), #alpha=0.1,\n",
    "              options = {\n",
    "              })\n",
    "    \n",
    "for i in range(DFcon19.shape[0]):\n",
    "    nt.add_edge(DFcon19[\"club_name\"].iloc[i], \n",
    "              DFcon19[\"club_involved_name\"].iloc[i],\n",
    "              value=DFcon19[\"fee_cleaned\"].iloc[i], \n",
    "            kwargs ={\n",
    "               \"physics\":False\n",
    "           })\n",
    "\n",
    "nt.show('nx.html')\n",
    "# Is connected!!"
   ]
  },
  {
   "cell_type": "code",
   "execution_count": 73,
   "metadata": {},
   "outputs": [],
   "source": [
    "nt.save_graph(\"2019_connection.html\")"
   ]
  },
  {
   "cell_type": "code",
   "execution_count": null,
   "metadata": {},
   "outputs": [],
   "source": []
  },
  {
   "cell_type": "code",
   "execution_count": null,
   "metadata": {},
   "outputs": [],
   "source": []
  },
  {
   "cell_type": "code",
   "execution_count": null,
   "metadata": {},
   "outputs": [],
   "source": []
  },
  {
   "cell_type": "code",
   "execution_count": 49,
   "metadata": {},
   "outputs": [
    {
     "ename": "KeyboardInterrupt",
     "evalue": "",
     "output_type": "error",
     "traceback": [
      "\u001b[0;31m---------------------------------------------------------------------------\u001b[0m",
      "\u001b[0;31mKeyboardInterrupt\u001b[0m                         Traceback (most recent call last)",
      "\u001b[0;32m/tmp/ipykernel_154278/1481580215.py\u001b[0m in \u001b[0;36m<module>\u001b[0;34m\u001b[0m\n\u001b[1;32m      1\u001b[0m \u001b[0mstart\u001b[0m \u001b[0;34m=\u001b[0m \u001b[0mtime\u001b[0m\u001b[0;34m.\u001b[0m\u001b[0mtime\u001b[0m\u001b[0;34m(\u001b[0m\u001b[0;34m)\u001b[0m\u001b[0;34m\u001b[0m\u001b[0;34m\u001b[0m\u001b[0m\n\u001b[1;32m      2\u001b[0m \u001b[0;34m\u001b[0m\u001b[0m\n\u001b[0;32m----> 3\u001b[0;31m \u001b[0mSW\u001b[0m \u001b[0;34m=\u001b[0m \u001b[0mnetworkx\u001b[0m\u001b[0;34m.\u001b[0m\u001b[0malgorithms\u001b[0m\u001b[0;34m.\u001b[0m\u001b[0msmallworld\u001b[0m\u001b[0;34m.\u001b[0m\u001b[0msigma\u001b[0m\u001b[0;34m(\u001b[0m\u001b[0mG_undirconnected\u001b[0m\u001b[0;34m,\u001b[0m\u001b[0mniter\u001b[0m\u001b[0;34m=\u001b[0m\u001b[0;36m20\u001b[0m\u001b[0;34m,\u001b[0m \u001b[0mseed\u001b[0m\u001b[0;34m=\u001b[0m\u001b[0;36m10\u001b[0m\u001b[0;34m)\u001b[0m\u001b[0;34m\u001b[0m\u001b[0;34m\u001b[0m\u001b[0m\n\u001b[0m\u001b[1;32m      4\u001b[0m \u001b[0mprint\u001b[0m\u001b[0;34m(\u001b[0m\u001b[0mSW\u001b[0m\u001b[0;34m)\u001b[0m\u001b[0;34m\u001b[0m\u001b[0;34m\u001b[0m\u001b[0m\n\u001b[1;32m      5\u001b[0m \u001b[0;34m\u001b[0m\u001b[0m\n",
      "\u001b[0;32m~/.local/lib/python3.7/site-packages/networkx/utils/decorators.py\u001b[0m in \u001b[0;36mfunc\u001b[0;34m(_argmap__wrapper, *args, **kwargs)\u001b[0m\n\u001b[1;32m    793\u001b[0m \u001b[0;34m\u001b[0m\u001b[0m\n\u001b[1;32m    794\u001b[0m             \u001b[0;32mdef\u001b[0m \u001b[0mfunc\u001b[0m\u001b[0;34m(\u001b[0m\u001b[0;34m*\u001b[0m\u001b[0margs\u001b[0m\u001b[0;34m,\u001b[0m \u001b[0m__wrapper\u001b[0m\u001b[0;34m=\u001b[0m\u001b[0;32mNone\u001b[0m\u001b[0;34m,\u001b[0m \u001b[0;34m**\u001b[0m\u001b[0mkwargs\u001b[0m\u001b[0;34m)\u001b[0m\u001b[0;34m:\u001b[0m\u001b[0;34m\u001b[0m\u001b[0;34m\u001b[0m\u001b[0m\n\u001b[0;32m--> 795\u001b[0;31m                 \u001b[0;32mreturn\u001b[0m \u001b[0margmap\u001b[0m\u001b[0;34m.\u001b[0m\u001b[0m_lazy_compile\u001b[0m\u001b[0;34m(\u001b[0m\u001b[0m__wrapper\u001b[0m\u001b[0;34m)\u001b[0m\u001b[0;34m(\u001b[0m\u001b[0;34m*\u001b[0m\u001b[0margs\u001b[0m\u001b[0;34m,\u001b[0m \u001b[0;34m**\u001b[0m\u001b[0mkwargs\u001b[0m\u001b[0;34m)\u001b[0m\u001b[0;34m\u001b[0m\u001b[0;34m\u001b[0m\u001b[0m\n\u001b[0m\u001b[1;32m    796\u001b[0m \u001b[0;34m\u001b[0m\u001b[0m\n\u001b[1;32m    797\u001b[0m         \u001b[0;31m# standard function-wrapping stuff\u001b[0m\u001b[0;34m\u001b[0m\u001b[0;34m\u001b[0m\u001b[0;34m\u001b[0m\u001b[0m\n",
      "\u001b[0;32m~/.local/lib/python3.7/site-packages/networkx/utils/decorators.py\u001b[0m in \u001b[0;36margmap_sigma_13\u001b[0;34m(G, niter, nrand, seed)\u001b[0m\n\u001b[1;32m      4\u001b[0m \u001b[0;32mfrom\u001b[0m \u001b[0mpathlib\u001b[0m \u001b[0;32mimport\u001b[0m \u001b[0mPath\u001b[0m\u001b[0;34m\u001b[0m\u001b[0;34m\u001b[0m\u001b[0m\n\u001b[1;32m      5\u001b[0m \u001b[0;32mimport\u001b[0m \u001b[0mwarnings\u001b[0m\u001b[0;34m\u001b[0m\u001b[0;34m\u001b[0m\u001b[0m\n\u001b[0;32m----> 6\u001b[0;31m \u001b[0;34m\u001b[0m\u001b[0m\n\u001b[0m\u001b[1;32m      7\u001b[0m \u001b[0;32mimport\u001b[0m \u001b[0mnetworkx\u001b[0m \u001b[0;32mas\u001b[0m \u001b[0mnx\u001b[0m\u001b[0;34m\u001b[0m\u001b[0;34m\u001b[0m\u001b[0m\n\u001b[1;32m      8\u001b[0m \u001b[0;32mfrom\u001b[0m \u001b[0mnetworkx\u001b[0m\u001b[0;34m.\u001b[0m\u001b[0mutils\u001b[0m \u001b[0;32mimport\u001b[0m \u001b[0mcreate_random_state\u001b[0m\u001b[0;34m,\u001b[0m \u001b[0mcreate_py_random_state\u001b[0m\u001b[0;34m\u001b[0m\u001b[0;34m\u001b[0m\u001b[0m\n",
      "\u001b[0;32m~/.local/lib/python3.7/site-packages/networkx/algorithms/smallworld.py\u001b[0m in \u001b[0;36msigma\u001b[0;34m(G, niter, nrand, seed)\u001b[0m\n\u001b[1;32m    282\u001b[0m     \u001b[0mrandMetrics\u001b[0m \u001b[0;34m=\u001b[0m \u001b[0;34m{\u001b[0m\u001b[0;34m\"C\"\u001b[0m\u001b[0;34m:\u001b[0m \u001b[0;34m[\u001b[0m\u001b[0;34m]\u001b[0m\u001b[0;34m,\u001b[0m \u001b[0;34m\"L\"\u001b[0m\u001b[0;34m:\u001b[0m \u001b[0;34m[\u001b[0m\u001b[0;34m]\u001b[0m\u001b[0;34m}\u001b[0m\u001b[0;34m\u001b[0m\u001b[0;34m\u001b[0m\u001b[0m\n\u001b[1;32m    283\u001b[0m     \u001b[0;32mfor\u001b[0m \u001b[0mi\u001b[0m \u001b[0;32min\u001b[0m \u001b[0mrange\u001b[0m\u001b[0;34m(\u001b[0m\u001b[0mnrand\u001b[0m\u001b[0;34m)\u001b[0m\u001b[0;34m:\u001b[0m\u001b[0;34m\u001b[0m\u001b[0;34m\u001b[0m\u001b[0m\n\u001b[0;32m--> 284\u001b[0;31m         \u001b[0mGr\u001b[0m \u001b[0;34m=\u001b[0m \u001b[0mrandom_reference\u001b[0m\u001b[0;34m(\u001b[0m\u001b[0mG\u001b[0m\u001b[0;34m,\u001b[0m \u001b[0mniter\u001b[0m\u001b[0;34m=\u001b[0m\u001b[0mniter\u001b[0m\u001b[0;34m,\u001b[0m \u001b[0mseed\u001b[0m\u001b[0;34m=\u001b[0m\u001b[0mseed\u001b[0m\u001b[0;34m)\u001b[0m\u001b[0;34m\u001b[0m\u001b[0;34m\u001b[0m\u001b[0m\n\u001b[0m\u001b[1;32m    285\u001b[0m         \u001b[0mrandMetrics\u001b[0m\u001b[0;34m[\u001b[0m\u001b[0;34m\"C\"\u001b[0m\u001b[0;34m]\u001b[0m\u001b[0;34m.\u001b[0m\u001b[0mappend\u001b[0m\u001b[0;34m(\u001b[0m\u001b[0mnx\u001b[0m\u001b[0;34m.\u001b[0m\u001b[0mtransitivity\u001b[0m\u001b[0;34m(\u001b[0m\u001b[0mGr\u001b[0m\u001b[0;34m)\u001b[0m\u001b[0;34m)\u001b[0m\u001b[0;34m\u001b[0m\u001b[0;34m\u001b[0m\u001b[0m\n\u001b[1;32m    286\u001b[0m         \u001b[0mrandMetrics\u001b[0m\u001b[0;34m[\u001b[0m\u001b[0;34m\"L\"\u001b[0m\u001b[0;34m]\u001b[0m\u001b[0;34m.\u001b[0m\u001b[0mappend\u001b[0m\u001b[0;34m(\u001b[0m\u001b[0mnx\u001b[0m\u001b[0;34m.\u001b[0m\u001b[0maverage_shortest_path_length\u001b[0m\u001b[0;34m(\u001b[0m\u001b[0mGr\u001b[0m\u001b[0;34m)\u001b[0m\u001b[0;34m)\u001b[0m\u001b[0;34m\u001b[0m\u001b[0;34m\u001b[0m\u001b[0m\n",
      "\u001b[0;32m~/.local/lib/python3.7/site-packages/networkx/utils/decorators.py\u001b[0m in \u001b[0;36mfunc\u001b[0;34m(_argmap__wrapper, *args, **kwargs)\u001b[0m\n\u001b[1;32m    793\u001b[0m \u001b[0;34m\u001b[0m\u001b[0m\n\u001b[1;32m    794\u001b[0m             \u001b[0;32mdef\u001b[0m \u001b[0mfunc\u001b[0m\u001b[0;34m(\u001b[0m\u001b[0;34m*\u001b[0m\u001b[0margs\u001b[0m\u001b[0;34m,\u001b[0m \u001b[0m__wrapper\u001b[0m\u001b[0;34m=\u001b[0m\u001b[0;32mNone\u001b[0m\u001b[0;34m,\u001b[0m \u001b[0;34m**\u001b[0m\u001b[0mkwargs\u001b[0m\u001b[0;34m)\u001b[0m\u001b[0;34m:\u001b[0m\u001b[0;34m\u001b[0m\u001b[0;34m\u001b[0m\u001b[0m\n\u001b[0;32m--> 795\u001b[0;31m                 \u001b[0;32mreturn\u001b[0m \u001b[0margmap\u001b[0m\u001b[0;34m.\u001b[0m\u001b[0m_lazy_compile\u001b[0m\u001b[0;34m(\u001b[0m\u001b[0m__wrapper\u001b[0m\u001b[0;34m)\u001b[0m\u001b[0;34m(\u001b[0m\u001b[0;34m*\u001b[0m\u001b[0margs\u001b[0m\u001b[0;34m,\u001b[0m \u001b[0;34m**\u001b[0m\u001b[0mkwargs\u001b[0m\u001b[0;34m)\u001b[0m\u001b[0;34m\u001b[0m\u001b[0;34m\u001b[0m\u001b[0m\n\u001b[0m\u001b[1;32m    796\u001b[0m \u001b[0;34m\u001b[0m\u001b[0m\n\u001b[1;32m    797\u001b[0m         \u001b[0;31m# standard function-wrapping stuff\u001b[0m\u001b[0;34m\u001b[0m\u001b[0;34m\u001b[0m\u001b[0;34m\u001b[0m\u001b[0m\n",
      "\u001b[0;32m~/.local/lib/python3.7/site-packages/networkx/utils/decorators.py\u001b[0m in \u001b[0;36margmap_random_reference_19\u001b[0;34m(G, niter, connectivity, seed)\u001b[0m\n\u001b[1;32m      4\u001b[0m \u001b[0;32mfrom\u001b[0m \u001b[0mpathlib\u001b[0m \u001b[0;32mimport\u001b[0m \u001b[0mPath\u001b[0m\u001b[0;34m\u001b[0m\u001b[0;34m\u001b[0m\u001b[0m\n\u001b[1;32m      5\u001b[0m \u001b[0;32mimport\u001b[0m \u001b[0mwarnings\u001b[0m\u001b[0;34m\u001b[0m\u001b[0;34m\u001b[0m\u001b[0m\n\u001b[0;32m----> 6\u001b[0;31m \u001b[0;34m\u001b[0m\u001b[0m\n\u001b[0m\u001b[1;32m      7\u001b[0m \u001b[0;32mimport\u001b[0m \u001b[0mnetworkx\u001b[0m \u001b[0;32mas\u001b[0m \u001b[0mnx\u001b[0m\u001b[0;34m\u001b[0m\u001b[0;34m\u001b[0m\u001b[0m\n\u001b[1;32m      8\u001b[0m \u001b[0;32mfrom\u001b[0m \u001b[0mnetworkx\u001b[0m\u001b[0;34m.\u001b[0m\u001b[0mutils\u001b[0m \u001b[0;32mimport\u001b[0m \u001b[0mcreate_random_state\u001b[0m\u001b[0;34m,\u001b[0m \u001b[0mcreate_py_random_state\u001b[0m\u001b[0;34m\u001b[0m\u001b[0;34m\u001b[0m\u001b[0m\n",
      "\u001b[0;32m~/.local/lib/python3.7/site-packages/networkx/algorithms/smallworld.py\u001b[0m in \u001b[0;36mrandom_reference\u001b[0;34m(G, niter, connectivity, seed)\u001b[0m\n\u001b[1;32m     99\u001b[0m \u001b[0;34m\u001b[0m\u001b[0m\n\u001b[1;32m    100\u001b[0m                 \u001b[0;31m# Check if the graph is still connected\u001b[0m\u001b[0;34m\u001b[0m\u001b[0;34m\u001b[0m\u001b[0;34m\u001b[0m\u001b[0m\n\u001b[0;32m--> 101\u001b[0;31m                 \u001b[0;32mif\u001b[0m \u001b[0mconnectivity\u001b[0m \u001b[0;32mand\u001b[0m \u001b[0mlocal_conn\u001b[0m\u001b[0;34m(\u001b[0m\u001b[0mG\u001b[0m\u001b[0;34m,\u001b[0m \u001b[0ma\u001b[0m\u001b[0;34m,\u001b[0m \u001b[0mb\u001b[0m\u001b[0;34m)\u001b[0m \u001b[0;34m==\u001b[0m \u001b[0;36m0\u001b[0m\u001b[0;34m:\u001b[0m\u001b[0;34m\u001b[0m\u001b[0;34m\u001b[0m\u001b[0m\n\u001b[0m\u001b[1;32m    102\u001b[0m                     \u001b[0;31m# Not connected, revert the swap\u001b[0m\u001b[0;34m\u001b[0m\u001b[0;34m\u001b[0m\u001b[0;34m\u001b[0m\u001b[0m\n\u001b[1;32m    103\u001b[0m                     \u001b[0mG\u001b[0m\u001b[0;34m.\u001b[0m\u001b[0mremove_edge\u001b[0m\u001b[0;34m(\u001b[0m\u001b[0ma\u001b[0m\u001b[0;34m,\u001b[0m \u001b[0md\u001b[0m\u001b[0;34m)\u001b[0m\u001b[0;34m\u001b[0m\u001b[0;34m\u001b[0m\u001b[0m\n",
      "\u001b[0;32m~/.local/lib/python3.7/site-packages/networkx/algorithms/connectivity/connectivity.py\u001b[0m in \u001b[0;36mlocal_edge_connectivity\u001b[0;34m(G, s, t, flow_func, auxiliary, residual, cutoff)\u001b[0m\n\u001b[1;32m    630\u001b[0m \u001b[0;34m\u001b[0m\u001b[0m\n\u001b[1;32m    631\u001b[0m     \u001b[0;32mif\u001b[0m \u001b[0mauxiliary\u001b[0m \u001b[0;32mis\u001b[0m \u001b[0;32mNone\u001b[0m\u001b[0;34m:\u001b[0m\u001b[0;34m\u001b[0m\u001b[0;34m\u001b[0m\u001b[0m\n\u001b[0;32m--> 632\u001b[0;31m         \u001b[0mH\u001b[0m \u001b[0;34m=\u001b[0m \u001b[0mbuild_auxiliary_edge_connectivity\u001b[0m\u001b[0;34m(\u001b[0m\u001b[0mG\u001b[0m\u001b[0;34m)\u001b[0m\u001b[0;34m\u001b[0m\u001b[0;34m\u001b[0m\u001b[0m\n\u001b[0m\u001b[1;32m    633\u001b[0m     \u001b[0;32melse\u001b[0m\u001b[0;34m:\u001b[0m\u001b[0;34m\u001b[0m\u001b[0;34m\u001b[0m\u001b[0m\n\u001b[1;32m    634\u001b[0m         \u001b[0mH\u001b[0m \u001b[0;34m=\u001b[0m \u001b[0mauxiliary\u001b[0m\u001b[0;34m\u001b[0m\u001b[0;34m\u001b[0m\u001b[0m\n",
      "\u001b[0;32m~/.local/lib/python3.7/site-packages/networkx/algorithms/connectivity/utils.py\u001b[0m in \u001b[0;36mbuild_auxiliary_edge_connectivity\u001b[0;34m(G)\u001b[0m\n\u001b[1;32m     82\u001b[0m         \u001b[0mH\u001b[0m\u001b[0;34m.\u001b[0m\u001b[0madd_nodes_from\u001b[0m\u001b[0;34m(\u001b[0m\u001b[0mG\u001b[0m\u001b[0;34m.\u001b[0m\u001b[0mnodes\u001b[0m\u001b[0;34m(\u001b[0m\u001b[0;34m)\u001b[0m\u001b[0;34m)\u001b[0m\u001b[0;34m\u001b[0m\u001b[0;34m\u001b[0m\u001b[0m\n\u001b[1;32m     83\u001b[0m         \u001b[0;32mfor\u001b[0m \u001b[0;34m(\u001b[0m\u001b[0msource\u001b[0m\u001b[0;34m,\u001b[0m \u001b[0mtarget\u001b[0m\u001b[0;34m)\u001b[0m \u001b[0;32min\u001b[0m \u001b[0mG\u001b[0m\u001b[0;34m.\u001b[0m\u001b[0medges\u001b[0m\u001b[0;34m(\u001b[0m\u001b[0;34m)\u001b[0m\u001b[0;34m:\u001b[0m\u001b[0;34m\u001b[0m\u001b[0;34m\u001b[0m\u001b[0m\n\u001b[0;32m---> 84\u001b[0;31m             \u001b[0mH\u001b[0m\u001b[0;34m.\u001b[0m\u001b[0madd_edges_from\u001b[0m\u001b[0;34m(\u001b[0m\u001b[0;34m[\u001b[0m\u001b[0;34m(\u001b[0m\u001b[0msource\u001b[0m\u001b[0;34m,\u001b[0m \u001b[0mtarget\u001b[0m\u001b[0;34m)\u001b[0m\u001b[0;34m,\u001b[0m \u001b[0;34m(\u001b[0m\u001b[0mtarget\u001b[0m\u001b[0;34m,\u001b[0m \u001b[0msource\u001b[0m\u001b[0;34m)\u001b[0m\u001b[0;34m]\u001b[0m\u001b[0;34m,\u001b[0m \u001b[0mcapacity\u001b[0m\u001b[0;34m=\u001b[0m\u001b[0;36m1\u001b[0m\u001b[0;34m)\u001b[0m\u001b[0;34m\u001b[0m\u001b[0;34m\u001b[0m\u001b[0m\n\u001b[0m\u001b[1;32m     85\u001b[0m         \u001b[0;32mreturn\u001b[0m \u001b[0mH\u001b[0m\u001b[0;34m\u001b[0m\u001b[0;34m\u001b[0m\u001b[0m\n",
      "\u001b[0;32m~/.local/lib/python3.7/site-packages/networkx/classes/digraph.py\u001b[0m in \u001b[0;36madd_edges_from\u001b[0;34m(self, ebunch_to_add, **attr)\u001b[0m\n\u001b[1;32m    695\u001b[0m                 \u001b[0mself\u001b[0m\u001b[0;34m.\u001b[0m\u001b[0m_pred\u001b[0m\u001b[0;34m[\u001b[0m\u001b[0mv\u001b[0m\u001b[0;34m]\u001b[0m \u001b[0;34m=\u001b[0m \u001b[0mself\u001b[0m\u001b[0;34m.\u001b[0m\u001b[0madjlist_inner_dict_factory\u001b[0m\u001b[0;34m(\u001b[0m\u001b[0;34m)\u001b[0m\u001b[0;34m\u001b[0m\u001b[0;34m\u001b[0m\u001b[0m\n\u001b[1;32m    696\u001b[0m                 \u001b[0mself\u001b[0m\u001b[0;34m.\u001b[0m\u001b[0m_node\u001b[0m\u001b[0;34m[\u001b[0m\u001b[0mv\u001b[0m\u001b[0;34m]\u001b[0m \u001b[0;34m=\u001b[0m \u001b[0mself\u001b[0m\u001b[0;34m.\u001b[0m\u001b[0mnode_attr_dict_factory\u001b[0m\u001b[0;34m(\u001b[0m\u001b[0;34m)\u001b[0m\u001b[0;34m\u001b[0m\u001b[0;34m\u001b[0m\u001b[0m\n\u001b[0;32m--> 697\u001b[0;31m             \u001b[0mdatadict\u001b[0m \u001b[0;34m=\u001b[0m \u001b[0mself\u001b[0m\u001b[0;34m.\u001b[0m\u001b[0m_adj\u001b[0m\u001b[0;34m[\u001b[0m\u001b[0mu\u001b[0m\u001b[0;34m]\u001b[0m\u001b[0;34m.\u001b[0m\u001b[0mget\u001b[0m\u001b[0;34m(\u001b[0m\u001b[0mv\u001b[0m\u001b[0;34m,\u001b[0m \u001b[0mself\u001b[0m\u001b[0;34m.\u001b[0m\u001b[0medge_attr_dict_factory\u001b[0m\u001b[0;34m(\u001b[0m\u001b[0;34m)\u001b[0m\u001b[0;34m)\u001b[0m\u001b[0;34m\u001b[0m\u001b[0;34m\u001b[0m\u001b[0m\n\u001b[0m\u001b[1;32m    698\u001b[0m             \u001b[0mdatadict\u001b[0m\u001b[0;34m.\u001b[0m\u001b[0mupdate\u001b[0m\u001b[0;34m(\u001b[0m\u001b[0mattr\u001b[0m\u001b[0;34m)\u001b[0m\u001b[0;34m\u001b[0m\u001b[0;34m\u001b[0m\u001b[0m\n\u001b[1;32m    699\u001b[0m             \u001b[0mdatadict\u001b[0m\u001b[0;34m.\u001b[0m\u001b[0mupdate\u001b[0m\u001b[0;34m(\u001b[0m\u001b[0mdd\u001b[0m\u001b[0;34m)\u001b[0m\u001b[0;34m\u001b[0m\u001b[0;34m\u001b[0m\u001b[0m\n",
      "\u001b[0;31mKeyboardInterrupt\u001b[0m: "
     ]
    }
   ],
   "source": [
    "\n",
    "start = time.time()\n",
    "\n",
    "SW = networkx.algorithms.smallworld.sigma(G_undirconnected,niter=20, seed=10)\n",
    "print(SW)\n",
    "\n",
    "end = time.time()\n",
    "print(end - start)"
   ]
  },
  {
   "cell_type": "code",
   "execution_count": null,
   "metadata": {},
   "outputs": [],
   "source": []
  },
  {
   "cell_type": "markdown",
   "metadata": {},
   "source": [
    "#### Scaling Behaviour"
   ]
  },
  {
   "cell_type": "code",
   "execution_count": 50,
   "metadata": {},
   "outputs": [
    {
     "data": {
      "text/plain": [
       "[0, 200, 53, 39, 24, 30, 18, 11, 7, 20, 5, 12, 5, 9, 3, 6, 3, 0, 1, 1]"
      ]
     },
     "execution_count": 50,
     "metadata": {},
     "output_type": "execute_result"
    }
   ],
   "source": [
    "networkx.classes.function.degree_histogram(G_undir)"
   ]
  },
  {
   "cell_type": "code",
   "execution_count": null,
   "metadata": {},
   "outputs": [],
   "source": []
  },
  {
   "cell_type": "code",
   "execution_count": 51,
   "metadata": {},
   "outputs": [
    {
     "data": {
      "image/png": "[encoded data removed]",
      "text/plain": [
       "<Figure size 432x288 with 1 Axes>"
      ]
     },
     "metadata": {
      "needs_background": "light"
     },
     "output_type": "display_data"
    }
   ],
   "source": [
    "import networkx as nx\n",
    "\n",
    "def plot_degree_dist(G):\n",
    "    degrees = [G.degree(n) for n in G.nodes()]\n",
    "    plt.hist(degrees)\n",
    "    plt.show()\n",
    "\n",
    "plot_degree_dist(G_undir)"
   ]
  },
  {
   "cell_type": "code",
   "execution_count": 142,
   "metadata": {},
   "outputs": [
    {
     "name": "stdout",
     "output_type": "stream",
     "text": [
      "0.011 497.70000000000005\n"
     ]
    },
    {
     "data": {
      "image/png": "[encoded data removed]",
      "text/plain": [
       "<Figure size 432x288 with 1 Axes>"
      ]
     },
     "metadata": {
      "needs_background": "light"
     },
     "output_type": "display_data"
    }
   ],
   "source": [
    "def plot_degree_dist(G):\n",
    "    degrees = [G.degree(n) for n in G.nodes()]\n",
    "    plt.hist(np.log(v), bins = int(len(G.nodes())/20), log = True)\n",
    "    plt.show()\n",
    "\n",
    "plot_strength_dist(G_undir)"
   ]
  },
  {
   "cell_type": "code",
   "execution_count": 145,
   "metadata": {},
   "outputs": [
    {
     "name": "stdout",
     "output_type": "stream",
     "text": [
      "0.8666866724736374 0.9189072627650872 0.5440117992833565\n",
      "0.5440117992833564\n"
     ]
    }
   ],
   "source": [
    "degrees = [G.degree(n) for n in G.nodes()]\n",
    "log_degrees = np.log(degrees)\n",
    "print(np.mean(log_degrees), np.std(log_degrees), skew(log_degrees))\n"
   ]
  },
  {
   "cell_type": "code",
   "execution_count": 52,
   "metadata": {},
   "outputs": [
    {
     "data": {
      "text/plain": [
       "0.032"
      ]
     },
     "execution_count": 52,
     "metadata": {},
     "output_type": "execute_result"
    }
   ],
   "source": [
    "from networkx.algorithms import approximation\n",
    "\n",
    "approximation.average_clustering(G_undir, trials=1000, seed=10)"
   ]
  },
  {
   "cell_type": "markdown",
   "metadata": {},
   "source": [
    "networkx.algorithms.approximation.connectivity.all_pairs_node_connectivity(G_undir)"
   ]
  },
  {
   "cell_type": "markdown",
   "metadata": {},
   "source": [
    "### Calculate Node Strength Distribution"
   ]
  },
  {
   "cell_type": "code",
   "execution_count": 75,
   "metadata": {},
   "outputs": [],
   "source": [
    "G_dir = nx.from_pandas_edgelist(DF19, \n",
    "                            source = \"club_involved_name\",\n",
    "                            target = \"club_name\",\n",
    "                            edge_attr=\"fee_cleaned\",\n",
    "                            create_using=networkx.DiGraph # or Graph, DiGraph, MultiGraph, MultiDiGraph\n",
    "                           )"
   ]
  },
  {
   "cell_type": "code",
   "execution_count": 76,
   "metadata": {},
   "outputs": [
    {
     "data": {
      "text/plain": [
       "0.7743830787309048"
      ]
     },
     "execution_count": 76,
     "metadata": {},
     "output_type": "execute_result"
    }
   ],
   "source": [
    "networkx.algorithms.hierarchy.flow_hierarchy(G_dir)"
   ]
  },
  {
   "cell_type": "code",
   "execution_count": 98,
   "metadata": {},
   "outputs": [
    {
     "name": "stdout",
     "output_type": "stream",
     "text": [
      "0.016205497550080626\n"
     ]
    }
   ],
   "source": [
    "# Regular Clustering\n",
    "\n",
    "Clust = networkx.algorithms.cluster.clustering(G_dir)\n",
    "print(np.mean(list(Clust.values())))"
   ]
  },
  {
   "cell_type": "code",
   "execution_count": 80,
   "metadata": {},
   "outputs": [],
   "source": [
    "WeightClust = networkx.algorithms.cluster.clustering(G_dir, weight = \"fee_cleaned\")"
   ]
  },
  {
   "cell_type": "code",
   "execution_count": 103,
   "metadata": {},
   "outputs": [
    {
     "data": {
      "text/plain": [
       "0.000986778405677594"
      ]
     },
     "execution_count": 103,
     "metadata": {},
     "output_type": "execute_result"
    }
   ],
   "source": [
    "# Weighted Clustering\n",
    "\n",
    "np.mean(list(WeightClust.values()))  ## ?"
   ]
  },
  {
   "cell_type": "code",
   "execution_count": 137,
   "metadata": {},
   "outputs": [
    {
     "name": "stdout",
     "output_type": "stream",
     "text": [
      "447\n",
      "447\n",
      "22\n"
     ]
    }
   ],
   "source": [
    "l=0\n",
    "for n in G.nodes():\n",
    "    l = l+1\n",
    "print(l)\n",
    "print(len(G.nodes()))\n",
    "print(int(len(G.nodes())/20))"
   ]
  },
  {
   "cell_type": "code",
   "execution_count": 140,
   "metadata": {},
   "outputs": [
    {
     "name": "stdout",
     "output_type": "stream",
     "text": [
      "0.011 497.70000000000005\n"
     ]
    },
    {
     "data": {
      "image/png": "[encoded data removed]",
      "text/plain": [
       "<Figure size 432x288 with 1 Axes>"
      ]
     },
     "metadata": {
      "needs_background": "light"
     },
     "output_type": "display_data"
    }
   ],
   "source": [
    "# Roughly symmetrical around 1.7?\n",
    "def plot_strength_dist(G):\n",
    "    strengths = [G.degree(n, weight=\"fee_cleaned\") for n in G.nodes()]\n",
    "    plt.hist(np.log(strengths), bins = int(len(G.nodes())/20), log = True)\n",
    "    print(min(strengths), max(strengths))\n",
    "    plt.show()\n",
    "\n",
    "plot_strength_dist(G_dir)\n",
    "\n"
   ]
  },
  {
   "cell_type": "code",
   "execution_count": 134,
   "metadata": {},
   "outputs": [
    {
     "name": "stdout",
     "output_type": "stream",
     "text": [
      "1.6481320030615705 2.1365324213766983 -0.19066087747116742\n"
     ]
    }
   ],
   "source": [
    "strengths = [G.degree(n, weight=\"fee_cleaned\") for n in G.nodes()]\n",
    "log_strengths = np.log(strengths)\n",
    "print(np.mean(log_strengths), np.std(log_strengths), skew(log_strengths))"
   ]
  },
  {
   "cell_type": "markdown",
   "metadata": {},
   "source": [
    "### Disparity for undirected Network"
   ]
  },
  {
   "cell_type": "code",
   "execution_count": 164,
   "metadata": {},
   "outputs": [],
   "source": [
    "A = networkx.linalg.graphmatrix.adjacency_matrix(G_undir, weight = \"fee_cleaned\")"
   ]
  },
  {
   "cell_type": "code",
   "execution_count": 165,
   "metadata": {},
   "outputs": [
    {
     "name": "stdout",
     "output_type": "stream",
     "text": [
      "(447, 447)\n"
     ]
    }
   ],
   "source": [
    "print(A.shape)"
   ]
  },
  {
   "cell_type": "code",
   "execution_count": 166,
   "metadata": {},
   "outputs": [
    {
     "name": "stdout",
     "output_type": "stream",
     "text": [
      "0.0\n"
     ]
    },
    {
     "name": "stderr",
     "output_type": "stream",
     "text": [
      "/home/users/t_wand01/.local/lib/python3.7/site-packages/ipykernel_launcher.py:1: DeprecationWarning: Calling np.sum(generator) is deprecated, and in the future will give a different result. Use np.sum(np.fromiter(generator)) or the python sum builtin instead.\n",
      "  \"\"\"Entry point for launching an IPython kernel.\n"
     ]
    }
   ],
   "source": [
    "print(np.sum(A[i,i] for i in range(A.shape[0])))"
   ]
  },
  {
   "cell_type": "code",
   "execution_count": 167,
   "metadata": {},
   "outputs": [
    {
     "name": "stdout",
     "output_type": "stream",
     "text": [
      "                 club_name club_involved_name  fee_cleaned\n",
      "0            Bayern Munich    Atlético Madrid       72.000\n",
      "1            Bayern Munich      VfB Stuttgart       31.500\n",
      "2            Bayern Munich    Bor. M'gladbach       10.800\n",
      "3            Bayern Munich       FC Barcelona        7.650\n",
      "4            Bayern Munich        Inter Milan        4.500\n",
      "..                     ...                ...          ...\n",
      "537          Dynamo Moscow     Mladá Boleslav        3.150\n",
      "545  Krylya Sovetov Samara       Al-Shorta SC        0.135\n",
      "558                 FK Ufa      Loko Tashkent        0.180\n",
      "559                 FK Ufa              Anzhi        0.162\n",
      "580               FC Sochi     Pyunik Yerevan        0.450\n",
      "\n",
      "[851 rows x 3 columns]\n"
     ]
    }
   ],
   "source": [
    "print(DF19)"
   ]
  },
  {
   "cell_type": "code",
   "execution_count": 168,
   "metadata": {},
   "outputs": [
    {
     "name": "stdout",
     "output_type": "stream",
     "text": [
      "  (0, 1)\t72.0\n",
      "  (0, 2)\t31.5\n",
      "  (0, 3)\t10.8\n",
      "  (0, 4)\t7.65\n",
      "  (0, 5)\t4.5\n",
      "  (0, 6)\t2.7\n",
      "  (0, 7)\t27.45\n",
      "  (0, 34)\t3.15\n",
      "  (0, 92)\t18.0\n",
      "  (1, 0)\t72.0\n",
      "  (1, 4)\t108.0\n",
      "  (1, 15)\t1.8\n",
      "  (1, 29)\t113.4\n",
      "  (1, 31)\t6.75\n",
      "  (1, 48)\t22.5\n",
      "  (1, 81)\t63.0\n",
      "  (1, 86)\t27.0\n",
      "  (1, 145)\t19.8\n",
      "  (1, 222)\t18.0\n",
      "  (1, 223)\t18.0\n",
      "  (1, 224)\t0.45\n",
      "  (1, 284)\t27.0\n",
      "  (2, 0)\t31.5\n",
      "  (2, 21)\t13.5\n",
      "  (2, 38)\t0.45\n",
      "  :\t:\n",
      "  (428, 429)\t0.018\n",
      "  (428, 443)\t0.135\n",
      "  (429, 428)\t0.018\n",
      "  (430, 431)\t0.252\n",
      "  (430, 444)\t0.18\n",
      "  (430, 445)\t0.162\n",
      "  (431, 430)\t0.252\n",
      "  (432, 196)\t11.97\n",
      "  (432, 433)\t0.09\n",
      "  (432, 446)\t0.45\n",
      "  (433, 432)\t0.09\n",
      "  (434, 402)\t0.117\n",
      "  (435, 417)\t0.392\n",
      "  (436, 417)\t0.198\n",
      "  (437, 420)\t0.09\n",
      "  (438, 364)\t3.87\n",
      "  (438, 395)\t6.3\n",
      "  (439, 395)\t0.45\n",
      "  (440, 395)\t0.27\n",
      "  (441, 395)\t0.045\n",
      "  (442, 364)\t3.15\n",
      "  (443, 428)\t0.135\n",
      "  (444, 430)\t0.18\n",
      "  (445, 430)\t0.162\n",
      "  (446, 432)\t0.45\n"
     ]
    }
   ],
   "source": [
    "print(A)"
   ]
  },
  {
   "cell_type": "code",
   "execution_count": 173,
   "metadata": {},
   "outputs": [],
   "source": [
    "strengths_undir = [G_undir.degree(n, weight=\"fee_cleaned\") for n in G_undir.nodes()]"
   ]
  },
  {
   "cell_type": "code",
   "execution_count": 174,
   "metadata": {},
   "outputs": [
    {
     "data": {
      "text/plain": [
       "[177.75,\n",
       " 497.70000000000005,\n",
       " 64.80000000000001,\n",
       " 34.29,\n",
       " 388.71,\n",
       " 205.03400000000002,\n",
       " 19.35,\n",
       " 133.65,\n",
       " 107.415,\n",
       " 30.15,\n",
       " 113.39999999999999,\n",
       " 72.45,\n",
       " 180.45,\n",
       " 100.80000000000001,\n",
       " 7.2,\n",
       " 166.06999999999994,\n",
       " 182.039,\n",
       " 20.880000000000003,\n",
       " 86.39999999999999,\n",
       " 234.00500000000002,\n",
       " 36.45,\n",
       " 38.745000000000005,\n",
       " 20.700000000000003,\n",
       " 49.05,\n",
       " 39.870000000000005,\n",
       " 16.38,\n",
       " 3.15,\n",
       " 0.99,\n",
       " 169.64999999999998,\n",
       " 253.35000000000002,\n",
       " 45.9,\n",
       " 117.675,\n",
       " 5.58,\n",
       " 108.68,\n",
       " 12.555000000000001,\n",
       " 50.26500000000001,\n",
       " 23.85,\n",
       " 1.35,\n",
       " 15.53,\n",
       " 2.52,\n",
       " 120.69000000000001,\n",
       " 63.0,\n",
       " 6.3,\n",
       " 16.380000000000003,\n",
       " 34.02,\n",
       " 50.44500000000001,\n",
       " 25.47,\n",
       " 132.827,\n",
       " 108.44999999999999,\n",
       " 73.35000000000001,\n",
       " 2.88,\n",
       " 0.315,\n",
       " 18.9,\n",
       " 21.869999999999997,\n",
       " 2.925,\n",
       " 8.55,\n",
       " 3.6,\n",
       " 3.6,\n",
       " 0.9,\n",
       " 6.12,\n",
       " 21.6,\n",
       " 21.645,\n",
       " 36.0,\n",
       " 9.72,\n",
       " 6.525,\n",
       " 0.135,\n",
       " 6.660000000000001,\n",
       " 69.84,\n",
       " 6.300000000000001,\n",
       " 0.45,\n",
       " 0.36,\n",
       " 378.40500000000003,\n",
       " 27.99,\n",
       " 16.2,\n",
       " 15.3,\n",
       " 256.09999999999997,\n",
       " 117.005,\n",
       " 253.13000000000002,\n",
       " 148.05,\n",
       " 2.16,\n",
       " 0.18,\n",
       " 207.11000000000004,\n",
       " 118.445,\n",
       " 21.6,\n",
       " 6.14,\n",
       " 2.7,\n",
       " 434.25,\n",
       " 133.65000000000003,\n",
       " 24.3,\n",
       " 152.78000000000003,\n",
       " 18.416,\n",
       " 191.74499999999995,\n",
       " 218.7,\n",
       " 38.7,\n",
       " 24.3,\n",
       " 6.03,\n",
       " 265.66,\n",
       " 173.51999999999998,\n",
       " 56.34,\n",
       " 35.505,\n",
       " 109.62,\n",
       " 71.49799999999999,\n",
       " 2.0300000000000002,\n",
       " 108.89999999999999,\n",
       " 97.69,\n",
       " 10.04,\n",
       " 88.92,\n",
       " 7.83,\n",
       " 2.7,\n",
       " 13.100000000000001,\n",
       " 67.51,\n",
       " 21.2,\n",
       " 50.809999999999995,\n",
       " 58.05,\n",
       " 33.53,\n",
       " 73.164,\n",
       " 17.47,\n",
       " 7.029999999999999,\n",
       " 52.74,\n",
       " 21.06,\n",
       " 28.98,\n",
       " 73.57000000000001,\n",
       " 36.83,\n",
       " 5.9399999999999995,\n",
       " 7.939000000000001,\n",
       " 1.292,\n",
       " 64.35,\n",
       " 31.05,\n",
       " 7.02,\n",
       " 7.614000000000001,\n",
       " 12.510000000000002,\n",
       " 143.19,\n",
       " 23.67,\n",
       " 9.0,\n",
       " 12.2,\n",
       " 36.63,\n",
       " 21.689999999999998,\n",
       " 51.300000000000004,\n",
       " 21.69,\n",
       " 0.99,\n",
       " 23.351000000000006,\n",
       " 12.74,\n",
       " 18.23,\n",
       " 61.12400000000001,\n",
       " 13.5,\n",
       " 45.900000000000006,\n",
       " 5.720000000000001,\n",
       " 51.129999999999995,\n",
       " 1.8,\n",
       " 64.434,\n",
       " 8.1,\n",
       " 17.08,\n",
       " 2.7,\n",
       " 22.320000000000004,\n",
       " 1.8,\n",
       " 0.9,\n",
       " 16.790000000000003,\n",
       " 3.1500000000000004,\n",
       " 1.44,\n",
       " 1.17,\n",
       " 2.9699999999999998,\n",
       " 50.309999999999995,\n",
       " 29.880000000000003,\n",
       " 4.5,\n",
       " 7.7940000000000005,\n",
       " 222.66000000000005,\n",
       " 1.8,\n",
       " 85.95,\n",
       " 40.72,\n",
       " 17.64,\n",
       " 99.77000000000001,\n",
       " 92.47500000000001,\n",
       " 45.9,\n",
       " 2.25,\n",
       " 45.889,\n",
       " 2.25,\n",
       " 5.760000000000001,\n",
       " 0.084,\n",
       " 4.05,\n",
       " 53.10500000000001,\n",
       " 26.465,\n",
       " 3.74,\n",
       " 11.84,\n",
       " 0.279,\n",
       " 0.149,\n",
       " 5.535,\n",
       " 1.8,\n",
       " 0.72,\n",
       " 0.09,\n",
       " 35.1,\n",
       " 14.4,\n",
       " 0.9,\n",
       " 0.9,\n",
       " 22.383999999999997,\n",
       " 4.77,\n",
       " 2.0700000000000003,\n",
       " 76.77000000000001,\n",
       " 0.084,\n",
       " 0.046,\n",
       " 2.7,\n",
       " 10.215,\n",
       " 0.765,\n",
       " 7.2,\n",
       " 3.51,\n",
       " 0.63,\n",
       " 0.18,\n",
       " 0.225,\n",
       " 26.28,\n",
       " 118.17,\n",
       " 45.044999999999995,\n",
       " 1.44,\n",
       " 1.35,\n",
       " 5.265,\n",
       " 3.6,\n",
       " 6.12,\n",
       " 0.9450000000000001,\n",
       " 0.45,\n",
       " 56.83500000000001,\n",
       " 2.15,\n",
       " 3.6,\n",
       " 10.8,\n",
       " 39.69,\n",
       " 133.74,\n",
       " 36.0,\n",
       " 0.585,\n",
       " 40.815,\n",
       " 2.25,\n",
       " 29.25,\n",
       " 8.64,\n",
       " 9.990000000000002,\n",
       " 4.95,\n",
       " 1.8,\n",
       " 43.199999999999996,\n",
       " 6.58,\n",
       " 3.96,\n",
       " 27.675,\n",
       " 13.5,\n",
       " 7.2,\n",
       " 9.7,\n",
       " 2.01,\n",
       " 6.57,\n",
       " 2.7,\n",
       " 2.52,\n",
       " 49.635000000000005,\n",
       " 1.35,\n",
       " 0.9,\n",
       " 18.0,\n",
       " 5.67,\n",
       " 11.34,\n",
       " 1.26,\n",
       " 12.785,\n",
       " 12.83,\n",
       " 8.73,\n",
       " 7.875,\n",
       " 6.750000000000001,\n",
       " 1.17,\n",
       " 33.03,\n",
       " 0.63,\n",
       " 2.25,\n",
       " 1.8,\n",
       " 18.14,\n",
       " 0.27,\n",
       " 0.18,\n",
       " 39.96,\n",
       " 26.640000000000004,\n",
       " 12.51,\n",
       " 15.3,\n",
       " 6.75,\n",
       " 34.044,\n",
       " 0.27,\n",
       " 20.16,\n",
       " 15.75,\n",
       " 5.85,\n",
       " 6.9750000000000005,\n",
       " 4.5,\n",
       " 2.7,\n",
       " 1.8,\n",
       " 0.54,\n",
       " 12.915000000000001,\n",
       " 0.315,\n",
       " 12.870000000000001,\n",
       " 1.8,\n",
       " 3.1500000000000004,\n",
       " 0.27,\n",
       " 180.00000000000003,\n",
       " 16.2,\n",
       " 18.270000000000003,\n",
       " 0.9,\n",
       " 3.645,\n",
       " 4.5,\n",
       " 2.7,\n",
       " 2.52,\n",
       " 49.050000000000004,\n",
       " 13.5,\n",
       " 33.75,\n",
       " 1.35,\n",
       " 11.700000000000001,\n",
       " 1.746,\n",
       " 3.15,\n",
       " 2.7,\n",
       " 0.9,\n",
       " 10.8,\n",
       " 1.8,\n",
       " 9.0,\n",
       " 11.25,\n",
       " 3.6,\n",
       " 1.8,\n",
       " 3.6,\n",
       " 2.25,\n",
       " 10.8,\n",
       " 46.35500000000001,\n",
       " 6.5,\n",
       " 4.77,\n",
       " 1.13,\n",
       " 0.72,\n",
       " 0.54,\n",
       " 0.18,\n",
       " 0.9,\n",
       " 0.225,\n",
       " 0.9,\n",
       " 0.9,\n",
       " 1.8050000000000002,\n",
       " 0.246,\n",
       " 1.98,\n",
       " 1.98,\n",
       " 0.336,\n",
       " 0.27,\n",
       " 5.4,\n",
       " 0.36,\n",
       " 0.045,\n",
       " 0.045,\n",
       " 6.3,\n",
       " 7.47,\n",
       " 1.8,\n",
       " 20.25,\n",
       " 1.8,\n",
       " 0.45,\n",
       " 0.135,\n",
       " 0.495,\n",
       " 0.54,\n",
       " 0.36,\n",
       " 1.3050000000000002,\n",
       " 2.25,\n",
       " 0.36,\n",
       " 0.45,\n",
       " 0.225,\n",
       " 0.225,\n",
       " 2.25,\n",
       " 3.6,\n",
       " 0.45,\n",
       " 0.09,\n",
       " 0.09,\n",
       " 0.54,\n",
       " 3.6100000000000003,\n",
       " 4.6850000000000005,\n",
       " 33.300000000000004,\n",
       " 0.27,\n",
       " 19.354999999999997,\n",
       " 7.38,\n",
       " 3.168,\n",
       " 2.183,\n",
       " 0.198,\n",
       " 7.2,\n",
       " 0.72,\n",
       " 39.33,\n",
       " 31.205,\n",
       " 5.85,\n",
       " 13.111,\n",
       " 3.02,\n",
       " 0.99,\n",
       " 1.98,\n",
       " 5.85,\n",
       " 9.252,\n",
       " 0.702,\n",
       " 7.133,\n",
       " 1.98,\n",
       " 0.054,\n",
       " 11.61,\n",
       " 4.86,\n",
       " 1.755,\n",
       " 0.765,\n",
       " 1.6340000000000001,\n",
       " 1.53,\n",
       " 1.22,\n",
       " 1.08,\n",
       " 0.99,\n",
       " 0.9,\n",
       " 0.203,\n",
       " 0.203,\n",
       " 0.18,\n",
       " 2.7,\n",
       " 1.58,\n",
       " 0.104,\n",
       " 0.9,\n",
       " 7.2,\n",
       " 19.215,\n",
       " 6.75,\n",
       " 0.63,\n",
       " 17.55,\n",
       " 2.25,\n",
       " 27.36,\n",
       " 2.7,\n",
       " 18.972,\n",
       " 0.698,\n",
       " 0.18,\n",
       " 0.135,\n",
       " 3.6,\n",
       " 3.06,\n",
       " 0.36,\n",
       " 0.225,\n",
       " 0.225,\n",
       " 0.9530000000000001,\n",
       " 0.378,\n",
       " 0.252,\n",
       " 0.171,\n",
       " 0.585,\n",
       " 0.29800000000000004,\n",
       " 3.1100000000000003,\n",
       " 1.35,\n",
       " 0.09,\n",
       " 1.258,\n",
       " 0.077,\n",
       " 0.29200000000000004,\n",
       " 0.011,\n",
       " 0.731,\n",
       " 0.45,\n",
       " 2.88,\n",
       " 0.9,\n",
       " 0.738,\n",
       " 0.018,\n",
       " 0.594,\n",
       " 0.252,\n",
       " 12.51,\n",
       " 0.09,\n",
       " 0.117,\n",
       " 0.392,\n",
       " 0.198,\n",
       " 0.09,\n",
       " 10.17,\n",
       " 0.45,\n",
       " 0.27,\n",
       " 0.045,\n",
       " 3.15,\n",
       " 0.135,\n",
       " 0.18,\n",
       " 0.162,\n",
       " 0.45]"
      ]
     },
     "execution_count": 174,
     "metadata": {},
     "output_type": "execute_result"
    }
   ],
   "source": [
    "strengths_undir"
   ]
  },
  {
   "cell_type": "code",
   "execution_count": 177,
   "metadata": {},
   "outputs": [
    {
     "data": {
      "text/plain": [
       "64.80000000000001"
      ]
     },
     "execution_count": 177,
     "metadata": {},
     "output_type": "execute_result"
    }
   ],
   "source": [
    "np.sum(A[2,:])"
   ]
  },
  {
   "cell_type": "code",
   "execution_count": 191,
   "metadata": {},
   "outputs": [
    {
     "name": "stdout",
     "output_type": "stream",
     "text": [
      "  (0, 1)\t0.4050632911392405\n",
      "  (0, 2)\t0.17721518987341772\n",
      "  (0, 3)\t0.06075949367088608\n",
      "  (0, 4)\t0.043037974683544304\n",
      "  (0, 5)\t0.02531645569620253\n",
      "  (0, 6)\t0.01518987341772152\n",
      "  (0, 7)\t0.15443037974683543\n",
      "  (0, 34)\t0.017721518987341773\n",
      "  (0, 92)\t0.10126582278481013\n"
     ]
    },
    {
     "data": {
      "text/plain": [
       "array([[0.        , 0.16407627, 0.03140522, 0.00369172, 0.00185227,\n",
       "        0.00064092, 0.00023073, 0.02384874, 0.        , 0.        ,\n",
       "        0.        , 0.        , 0.        , 0.        , 0.        ,\n",
       "        0.        , 0.        , 0.        , 0.        , 0.        ,\n",
       "        0.        , 0.        , 0.        , 0.        , 0.        ,\n",
       "        0.        , 0.        , 0.        , 0.        , 0.        ,\n",
       "        0.        , 0.        , 0.        , 0.        , 0.00031405,\n",
       "        0.        , 0.        , 0.        , 0.        , 0.        ,\n",
       "        0.        , 0.        , 0.        , 0.        , 0.        ,\n",
       "        0.        , 0.        , 0.        , 0.        , 0.        ,\n",
       "        0.        , 0.        , 0.        , 0.        , 0.        ,\n",
       "        0.        , 0.        , 0.        , 0.        , 0.        ,\n",
       "        0.        , 0.        , 0.        , 0.        , 0.        ,\n",
       "        0.        , 0.        , 0.        , 0.        , 0.        ,\n",
       "        0.        , 0.        , 0.        , 0.        , 0.        ,\n",
       "        0.        , 0.        , 0.        , 0.        , 0.        ,\n",
       "        0.        , 0.        , 0.        , 0.        , 0.        ,\n",
       "        0.        , 0.        , 0.        , 0.        , 0.        ,\n",
       "        0.        , 0.        , 0.01025477, 0.        , 0.        ,\n",
       "        0.        , 0.        , 0.        , 0.        , 0.        ,\n",
       "        0.        , 0.        , 0.        , 0.        , 0.        ,\n",
       "        0.        , 0.        , 0.        , 0.        , 0.        ,\n",
       "        0.        , 0.        , 0.        , 0.        , 0.        ,\n",
       "        0.        , 0.        , 0.        , 0.        , 0.        ,\n",
       "        0.        , 0.        , 0.        , 0.        , 0.        ,\n",
       "        0.        , 0.        , 0.        , 0.        , 0.        ,\n",
       "        0.        , 0.        , 0.        , 0.        , 0.        ,\n",
       "        0.        , 0.        , 0.        , 0.        , 0.        ,\n",
       "        0.        , 0.        , 0.        , 0.        , 0.        ,\n",
       "        0.        , 0.        , 0.        , 0.        , 0.        ,\n",
       "        0.        , 0.        , 0.        , 0.        , 0.        ,\n",
       "        0.        , 0.        , 0.        , 0.        , 0.        ,\n",
       "        0.        , 0.        , 0.        , 0.        , 0.        ,\n",
       "        0.        , 0.        , 0.        , 0.        , 0.        ,\n",
       "        0.        , 0.        , 0.        , 0.        , 0.        ,\n",
       "        0.        , 0.        , 0.        , 0.        , 0.        ,\n",
       "        0.        , 0.        , 0.        , 0.        , 0.        ,\n",
       "        0.        , 0.        , 0.        , 0.        , 0.        ,\n",
       "        0.        , 0.        , 0.        , 0.        , 0.        ,\n",
       "        0.        , 0.        , 0.        , 0.        , 0.        ,\n",
       "        0.        , 0.        , 0.        , 0.        , 0.        ,\n",
       "        0.        , 0.        , 0.        , 0.        , 0.        ,\n",
       "        0.        , 0.        , 0.        , 0.        , 0.        ,\n",
       "        0.        , 0.        , 0.        , 0.        , 0.        ,\n",
       "        0.        , 0.        , 0.        , 0.        , 0.        ,\n",
       "        0.        , 0.        , 0.        , 0.        , 0.        ,\n",
       "        0.        , 0.        , 0.        , 0.        , 0.        ,\n",
       "        0.        , 0.        , 0.        , 0.        , 0.        ,\n",
       "        0.        , 0.        , 0.        , 0.        , 0.        ,\n",
       "        0.        , 0.        , 0.        , 0.        , 0.        ,\n",
       "        0.        , 0.        , 0.        , 0.        , 0.        ,\n",
       "        0.        , 0.        , 0.        , 0.        , 0.        ,\n",
       "        0.        , 0.        , 0.        , 0.        , 0.        ,\n",
       "        0.        , 0.        , 0.        , 0.        , 0.        ,\n",
       "        0.        , 0.        , 0.        , 0.        , 0.        ,\n",
       "        0.        , 0.        , 0.        , 0.        , 0.        ,\n",
       "        0.        , 0.        , 0.        , 0.        , 0.        ,\n",
       "        0.        , 0.        , 0.        , 0.        , 0.        ,\n",
       "        0.        , 0.        , 0.        , 0.        , 0.        ,\n",
       "        0.        , 0.        , 0.        , 0.        , 0.        ,\n",
       "        0.        , 0.        , 0.        , 0.        , 0.        ,\n",
       "        0.        , 0.        , 0.        , 0.        , 0.        ,\n",
       "        0.        , 0.        , 0.        , 0.        , 0.        ,\n",
       "        0.        , 0.        , 0.        , 0.        , 0.        ,\n",
       "        0.        , 0.        , 0.        , 0.        , 0.        ,\n",
       "        0.        , 0.        , 0.        , 0.        , 0.        ,\n",
       "        0.        , 0.        , 0.        , 0.        , 0.        ,\n",
       "        0.        , 0.        , 0.        , 0.        , 0.        ,\n",
       "        0.        , 0.        , 0.        , 0.        , 0.        ,\n",
       "        0.        , 0.        , 0.        , 0.        , 0.        ,\n",
       "        0.        , 0.        , 0.        , 0.        , 0.        ,\n",
       "        0.        , 0.        , 0.        , 0.        , 0.        ,\n",
       "        0.        , 0.        , 0.        , 0.        , 0.        ,\n",
       "        0.        , 0.        , 0.        , 0.        , 0.        ,\n",
       "        0.        , 0.        , 0.        , 0.        , 0.        ,\n",
       "        0.        , 0.        , 0.        , 0.        , 0.        ,\n",
       "        0.        , 0.        , 0.        , 0.        , 0.        ,\n",
       "        0.        , 0.        , 0.        , 0.        , 0.        ,\n",
       "        0.        , 0.        , 0.        , 0.        , 0.        ,\n",
       "        0.        , 0.        , 0.        , 0.        , 0.        ,\n",
       "        0.        , 0.        , 0.        , 0.        , 0.        ,\n",
       "        0.        , 0.        , 0.        , 0.        , 0.        ,\n",
       "        0.        , 0.        , 0.        , 0.        , 0.        ,\n",
       "        0.        , 0.        , 0.        , 0.        , 0.        ,\n",
       "        0.        , 0.        , 0.        , 0.        , 0.        ,\n",
       "        0.        , 0.        , 0.        , 0.        , 0.        ,\n",
       "        0.        , 0.        , 0.        , 0.        , 0.        ,\n",
       "        0.        , 0.        , 0.        , 0.        , 0.        ,\n",
       "        0.        , 0.        , 0.        , 0.        , 0.        ,\n",
       "        0.        , 0.        ]])"
      ]
     },
     "execution_count": 191,
     "metadata": {},
     "output_type": "execute_result"
    }
   ],
   "source": [
    "print(np.array((A[j,:]/np.sum(A[j,:]))))\n",
    "testarr = ((A[j,:]/np.sum(A[j,:]))).toarray()\n",
    "testarr**2."
   ]
  },
  {
   "cell_type": "code",
   "execution_count": 195,
   "metadata": {},
   "outputs": [
    {
     "name": "stdout",
     "output_type": "stream",
     "text": [
      "447\n"
     ]
    }
   ],
   "source": [
    "j = 0\n",
    "Y = np.zeros(A.shape[0])\n",
    "for i in G_undir.nodes:\n",
    "    row = (A[j,:]/np.sum(A[j,:]))\n",
    "    row = row.toarray()\n",
    "    Y[j] = np.sum(row**2)\n",
    "    j = j+1\n",
    "    \n",
    "    \n",
    "print(j)"
   ]
  },
  {
   "cell_type": "code",
   "execution_count": 197,
   "metadata": {},
   "outputs": [],
   "source": [
    "degrees_undir = [G_undir.degree(n) for n in G_undir.nodes()]"
   ]
  },
  {
   "cell_type": "code",
   "execution_count": 211,
   "metadata": {},
   "outputs": [],
   "source": [
    "import sklearn\n",
    "from sklearn.linear_model import LinearRegression\n",
    "reg = LinearRegression().fit(np.log(degrees_undir).reshape(-1, 1), np.log(Y).reshape(-1, 1))"
   ]
  },
  {
   "cell_type": "code",
   "execution_count": 229,
   "metadata": {},
   "outputs": [
    {
     "name": "stdout",
     "output_type": "stream",
     "text": [
      "[[-0.71413944]]\n"
     ]
    }
   ],
   "source": [
    "print(reg.coef_) # reasonably close to -1?"
   ]
  },
  {
   "cell_type": "code",
   "execution_count": 228,
   "metadata": {},
   "outputs": [
    {
     "data": {
      "image/png": "[encoded data removed]",
      "text/plain": [
       "<Figure size 432x288 with 1 Axes>"
      ]
     },
     "metadata": {
      "needs_background": "light"
     },
     "output_type": "display_data"
    }
   ],
   "source": [
    "import matplotlib.pylab as plt\n",
    "import numpy as np\n",
    "from matplotlib.ticker import ScalarFormatter\n",
    "\n",
    "x = degrees_undir\n",
    "y = Y\n",
    "\n",
    "plt.scatter(x, y)\n",
    "plt.xscale('log')\n",
    "plt.yscale('log')\n",
    "\n",
    "plt.plot(np.exp(np.arange(0,3,0.01)), \n",
    "        np.exp(reg.predict(np.arange(0,3,0.01).reshape(-1, 1))), color=\"red\")\n",
    "\n",
    "ax = plt.gca()\n",
    "ax.xaxis.set_major_formatter(ScalarFormatter())\n",
    "plt.xlabel(\"log(k) - Number of Neighbours\")\n",
    "plt.ylabel(\"log(Y) - Disparity\")\n",
    "plt.show()\n"
   ]
  }
 ],
 "metadata": {
  "kernelspec": {
   "display_name": "Python 3 (ipykernel)",
   "language": "python",
   "name": "python3"
  },
  "language_info": {
   "codemirror_mode": {
    "name": "ipython",
    "version": 3
   },
   "file_extension": ".py",
   "mimetype": "text/x-python",
   "name": "python",
   "nbconvert_exporter": "python",
   "pygments_lexer": "ipython3",
   "version": "3.7.3"
  }
 },
 "nbformat": 4,
 "nbformat_minor": 4
}
