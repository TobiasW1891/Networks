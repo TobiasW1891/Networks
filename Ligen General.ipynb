{
 "cells": [
  {
   "cell_type": "markdown",
   "metadata": {},
   "source": [
    "import sys\n",
    "!{sys.executable} -m pip install pydot"
   ]
  },
  {
   "cell_type": "code",
   "execution_count": 1,
   "metadata": {},
   "outputs": [],
   "source": [
    "import pandas as pd\n",
    "import scipy\n",
    "from scipy.stats import skew\n",
    "import matplotlib.pyplot as plt\n",
    "import numpy as np\n",
    "import networkx\n",
    "import networkx.convert_matrix as nx\n",
    "import pyvis\n",
    "import graphviz\n",
    "from pyvis.network import Network\n",
    "import pyvis.network as net\n",
    "import pydot\n",
    "import random\n",
    "import time\n",
    "from matplotlib.ticker import ScalarFormatter\n",
    "\n",
    "# https://towardsdatascience.com/social-network-analysis-from-theory-to-applications-with-python-d12e9a34c2c7\n",
    "# https://github.com/ewenme/transfers\n",
    "# https://towardsdatascience.com/visualizing-networks-in-python-d70f4cbeb259\n",
    "# https://github.com/MridulS/pydata-networkx\n",
    "# https://datapane.com/u/khuyentran1401/reports/63OQaRk/pyvis-visualize-interactive-network-graphs-in-python/"
   ]
  },
  {
   "cell_type": "code",
   "execution_count": 2,
   "metadata": {},
   "outputs": [],
   "source": [
    "year = \"2011\""
   ]
  },
  {
   "cell_type": "code",
   "execution_count": 3,
   "metadata": {},
   "outputs": [],
   "source": [
    "BuLi = pd.read_csv(r\"DataFootball/\"+year+\"_german_bundesliga_1.csv\")\n",
    "PL = pd.read_csv(r\"DataFootball/\"+year+\"_english_premier_league.csv\")\n",
    "SA = pd.read_csv(r\"DataFootball/\"+year+\"_italian_serie_a.csv\")\n",
    "PD = pd.read_csv(r\"DataFootball/\"+year+\"_spanish_primera_division.csv\")\n",
    "L1 = pd.read_csv(r\"DataFootball/\"+year+\"_french_ligue_1.csv\")\n",
    "NOS = pd.read_csv(r\"DataFootball/\"+year+\"_portugese_liga_nos.csv\")\n",
    "Ere = pd.read_csv(r\"DataFootball/\"+year+\"_dutch_eredivisie.csv\")\n",
    "EC = pd.read_csv(r\"DataFootball/\"+year+\"_english_championship.csv\")\n",
    "Rus = pd.read_csv(r\"DataFootball/\"+year+\"_russian_premier_liga.csv\")"
   ]
  },
  {
   "cell_type": "code",
   "execution_count": 4,
   "metadata": {},
   "outputs": [],
   "source": [
    "DF = pd.concat([BuLi, PL, SA,\n",
    "                  PD, L1, NOS, \n",
    "                  Ere, EC, Rus],ignore_index=True)"
   ]
  },
  {
   "cell_type": "code",
   "execution_count": 5,
   "metadata": {},
   "outputs": [
    {
     "data": {
      "text/plain": [
       "(7483, 12)"
      ]
     },
     "execution_count": 5,
     "metadata": {},
     "output_type": "execute_result"
    }
   ],
   "source": [
    "DF.shape"
   ]
  },
  {
   "cell_type": "code",
   "execution_count": 6,
   "metadata": {},
   "outputs": [
    {
     "data": {
      "text/plain": [
       "0       False\n",
       "1       False\n",
       "2       False\n",
       "3       False\n",
       "4       False\n",
       "        ...  \n",
       "7478    False\n",
       "7479    False\n",
       "7480    False\n",
       "7481    False\n",
       "7482    False\n",
       "Name: club_name, Length: 7483, dtype: bool"
      ]
     },
     "execution_count": 6,
     "metadata": {},
     "output_type": "execute_result"
    }
   ],
   "source": [
    "DF[\"club_name\"].isin([\"Leicester City\"])"
   ]
  },
  {
   "cell_type": "code",
   "execution_count": 7,
   "metadata": {},
   "outputs": [
    {
     "data": {
      "text/html": [
       "<div>\n",
       "<style scoped>\n",
       "    .dataframe tbody tr th:only-of-type {\n",
       "        vertical-align: middle;\n",
       "    }\n",
       "\n",
       "    .dataframe tbody tr th {\n",
       "        vertical-align: top;\n",
       "    }\n",
       "\n",
       "    .dataframe thead th {\n",
       "        text-align: right;\n",
       "    }\n",
       "</style>\n",
       "<table border=\"1\" class=\"dataframe\">\n",
       "  <thead>\n",
       "    <tr style=\"text-align: right;\">\n",
       "      <th></th>\n",
       "      <th>club_name</th>\n",
       "      <th>player_name</th>\n",
       "      <th>age</th>\n",
       "      <th>position</th>\n",
       "      <th>club_involved_name</th>\n",
       "      <th>fee</th>\n",
       "      <th>transfer_movement</th>\n",
       "      <th>transfer_period</th>\n",
       "      <th>fee_cleaned</th>\n",
       "      <th>league_name</th>\n",
       "      <th>year</th>\n",
       "      <th>season</th>\n",
       "    </tr>\n",
       "  </thead>\n",
       "  <tbody>\n",
       "    <tr>\n",
       "      <th>0</th>\n",
       "      <td>Bayern Munich</td>\n",
       "      <td>Manuel Neuer</td>\n",
       "      <td>25.0</td>\n",
       "      <td>Goalkeeper</td>\n",
       "      <td>FC Schalke 04</td>\n",
       "      <td>£27.00m</td>\n",
       "      <td>in</td>\n",
       "      <td>Summer</td>\n",
       "      <td>27.00</td>\n",
       "      <td>1 Bundesliga</td>\n",
       "      <td>2011</td>\n",
       "      <td>2011/2012</td>\n",
       "    </tr>\n",
       "    <tr>\n",
       "      <th>1</th>\n",
       "      <td>Bayern Munich</td>\n",
       "      <td>Jérôme Boateng</td>\n",
       "      <td>22.0</td>\n",
       "      <td>Centre-Back</td>\n",
       "      <td>Man City</td>\n",
       "      <td>£12.15m</td>\n",
       "      <td>in</td>\n",
       "      <td>Summer</td>\n",
       "      <td>12.15</td>\n",
       "      <td>1 Bundesliga</td>\n",
       "      <td>2011</td>\n",
       "      <td>2011/2012</td>\n",
       "    </tr>\n",
       "    <tr>\n",
       "      <th>2</th>\n",
       "      <td>Bayern Munich</td>\n",
       "      <td>Rafinha</td>\n",
       "      <td>25.0</td>\n",
       "      <td>Right-Back</td>\n",
       "      <td>Genoa</td>\n",
       "      <td>£4.95m</td>\n",
       "      <td>in</td>\n",
       "      <td>Summer</td>\n",
       "      <td>4.95</td>\n",
       "      <td>1 Bundesliga</td>\n",
       "      <td>2011</td>\n",
       "      <td>2011/2012</td>\n",
       "    </tr>\n",
       "    <tr>\n",
       "      <th>3</th>\n",
       "      <td>Bayern Munich</td>\n",
       "      <td>Nils Petersen</td>\n",
       "      <td>22.0</td>\n",
       "      <td>Centre-Forward</td>\n",
       "      <td>Energie Cottbus</td>\n",
       "      <td>£2.52m</td>\n",
       "      <td>in</td>\n",
       "      <td>Summer</td>\n",
       "      <td>2.52</td>\n",
       "      <td>1 Bundesliga</td>\n",
       "      <td>2011</td>\n",
       "      <td>2011/2012</td>\n",
       "    </tr>\n",
       "    <tr>\n",
       "      <th>4</th>\n",
       "      <td>Bayern Munich</td>\n",
       "      <td>Takashi Usami</td>\n",
       "      <td>19.0</td>\n",
       "      <td>Left Winger</td>\n",
       "      <td>Gamba Osaka</td>\n",
       "      <td>Loan fee:£270Th.</td>\n",
       "      <td>in</td>\n",
       "      <td>Summer</td>\n",
       "      <td>0.27</td>\n",
       "      <td>1 Bundesliga</td>\n",
       "      <td>2011</td>\n",
       "      <td>2011/2012</td>\n",
       "    </tr>\n",
       "    <tr>\n",
       "      <th>...</th>\n",
       "      <td>...</td>\n",
       "      <td>...</td>\n",
       "      <td>...</td>\n",
       "      <td>...</td>\n",
       "      <td>...</td>\n",
       "      <td>...</td>\n",
       "      <td>...</td>\n",
       "      <td>...</td>\n",
       "      <td>...</td>\n",
       "      <td>...</td>\n",
       "      <td>...</td>\n",
       "      <td>...</td>\n",
       "    </tr>\n",
       "    <tr>\n",
       "      <th>7478</th>\n",
       "      <td>FK Ufa</td>\n",
       "      <td>Aleksandr Vasiljev</td>\n",
       "      <td>31.0</td>\n",
       "      <td>Defensive Midfield</td>\n",
       "      <td>Zenit Moskau</td>\n",
       "      <td>Free Transfer</td>\n",
       "      <td>out</td>\n",
       "      <td>NaN</td>\n",
       "      <td>0.00</td>\n",
       "      <td>Premier Liga</td>\n",
       "      <td>2011</td>\n",
       "      <td>2011/2012</td>\n",
       "    </tr>\n",
       "    <tr>\n",
       "      <th>7479</th>\n",
       "      <td>FK Ufa</td>\n",
       "      <td>Igor Lavrentjev</td>\n",
       "      <td>22.0</td>\n",
       "      <td>Defensive Midfield</td>\n",
       "      <td>FK Podolje</td>\n",
       "      <td>Loan</td>\n",
       "      <td>out</td>\n",
       "      <td>NaN</td>\n",
       "      <td>0.00</td>\n",
       "      <td>Premier Liga</td>\n",
       "      <td>2011</td>\n",
       "      <td>2011/2012</td>\n",
       "    </tr>\n",
       "    <tr>\n",
       "      <th>7480</th>\n",
       "      <td>FK Ufa</td>\n",
       "      <td>Igor Lavrentjev</td>\n",
       "      <td>22.0</td>\n",
       "      <td>Defensive Midfield</td>\n",
       "      <td>FK Ryazan</td>\n",
       "      <td>Loan</td>\n",
       "      <td>out</td>\n",
       "      <td>NaN</td>\n",
       "      <td>0.00</td>\n",
       "      <td>Premier Liga</td>\n",
       "      <td>2011</td>\n",
       "      <td>2011/2012</td>\n",
       "    </tr>\n",
       "    <tr>\n",
       "      <th>7481</th>\n",
       "      <td>FK Ufa</td>\n",
       "      <td>Konstantin Ionov</td>\n",
       "      <td>28.0</td>\n",
       "      <td>Centre-Forward</td>\n",
       "      <td>Without Club</td>\n",
       "      <td>-</td>\n",
       "      <td>out</td>\n",
       "      <td>NaN</td>\n",
       "      <td>0.00</td>\n",
       "      <td>Premier Liga</td>\n",
       "      <td>2011</td>\n",
       "      <td>2011/2012</td>\n",
       "    </tr>\n",
       "    <tr>\n",
       "      <th>7482</th>\n",
       "      <td>FK Ufa</td>\n",
       "      <td>Aleksandr Ionov</td>\n",
       "      <td>28.0</td>\n",
       "      <td>Centre-Back</td>\n",
       "      <td>Without Club</td>\n",
       "      <td>-</td>\n",
       "      <td>out</td>\n",
       "      <td>NaN</td>\n",
       "      <td>0.00</td>\n",
       "      <td>Premier Liga</td>\n",
       "      <td>2011</td>\n",
       "      <td>2011/2012</td>\n",
       "    </tr>\n",
       "  </tbody>\n",
       "</table>\n",
       "<p>7483 rows × 12 columns</p>\n",
       "</div>"
      ],
      "text/plain": [
       "          club_name         player_name   age            position  \\\n",
       "0     Bayern Munich        Manuel Neuer  25.0          Goalkeeper   \n",
       "1     Bayern Munich      Jérôme Boateng  22.0         Centre-Back   \n",
       "2     Bayern Munich             Rafinha  25.0          Right-Back   \n",
       "3     Bayern Munich       Nils Petersen  22.0      Centre-Forward   \n",
       "4     Bayern Munich       Takashi Usami  19.0         Left Winger   \n",
       "...             ...                 ...   ...                 ...   \n",
       "7478         FK Ufa  Aleksandr Vasiljev  31.0  Defensive Midfield   \n",
       "7479         FK Ufa     Igor Lavrentjev  22.0  Defensive Midfield   \n",
       "7480         FK Ufa     Igor Lavrentjev  22.0  Defensive Midfield   \n",
       "7481         FK Ufa    Konstantin Ionov  28.0      Centre-Forward   \n",
       "7482         FK Ufa     Aleksandr Ionov  28.0         Centre-Back   \n",
       "\n",
       "     club_involved_name               fee transfer_movement transfer_period  \\\n",
       "0         FC Schalke 04           £27.00m                in          Summer   \n",
       "1              Man City           £12.15m                in          Summer   \n",
       "2                 Genoa            £4.95m                in          Summer   \n",
       "3       Energie Cottbus            £2.52m                in          Summer   \n",
       "4           Gamba Osaka  Loan fee:£270Th.                in          Summer   \n",
       "...                 ...               ...               ...             ...   \n",
       "7478       Zenit Moskau     Free Transfer               out             NaN   \n",
       "7479         FK Podolje              Loan               out             NaN   \n",
       "7480          FK Ryazan              Loan               out             NaN   \n",
       "7481       Without Club                 -               out             NaN   \n",
       "7482       Without Club                 -               out             NaN   \n",
       "\n",
       "      fee_cleaned   league_name  year     season  \n",
       "0           27.00  1 Bundesliga  2011  2011/2012  \n",
       "1           12.15  1 Bundesliga  2011  2011/2012  \n",
       "2            4.95  1 Bundesliga  2011  2011/2012  \n",
       "3            2.52  1 Bundesliga  2011  2011/2012  \n",
       "4            0.27  1 Bundesliga  2011  2011/2012  \n",
       "...           ...           ...   ...        ...  \n",
       "7478         0.00  Premier Liga  2011  2011/2012  \n",
       "7479         0.00  Premier Liga  2011  2011/2012  \n",
       "7480         0.00  Premier Liga  2011  2011/2012  \n",
       "7481         0.00  Premier Liga  2011  2011/2012  \n",
       "7482         0.00  Premier Liga  2011  2011/2012  \n",
       "\n",
       "[7483 rows x 12 columns]"
      ]
     },
     "execution_count": 7,
     "metadata": {},
     "output_type": "execute_result"
    }
   ],
   "source": [
    "DF"
   ]
  },
  {
   "cell_type": "code",
   "execution_count": 8,
   "metadata": {},
   "outputs": [],
   "source": [
    "## There is a problem with \"double names\", e.g. Leicester and Leicester City\n",
    "def Change(DF,old,new):\n",
    "    DF.loc[DF[\"club_name\"].isin([old]), [\"club_name\"]] = new\n",
    "    DF.loc[DF[\"club_involved_name\"].isin([old]), [\"club_involved_name\"]] = new\n",
    "    return DF"
   ]
  },
  {
   "cell_type": "code",
   "execution_count": 9,
   "metadata": {},
   "outputs": [],
   "source": [
    "old = [\"Leicester\", \"SC Paderborn\", \"Real Betis\", \"Sassuolo\", \"Liverpool\", \"Watford\", \"Queens Park Rangers\",\n",
    "       \"Brighton & Hove Albion\", \"Manchester United\", \"Inter\", \"UC Sampdoria\", \"Genoa\", \"Juventus FC\", \"Braga\",\n",
    "      \"Zenit S-Pb\", \"Valencia CF\", \"Marseille\", \"Espanyol\", \"Villarreal\", \"Getafe\", \"Toulouse\", \"Cardiff\",\n",
    "      \"Paris Saint-Germain\", \"SL Benfica\", \"R. Strasbourg\", \"Racing Club\", \"Spartak Moscow\", \"Ajax Amsterdam\",\n",
    "      \"Feyenoord Rotterdam\", \"Dijon FCO\", \"F. Düsseldorf\", \"Man City\", \"E. Frankfurt\", \"West Ham United\",\n",
    "      \"Huddersfield Town\", \"Charlton\", \"Nottm Forest\", \"Swansea\", \"SS Lazio\", \"Arsenal FC\", \"Newcastle\",\n",
    "      \"Chelsea FC\", \"Vitesse Arnheim\", \"Heerenveen\", \"Levante\", \"Brentford\", \"Bologna\", \"SV Werder Bremen\",\n",
    "      \"Ipswich\", \"Montpellier\", \"Bolton\", \"Marítimo\", \"Millwall\",\"FC Sochaux-Montbéliard\", \"Blackpool FC\",\n",
    "       \"ES Troyes AC\", \"Middlesbrough FC\", \"Vit. Guimarães\", \"Doncaster\", \"Norwich City\", \"Coventry City\"]"
   ]
  },
  {
   "cell_type": "code",
   "execution_count": 10,
   "metadata": {},
   "outputs": [],
   "source": [
    "new = [\"Leicester City\", \"SC Paderborn 07\", \"Real Betis Balompié\", \"US Sassuolo\", \"Liverpool FC\", \"Watford FC\",\n",
    "      \"QPR\", \"Brighton\", \"Man Utd\", \"Inter Milan\", \"Sampdoria\", \"Genoa CFC\", \"Juventus\", \"SC Braga\", \n",
    "       \"Zenit St. Petersburg\", \"Valencia\", \"Olympique Marseille\", \"RCD Espanyol Barcelona\", \"Villarreal CF\", \n",
    "       \"Getafe CF\", \"FC Toulouse\", \"Cardiff City\", \"Paris SG\", \"Benfica\", \"RC Strasbourg Alsace\", \"RC Strasbourg Alsace\",\n",
    "      \"Spartak\", \"Ajax\", \"Feyenoord\", \"Dijon\", \"Fortuna Düsseldorf\", \"Manchester City\",\"Eintracht Frankfurt\", \"West Ham\",\n",
    "       \"Huddersfield\",\"Charlton Athletic\", \"Nottingham Forest\", \"Swansea City\", \"Lazio\", \"Arsenal\", \"Newcastle United\",\n",
    "       \"Chelsea\",\"Vitesse\", \"SC Heerenveen\", \"Levante UD\", \"Brentford FC\", \"Bologna FC 1909\", \"Werder Bremen\",\n",
    "      \"Ipswich Town\", \"Montpellier HSC\", \"Bolton Wanderers\", \"CS Marítimo\", \"Millwall FC\",\"FC Sochaux\", \"Blackpool\",\n",
    "      \"Troyes\", \"Middlesbrough\", \"Vitória Guimarães SC\", \"Doncaster Rovers\", \"Norwich\", \"Coventry\"]"
   ]
  },
  {
   "cell_type": "code",
   "execution_count": 11,
   "metadata": {},
   "outputs": [],
   "source": [
    "for i in range(len(new)):\n",
    "    DF = Change(DF, old[i], new[i])\n"
   ]
  },
  {
   "cell_type": "code",
   "execution_count": 12,
   "metadata": {},
   "outputs": [
    {
     "data": {
      "text/plain": [
       "0"
      ]
     },
     "execution_count": 12,
     "metadata": {},
     "output_type": "execute_result"
    }
   ],
   "source": [
    "sum(DF[\"club_involved_name\"].isin(old))"
   ]
  },
  {
   "cell_type": "markdown",
   "metadata": {},
   "source": [
    "## Clean the Data"
   ]
  },
  {
   "cell_type": "code",
   "execution_count": 13,
   "metadata": {},
   "outputs": [],
   "source": [
    "def DelCol(DF):\n",
    "    DF = DF.loc[DF[\"transfer_movement\"]==\"in\"] # only one direction of transfers should be considered\n",
    "    DF = DF.loc[DF[\"fee_cleaned\"]>0] # only \"real\" transfers\n",
    "    del DF[\"player_name\"]\n",
    "    del DF[\"transfer_movement\"]\n",
    "    del DF[\"age\"]\n",
    "    del DF[\"position\"]\n",
    "    del DF[\"fee\"]\n",
    "    del DF[\"league_name\"]\n",
    "    del DF[\"transfer_period\"]\n",
    "    del DF[\"year\"]\n",
    "    del DF[\"season\"]\n",
    "    return(DF)\n",
    "\n"
   ]
  },
  {
   "cell_type": "code",
   "execution_count": 14,
   "metadata": {},
   "outputs": [],
   "source": [
    "DF = DelCol(DF)"
   ]
  },
  {
   "cell_type": "code",
   "execution_count": null,
   "metadata": {},
   "outputs": [],
   "source": []
  },
  {
   "cell_type": "code",
   "execution_count": null,
   "metadata": {},
   "outputs": [],
   "source": []
  },
  {
   "cell_type": "markdown",
   "metadata": {},
   "source": [
    "### Combine multiple transfers between clubs a and b"
   ]
  },
  {
   "cell_type": "code",
   "execution_count": 15,
   "metadata": {},
   "outputs": [],
   "source": [
    "# now as a function\n",
    "        \n",
    "def AddFees(DF): # adds fees of multiple transfers from club a to b\n",
    "    # output\n",
    "    DF_out = pd.DataFrame({'club_name' : [],\n",
    "                         \"club_involved_name\":[],\n",
    "                         \"fee_cleaned\":[]})\n",
    "    \n",
    "    for i in range(DF.shape[0]):\n",
    "        # is this a new match?\n",
    "        if DF_out.loc[(DF_out[\"club_name\"]== DF[\"club_name\"].iloc[i])&  \n",
    "                     DF_out[\"club_involved_name\"].isin([DF[\"club_involved_name\"].iloc[i]])].size ==0:\n",
    "            DF_out = DF_out.append(DF.iloc[i])\n",
    "        else:\n",
    "            # add fee value to already existing value\n",
    "            DF_out[\"fee_cleaned\"].loc[(DF_out[\"club_name\"]== DF[\"club_name\"].iloc[i])&  \n",
    "                     DF_out[\"club_involved_name\"].isin([DF[\"club_involved_name\"].iloc[i]])] += DF[\"fee_cleaned\"].iloc[i]\n",
    "            \n",
    "    return(DF_out)    \n",
    "        "
   ]
  },
  {
   "cell_type": "code",
   "execution_count": 16,
   "metadata": {},
   "outputs": [
    {
     "name": "stderr",
     "output_type": "stream",
     "text": [
      "/home/users/t_wand01/.local/lib/python3.7/site-packages/pandas/core/indexing.py:1732: SettingWithCopyWarning: \n",
      "A value is trying to be set on a copy of a slice from a DataFrame\n",
      "\n",
      "See the caveats in the documentation: https://pandas.pydata.org/pandas-docs/stable/user_guide/indexing.html#returning-a-view-versus-a-copy\n",
      "  self._setitem_single_block(indexer, value, name)\n"
     ]
    }
   ],
   "source": [
    "DF = AddFees(DF)"
   ]
  },
  {
   "cell_type": "code",
   "execution_count": 17,
   "metadata": {},
   "outputs": [
    {
     "data": {
      "text/html": [
       "<div>\n",
       "<style scoped>\n",
       "    .dataframe tbody tr th:only-of-type {\n",
       "        vertical-align: middle;\n",
       "    }\n",
       "\n",
       "    .dataframe tbody tr th {\n",
       "        vertical-align: top;\n",
       "    }\n",
       "\n",
       "    .dataframe thead th {\n",
       "        text-align: right;\n",
       "    }\n",
       "</style>\n",
       "<table border=\"1\" class=\"dataframe\">\n",
       "  <thead>\n",
       "    <tr style=\"text-align: right;\">\n",
       "      <th></th>\n",
       "      <th>index</th>\n",
       "      <th>club_name</th>\n",
       "      <th>club_involved_name</th>\n",
       "      <th>fee_cleaned</th>\n",
       "    </tr>\n",
       "  </thead>\n",
       "  <tbody>\n",
       "    <tr>\n",
       "      <th>0</th>\n",
       "      <td>0</td>\n",
       "      <td>Bayern Munich</td>\n",
       "      <td>FC Schalke 04</td>\n",
       "      <td>27.000</td>\n",
       "    </tr>\n",
       "    <tr>\n",
       "      <th>1</th>\n",
       "      <td>1</td>\n",
       "      <td>Bayern Munich</td>\n",
       "      <td>Manchester City</td>\n",
       "      <td>12.150</td>\n",
       "    </tr>\n",
       "    <tr>\n",
       "      <th>2</th>\n",
       "      <td>2</td>\n",
       "      <td>Bayern Munich</td>\n",
       "      <td>Genoa CFC</td>\n",
       "      <td>4.950</td>\n",
       "    </tr>\n",
       "    <tr>\n",
       "      <th>3</th>\n",
       "      <td>3</td>\n",
       "      <td>Bayern Munich</td>\n",
       "      <td>Energie Cottbus</td>\n",
       "      <td>2.520</td>\n",
       "    </tr>\n",
       "    <tr>\n",
       "      <th>4</th>\n",
       "      <td>4</td>\n",
       "      <td>Bayern Munich</td>\n",
       "      <td>Gamba Osaka</td>\n",
       "      <td>0.270</td>\n",
       "    </tr>\n",
       "    <tr>\n",
       "      <th>...</th>\n",
       "      <td>...</td>\n",
       "      <td>...</td>\n",
       "      <td>...</td>\n",
       "      <td>...</td>\n",
       "    </tr>\n",
       "    <tr>\n",
       "      <th>759</th>\n",
       "      <td>7409</td>\n",
       "      <td>Dinamo Moscow</td>\n",
       "      <td>Loko Moscow</td>\n",
       "      <td>1.800</td>\n",
       "    </tr>\n",
       "    <tr>\n",
       "      <th>760</th>\n",
       "      <td>7411</td>\n",
       "      <td>Dinamo Moscow</td>\n",
       "      <td>KamAZ</td>\n",
       "      <td>0.270</td>\n",
       "    </tr>\n",
       "    <tr>\n",
       "      <th>761</th>\n",
       "      <td>7429</td>\n",
       "      <td>Krylya Sovetov Samara</td>\n",
       "      <td>Zenit St. Petersburg</td>\n",
       "      <td>0.630</td>\n",
       "    </tr>\n",
       "    <tr>\n",
       "      <th>762</th>\n",
       "      <td>7430</td>\n",
       "      <td>Krylya Sovetov Samara</td>\n",
       "      <td>FC Ashdod</td>\n",
       "      <td>0.450</td>\n",
       "    </tr>\n",
       "    <tr>\n",
       "      <th>763</th>\n",
       "      <td>7431</td>\n",
       "      <td>Krylya Sovetov Samara</td>\n",
       "      <td>Naftan</td>\n",
       "      <td>0.068</td>\n",
       "    </tr>\n",
       "  </tbody>\n",
       "</table>\n",
       "<p>764 rows × 4 columns</p>\n",
       "</div>"
      ],
      "text/plain": [
       "     index              club_name    club_involved_name  fee_cleaned\n",
       "0        0          Bayern Munich         FC Schalke 04       27.000\n",
       "1        1          Bayern Munich       Manchester City       12.150\n",
       "2        2          Bayern Munich             Genoa CFC        4.950\n",
       "3        3          Bayern Munich       Energie Cottbus        2.520\n",
       "4        4          Bayern Munich           Gamba Osaka        0.270\n",
       "..     ...                    ...                   ...          ...\n",
       "759   7409          Dinamo Moscow           Loko Moscow        1.800\n",
       "760   7411          Dinamo Moscow                 KamAZ        0.270\n",
       "761   7429  Krylya Sovetov Samara  Zenit St. Petersburg        0.630\n",
       "762   7430  Krylya Sovetov Samara             FC Ashdod        0.450\n",
       "763   7431  Krylya Sovetov Samara                Naftan        0.068\n",
       "\n",
       "[764 rows x 4 columns]"
      ]
     },
     "execution_count": 17,
     "metadata": {},
     "output_type": "execute_result"
    }
   ],
   "source": [
    "DF = DF.reset_index()\n",
    "DF"
   ]
  },
  {
   "cell_type": "markdown",
   "metadata": {},
   "source": [
    "## Second Data Set: Undirected\n",
    "Combine both transfer fees from A to B and B to A as one \"transfer volume\""
   ]
  },
  {
   "cell_type": "code",
   "execution_count": 18,
   "metadata": {},
   "outputs": [],
   "source": [
    "DFun =  pd.DataFrame({'club1' : [],\n",
    "                         \"club2\":[],\n",
    "                         \"fee_cleaned\":[]})"
   ]
  },
  {
   "cell_type": "code",
   "execution_count": 19,
   "metadata": {},
   "outputs": [],
   "source": [
    "DFun[\"club1\"] = np.minimum(DF['club_name'], DF['club_involved_name']) \n",
    "DFun[\"club2\"] = np.maximum(DF['club_name'], DF['club_involved_name']) "
   ]
  },
  {
   "cell_type": "code",
   "execution_count": 20,
   "metadata": {},
   "outputs": [],
   "source": [
    "       \n",
    "def AddFeesUndirected(DF): # adds fees of multiple transfers from club a to b\n",
    "    # output\n",
    "    DF_out = pd.DataFrame({'club_name' : [],\n",
    "                         \"club_involved_name\":[],\n",
    "                         \"fee_cleaned\":[]})\n",
    "    \n",
    "    for i in range(DF.shape[0]):\n",
    "        # is this a new match?\n",
    "        \n",
    "        if ((DF_out.loc[(DF_out[\"club_name\"]== DF[\"club_name\"].iloc[i])&  \n",
    "                     DF_out[\"club_involved_name\"].isin([DF[\"club_involved_name\"].iloc[i]])].size ==0) and \n",
    "            (DF_out.loc[(DF_out[\"club_involved_name\"]== DF[\"club_name\"].iloc[i])&  # Neither direction!\n",
    "                     DF_out[\"club_name\"].isin([DF[\"club_involved_name\"].iloc[i]])].size ==0)):\n",
    "            DF_out = DF_out.append(DF.iloc[i])\n",
    "        \n",
    "        elif (DF_out.loc[(DF_out[\"club_name\"]== DF[\"club_name\"].iloc[i])&  \n",
    "                     DF_out[\"club_involved_name\"].isin([DF[\"club_involved_name\"].iloc[i]])].size > 0):\n",
    "            # add fee value to already existing value\n",
    "            DF_out[\"fee_cleaned\"].loc[(DF_out[\"club_name\"]== DF[\"club_name\"].iloc[i])&  \n",
    "                     DF_out[\"club_involved_name\"].isin([DF[\"club_involved_name\"].iloc[i]])] += DF[\"fee_cleaned\"].iloc[i]\n",
    "        \n",
    "        else: # add the \"reversed\" fee to existing value\n",
    "            DF_out[\"fee_cleaned\"].loc[(DF_out[\"club_involved_name\"]== DF[\"club_name\"].iloc[i])&  \n",
    "                     DF_out[\"club_name\"].isin([DF[\"club_involved_name\"].iloc[i]])] += DF[\"fee_cleaned\"].iloc[i]\n",
    "            \n",
    "            \n",
    "    return(DF_out)    \n",
    "        "
   ]
  },
  {
   "cell_type": "code",
   "execution_count": 21,
   "metadata": {},
   "outputs": [
    {
     "name": "stderr",
     "output_type": "stream",
     "text": [
      "/home/users/t_wand01/.local/lib/python3.7/site-packages/pandas/core/indexing.py:1732: SettingWithCopyWarning: \n",
      "A value is trying to be set on a copy of a slice from a DataFrame\n",
      "\n",
      "See the caveats in the documentation: https://pandas.pydata.org/pandas-docs/stable/user_guide/indexing.html#returning-a-view-versus-a-copy\n",
      "  self._setitem_single_block(indexer, value, name)\n"
     ]
    }
   ],
   "source": [
    "DFun = AddFeesUndirected(DF)"
   ]
  },
  {
   "cell_type": "markdown",
   "metadata": {},
   "source": [
    "# Graphs"
   ]
  },
  {
   "cell_type": "code",
   "execution_count": 22,
   "metadata": {},
   "outputs": [],
   "source": [
    "G = nx.from_pandas_edgelist(DF, \n",
    "                            source = \"club_name\",\n",
    "                            target = \"club_involved_name\",\n",
    "                            edge_attr=[\"fee_cleaned\"],#, \"colour\"],\n",
    "                            create_using=networkx.DiGraph()\n",
    "                           )"
   ]
  },
  {
   "cell_type": "code",
   "execution_count": 23,
   "metadata": {},
   "outputs": [],
   "source": [
    "# Teams of individual leagues 19/20\n",
    "BL_teams = list(set(BuLi[\"club_name\"])) # Bundesliga\n",
    "BLList = pd.Series(BL_teams)\n",
    "\n",
    "PLList = pd.Series(list(set(PL[\"club_name\"])))\n",
    "SAList = pd.Series(list(set(SA[\"club_name\"])))\n",
    "PDList = pd.Series(list(set(PD[\"club_name\"])))\n",
    "L1List = pd.Series(list(set(L1[\"club_name\"])))\n",
    "\n"
   ]
  },
  {
   "cell_type": "markdown",
   "metadata": {},
   "source": [
    "\n",
    "l = [\"red\", \"blue\"]\n",
    "print(len(G.nodes))\n",
    "Colours = random.choices(l, k=len(G.nodes))"
   ]
  },
  {
   "cell_type": "code",
   "execution_count": 24,
   "metadata": {},
   "outputs": [],
   "source": [
    "Colours = [\"none\"]*len(G.nodes)\n",
    "j = 0\n",
    "for i in G.nodes:\n",
    "    if np.sum(BLList.isin([i])) > 0: # if Bundesliga-Team\n",
    "        Colours[j] = \"red\"\n",
    "    j = j+1"
   ]
  },
  {
   "cell_type": "code",
   "execution_count": 25,
   "metadata": {},
   "outputs": [
    {
     "data": {
      "image/png": "[encoded data removed]",
      "text/plain": [
       "<Figure size 432x288 with 1 Axes>"
      ]
     },
     "metadata": {},
     "output_type": "display_data"
    }
   ],
   "source": [
    "networkx.draw_kamada_kawai(G,node_color = Colours, with_labels=False, alpha=0.1)"
   ]
  },
  {
   "cell_type": "code",
   "execution_count": 26,
   "metadata": {},
   "outputs": [],
   "source": [
    "def Colour1(node):\n",
    "    if np.sum(BLList.isin([node])):\n",
    "        out = \"red\"\n",
    "    elif np.sum(PLList.isin([node])):\n",
    "        out = \"blue\"\n",
    "    elif np.sum(SAList.isin([node])):\n",
    "        out = \"green\" \n",
    "    elif np.sum(PDList.isin([node])):\n",
    "        out = \"yellow\"\n",
    "    elif np.sum(L1List.isin([node])):\n",
    "        out = \"purple\"\n",
    "    else:\n",
    "        out = \"none\"\n",
    "    return(out)"
   ]
  },
  {
   "cell_type": "code",
   "execution_count": 27,
   "metadata": {},
   "outputs": [],
   "source": [
    "j = 0\n",
    "for i in G.nodes:\n",
    "    Colours[j] = Colour1(i)\n",
    "    j = j+1"
   ]
  },
  {
   "cell_type": "code",
   "execution_count": 28,
   "metadata": {},
   "outputs": [
    {
     "data": {
      "image/png": "[encoded data removed]",
      "text/plain": [
       "<Figure size 432x288 with 1 Axes>"
      ]
     },
     "metadata": {},
     "output_type": "display_data"
    }
   ],
   "source": [
    "networkx.draw_spring(G,node_color = Colours, with_labels=False, alpha = 0.1)\n"
   ]
  },
  {
   "cell_type": "code",
   "execution_count": 29,
   "metadata": {},
   "outputs": [
    {
     "data": {
      "image/png": "[encoded data removed]",
      "text/plain": [
       "<Figure size 432x288 with 1 Axes>"
      ]
     },
     "metadata": {},
     "output_type": "display_data"
    }
   ],
   "source": [
    "networkx.draw_circular(G,node_color = Colours, with_labels=False, alpha = 0.1)\n",
    "# one can see blocks of the individual countries + crosslinks\n",
    "plt.savefig(year+\"_Circular\")"
   ]
  },
  {
   "cell_type": "code",
   "execution_count": 30,
   "metadata": {},
   "outputs": [],
   "source": [
    "# Visual inspection: much less \"Small World\"-connected than before!"
   ]
  },
  {
   "cell_type": "code",
   "execution_count": null,
   "metadata": {},
   "outputs": [],
   "source": []
  },
  {
   "cell_type": "code",
   "execution_count": 31,
   "metadata": {
    "scrolled": true
   },
   "outputs": [
    {
     "data": {
      "text/html": [
       "\n",
       "        <iframe\n",
       "            width=\"800px\"\n",
       "            height=\"800px\"\n",
       "            src=\"Test.html\"\n",
       "            frameborder=\"0\"\n",
       "            allowfullscreen\n",
       "            \n",
       "        ></iframe>\n",
       "        "
      ],
      "text/plain": [
       "<IPython.lib.display.IFrame at 0x7fc5602800b8>"
      ]
     },
     "execution_count": 31,
     "metadata": {},
     "output_type": "execute_result"
    }
   ],
   "source": [
    "net = Network(\"800px\", \"800px\",notebook=True)\n",
    "net.from_nx(G)\n",
    "net.show(\"Test.html\")\n",
    "# net.save_graph(\"Test.html\")"
   ]
  },
  {
   "cell_type": "markdown",
   "metadata": {},
   "source": [
    "## Pyvis"
   ]
  },
  {
   "cell_type": "code",
   "execution_count": 32,
   "metadata": {},
   "outputs": [],
   "source": [
    "g = Network(notebook=True)\n",
    "G = nx.from_pandas_edgelist(DFun, \n",
    "                            source = \"club_involved_name\",\n",
    "                            target = \"club_name\",\n",
    "                            edge_attr=[\"fee_cleaned\"],#, \"colour\"],\n",
    "                            create_using=networkx.DiGraph()\n",
    "                           )"
   ]
  },
  {
   "cell_type": "markdown",
   "metadata": {},
   "source": [
    "g.add_nodes(np.array(G.nodes), \n",
    "            color = random.choices([\"red\",\"grey\"], k=len(G.nodes)),\n",
    "            options = {\n",
    "                \"title\":\"lel\"\n",
    "            })"
   ]
  },
  {
   "cell_type": "code",
   "execution_count": 33,
   "metadata": {},
   "outputs": [],
   "source": [
    "def Colour(node):\n",
    "    # from https://www.hexcolortool.com/#f429ff,0.33\n",
    "    if np.sum(BLList.isin([node])):\n",
    "        out = \"rgba(244, 15, 11, 0.66)\"\n",
    "    elif np.sum(PLList.isin([node])):\n",
    "        out = \"rgba(41, 155, 255, 0.66)\"\n",
    "    elif np.sum(SAList.isin([node])):\n",
    "        out = \"rgba(41, 255, 77, 0.66)\" \n",
    "    elif np.sum(PDList.isin([node])):\n",
    "        out = \"rgba(255, 241, 41, 0.66)\"\n",
    "    elif np.sum(L1List.isin([node])):\n",
    "        out = \"rgba(244, 41, 255, 0.66)\"\n",
    "    else:\n",
    "        out = \"rgba(0, 0, 0, 0.22)\"\n",
    "    return(out)"
   ]
  },
  {
   "cell_type": "code",
   "execution_count": 34,
   "metadata": {},
   "outputs": [],
   "source": [
    "# https://www.hexcolortool.com/#f40f0b,0.33\n",
    "for node in G.nodes:\n",
    "    g.add_node(str(node), color = Colour(node), #alpha=0.1,\n",
    "              options = {\"physics\":False\n",
    "              })"
   ]
  },
  {
   "cell_type": "code",
   "execution_count": 35,
   "metadata": {},
   "outputs": [],
   "source": [
    "#var options = {\n",
    "# \"nodes\": {\n",
    "#    \"color\": {\n",
    "#      \"border\": \"rgba(43,124,233,0.46)\",\n",
    "#      \"background\": \"rgba(90,65,252,0.51)\"\n",
    "#    }\n",
    "#  },\n",
    "#  \"edges\": {\n",
    "#    \"color\": {\n",
    "#      \"inherit\": true\n",
    "#    },\n",
    "#    \"smooth\": false\n",
    "#  },\n",
    "#  \"physics\": {\n",
    "# \"enabled\": false,\n",
    "#    \"repulsion\": {\n",
    "#     \"springLength\": 500\n",
    "#   },\n",
    "#    \"minVelocity\": 0.75,\n",
    "#    \"solver\": \"repulsion\"\n",
    "#  }\n",
    "#}"
   ]
  },
  {
   "cell_type": "code",
   "execution_count": 36,
   "metadata": {},
   "outputs": [],
   "source": [
    "#g.add_edges(DF19[\"club_name\"],DF19[\"club_involved_name\"], value =DF19[\"fee_cleaned\"])"
   ]
  },
  {
   "cell_type": "code",
   "execution_count": 37,
   "metadata": {},
   "outputs": [],
   "source": [
    "for i in range(DFun.shape[0]):\n",
    "    g.add_edge(DFun[\"club_name\"].iloc[i], \n",
    "              DFun[\"club_involved_name\"].iloc[i],\n",
    "              value=DFun[\"fee_cleaned\"].iloc[i], \n",
    "            kwargs ={\n",
    "               \"physics\":False\n",
    "           })\n"
   ]
  },
  {
   "cell_type": "code",
   "execution_count": 38,
   "metadata": {},
   "outputs": [
    {
     "data": {
      "text/html": [
       "\n",
       "        <iframe\n",
       "            width=\"500px\"\n",
       "            height=\"500px\"\n",
       "            src=\"Test.html\"\n",
       "            frameborder=\"0\"\n",
       "            allowfullscreen\n",
       "            \n",
       "        ></iframe>\n",
       "        "
      ],
      "text/plain": [
       "<IPython.lib.display.IFrame at 0x7fc560426400>"
      ]
     },
     "execution_count": 38,
     "metadata": {},
     "output_type": "execute_result"
    }
   ],
   "source": [
    "g.show(\"Test.html\")"
   ]
  },
  {
   "cell_type": "code",
   "execution_count": 39,
   "metadata": {},
   "outputs": [],
   "source": [
    "g.save_graph(year+\"_allLeagues.html\")"
   ]
  },
  {
   "cell_type": "code",
   "execution_count": 40,
   "metadata": {},
   "outputs": [
    {
     "data": {
      "text/html": [
       "<div>\n",
       "<style scoped>\n",
       "    .dataframe tbody tr th:only-of-type {\n",
       "        vertical-align: middle;\n",
       "    }\n",
       "\n",
       "    .dataframe tbody tr th {\n",
       "        vertical-align: top;\n",
       "    }\n",
       "\n",
       "    .dataframe thead th {\n",
       "        text-align: right;\n",
       "    }\n",
       "</style>\n",
       "<table border=\"1\" class=\"dataframe\">\n",
       "  <thead>\n",
       "    <tr style=\"text-align: right;\">\n",
       "      <th></th>\n",
       "      <th>club_name</th>\n",
       "      <th>club_involved_name</th>\n",
       "      <th>fee_cleaned</th>\n",
       "      <th>index</th>\n",
       "    </tr>\n",
       "  </thead>\n",
       "  <tbody>\n",
       "    <tr>\n",
       "      <th>600</th>\n",
       "      <td>Vitória Guimarães SC</td>\n",
       "      <td>ASO Chlef</td>\n",
       "      <td>0.72</td>\n",
       "      <td>4367.0</td>\n",
       "    </tr>\n",
       "    <tr>\n",
       "      <th>601</th>\n",
       "      <td>Vitória Guimarães SC</td>\n",
       "      <td>RC Strasbourg Alsace</td>\n",
       "      <td>0.36</td>\n",
       "      <td>4368.0</td>\n",
       "    </tr>\n",
       "  </tbody>\n",
       "</table>\n",
       "</div>"
      ],
      "text/plain": [
       "                club_name    club_involved_name  fee_cleaned   index\n",
       "600  Vitória Guimarães SC             ASO Chlef         0.72  4367.0\n",
       "601  Vitória Guimarães SC  RC Strasbourg Alsace         0.36  4368.0"
      ]
     },
     "execution_count": 40,
     "metadata": {},
     "output_type": "execute_result"
    }
   ],
   "source": [
    "DFun.loc[DFun[\"club_name\"]==\"Vitória Guimarães SC\"]"
   ]
  },
  {
   "cell_type": "code",
   "execution_count": 41,
   "metadata": {},
   "outputs": [
    {
     "data": {
      "text/html": [
       "<div>\n",
       "<style scoped>\n",
       "    .dataframe tbody tr th:only-of-type {\n",
       "        vertical-align: middle;\n",
       "    }\n",
       "\n",
       "    .dataframe tbody tr th {\n",
       "        vertical-align: top;\n",
       "    }\n",
       "\n",
       "    .dataframe thead th {\n",
       "        text-align: right;\n",
       "    }\n",
       "</style>\n",
       "<table border=\"1\" class=\"dataframe\">\n",
       "  <thead>\n",
       "    <tr style=\"text-align: right;\">\n",
       "      <th></th>\n",
       "      <th>club_name</th>\n",
       "      <th>club_involved_name</th>\n",
       "      <th>fee_cleaned</th>\n",
       "      <th>index</th>\n",
       "    </tr>\n",
       "  </thead>\n",
       "  <tbody>\n",
       "  </tbody>\n",
       "</table>\n",
       "</div>"
      ],
      "text/plain": [
       "Empty DataFrame\n",
       "Columns: [club_name, club_involved_name, fee_cleaned, index]\n",
       "Index: []"
      ]
     },
     "execution_count": 41,
     "metadata": {},
     "output_type": "execute_result"
    }
   ],
   "source": [
    "DFun.loc[DFun[\"club_involved_name\"]==\"Chlef\"]"
   ]
  },
  {
   "cell_type": "code",
   "execution_count": 42,
   "metadata": {},
   "outputs": [
    {
     "data": {
      "text/plain": [
       "'Vitória Guimarães SC'"
      ]
     },
     "execution_count": 42,
     "metadata": {},
     "output_type": "execute_result"
    }
   ],
   "source": [
    "\"Vitória Guimarães SC\""
   ]
  },
  {
   "cell_type": "code",
   "execution_count": null,
   "metadata": {},
   "outputs": [],
   "source": []
  },
  {
   "cell_type": "code",
   "execution_count": 43,
   "metadata": {},
   "outputs": [
    {
     "data": {
      "text/plain": [
       "764"
      ]
     },
     "execution_count": 43,
     "metadata": {},
     "output_type": "execute_result"
    }
   ],
   "source": [
    "DF.shape[0]"
   ]
  },
  {
   "cell_type": "code",
   "execution_count": null,
   "metadata": {},
   "outputs": [],
   "source": []
  },
  {
   "cell_type": "code",
   "execution_count": null,
   "metadata": {},
   "outputs": [],
   "source": []
  },
  {
   "cell_type": "markdown",
   "metadata": {},
   "source": [
    "## Analysis"
   ]
  },
  {
   "cell_type": "code",
   "execution_count": 44,
   "metadata": {},
   "outputs": [],
   "source": [
    "G_undir = nx.from_pandas_edgelist(DFun, \n",
    "                            source = \"club_name\",\n",
    "                            target = \"club_involved_name\",\n",
    "                            edge_attr=\"fee_cleaned\",\n",
    "                            create_using=networkx.Graph # or Graph, DiGraph, MultiGraph, MultiDiGraph\n",
    "                           )"
   ]
  },
  {
   "cell_type": "code",
   "execution_count": 45,
   "metadata": {},
   "outputs": [],
   "source": [
    "G_dir = nx.from_pandas_edgelist(DF, \n",
    "                            source = \"club_name\",\n",
    "                            target = \"club_involved_name\",\n",
    "                            edge_attr=[\"fee_cleaned\"],#, \"colour\"],\n",
    "                            create_using=networkx.DiGraph()\n",
    "                           )"
   ]
  },
  {
   "cell_type": "markdown",
   "metadata": {},
   "source": [
    "#### Small World"
   ]
  },
  {
   "cell_type": "code",
   "execution_count": 46,
   "metadata": {},
   "outputs": [],
   "source": [
    "## Small world\n",
    "\n",
    "# random reference graph\n",
    "#G_ref = networkx.algorithms.smallworld.random_reference(G_undir, seed = 10)\n",
    "#DFcon19 = DFun19.iloc[DFun19[\"club_name\"]!=\"SC Paderborn 07\"]\n",
    "#DFcon19 = DFcon19.iloc[DFcon19[\"club_involved_name\"]!=\"SC Paderborn 07\"]\n",
    "SepList19 = [\"Vitória Setúbal FC\",\"RKC Waalwijk\",\"Covilhã\",\"Luton Town\",\n",
    "         \"Portimonense SC\",\"Vitória Guimarães SC\",\"FK Ufa\", \"VfL Bochum\"]\n",
    "SepList20 = [\"FC Emmen\",\"Sparta Rotterdam\",\"Preston North End\",\"PEC Zwolle\",\n",
    "           \"CD Tondela\",\"CD Nacional\",\"FC Paços de Ferreira\"]\n",
    "SepList18 = [\"CD Nacional\", \"CD Feirense\",\"FC St. Gallen\", \"FC Emmen\",\n",
    "           \"GD Chaves\", \"Heracles Almelo\",\"Pau FC\", \"Leverkusen U19\"]\n",
    "SepList17 = [\"CS Marítimo\", \"Twente Enschede FC\", \"Ural Yekaterinburg\"]\n",
    "SepList16 = [\"Ipswich Town\", \"Zira FC\", \"Ross County\", \"GD Chaves\", \n",
    "           \"FK Orenburg\", \"SC Heerenveen\", \"MVV Maastricht\",\n",
    "           \"Rotherham United\"]\n",
    "SepList15= [\"Ipswich Town\", \"SV Ried\", \"NK Olimpija\", \"Helmond Sport\",\n",
    "         \"FC Utrecht\",\"Lienden\",\"Cruzeiro\", \"Go Ahead Eagles\"]\n",
    "SepList14 = [\"Wolverhampton Wanderers\",\"FC Nantes\",\"FK Ufa\", \"Gaish\", \"Shinnik\",\n",
    "          \"Cracovia\", \"Athletic Bilbao\", \"Brisbane Roar\"]\n",
    "SepList13 = [\"Leeds United\",\"Vitória Guimarães SC\", \"Académica Coimbra\", \"ADO Den Haag\",\n",
    "          \"Rio Ave FC\",\"Belenenses SAD\", \"Tom Tomsk\", \"Alianza Lima\", \"Tigre\", \n",
    "           \"Beira-Mar\", \"Waterford FC\"]\n",
    "SepList12 = [\"Mordovia Saransk\",\"Millwall FC\", \"FC Girondins Bordeaux\", \"CD Nacional\", \n",
    "           \"Esbjerg fB\", \"Roda JC Kerkrade\", \"Telstar\"]\n",
    "\n",
    "SepList = [\"Vitesse\", \"CD Nacional\", \"SC Olhanense\", \"SM Caen\", \"Indjija\",\n",
    "           \"FK Krasnodar\",\"Vitória Guimarães SC\"]\n",
    "\n",
    "DFcon= DFun.drop(DFun[ DFun['club_involved_name'].isin( SepList)].index)\n",
    "\n",
    "DFcon = DFcon.drop(DFcon[ DFcon['club_name'].isin(SepList)].index)\n",
    "\n",
    "#networkx.algorithms.smallworld.sigma(G_undir,niter=10, seed=10)"
   ]
  },
  {
   "cell_type": "code",
   "execution_count": 47,
   "metadata": {},
   "outputs": [],
   "source": [
    "G_undirconnected = nx.from_pandas_edgelist(DFcon, \n",
    "                            source = \"club_name\",\n",
    "                            target = \"club_involved_name\",\n",
    "                            edge_attr=\"fee_cleaned\",\n",
    "                            create_using=networkx.Graph # or Graph, DiGraph, MultiGraph, MultiDiGraph\n",
    "                           )\n",
    "\n",
    "\n"
   ]
  },
  {
   "cell_type": "code",
   "execution_count": 48,
   "metadata": {
    "scrolled": false
   },
   "outputs": [
    {
     "data": {
      "text/html": [
       "\n",
       "        <iframe\n",
       "            width=\"800px\"\n",
       "            height=\"800px\"\n",
       "            src=\"nx.html\"\n",
       "            frameborder=\"0\"\n",
       "            allowfullscreen\n",
       "            \n",
       "        ></iframe>\n",
       "        "
      ],
      "text/plain": [
       "<IPython.lib.display.IFrame at 0x7fc562127da0>"
      ]
     },
     "execution_count": 48,
     "metadata": {},
     "output_type": "execute_result"
    }
   ],
   "source": [
    "# Quick check: plot\n",
    "nt = Network('800px', '800px',notebook=True)\n",
    "#nt.from_nx(G_undirconnected)\n",
    "\n",
    "\n",
    "for node in G_undirconnected.nodes:\n",
    "    nt.add_node(str(node), color = Colour(node), #alpha=0.1,\n",
    "              options = {\n",
    "              })\n",
    "    \n",
    "for i in range(DFcon.shape[0]):\n",
    "    nt.add_edge(DFcon[\"club_name\"].iloc[i], \n",
    "              DFcon[\"club_involved_name\"].iloc[i],\n",
    "              value=DFcon[\"fee_cleaned\"].iloc[i], \n",
    "            kwargs ={\n",
    "               \"physics\":False\n",
    "           })\n",
    "\n",
    "nt.show('nx.html')\n",
    "# Is connected!!"
   ]
  },
  {
   "cell_type": "code",
   "execution_count": 49,
   "metadata": {},
   "outputs": [],
   "source": [
    "nt.save_graph(year+\"_connection.html\")"
   ]
  },
  {
   "cell_type": "code",
   "execution_count": null,
   "metadata": {},
   "outputs": [],
   "source": []
  },
  {
   "cell_type": "code",
   "execution_count": null,
   "metadata": {},
   "outputs": [],
   "source": []
  },
  {
   "cell_type": "code",
   "execution_count": null,
   "metadata": {},
   "outputs": [],
   "source": []
  },
  {
   "cell_type": "code",
   "execution_count": 50,
   "metadata": {},
   "outputs": [
    {
     "name": "stdout",
     "output_type": "stream",
     "text": [
      "1.8900399384006594\n",
      "777.7389953136444\n"
     ]
    }
   ],
   "source": [
    "\n",
    "start = time.time()\n",
    "\n",
    "SW = networkx.algorithms.smallworld.sigma(G_undirconnected,niter=20, seed=42)\n",
    "print(SW)\n",
    "\n",
    "end = time.time()\n",
    "print(end - start)"
   ]
  },
  {
   "cell_type": "code",
   "execution_count": null,
   "metadata": {},
   "outputs": [],
   "source": []
  },
  {
   "cell_type": "markdown",
   "metadata": {},
   "source": [
    "#### Degree Distribution"
   ]
  },
  {
   "cell_type": "code",
   "execution_count": 51,
   "metadata": {},
   "outputs": [
    {
     "data": {
      "text/plain": [
       "[0,\n",
       " 195,\n",
       " 70,\n",
       " 49,\n",
       " 21,\n",
       " 21,\n",
       " 19,\n",
       " 15,\n",
       " 12,\n",
       " 11,\n",
       " 7,\n",
       " 5,\n",
       " 5,\n",
       " 2,\n",
       " 3,\n",
       " 1,\n",
       " 3,\n",
       " 0,\n",
       " 1,\n",
       " 2,\n",
       " 0,\n",
       " 0,\n",
       " 0,\n",
       " 1,\n",
       " 0,\n",
       " 0,\n",
       " 0,\n",
       " 0,\n",
       " 1]"
      ]
     },
     "execution_count": 51,
     "metadata": {},
     "output_type": "execute_result"
    }
   ],
   "source": [
    "networkx.classes.function.degree_histogram(G_undir)"
   ]
  },
  {
   "cell_type": "code",
   "execution_count": null,
   "metadata": {},
   "outputs": [],
   "source": []
  },
  {
   "cell_type": "code",
   "execution_count": 52,
   "metadata": {},
   "outputs": [
    {
     "data": {
      "image/png": "[encoded data removed]",
      "text/plain": [
       "<Figure size 432x288 with 1 Axes>"
      ]
     },
     "metadata": {
      "needs_background": "light"
     },
     "output_type": "display_data"
    }
   ],
   "source": [
    "import networkx as nx\n",
    "\n",
    "def plot_degree_dist(G):\n",
    "    degrees = [G.degree(n) for n in G.nodes()]\n",
    "    plt.hist(degrees)\n",
    "    plt.show()\n",
    "\n",
    "plot_degree_dist(G_undir)"
   ]
  },
  {
   "cell_type": "code",
   "execution_count": 53,
   "metadata": {},
   "outputs": [
    {
     "data": {
      "image/png": "[encoded data removed]",
      "text/plain": [
       "<Figure size 432x288 with 1 Axes>"
      ]
     },
     "metadata": {
      "needs_background": "light"
     },
     "output_type": "display_data"
    }
   ],
   "source": [
    "def plot_degree_dist(G):\n",
    "    degrees = [G.degree(n) for n in G.nodes()]\n",
    "    plt.hist(np.log(degrees), bins = int(len(G.nodes())/20), log = True)\n",
    "    plt.show()\n",
    "\n",
    "plot_degree_dist(G_undir)"
   ]
  },
  {
   "cell_type": "code",
   "execution_count": 54,
   "metadata": {},
   "outputs": [
    {
     "name": "stdout",
     "output_type": "stream",
     "text": [
      "0.8051114286225237 0.8625422025761906 0.6789622477125625\n"
     ]
    }
   ],
   "source": [
    "degrees = [G.degree(n) for n in G.nodes()]\n",
    "log_degrees = np.log(degrees)\n",
    "print(np.mean(log_degrees), np.std(log_degrees), skew(log_degrees))\n"
   ]
  },
  {
   "cell_type": "code",
   "execution_count": 55,
   "metadata": {},
   "outputs": [
    {
     "data": {
      "image/png": "[encoded data removed]",
      "text/plain": [
       "<Figure size 432x288 with 1 Axes>"
      ]
     },
     "metadata": {
      "needs_background": "light"
     },
     "output_type": "display_data"
    }
   ],
   "source": [
    "plt.hist(degrees, bins = np.arange(-0.5,max(degrees)+0.5,1))\n",
    "plt.show()"
   ]
  },
  {
   "cell_type": "code",
   "execution_count": 56,
   "metadata": {},
   "outputs": [],
   "source": [
    "degree_dist = np.zeros(max(degrees)+1)"
   ]
  },
  {
   "cell_type": "code",
   "execution_count": 57,
   "metadata": {},
   "outputs": [],
   "source": [
    "for i in range(max(degrees)):\n",
    "    degree_dist[i] = np.sum(np.array(degrees) == i)"
   ]
  },
  {
   "cell_type": "code",
   "execution_count": 58,
   "metadata": {},
   "outputs": [
    {
     "data": {
      "text/plain": [
       "array([  0., 195.,  70.,  49.,  21.,  21.,  19.,  15.,  12.,  11.,   7.,\n",
       "         5.,   5.,   2.,   3.,   1.,   3.,   0.,   1.,   2.,   0.,   0.,\n",
       "         0.,   1.,   0.,   0.,   0.,   0.,   0.])"
      ]
     },
     "execution_count": 58,
     "metadata": {},
     "output_type": "execute_result"
    }
   ],
   "source": [
    "degree_dist"
   ]
  },
  {
   "cell_type": "code",
   "execution_count": 59,
   "metadata": {},
   "outputs": [
    {
     "data": {
      "image/png": "[encoded data removed]",
      "text/plain": [
       "<Figure size 432x288 with 1 Axes>"
      ]
     },
     "metadata": {
      "needs_background": "light"
     },
     "output_type": "display_data"
    }
   ],
   "source": [
    "plt.scatter(np.arange(max(degrees)+1), degree_dist)\n",
    "plt.show()"
   ]
  },
  {
   "cell_type": "markdown",
   "metadata": {},
   "source": [
    "#### in-degree"
   ]
  },
  {
   "cell_type": "code",
   "execution_count": 60,
   "metadata": {},
   "outputs": [
    {
     "name": "stdout",
     "output_type": "stream",
     "text": [
      "0 64.0\n",
      "1 209.0\n",
      "2 77.0\n",
      "3 44.0\n",
      "4 21.0\n",
      "5 10.0\n",
      "6 11.0\n",
      "7 5.0\n",
      "8 0.0\n",
      "9 1.0\n",
      "10 0.0\n",
      "11 0.0\n",
      "12 1.0\n",
      "13 1.0\n"
     ]
    },
    {
     "data": {
      "image/png": "[encoded data removed]",
      "text/plain": [
       "<Figure size 432x288 with 1 Axes>"
      ]
     },
     "metadata": {
      "needs_background": "light"
     },
     "output_type": "display_data"
    }
   ],
   "source": [
    "indegrees = [G_dir.in_degree(n) for n in G_dir.nodes()]\n",
    "indegree_dist = np.zeros(max(indegrees)+1)\n",
    "for i in range(max(indegrees)+1):\n",
    "    indegree_dist[i] = np.sum(np.array(indegrees) == i)\n",
    "    print(i,indegree_dist[i])\n",
    "plt.scatter(np.arange(max(indegrees)+1), indegree_dist)\n",
    "plt.show()"
   ]
  },
  {
   "cell_type": "code",
   "execution_count": 61,
   "metadata": {},
   "outputs": [],
   "source": [
    "# calculate for everything without 0 (artifact because of limited data)"
   ]
  },
  {
   "cell_type": "code",
   "execution_count": 62,
   "metadata": {},
   "outputs": [
    {
     "data": {
      "text/plain": [
       "array([ 64., 209.,  77.,  44.,  21.,  10.,  11.,   5.,   0.,   1.,   0.,\n",
       "         0.,   1.,   1.])"
      ]
     },
     "execution_count": 62,
     "metadata": {},
     "output_type": "execute_result"
    }
   ],
   "source": [
    "indegree_dist"
   ]
  },
  {
   "cell_type": "code",
   "execution_count": 63,
   "metadata": {},
   "outputs": [
    {
     "data": {
      "image/png": "[encoded data removed]",
      "text/plain": [
       "<Figure size 432x288 with 1 Axes>"
      ]
     },
     "metadata": {
      "needs_background": "light"
     },
     "output_type": "display_data"
    }
   ],
   "source": [
    "x = np.arange(1,max(indegrees)+1)\n",
    "y = indegree_dist[1:]\n",
    "\n",
    "\n",
    "plt.xscale('log')\n",
    "plt.yscale('log')\n",
    "plt.scatter(x, y)\n",
    "plt.ylim(0.99, 1.5*max(y))\n",
    "#plt.plot(np.exp(np.arange(0,3,0.01)), \n",
    " #       np.exp(reg.predict(np.arange(0,3,0.01).reshape(-1, 1))), color=\"red\")\n",
    "\n",
    "ax = plt.gca()\n",
    "ax.xaxis.set_major_formatter(ScalarFormatter())\n",
    "plt.xlabel(\"k - Out-Degree of Nodes\")\n",
    "plt.ylabel(\"Number of Nodes\")\n",
    "plt.savefig(year+\"_InNodeDistrPlot\")\n",
    "\n",
    "plt.show()"
   ]
  },
  {
   "cell_type": "code",
   "execution_count": 64,
   "metadata": {},
   "outputs": [],
   "source": [
    "# Probably not an argument against Power-Law, but also probably not enough data with really many connections"
   ]
  },
  {
   "cell_type": "code",
   "execution_count": 65,
   "metadata": {},
   "outputs": [],
   "source": [
    "#### Out-Degree"
   ]
  },
  {
   "cell_type": "code",
   "execution_count": 66,
   "metadata": {},
   "outputs": [
    {
     "name": "stdout",
     "output_type": "stream",
     "text": [
      "0 291.0\n",
      "1 18.0\n",
      "2 16.0\n",
      "3 24.0\n",
      "4 22.0\n",
      "5 18.0\n",
      "6 16.0\n",
      "7 9.0\n",
      "8 6.0\n",
      "9 8.0\n",
      "10 8.0\n",
      "11 1.0\n",
      "12 2.0\n",
      "13 3.0\n",
      "14 1.0\n",
      "15 0.0\n",
      "16 0.0\n",
      "17 1.0\n"
     ]
    }
   ],
   "source": [
    "outdegrees = [G_dir.out_degree(n) for n in G_dir.nodes()]\n",
    "outdegrees_dist = np.zeros(max(outdegrees)+1)\n",
    "for i in range(max(outdegrees)+1):\n",
    "    outdegrees_dist[i] = np.sum(np.array(outdegrees) == i)\n",
    "    print(i,outdegrees_dist[i])\n"
   ]
  },
  {
   "cell_type": "code",
   "execution_count": 67,
   "metadata": {},
   "outputs": [
    {
     "data": {
      "image/png": "[encoded data removed]",
      "text/plain": [
       "<Figure size 432x288 with 1 Axes>"
      ]
     },
     "metadata": {
      "needs_background": "light"
     },
     "output_type": "display_data"
    }
   ],
   "source": [
    "x = np.arange(1,max(outdegrees)+1)\n",
    "y = outdegrees_dist[1:]\n",
    "\n",
    "\n",
    "plt.xscale('log')\n",
    "plt.yscale('log')\n",
    "plt.scatter(x, y)\n",
    "plt.ylim(0.99, 1.5*max(y))\n",
    "#plt.plot(np.exp(np.arange(0,3,0.01)), \n",
    " #       np.exp(reg.predict(np.arange(0,3,0.01).reshape(-1, 1))), color=\"red\")\n",
    "\n",
    "ax = plt.gca()\n",
    "ax.xaxis.set_major_formatter(ScalarFormatter())\n",
    "plt.xlabel(\"k - Out-Degree of Nodes\")\n",
    "plt.ylabel(\"Number of Nodes\")\n",
    "plt.savefig(year+\"_OutNodeDistrPlot\")\n",
    "\n",
    "plt.show()"
   ]
  },
  {
   "cell_type": "markdown",
   "metadata": {},
   "source": [
    "### Clustering"
   ]
  },
  {
   "cell_type": "code",
   "execution_count": 68,
   "metadata": {},
   "outputs": [],
   "source": [
    "G_dir = nx.from_pandas_edgelist(DF, \n",
    "                            source = \"club_involved_name\",\n",
    "                            target = \"club_name\",\n",
    "                            edge_attr=\"fee_cleaned\",\n",
    "                            create_using=networkx.DiGraph # or Graph, DiGraph, MultiGraph, MultiDiGraph\n",
    "                           )"
   ]
  },
  {
   "cell_type": "code",
   "execution_count": 69,
   "metadata": {},
   "outputs": [
    {
     "data": {
      "text/plain": [
       "0.8324607329842932"
      ]
     },
     "execution_count": 69,
     "metadata": {},
     "output_type": "execute_result"
    }
   ],
   "source": [
    "networkx.algorithms.hierarchy.flow_hierarchy(G_dir)"
   ]
  },
  {
   "cell_type": "code",
   "execution_count": 70,
   "metadata": {},
   "outputs": [
    {
     "name": "stdout",
     "output_type": "stream",
     "text": [
      "0.020375159419652046\n"
     ]
    }
   ],
   "source": [
    "# Regular Clustering\n",
    "\n",
    "Clust = networkx.algorithms.cluster.clustering(G_dir)\n",
    "BDN_C = np.mean(list(Clust.values()))\n",
    "print(BDN_C)"
   ]
  },
  {
   "cell_type": "code",
   "execution_count": 71,
   "metadata": {},
   "outputs": [],
   "source": [
    "WeightClust = networkx.algorithms.cluster.clustering(G_dir, weight = \"fee_cleaned\")"
   ]
  },
  {
   "cell_type": "code",
   "execution_count": 72,
   "metadata": {},
   "outputs": [
    {
     "name": "stdout",
     "output_type": "stream",
     "text": [
      "0.0009432199674889012\n"
     ]
    }
   ],
   "source": [
    "# Weighted Clustering\n",
    "# https://journals.aps.org/pre/abstract/10.1103/PhysRevE.76.026107\n",
    "\n",
    "WDN_C = np.mean(list(WeightClust.values()))  ## ?\n",
    "print(WDN_C)"
   ]
  },
  {
   "cell_type": "code",
   "execution_count": 73,
   "metadata": {},
   "outputs": [
    {
     "name": "stdout",
     "output_type": "stream",
     "text": [
      "0.007768490838468265\n"
     ]
    }
   ],
   "source": [
    "NumberNodes = len(list(G_dir.nodes))\n",
    "NumberEdges = len(list(G_dir.edges))\n",
    "\n",
    "p = 2*NumberEdges / (NumberNodes*(NumberNodes-1)) # p. 19 in Large Scale Structures....\n",
    "print(p)"
   ]
  },
  {
   "cell_type": "markdown",
   "metadata": {},
   "source": [
    "Kind of like Eq. (11) in https://journals.aps.org/pre/abstract/10.1103/PhysRevE.76.026107\n",
    "it holds that Clustering_WDN < Clustering_BDN ~ p_random"
   ]
  },
  {
   "cell_type": "markdown",
   "metadata": {},
   "source": [
    "### Calculate Node Strength Distribution"
   ]
  },
  {
   "cell_type": "code",
   "execution_count": 74,
   "metadata": {},
   "outputs": [
    {
     "name": "stdout",
     "output_type": "stream",
     "text": [
      "444\n",
      "444\n",
      "22\n"
     ]
    }
   ],
   "source": [
    "l=0\n",
    "for n in G.nodes():\n",
    "    l = l+1\n",
    "print(l)\n",
    "print(len(G.nodes()))\n",
    "print(int(len(G.nodes())/20))"
   ]
  },
  {
   "cell_type": "code",
   "execution_count": 75,
   "metadata": {},
   "outputs": [
    {
     "name": "stdout",
     "output_type": "stream",
     "text": [
      "0.023 151.7\n"
     ]
    },
    {
     "data": {
      "image/png": "[encoded data removed]",
      "text/plain": [
       "<Figure size 432x288 with 1 Axes>"
      ]
     },
     "metadata": {
      "needs_background": "light"
     },
     "output_type": "display_data"
    }
   ],
   "source": [
    "# Roughly symmetrical around 1.5?\n",
    "def plot_strength_dist(G):\n",
    "    strengths = [G.degree(n, weight=\"fee_cleaned\") for n in G.nodes()]\n",
    "    plt.hist(np.log(strengths), bins = int(len(G.nodes())/20), log = True)\n",
    "    print(min(strengths), max(strengths))\n",
    "    plt.savefig(year+\"_LogStrengthDistrib\")\n",
    "    plt.show()\n",
    "plot_strength_dist(G_dir)\n",
    "\n"
   ]
  },
  {
   "cell_type": "code",
   "execution_count": 76,
   "metadata": {},
   "outputs": [
    {
     "name": "stdout",
     "output_type": "stream",
     "text": [
      "0.9264559170001534 1.8081123783109911 -0.02152698934723668\n"
     ]
    }
   ],
   "source": [
    "strengths = [G.degree(n, weight=\"fee_cleaned\") for n in G.nodes()]\n",
    "log_strengths = np.log(strengths)\n",
    "print(np.mean(log_strengths), np.std(log_strengths), skew(log_strengths))"
   ]
  },
  {
   "cell_type": "markdown",
   "metadata": {},
   "source": [
    "### Disparity for undirected Network"
   ]
  },
  {
   "cell_type": "code",
   "execution_count": 77,
   "metadata": {},
   "outputs": [],
   "source": [
    "A = networkx.linalg.graphmatrix.adjacency_matrix(G_undir, weight = \"fee_cleaned\")"
   ]
  },
  {
   "cell_type": "code",
   "execution_count": 78,
   "metadata": {},
   "outputs": [
    {
     "name": "stdout",
     "output_type": "stream",
     "text": [
      "(444, 444)\n"
     ]
    }
   ],
   "source": [
    "print(A.shape)"
   ]
  },
  {
   "cell_type": "code",
   "execution_count": 79,
   "metadata": {},
   "outputs": [
    {
     "name": "stdout",
     "output_type": "stream",
     "text": [
      "0.0\n"
     ]
    },
    {
     "name": "stderr",
     "output_type": "stream",
     "text": [
      "/home/users/t_wand01/.local/lib/python3.7/site-packages/ipykernel_launcher.py:2: DeprecationWarning: Calling np.sum(generator) is deprecated, and in the future will give a different result. Use np.sum(np.fromiter(generator)) or the python sum builtin instead.\n",
      "  \n"
     ]
    }
   ],
   "source": [
    "## Sanity check: should be 0\n",
    "print(np.sum(A[i,i] for i in range(A.shape[0])))"
   ]
  },
  {
   "cell_type": "code",
   "execution_count": 80,
   "metadata": {},
   "outputs": [
    {
     "name": "stdout",
     "output_type": "stream",
     "text": [
      "     index              club_name    club_involved_name  fee_cleaned\n",
      "0        0          Bayern Munich         FC Schalke 04       27.000\n",
      "1        1          Bayern Munich       Manchester City       12.150\n",
      "2        2          Bayern Munich             Genoa CFC        4.950\n",
      "3        3          Bayern Munich       Energie Cottbus        2.520\n",
      "4        4          Bayern Munich           Gamba Osaka        0.270\n",
      "..     ...                    ...                   ...          ...\n",
      "759   7409          Dinamo Moscow           Loko Moscow        1.800\n",
      "760   7411          Dinamo Moscow                 KamAZ        0.270\n",
      "761   7429  Krylya Sovetov Samara  Zenit St. Petersburg        0.630\n",
      "762   7430  Krylya Sovetov Samara             FC Ashdod        0.450\n",
      "763   7431  Krylya Sovetov Samara                Naftan        0.068\n",
      "\n",
      "[764 rows x 4 columns]\n"
     ]
    }
   ],
   "source": [
    "print(DF)"
   ]
  },
  {
   "cell_type": "code",
   "execution_count": 81,
   "metadata": {},
   "outputs": [
    {
     "name": "stdout",
     "output_type": "stream",
     "text": [
      "  (0, 1)\t27.0\n",
      "  (0, 2)\t12.15\n",
      "  (0, 3)\t4.95\n",
      "  (0, 4)\t2.52\n",
      "  (0, 5)\t0.27\n",
      "  (0, 51)\t4.5\n",
      "  (1, 0)\t27.0\n",
      "  (1, 11)\t3.6\n",
      "  (1, 15)\t1.35\n",
      "  (1, 16)\t1.35\n",
      "  (1, 51)\t0.9\n",
      "  (1, 55)\t0.068\n",
      "  (1, 70)\t0.45\n",
      "  (1, 359)\t0.36\n",
      "  (2, 0)\t12.15\n",
      "  (2, 90)\t31.73\n",
      "  (2, 113)\t36.0\n",
      "  (2, 115)\t3.38\n",
      "  (2, 116)\t8.280000000000001\n",
      "  (2, 129)\t2.03\n",
      "  (2, 133)\t10.8\n",
      "  (2, 136)\t3.4200000000000004\n",
      "  (2, 273)\t0.9\n",
      "  (2, 281)\t1.35\n",
      "  (3, 0)\t4.95\n",
      "  :\t:\n",
      "  (431, 99)\t4.05\n",
      "  (431, 240)\t1.08\n",
      "  (432, 278)\t11.61\n",
      "  (432, 433)\t4.5\n",
      "  (432, 434)\t3.6\n",
      "  (432, 435)\t0.855\n",
      "  (432, 436)\t0.45\n",
      "  (432, 437)\t7.2\n",
      "  (433, 432)\t4.5\n",
      "  (434, 432)\t3.6\n",
      "  (435, 432)\t0.855\n",
      "  (436, 432)\t0.45\n",
      "  (437, 294)\t1.8\n",
      "  (437, 432)\t7.2\n",
      "  (437, 438)\t17.1\n",
      "  (437, 439)\t3.87\n",
      "  (437, 440)\t0.27\n",
      "  (438, 437)\t17.1\n",
      "  (439, 437)\t3.87\n",
      "  (440, 437)\t0.27\n",
      "  (441, 74)\t0.63\n",
      "  (441, 442)\t0.45\n",
      "  (441, 443)\t0.068\n",
      "  (442, 441)\t0.45\n",
      "  (443, 441)\t0.068\n"
     ]
    }
   ],
   "source": [
    "print(A)"
   ]
  },
  {
   "cell_type": "code",
   "execution_count": 82,
   "metadata": {},
   "outputs": [],
   "source": [
    "strengths_undir = [G_undir.degree(n, weight=\"fee_cleaned\") for n in G_undir.nodes()]"
   ]
  },
  {
   "cell_type": "code",
   "execution_count": 83,
   "metadata": {},
   "outputs": [
    {
     "data": {
      "text/plain": [
       "[51.39000000000001,\n",
       " 35.078,\n",
       " 110.03999999999999,\n",
       " 115.63499999999998,\n",
       " 2.52,\n",
       " 0.27,\n",
       " 10.103,\n",
       " 8.684999999999999,\n",
       " 5.04,\n",
       " 0.203,\n",
       " 18.279000000000003,\n",
       " 20.879999999999995,\n",
       " 16.92,\n",
       " 26.009999999999998,\n",
       " 0.234,\n",
       " 2.16,\n",
       " 1.71,\n",
       " 1.98,\n",
       " 26.329999999999995,\n",
       " 3.96,\n",
       " 3.6,\n",
       " 102.47,\n",
       " 0.45,\n",
       " 2.3850000000000002,\n",
       " 1.53,\n",
       " 0.36,\n",
       " 0.909,\n",
       " 3.7800000000000002,\n",
       " 0.99,\n",
       " 0.765,\n",
       " 0.405,\n",
       " 2.7,\n",
       " 0.36,\n",
       " 0.18,\n",
       " 10.395,\n",
       " 0.09,\n",
       " 51.998000000000005,\n",
       " 8.370000000000001,\n",
       " 5.4,\n",
       " 1.35,\n",
       " 96.26,\n",
       " 3.87,\n",
       " 26.145,\n",
       " 2.07,\n",
       " 1.62,\n",
       " 2.2500000000000004,\n",
       " 1.71,\n",
       " 21.599999999999998,\n",
       " 12.249,\n",
       " 0.36,\n",
       " 6.029999999999999,\n",
       " 18.99,\n",
       " 0.45,\n",
       " 0.18,\n",
       " 0.18,\n",
       " 1.0679999999999998,\n",
       " 0.158,\n",
       " 5.31,\n",
       " 1.35,\n",
       " 19.400000000000002,\n",
       " 0.18,\n",
       " 1.26,\n",
       " 5.291999999999999,\n",
       " 1.8,\n",
       " 82.57000000000001,\n",
       " 5.45,\n",
       " 5.9670000000000005,\n",
       " 4.435,\n",
       " 0.225,\n",
       " 35.195,\n",
       " 5.4,\n",
       " 0.45,\n",
       " 0.837,\n",
       " 0.27,\n",
       " 15.39,\n",
       " 67.58600000000001,\n",
       " 8.549999999999999,\n",
       " 5.22,\n",
       " 3.6,\n",
       " 3.15,\n",
       " 10.161,\n",
       " 3.1500000000000004,\n",
       " 1.35,\n",
       " 0.495,\n",
       " 0.27,\n",
       " 0.9,\n",
       " 0.09,\n",
       " 0.252,\n",
       " 5.31,\n",
       " 0.378,\n",
       " 125.89099999999999,\n",
       " 12.623,\n",
       " 44.46000000000001,\n",
       " 23.490000000000002,\n",
       " 18.0,\n",
       " 16.65,\n",
       " 1.145,\n",
       " 1.98,\n",
       " 58.41,\n",
       " 17.55,\n",
       " 82.003,\n",
       " 4.14,\n",
       " 1.8,\n",
       " 37.925000000000004,\n",
       " 25.79,\n",
       " 16.31,\n",
       " 16.2,\n",
       " 105.63300000000001,\n",
       " 101.012,\n",
       " 0.72,\n",
       " 8.224,\n",
       " 9.36,\n",
       " 31.302000000000003,\n",
       " 151.70000000000002,\n",
       " 18.273000000000003,\n",
       " 56.28000000000001,\n",
       " 26.123,\n",
       " 11.142,\n",
       " 17.21,\n",
       " 11.14,\n",
       " 27.72,\n",
       " 11.479999999999999,\n",
       " 1.568,\n",
       " 14.145,\n",
       " 4.074,\n",
       " 2.795,\n",
       " 6.9559999999999995,\n",
       " 10.85,\n",
       " 24.107,\n",
       " 8.11,\n",
       " 18.897000000000002,\n",
       " 18.5,\n",
       " 3.492,\n",
       " 16.020000000000003,\n",
       " 34.725,\n",
       " 2.125,\n",
       " 3.4200000000000004,\n",
       " 25.424999999999997,\n",
       " 11.061999999999998,\n",
       " 2.25,\n",
       " 2.16,\n",
       " 0.8780000000000001,\n",
       " 5.175,\n",
       " 9.977,\n",
       " 11.827999999999998,\n",
       " 9.010000000000002,\n",
       " 3.96,\n",
       " 24.999999999999996,\n",
       " 63.729,\n",
       " 16.727000000000004,\n",
       " 0.675,\n",
       " 6.75,\n",
       " 4.683,\n",
       " 0.54,\n",
       " 6.452999999999999,\n",
       " 37.78,\n",
       " 5.76,\n",
       " 5.99,\n",
       " 4.3,\n",
       " 0.324,\n",
       " 6.48,\n",
       " 5.94,\n",
       " 1.08,\n",
       " 0.329,\n",
       " 0.9,\n",
       " 2.79,\n",
       " 0.257,\n",
       " 0.113,\n",
       " 78.715,\n",
       " 0.27,\n",
       " 20.16,\n",
       " 1.8,\n",
       " 12.02,\n",
       " 37.42100000000001,\n",
       " 1.08,\n",
       " 0.9,\n",
       " 1.125,\n",
       " 0.36,\n",
       " 0.27,\n",
       " 1.26,\n",
       " 0.945,\n",
       " 2.97,\n",
       " 2.21,\n",
       " 25.88,\n",
       " 13.24,\n",
       " 0.236,\n",
       " 84.285,\n",
       " 0.135,\n",
       " 12.899999999999997,\n",
       " 81.60000000000001,\n",
       " 2.9299999999999997,\n",
       " 24.57,\n",
       " 30.87,\n",
       " 107.05,\n",
       " 1.8,\n",
       " 1.35,\n",
       " 1.44,\n",
       " 0.495,\n",
       " 0.45,\n",
       " 0.189,\n",
       " 9.422999999999998,\n",
       " 0.198,\n",
       " 0.135,\n",
       " 3.7259999999999995,\n",
       " 23.31,\n",
       " 0.756,\n",
       " 5.130000000000001,\n",
       " 5.04,\n",
       " 1.98,\n",
       " 1.17,\n",
       " 9.899999999999999,\n",
       " 15.749999999999998,\n",
       " 0.9,\n",
       " 2.7,\n",
       " 10.58,\n",
       " 9.09,\n",
       " 0.45,\n",
       " 21.150000000000002,\n",
       " 25.65,\n",
       " 23.94,\n",
       " 24.205,\n",
       " 5.4,\n",
       " 56.7,\n",
       " 0.027,\n",
       " 36.09,\n",
       " 20.25,\n",
       " 10.8,\n",
       " 10.089,\n",
       " 15.259999999999998,\n",
       " 2.385,\n",
       " 0.54,\n",
       " 0.18,\n",
       " 15.715,\n",
       " 2.52,\n",
       " 10.319,\n",
       " 13.73,\n",
       " 2.46,\n",
       " 1.49,\n",
       " 12.42,\n",
       " 4.95,\n",
       " 3.7800000000000002,\n",
       " 1.8,\n",
       " 1.98,\n",
       " 17.941999999999997,\n",
       " 2.25,\n",
       " 0.518,\n",
       " 10.799999999999999,\n",
       " 9.27,\n",
       " 5.18,\n",
       " 1.59,\n",
       " 1.22,\n",
       " 0.882,\n",
       " 13.485000000000001,\n",
       " 0.225,\n",
       " 5.085000000000001,\n",
       " 1.71,\n",
       " 0.315,\n",
       " 0.45,\n",
       " 25.379999999999995,\n",
       " 2.9250000000000003,\n",
       " 3.42,\n",
       " 4.05,\n",
       " 26.57,\n",
       " 1.35,\n",
       " 15.3,\n",
       " 1.53,\n",
       " 51.440000000000005,\n",
       " 11.34,\n",
       " 7.133,\n",
       " 9.81,\n",
       " 0.9,\n",
       " 53.33,\n",
       " 5.4,\n",
       " 8.145,\n",
       " 0.135,\n",
       " 6.03,\n",
       " 0.27,\n",
       " 11.106,\n",
       " 15.66,\n",
       " 0.18,\n",
       " 0.081,\n",
       " 3.0970000000000004,\n",
       " 1.875,\n",
       " 0.36,\n",
       " 3.1500000000000004,\n",
       " 1.9260000000000002,\n",
       " 3.6,\n",
       " 6.75,\n",
       " 0.315,\n",
       " 3.6,\n",
       " 0.45,\n",
       " 3.6,\n",
       " 1.08,\n",
       " 2.0700000000000003,\n",
       " 3.1500000000000004,\n",
       " 6.525,\n",
       " 0.18,\n",
       " 2.79,\n",
       " 24.39,\n",
       " 2.25,\n",
       " 1.35,\n",
       " 4.8149999999999995,\n",
       " 1.62,\n",
       " 6.57,\n",
       " 2.7,\n",
       " 0.09,\n",
       " 5.265000000000001,\n",
       " 3.42,\n",
       " 4.950000000000001,\n",
       " 104.85,\n",
       " 9.45,\n",
       " 0.72,\n",
       " 1.8900000000000001,\n",
       " 9.9,\n",
       " 4.5,\n",
       " 15.120000000000001,\n",
       " 1.845,\n",
       " 3.42,\n",
       " 0.675,\n",
       " 7.515,\n",
       " 1.89,\n",
       " 1.35,\n",
       " 14.490000000000002,\n",
       " 0.63,\n",
       " 6.975,\n",
       " 1.665,\n",
       " 0.315,\n",
       " 3.6,\n",
       " 0.27,\n",
       " 0.27,\n",
       " 20.03,\n",
       " 0.27,\n",
       " 0.225,\n",
       " 1.35,\n",
       " 3.2,\n",
       " 2.73,\n",
       " 4.95,\n",
       " 0.684,\n",
       " 0.72,\n",
       " 1.08,\n",
       " 0.113,\n",
       " 2.18,\n",
       " 0.828,\n",
       " 0.8999999999999999,\n",
       " 1.98,\n",
       " 0.72,\n",
       " 0.36,\n",
       " 0.675,\n",
       " 0.675,\n",
       " 0.09,\n",
       " 0.09,\n",
       " 0.18,\n",
       " 0.315,\n",
       " 0.315,\n",
       " 2.745,\n",
       " 0.33799999999999997,\n",
       " 3.485,\n",
       " 2.25,\n",
       " 0.495,\n",
       " 2.5380000000000003,\n",
       " 1.8,\n",
       " 0.108,\n",
       " 0.99,\n",
       " 2.1830000000000003,\n",
       " 0.63,\n",
       " 7.65,\n",
       " 0.72,\n",
       " 0.45,\n",
       " 0.99,\n",
       " 0.9,\n",
       " 0.158,\n",
       " 1.62,\n",
       " 4.68,\n",
       " 0.18,\n",
       " 1.35,\n",
       " 0.158,\n",
       " 0.513,\n",
       " 2.52,\n",
       " 4.086,\n",
       " 0.9,\n",
       " 2.6100000000000003,\n",
       " 0.34199999999999997,\n",
       " 1.787,\n",
       " 0.351,\n",
       " 0.833,\n",
       " 1.553,\n",
       " 2.733,\n",
       " 1.747,\n",
       " 17.275999999999996,\n",
       " 0.18,\n",
       " 0.09,\n",
       " 1.45,\n",
       " 0.248,\n",
       " 0.09,\n",
       " 2.327,\n",
       " 4.596,\n",
       " 1.1480000000000001,\n",
       " 0.752,\n",
       " 2.7119999999999997,\n",
       " 0.702,\n",
       " 0.09,\n",
       " 3.087,\n",
       " 0.459,\n",
       " 0.672,\n",
       " 0.198,\n",
       " 0.693,\n",
       " 2.143,\n",
       " 0.203,\n",
       " 0.509,\n",
       " 5.054,\n",
       " 0.572,\n",
       " 0.158,\n",
       " 0.108,\n",
       " 0.707,\n",
       " 0.162,\n",
       " 0.023,\n",
       " 0.293,\n",
       " 0.113,\n",
       " 0.054,\n",
       " 0.113,\n",
       " 0.09,\n",
       " 16.2,\n",
       " 4.635,\n",
       " 2.34,\n",
       " 1.17,\n",
       " 0.225,\n",
       " 7.65,\n",
       " 0.45,\n",
       " 0.27,\n",
       " 0.135,\n",
       " 0.135,\n",
       " 8.64,\n",
       " 28.215,\n",
       " 4.5,\n",
       " 3.6,\n",
       " 0.855,\n",
       " 0.45,\n",
       " 30.240000000000002,\n",
       " 17.1,\n",
       " 3.87,\n",
       " 0.27,\n",
       " 1.1480000000000001,\n",
       " 0.45,\n",
       " 0.068]"
      ]
     },
     "execution_count": 83,
     "metadata": {},
     "output_type": "execute_result"
    }
   ],
   "source": [
    "strengths_undir"
   ]
  },
  {
   "cell_type": "code",
   "execution_count": 84,
   "metadata": {},
   "outputs": [
    {
     "name": "stdout",
     "output_type": "stream",
     "text": [
      "444\n"
     ]
    }
   ],
   "source": [
    "j = 0\n",
    "Y = np.zeros(A.shape[0])\n",
    "for i in G_undir.nodes:\n",
    "    row = (A[j,:]/np.sum(A[j,:]))\n",
    "    row = row.toarray()\n",
    "    Y[j] = np.sum(row**2)\n",
    "    j = j+1\n",
    "    \n",
    "    \n",
    "print(j)"
   ]
  },
  {
   "cell_type": "code",
   "execution_count": 85,
   "metadata": {},
   "outputs": [],
   "source": [
    "degrees_undir = [G_undir.degree(n) for n in G_undir.nodes()]"
   ]
  },
  {
   "cell_type": "code",
   "execution_count": 86,
   "metadata": {},
   "outputs": [],
   "source": [
    "import sklearn\n",
    "from sklearn.linear_model import LinearRegression\n",
    "reg = LinearRegression().fit(np.log(degrees_undir).reshape(-1, 1), np.log(Y).reshape(-1, 1))"
   ]
  },
  {
   "cell_type": "code",
   "execution_count": 87,
   "metadata": {},
   "outputs": [
    {
     "name": "stdout",
     "output_type": "stream",
     "text": [
      "[-0.67739343]\n"
     ]
    }
   ],
   "source": [
    "print(reg.coef_[0]) # reasonably close to -1?\n"
   ]
  },
  {
   "cell_type": "code",
   "execution_count": 88,
   "metadata": {},
   "outputs": [
    {
     "data": {
      "image/png": "[encoded data removed]",
      "text/plain": [
       "<Figure size 432x288 with 1 Axes>"
      ]
     },
     "metadata": {
      "needs_background": "light"
     },
     "output_type": "display_data"
    }
   ],
   "source": [
    "\n",
    "\n",
    "x = degrees_undir\n",
    "y = Y\n",
    "\n",
    "plt.scatter(x, y)\n",
    "plt.xscale('log')\n",
    "plt.yscale('log')\n",
    "\n",
    "plt.plot(np.exp(np.arange(0,3,0.01)), \n",
    "        np.exp(reg.predict(np.arange(0,3,0.01).reshape(-1, 1))), color=\"red\")\n",
    "\n",
    "ax = plt.gca()\n",
    "ax.xaxis.set_major_formatter(ScalarFormatter())\n",
    "plt.xlabel(\"log(k) - Number of Neighbours\")\n",
    "plt.ylabel(\"log(Y) - Disparity\")\n",
    "plt.savefig(year+\"_DisparityPlot\")\n",
    "\n",
    "plt.show()\n"
   ]
  },
  {
   "cell_type": "markdown",
   "metadata": {},
   "source": [
    "## Conclusion\n",
    "Save some important results as an exported txt"
   ]
  },
  {
   "cell_type": "code",
   "execution_count": 89,
   "metadata": {},
   "outputs": [],
   "source": [
    "Out = pd.DataFrame(data={\"Year\":year,\n",
    "                         \"NumberClubs\": NumberNodes,\n",
    "                         \"NumberTransfers\": NumberEdges,\n",
    "                         \"SmallWorld\": SW,\n",
    "                        \"DisparityExponent\": reg.coef_[0],\n",
    "                         \"BDN_RandomClusteringExpercation\": p,\n",
    "                        \"BDN_Clustering\": BDN_C,\n",
    "                        \"WDN_Clustering\":WDN_C,\n",
    "                        \"MeanLogStrength\":np.mean(log_strengths), \n",
    "                         \"StdLogStrength\":np.std(log_strengths), \n",
    "                         \"SkewnessLogStrength\":skew(log_strengths)})"
   ]
  },
  {
   "cell_type": "code",
   "execution_count": 90,
   "metadata": {},
   "outputs": [],
   "source": [
    "Out.to_csv(year+\"_results.csv\",index=False)"
   ]
  },
  {
   "cell_type": "code",
   "execution_count": 91,
   "metadata": {},
   "outputs": [
    {
     "data": {
      "text/html": [
       "<div>\n",
       "<style scoped>\n",
       "    .dataframe tbody tr th:only-of-type {\n",
       "        vertical-align: middle;\n",
       "    }\n",
       "\n",
       "    .dataframe tbody tr th {\n",
       "        vertical-align: top;\n",
       "    }\n",
       "\n",
       "    .dataframe thead th {\n",
       "        text-align: right;\n",
       "    }\n",
       "</style>\n",
       "<table border=\"1\" class=\"dataframe\">\n",
       "  <thead>\n",
       "    <tr style=\"text-align: right;\">\n",
       "      <th></th>\n",
       "      <th>Year</th>\n",
       "      <th>NumberClubs</th>\n",
       "      <th>NumberTransfers</th>\n",
       "      <th>SmallWorld</th>\n",
       "      <th>DisparityExponent</th>\n",
       "      <th>BDN_RandomClusteringExpercation</th>\n",
       "      <th>BDN_Clustering</th>\n",
       "      <th>WDN_Clustering</th>\n",
       "      <th>MeanLogStrength</th>\n",
       "      <th>StdLogStrength</th>\n",
       "      <th>SkewnessLogStrength</th>\n",
       "    </tr>\n",
       "  </thead>\n",
       "  <tbody>\n",
       "    <tr>\n",
       "      <th>0</th>\n",
       "      <td>2011</td>\n",
       "      <td>444</td>\n",
       "      <td>764</td>\n",
       "      <td>1.89004</td>\n",
       "      <td>-0.677393</td>\n",
       "      <td>0.007768</td>\n",
       "      <td>0.020375</td>\n",
       "      <td>0.000943</td>\n",
       "      <td>0.926456</td>\n",
       "      <td>1.808112</td>\n",
       "      <td>-0.021527</td>\n",
       "    </tr>\n",
       "  </tbody>\n",
       "</table>\n",
       "</div>"
      ],
      "text/plain": [
       "   Year  NumberClubs  NumberTransfers  SmallWorld  DisparityExponent  \\\n",
       "0  2011          444              764     1.89004          -0.677393   \n",
       "\n",
       "   BDN_RandomClusteringExpercation  BDN_Clustering  WDN_Clustering  \\\n",
       "0                         0.007768        0.020375        0.000943   \n",
       "\n",
       "   MeanLogStrength  StdLogStrength  SkewnessLogStrength  \n",
       "0         0.926456        1.808112            -0.021527  "
      ]
     },
     "execution_count": 91,
     "metadata": {},
     "output_type": "execute_result"
    }
   ],
   "source": [
    "Out"
   ]
  },
  {
   "cell_type": "code",
   "execution_count": null,
   "metadata": {},
   "outputs": [],
   "source": []
  },
  {
   "cell_type": "code",
   "execution_count": null,
   "metadata": {},
   "outputs": [],
   "source": []
  }
 ],
 "metadata": {
  "kernelspec": {
   "display_name": "Python 3 (ipykernel)",
   "language": "python",
   "name": "python3"
  },
  "language_info": {
   "codemirror_mode": {
    "name": "ipython",
    "version": 3
   },
   "file_extension": ".py",
   "mimetype": "text/x-python",
   "name": "python",
   "nbconvert_exporter": "python",
   "pygments_lexer": "ipython3",
   "version": "3.7.3"
  }
 },
 "nbformat": 4,
 "nbformat_minor": 4
}
