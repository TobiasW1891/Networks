{
 "cells": [
  {
   "cell_type": "markdown",
   "metadata": {},
   "source": [
    "import sys\n",
    "!{sys.executable} -m pip install pydot"
   ]
  },
  {
   "cell_type": "code",
   "execution_count": 1,
   "metadata": {},
   "outputs": [],
   "source": [
    "import pandas as pd\n",
    "import scipy\n",
    "from scipy.stats import skew\n",
    "import matplotlib.pyplot as plt\n",
    "import numpy as np\n",
    "import networkx\n",
    "import networkx.convert_matrix as nx\n",
    "import pyvis\n",
    "import graphviz\n",
    "from pyvis.network import Network\n",
    "import pyvis.network as net\n",
    "import pydot\n",
    "import random\n",
    "import time\n",
    "from matplotlib.ticker import ScalarFormatter\n",
    "\n",
    "# https://towardsdatascience.com/social-network-analysis-from-theory-to-applications-with-python-d12e9a34c2c7\n",
    "# https://github.com/ewenme/transfers\n",
    "# https://towardsdatascience.com/visualizing-networks-in-python-d70f4cbeb259\n",
    "# https://github.com/MridulS/pydata-networkx\n",
    "# https://datapane.com/u/khuyentran1401/reports/63OQaRk/pyvis-visualize-interactive-network-graphs-in-python/"
   ]
  },
  {
   "cell_type": "code",
   "execution_count": 2,
   "metadata": {},
   "outputs": [],
   "source": [
    "year = \"2007\""
   ]
  },
  {
   "cell_type": "code",
   "execution_count": 3,
   "metadata": {},
   "outputs": [],
   "source": [
    "BuLi = pd.read_csv(r\"DataFootball/\"+year+\"_german_bundesliga_1.csv\")\n",
    "PL = pd.read_csv(r\"DataFootball/\"+year+\"_english_premier_league.csv\")\n",
    "SA = pd.read_csv(r\"DataFootball/\"+year+\"_italian_serie_a.csv\")\n",
    "PD = pd.read_csv(r\"DataFootball/\"+year+\"_spanish_primera_division.csv\")\n",
    "L1 = pd.read_csv(r\"DataFootball/\"+year+\"_french_ligue_1.csv\")\n",
    "NOS = pd.read_csv(r\"DataFootball/\"+year+\"_portugese_liga_nos.csv\")\n",
    "Ere = pd.read_csv(r\"DataFootball/\"+year+\"_dutch_eredivisie.csv\")\n",
    "EC = pd.read_csv(r\"DataFootball/\"+year+\"_english_championship.csv\")\n",
    "Rus = pd.read_csv(r\"DataFootball/\"+year+\"_russian_premier_liga.csv\")"
   ]
  },
  {
   "cell_type": "code",
   "execution_count": 4,
   "metadata": {},
   "outputs": [],
   "source": [
    "DF = pd.concat([BuLi, PL, SA,\n",
    "                  PD, L1, NOS, \n",
    "                  Ere, EC, Rus],ignore_index=True)"
   ]
  },
  {
   "cell_type": "code",
   "execution_count": 5,
   "metadata": {},
   "outputs": [
    {
     "data": {
      "text/plain": [
       "(6993, 12)"
      ]
     },
     "execution_count": 5,
     "metadata": {},
     "output_type": "execute_result"
    }
   ],
   "source": [
    "DF.shape"
   ]
  },
  {
   "cell_type": "code",
   "execution_count": 6,
   "metadata": {},
   "outputs": [
    {
     "data": {
      "text/html": [
       "<div>\n",
       "<style scoped>\n",
       "    .dataframe tbody tr th:only-of-type {\n",
       "        vertical-align: middle;\n",
       "    }\n",
       "\n",
       "    .dataframe tbody tr th {\n",
       "        vertical-align: top;\n",
       "    }\n",
       "\n",
       "    .dataframe thead th {\n",
       "        text-align: right;\n",
       "    }\n",
       "</style>\n",
       "<table border=\"1\" class=\"dataframe\">\n",
       "  <thead>\n",
       "    <tr style=\"text-align: right;\">\n",
       "      <th></th>\n",
       "      <th>club_name</th>\n",
       "      <th>player_name</th>\n",
       "      <th>club_involved_name</th>\n",
       "      <th>transfer_movement</th>\n",
       "      <th>fee_cleaned</th>\n",
       "    </tr>\n",
       "  </thead>\n",
       "  <tbody>\n",
       "    <tr>\n",
       "      <th>0</th>\n",
       "      <td>1.FC Nuremberg</td>\n",
       "      <td>Joshua Kennedy</td>\n",
       "      <td>Karlsruher SC</td>\n",
       "      <td>out</td>\n",
       "      <td>0.405</td>\n",
       "    </tr>\n",
       "    <tr>\n",
       "      <th>1</th>\n",
       "      <td>1.FC Nuremberg</td>\n",
       "      <td>Jaromír Blazek</td>\n",
       "      <td>Sparta Praha</td>\n",
       "      <td>in</td>\n",
       "      <td>0.450</td>\n",
       "    </tr>\n",
       "    <tr>\n",
       "      <th>2</th>\n",
       "      <td>1.FC Nuremberg</td>\n",
       "      <td>Jan Polak</td>\n",
       "      <td>RSC Anderlecht</td>\n",
       "      <td>out</td>\n",
       "      <td>3.150</td>\n",
       "    </tr>\n",
       "    <tr>\n",
       "      <th>3</th>\n",
       "      <td>1.FC Nuremberg</td>\n",
       "      <td>Raphael Schäfer</td>\n",
       "      <td>VfB Stuttgart</td>\n",
       "      <td>out</td>\n",
       "      <td>1.800</td>\n",
       "    </tr>\n",
       "    <tr>\n",
       "      <th>4</th>\n",
       "      <td>1.FC Nuremberg</td>\n",
       "      <td>Thomas Paulus</td>\n",
       "      <td>Erzgebirge Aue</td>\n",
       "      <td>out</td>\n",
       "      <td>0.135</td>\n",
       "    </tr>\n",
       "  </tbody>\n",
       "</table>\n",
       "</div>"
      ],
      "text/plain": [
       "        club_name      player_name club_involved_name transfer_movement  \\\n",
       "0  1.FC Nuremberg   Joshua Kennedy      Karlsruher SC               out   \n",
       "1  1.FC Nuremberg   Jaromír Blazek       Sparta Praha                in   \n",
       "2  1.FC Nuremberg        Jan Polak     RSC Anderlecht               out   \n",
       "3  1.FC Nuremberg  Raphael Schäfer      VfB Stuttgart               out   \n",
       "4  1.FC Nuremberg    Thomas Paulus     Erzgebirge Aue               out   \n",
       "\n",
       "   fee_cleaned  \n",
       "0        0.405  \n",
       "1        0.450  \n",
       "2        3.150  \n",
       "3        1.800  \n",
       "4        0.135  "
      ]
     },
     "execution_count": 6,
     "metadata": {},
     "output_type": "execute_result"
    }
   ],
   "source": [
    "def DelCol(DF):\n",
    "    \n",
    "    DF = DF.loc[DF[\"fee_cleaned\"]>0] # only \"real\" transfers\n",
    "    #del DF[\"player_name\"]\n",
    "    #del DF[\"transfer_movement\"]\n",
    "    del DF[\"age\"]\n",
    "    del DF[\"position\"]\n",
    "    del DF[\"fee\"]\n",
    "    del DF[\"league_name\"]\n",
    "    del DF[\"transfer_period\"]\n",
    "    del DF[\"year\"]\n",
    "    del DF[\"season\"]\n",
    "    return(DF)\n",
    "DF = DelCol(DF)\n",
    "DF.head()\n",
    "DF  = DF.sort_values(by=['club_name'], ascending = True)\n",
    "DF = DF.reset_index()\n",
    "del DF[\"index\"]\n",
    "DF.head()"
   ]
  },
  {
   "cell_type": "code",
   "execution_count": 7,
   "metadata": {},
   "outputs": [],
   "source": [
    "## There is a problem with \"double names\", e.g. Leicester and Leicester City\n",
    "def Change(DF,old,new):\n",
    "    DF.loc[DF[\"club_name\"].isin([old]), [\"club_name\"]] = new\n",
    "    DF.loc[DF[\"club_involved_name\"].isin([old]), [\"club_involved_name\"]] = new\n",
    "    return DF"
   ]
  },
  {
   "cell_type": "code",
   "execution_count": 8,
   "metadata": {},
   "outputs": [],
   "source": [
    "old = [\"Leicester\", \"SC Paderborn\", \"Real Betis\", \"Sassuolo\", \"Liverpool\", \"Watford\", \"Queens Park Rangers\",\n",
    "       \"Brighton & Hove Albion\", \"Manchester United\", \"Inter\", \"UC Sampdoria\", \"Genoa\", \"Juventus FC\", \"Braga\",\n",
    "      \"Zenit S-Pb\", \"Valencia CF\", \"Marseille\", \"Espanyol\", \"Villarreal\", \"Getafe\", \"Toulouse\", \"Cardiff\",\n",
    "      \"Paris Saint-Germain\", \"SL Benfica\", \"R. Strasbourg\", \"Racing Club\", \"Spartak Moscow\", \"Ajax Amsterdam\",\n",
    "      \"Feyenoord Rotterdam\", \"Dijon FCO\", \"F. Düsseldorf\", \"Man City\", \"E. Frankfurt\", \"West Ham United\",\n",
    "      \"Huddersfield Town\", \"Charlton\", \"Nottm Forest\", \"Swansea\", \"SS Lazio\", \"Arsenal FC\", \"Newcastle\",\n",
    "      \"Chelsea FC\", \"Vitesse Arnheim\", \"Heerenveen\", \"Levante\", \"Brentford\", \"Bologna\", \"SV Werder Bremen\",\n",
    "      \"Ipswich\", \"Montpellier\", \"Bolton\", \"Marítimo\", \"Millwall\",\"FC Sochaux-Montbéliard\", \"Blackpool FC\",\n",
    "       \"ES Troyes AC\", \"Middlesbrough FC\", \"Vit. Guimarães\", \"Doncaster\", \"Norwich City\", \"Coventry City\",\n",
    "       \"Roda JC\", \"Rostov\", \"Heerenveen\", \"Bilbao Athletic\", \"Leeds United\", \"Derby\", \n",
    "       \"Dep. La Coruña\", \"G. Bordeaux\", \"Naval\", \"CF Estrela\", \"Twente FC\", \"Willem II\", \n",
    "      \"Stade Rennais FC\", \"Athletic\", \"1.FC K'lautern\", \"Preston\", \"Spurs\", \"Bor. Dortmund\", '1. FC Kaiserslautern',\n",
    "      'Anzhi', 'Bay. Leverkusen', 'Birmingham',  'Blackburn', 'Brescia', \"Bor. M'gladbach\", 'Burnley', 'Krasnodar',\n",
    "      'Loko Moscow','Parma', 'Preston NE','Scunthorpe Utd.','Sheffield Utd.','Sunderland','TSG Hoffenheim',\n",
    "       'Tottenham Hotspur','West Bromwich Albion','Wigan Athletic','Wolves']"
   ]
  },
  {
   "cell_type": "code",
   "execution_count": 9,
   "metadata": {},
   "outputs": [],
   "source": [
    "new = [\"Leicester City\", \"SC Paderborn 07\", \"Real Betis Balompié\", \"US Sassuolo\", \"Liverpool FC\", \"Watford FC\",\n",
    "      \"QPR\", \"Brighton\", \"Man Utd\", \"Inter Milan\", \"Sampdoria\", \"Genoa CFC\", \"Juventus\", \"SC Braga\", \n",
    "       \"Zenit St. Petersburg\", \"Valencia\", \"Olympique Marseille\", \"RCD Espanyol Barcelona\", \"Villarreal CF\", \n",
    "       \"Getafe CF\", \"FC Toulouse\", \"Cardiff City\", \"Paris SG\", \"Benfica\", \"RC Strasbourg Alsace\", \"RC Strasbourg Alsace\",\n",
    "      \"Spartak\", \"Ajax\", \"Feyenoord\", \"Dijon\", \"Fortuna Düsseldorf\", \"Manchester City\",\"Eintracht Frankfurt\", \"West Ham\",\n",
    "       \"Huddersfield\",\"Charlton Athletic\", \"Nottingham Forest\", \"Swansea City\", \"Lazio\", \"Arsenal\", \"Newcastle United\",\n",
    "       \"Chelsea\",\"Vitesse\", \"SC Heerenveen\", \"Levante UD\", \"Brentford FC\", \"Bologna FC 1909\", \"Werder Bremen\",\n",
    "      \"Ipswich Town\", \"Montpellier HSC\", \"Bolton Wanderers\", \"CS Marítimo\", \"Millwall FC\",\"FC Sochaux\", \"Blackpool\",\n",
    "      \"Troyes\", \"Middlesbrough\", \"Vitória Guimarães SC\", \"Doncaster Rovers\", \"Norwich\", \"Coventry\", \n",
    "       \"Roda JC Kerkrade\", \"FK Rostov\", \"SC Heerenveen\", \"Athletic Bilbao\", \"Leeds\", \"Derby County\",\n",
    "      \"Deportivo de La Coruña\", \"FC Girondins Bordeaux\", \"Naval 1º de Maio\", \"CF Estrela Amadora SAD\", \"Twente Enschede FC\",\n",
    "      \"Willem II Tilburg\", \"Stade Rennais\", \"Athletic Bilbao\", \"1. FC Kaiserslautern\", \"Preston North End\", \"Tottenham Hotspurs\",\n",
    "      \"Borussia Dortmund\", '1.FC Kaiserslautern','Anzhi Makhachkala','Bayer 04 Leverkusen','Birmingham City','Blackburn Rovers',\n",
    "      'Brescia Calcio', 'Borussia Mönchengladbach', 'Burnley FC','Kuban Krasnodar','Lokomotiv Moscow','Parma FC','Preston North End',\n",
    "      'Scunthorpe United','Sheffield United','Sunderland AFC','TSG 1899 Hoffenheim','Tottenham Hotspurs','West Brom',\n",
    "      'Wigan','Wolverhampton Wanderers']"
   ]
  },
  {
   "cell_type": "code",
   "execution_count": 10,
   "metadata": {},
   "outputs": [],
   "source": [
    "for i in range(len(new)):\n",
    "    DF = Change(DF, old[i], new[i])\n",
    "    BuLi = Change(BuLi,old[i], new[i])\n",
    "    PL = Change(PL,old[i], new[i])\n",
    "    PD = Change(PD,old[i], new[i])\n",
    "    SA = Change(SA,old[i], new[i])\n",
    "    L1 = Change(L1,old[i], new[i])"
   ]
  },
  {
   "cell_type": "code",
   "execution_count": 11,
   "metadata": {},
   "outputs": [
    {
     "data": {
      "text/plain": [
       "{'1.FC Nuremberg',\n",
       " 'AC Milan',\n",
       " 'AC Siena',\n",
       " 'ACF Fiorentina',\n",
       " 'AJ Auxerre',\n",
       " 'AS Livorno',\n",
       " 'AS Monaco',\n",
       " 'AS Nancy-Lorraine',\n",
       " 'AS Roma',\n",
       " 'AS Saint-Étienne',\n",
       " 'AZ Alkmaar',\n",
       " 'Académica Coimbra',\n",
       " 'Ajax',\n",
       " 'Amkar Perm',\n",
       " 'Arminia Bielefeld',\n",
       " 'Arsenal',\n",
       " 'Aston Villa',\n",
       " 'Atalanta BC',\n",
       " 'Athletic Bilbao',\n",
       " 'Atlético Madrid',\n",
       " 'Barnsley FC',\n",
       " 'Bayer 04 Leverkusen',\n",
       " 'Bayern Munich',\n",
       " 'Belenenses SAD',\n",
       " 'Benfica',\n",
       " 'Birmingham City',\n",
       " 'Blackburn Rovers',\n",
       " 'Blackpool',\n",
       " 'Boavista FC',\n",
       " 'Bolton Wanderers',\n",
       " 'Borussia Dortmund',\n",
       " 'Bristol City',\n",
       " 'Burnley FC',\n",
       " 'CA Osasuna',\n",
       " 'CD Nacional',\n",
       " 'CF Estrela Amadora SAD',\n",
       " 'CS Marítimo',\n",
       " 'CSKA Moscow',\n",
       " 'Cagliari Calcio',\n",
       " 'Calcio Catania',\n",
       " 'Cardiff City',\n",
       " 'Charlton Athletic',\n",
       " 'Chelsea',\n",
       " 'Colchester United',\n",
       " 'Coventry',\n",
       " 'Crystal Palace',\n",
       " 'De Graafschap Doetinchem',\n",
       " 'Deportivo de La Coruña',\n",
       " 'Derby County',\n",
       " 'Dinamo Moscow',\n",
       " 'Eintracht Frankfurt',\n",
       " 'Everton FC',\n",
       " 'FC Barcelona',\n",
       " 'FC Empoli',\n",
       " 'FC Energie Cottbus',\n",
       " 'FC Girondins Bordeaux',\n",
       " 'FC Groningen',\n",
       " 'FC Hansa Rostock',\n",
       " 'FC Internazionale',\n",
       " 'FC Lorient',\n",
       " 'FC Metz',\n",
       " 'FC Paços de Ferreira',\n",
       " 'FC Porto',\n",
       " 'FC Schalke 04',\n",
       " 'FC Sochaux',\n",
       " 'FC Toulouse',\n",
       " 'FC Utrecht',\n",
       " 'FK Khimki',\n",
       " 'FK Moskau',\n",
       " 'Feyenoord',\n",
       " 'Fulham FC',\n",
       " 'Genoa CFC',\n",
       " 'Getafe CF',\n",
       " 'Hamburger SV',\n",
       " 'Hannover 96',\n",
       " 'Heracles Almelo',\n",
       " 'Hertha BSC',\n",
       " 'Hull City',\n",
       " 'Ipswich Town',\n",
       " 'Juventus',\n",
       " 'Karlsruher SC',\n",
       " 'Krylya Sovetov Samara',\n",
       " 'LOSC Lille',\n",
       " 'Lazio',\n",
       " 'Le Mans Union Club 72',\n",
       " 'Leicester City',\n",
       " 'Levante UD',\n",
       " 'Liverpool FC',\n",
       " 'Lokomotiv Moscow',\n",
       " 'Luch Vladivostok',\n",
       " 'MSV Duisburg',\n",
       " 'Man Utd',\n",
       " 'Manchester City',\n",
       " 'Middlesbrough',\n",
       " 'NAC Breda',\n",
       " 'NEC Nijmegen',\n",
       " 'Naval 1º de Maio',\n",
       " 'Newcastle United',\n",
       " 'Norwich',\n",
       " 'OGC Nice',\n",
       " 'Olympique Lyon',\n",
       " 'Olympique Marseille',\n",
       " 'PSV Eindhoven',\n",
       " 'Paris SG',\n",
       " 'Parma FC',\n",
       " 'Plymouth Argyle',\n",
       " 'Portsmouth FC',\n",
       " 'Preston North End',\n",
       " 'QPR',\n",
       " 'RC Lens',\n",
       " 'RC Strasbourg Alsace',\n",
       " 'RCD Espanyol Barcelona',\n",
       " 'RCD Mallorca',\n",
       " 'Racing Santander',\n",
       " 'Reading FC',\n",
       " 'Real Betis Balompié',\n",
       " 'Real Madrid',\n",
       " 'Real Murcia CF',\n",
       " 'Real Valladolid CF',\n",
       " 'Real Zaragoza',\n",
       " 'Recreativo Huelva',\n",
       " 'Reggina Calcio',\n",
       " 'Roda JC Kerkrade',\n",
       " 'Rubin Kazan',\n",
       " 'SC Braga',\n",
       " 'SC Heerenveen',\n",
       " 'SM Caen',\n",
       " 'SSC Napoli',\n",
       " 'Sampdoria',\n",
       " 'Saturn Ramenskoe',\n",
       " 'Scunthorpe United',\n",
       " 'Sevilla FC',\n",
       " 'Sheffield United',\n",
       " 'Sheffield Wednesday',\n",
       " 'Shinnik Yaroslavl',\n",
       " 'Southampton FC',\n",
       " 'Sparta Rotterdam',\n",
       " 'Spartak',\n",
       " 'Spartak Nalchik',\n",
       " 'Sporting CP',\n",
       " 'Stade Rennais',\n",
       " 'Stoke City',\n",
       " 'Sunderland AFC',\n",
       " 'Terek Grozny',\n",
       " 'Tom Tomsk',\n",
       " 'Torino FC',\n",
       " 'Tottenham Hotspurs',\n",
       " 'Twente Enschede FC',\n",
       " 'UD Almería',\n",
       " 'US Palermo',\n",
       " 'Udinese Calcio',\n",
       " 'União de Leiria',\n",
       " 'VVV-Venlo',\n",
       " 'Valencia',\n",
       " 'Valenciennes FC',\n",
       " 'VfB Stuttgart',\n",
       " 'VfL Bochum',\n",
       " 'VfL Wolfsburg',\n",
       " 'Villarreal CF',\n",
       " 'Vitesse Arnhem',\n",
       " 'Vitória Guimarães SC',\n",
       " 'Vitória Setúbal FC',\n",
       " 'Watford FC',\n",
       " 'Werder Bremen',\n",
       " 'West Brom',\n",
       " 'West Ham',\n",
       " 'Wigan',\n",
       " 'Willem II Tilburg',\n",
       " 'Wolverhampton Wanderers',\n",
       " 'Zenit St. Petersburg'}"
      ]
     },
     "execution_count": 11,
     "metadata": {},
     "output_type": "execute_result"
    }
   ],
   "source": [
    "set(DF[\"club_name\"])"
   ]
  },
  {
   "cell_type": "code",
   "execution_count": 12,
   "metadata": {},
   "outputs": [],
   "source": [
    "# Now that all club names are brought \"in line\", save the names of the clubse whose full leagues are in the data \n",
    "# that means the clubs currently in \"club_name\" column\n",
    "\n",
    "Names = set(DF[\"club_name\"])\n",
    "Names = list(Names)\n",
    "\n",
    "# If any of these clubs appears on the club_involved_name-column, then the transfer is included twice in our data\n",
    "# so we delete all \"out\"-directions of the double transfers"
   ]
  },
  {
   "cell_type": "code",
   "execution_count": 13,
   "metadata": {},
   "outputs": [
    {
     "data": {
      "text/plain": [
       "170"
      ]
     },
     "execution_count": 13,
     "metadata": {},
     "output_type": "execute_result"
    }
   ],
   "source": [
    "len(Names)"
   ]
  },
  {
   "cell_type": "code",
   "execution_count": 14,
   "metadata": {},
   "outputs": [],
   "source": [
    "DF_clean = pd.DataFrame(columns = DF.columns)\n",
    "\n",
    "for i in range(DF.shape[0]):\n",
    "    if not(DF[\"club_involved_name\"].iloc[i] in Names and DF[\"transfer_movement\"].iloc[i]==\"out\"):\n",
    "        DF_clean= DF_clean.append(DF.iloc[i])\n",
    "        \n",
    "DF = DF_clean\n",
    "DF = DF.reset_index()\n",
    "del DF[\"index\"]\n",
    "del DF[\"player_name\"]"
   ]
  },
  {
   "cell_type": "code",
   "execution_count": 15,
   "metadata": {},
   "outputs": [
    {
     "name": "stdout",
     "output_type": "stream",
     "text": [
      "Empty DataFrame\n",
      "Columns: [club_name, player_name, club_involved_name, transfer_movement, fee_cleaned]\n",
      "Index: []\n"
     ]
    }
   ],
   "source": [
    "print(DF_clean.loc[DF_clean[\"player_name\"]== \"Javi Martínez\"]) # Not counted twice!!"
   ]
  },
  {
   "cell_type": "markdown",
   "metadata": {},
   "source": [
    "## Clean the Data"
   ]
  },
  {
   "cell_type": "code",
   "execution_count": 16,
   "metadata": {},
   "outputs": [
    {
     "name": "stderr",
     "output_type": "stream",
     "text": [
      "/home/users/t_wand01/.local/lib/python3.7/site-packages/pandas/core/indexing.py:1732: SettingWithCopyWarning: \n",
      "A value is trying to be set on a copy of a slice from a DataFrame\n",
      "\n",
      "See the caveats in the documentation: https://pandas.pydata.org/pandas-docs/stable/user_guide/indexing.html#returning-a-view-versus-a-copy\n",
      "  self._setitem_single_block(indexer, value, name)\n"
     ]
    }
   ],
   "source": [
    "# encode \"direction\" of transfers: \"club_name\" is the buyer, \"club_involved_name\" the seller\n",
    "for i in range(DF.shape[0]):\n",
    "    if DF[\"transfer_movement\"].iloc[i] == \"out\": # switch positions\n",
    "        source = DF[\"club_name\"].iloc[i]\n",
    "        DF[\"club_name\"].iloc[i] = DF[\"club_involved_name\"].iloc[i]\n",
    "        DF[\"club_involved_name\"].iloc[i] = source\n",
    "\n",
    "del DF[\"transfer_movement\"]"
   ]
  },
  {
   "cell_type": "code",
   "execution_count": 17,
   "metadata": {},
   "outputs": [
    {
     "data": {
      "text/html": [
       "<div>\n",
       "<style scoped>\n",
       "    .dataframe tbody tr th:only-of-type {\n",
       "        vertical-align: middle;\n",
       "    }\n",
       "\n",
       "    .dataframe tbody tr th {\n",
       "        vertical-align: top;\n",
       "    }\n",
       "\n",
       "    .dataframe thead th {\n",
       "        text-align: right;\n",
       "    }\n",
       "</style>\n",
       "<table border=\"1\" class=\"dataframe\">\n",
       "  <thead>\n",
       "    <tr style=\"text-align: right;\">\n",
       "      <th></th>\n",
       "      <th>club_name</th>\n",
       "      <th>club_involved_name</th>\n",
       "      <th>fee_cleaned</th>\n",
       "    </tr>\n",
       "  </thead>\n",
       "  <tbody>\n",
       "    <tr>\n",
       "      <th>0</th>\n",
       "      <td>1.FC Nuremberg</td>\n",
       "      <td>Sparta Praha</td>\n",
       "      <td>0.450</td>\n",
       "    </tr>\n",
       "    <tr>\n",
       "      <th>1</th>\n",
       "      <td>RSC Anderlecht</td>\n",
       "      <td>1.FC Nuremberg</td>\n",
       "      <td>3.150</td>\n",
       "    </tr>\n",
       "    <tr>\n",
       "      <th>2</th>\n",
       "      <td>Erzgebirge Aue</td>\n",
       "      <td>1.FC Nuremberg</td>\n",
       "      <td>0.135</td>\n",
       "    </tr>\n",
       "    <tr>\n",
       "      <th>3</th>\n",
       "      <td>OFK Beograd</td>\n",
       "      <td>1.FC Nuremberg</td>\n",
       "      <td>0.090</td>\n",
       "    </tr>\n",
       "    <tr>\n",
       "      <th>4</th>\n",
       "      <td>1.FC Nuremberg</td>\n",
       "      <td>OGC Nice</td>\n",
       "      <td>1.350</td>\n",
       "    </tr>\n",
       "  </tbody>\n",
       "</table>\n",
       "</div>"
      ],
      "text/plain": [
       "        club_name club_involved_name  fee_cleaned\n",
       "0  1.FC Nuremberg       Sparta Praha        0.450\n",
       "1  RSC Anderlecht     1.FC Nuremberg        3.150\n",
       "2  Erzgebirge Aue     1.FC Nuremberg        0.135\n",
       "3     OFK Beograd     1.FC Nuremberg        0.090\n",
       "4  1.FC Nuremberg           OGC Nice        1.350"
      ]
     },
     "execution_count": 17,
     "metadata": {},
     "output_type": "execute_result"
    }
   ],
   "source": [
    "DF.head()"
   ]
  },
  {
   "cell_type": "code",
   "execution_count": 18,
   "metadata": {},
   "outputs": [
    {
     "data": {
      "text/html": [
       "<div>\n",
       "<style scoped>\n",
       "    .dataframe tbody tr th:only-of-type {\n",
       "        vertical-align: middle;\n",
       "    }\n",
       "\n",
       "    .dataframe tbody tr th {\n",
       "        vertical-align: top;\n",
       "    }\n",
       "\n",
       "    .dataframe thead th {\n",
       "        text-align: right;\n",
       "    }\n",
       "</style>\n",
       "<table border=\"1\" class=\"dataframe\">\n",
       "  <thead>\n",
       "    <tr style=\"text-align: right;\">\n",
       "      <th></th>\n",
       "      <th>club_name</th>\n",
       "      <th>club_involved_name</th>\n",
       "      <th>fee_cleaned</th>\n",
       "    </tr>\n",
       "  </thead>\n",
       "  <tbody>\n",
       "    <tr>\n",
       "      <th>0</th>\n",
       "      <td>1. FC Köln</td>\n",
       "      <td>FC Energie Cottbus</td>\n",
       "      <td>0.45</td>\n",
       "    </tr>\n",
       "    <tr>\n",
       "      <th>1</th>\n",
       "      <td>1.FC Nuremberg</td>\n",
       "      <td>Sparta Praha</td>\n",
       "      <td>0.45</td>\n",
       "    </tr>\n",
       "    <tr>\n",
       "      <th>2</th>\n",
       "      <td>1.FC Nuremberg</td>\n",
       "      <td>OGC Nice</td>\n",
       "      <td>1.35</td>\n",
       "    </tr>\n",
       "    <tr>\n",
       "      <th>3</th>\n",
       "      <td>1.FC Nuremberg</td>\n",
       "      <td>Atlético Madrid</td>\n",
       "      <td>1.08</td>\n",
       "    </tr>\n",
       "    <tr>\n",
       "      <th>4</th>\n",
       "      <td>1.FC Nuremberg</td>\n",
       "      <td>Monaco</td>\n",
       "      <td>0.90</td>\n",
       "    </tr>\n",
       "  </tbody>\n",
       "</table>\n",
       "</div>"
      ],
      "text/plain": [
       "        club_name  club_involved_name  fee_cleaned\n",
       "0      1. FC Köln  FC Energie Cottbus         0.45\n",
       "1  1.FC Nuremberg        Sparta Praha         0.45\n",
       "2  1.FC Nuremberg            OGC Nice         1.35\n",
       "3  1.FC Nuremberg     Atlético Madrid         1.08\n",
       "4  1.FC Nuremberg              Monaco         0.90"
      ]
     },
     "execution_count": 18,
     "metadata": {},
     "output_type": "execute_result"
    }
   ],
   "source": [
    "# sort alphabetically\n",
    "DF  = DF.sort_values(by=['club_name'], ascending = True)\n",
    "DF = DF.reset_index()\n",
    "del DF[\"index\"]\n",
    "\n",
    "DF.head()"
   ]
  },
  {
   "cell_type": "code",
   "execution_count": 19,
   "metadata": {},
   "outputs": [
    {
     "data": {
      "text/plain": [
       "(1279, 5)"
      ]
     },
     "execution_count": 19,
     "metadata": {},
     "output_type": "execute_result"
    }
   ],
   "source": [
    "DF_clean.shape"
   ]
  },
  {
   "cell_type": "markdown",
   "metadata": {},
   "source": [
    "### Combine multiple transfers between clubs a and b"
   ]
  },
  {
   "cell_type": "code",
   "execution_count": 20,
   "metadata": {},
   "outputs": [],
   "source": [
    "# now as a function\n",
    "        \n",
    "def AddFees(DF): # adds fees of multiple transfers from club a to b\n",
    "    # output\n",
    "    DF_out = pd.DataFrame({'club_name' : [],\n",
    "                         \"club_involved_name\":[],\n",
    "                         \"fee_cleaned\":[]})\n",
    "    \n",
    "    for i in range(DF.shape[0]):\n",
    "        # is this a new match?\n",
    "        if DF_out.loc[(DF_out[\"club_name\"]== DF[\"club_name\"].iloc[i])&  \n",
    "                     DF_out[\"club_involved_name\"].isin([DF[\"club_involved_name\"].iloc[i]])].size ==0:\n",
    "            DF_out = DF_out.append(DF.iloc[i])\n",
    "        else:\n",
    "            # add fee value to already existing value\n",
    "            DF_out[\"fee_cleaned\"].loc[(DF_out[\"club_name\"]== DF[\"club_name\"].iloc[i])&  \n",
    "                     DF_out[\"club_involved_name\"].isin([DF[\"club_involved_name\"].iloc[i]])] += DF[\"fee_cleaned\"].iloc[i]\n",
    "            \n",
    "    return(DF_out)    \n",
    "        "
   ]
  },
  {
   "cell_type": "code",
   "execution_count": 21,
   "metadata": {},
   "outputs": [
    {
     "name": "stderr",
     "output_type": "stream",
     "text": [
      "/home/users/t_wand01/.local/lib/python3.7/site-packages/pandas/core/indexing.py:1732: SettingWithCopyWarning: \n",
      "A value is trying to be set on a copy of a slice from a DataFrame\n",
      "\n",
      "See the caveats in the documentation: https://pandas.pydata.org/pandas-docs/stable/user_guide/indexing.html#returning-a-view-versus-a-copy\n",
      "  self._setitem_single_block(indexer, value, name)\n"
     ]
    }
   ],
   "source": [
    "DF = AddFees(DF)"
   ]
  },
  {
   "cell_type": "code",
   "execution_count": 22,
   "metadata": {},
   "outputs": [
    {
     "data": {
      "text/html": [
       "<div>\n",
       "<style scoped>\n",
       "    .dataframe tbody tr th:only-of-type {\n",
       "        vertical-align: middle;\n",
       "    }\n",
       "\n",
       "    .dataframe tbody tr th {\n",
       "        vertical-align: top;\n",
       "    }\n",
       "\n",
       "    .dataframe thead th {\n",
       "        text-align: right;\n",
       "    }\n",
       "</style>\n",
       "<table border=\"1\" class=\"dataframe\">\n",
       "  <thead>\n",
       "    <tr style=\"text-align: right;\">\n",
       "      <th></th>\n",
       "      <th>club_name</th>\n",
       "      <th>club_involved_name</th>\n",
       "      <th>fee_cleaned</th>\n",
       "    </tr>\n",
       "  </thead>\n",
       "  <tbody>\n",
       "    <tr>\n",
       "      <th>0</th>\n",
       "      <td>1. FC Köln</td>\n",
       "      <td>FC Energie Cottbus</td>\n",
       "      <td>0.45</td>\n",
       "    </tr>\n",
       "    <tr>\n",
       "      <th>1</th>\n",
       "      <td>1.FC Nuremberg</td>\n",
       "      <td>Sparta Praha</td>\n",
       "      <td>0.45</td>\n",
       "    </tr>\n",
       "    <tr>\n",
       "      <th>2</th>\n",
       "      <td>1.FC Nuremberg</td>\n",
       "      <td>OGC Nice</td>\n",
       "      <td>1.35</td>\n",
       "    </tr>\n",
       "    <tr>\n",
       "      <th>3</th>\n",
       "      <td>1.FC Nuremberg</td>\n",
       "      <td>Atlético Madrid</td>\n",
       "      <td>1.08</td>\n",
       "    </tr>\n",
       "    <tr>\n",
       "      <th>4</th>\n",
       "      <td>1.FC Nuremberg</td>\n",
       "      <td>Monaco</td>\n",
       "      <td>0.90</td>\n",
       "    </tr>\n",
       "    <tr>\n",
       "      <th>...</th>\n",
       "      <td>...</td>\n",
       "      <td>...</td>\n",
       "      <td>...</td>\n",
       "    </tr>\n",
       "    <tr>\n",
       "      <th>1188</th>\n",
       "      <td>Wolverhampton Wanderers</td>\n",
       "      <td>Southend United</td>\n",
       "      <td>2.03</td>\n",
       "    </tr>\n",
       "    <tr>\n",
       "      <th>1189</th>\n",
       "      <td>Zamalek</td>\n",
       "      <td>Lokomotiv Moscow</td>\n",
       "      <td>1.26</td>\n",
       "    </tr>\n",
       "    <tr>\n",
       "      <th>1190</th>\n",
       "      <td>Zenit St. Petersburg</td>\n",
       "      <td>KAA Gent</td>\n",
       "      <td>3.60</td>\n",
       "    </tr>\n",
       "    <tr>\n",
       "      <th>1191</th>\n",
       "      <td>Zenit St. Petersburg</td>\n",
       "      <td>MSK Zilina</td>\n",
       "      <td>2.88</td>\n",
       "    </tr>\n",
       "    <tr>\n",
       "      <th>1192</th>\n",
       "      <td>Zenit St. Petersburg</td>\n",
       "      <td>Spartak Nalchik</td>\n",
       "      <td>1.80</td>\n",
       "    </tr>\n",
       "  </tbody>\n",
       "</table>\n",
       "<p>1193 rows × 3 columns</p>\n",
       "</div>"
      ],
      "text/plain": [
       "                    club_name  club_involved_name  fee_cleaned\n",
       "0                  1. FC Köln  FC Energie Cottbus         0.45\n",
       "1              1.FC Nuremberg        Sparta Praha         0.45\n",
       "2              1.FC Nuremberg            OGC Nice         1.35\n",
       "3              1.FC Nuremberg     Atlético Madrid         1.08\n",
       "4              1.FC Nuremberg              Monaco         0.90\n",
       "...                       ...                 ...          ...\n",
       "1188  Wolverhampton Wanderers     Southend United         2.03\n",
       "1189                  Zamalek    Lokomotiv Moscow         1.26\n",
       "1190     Zenit St. Petersburg            KAA Gent         3.60\n",
       "1191     Zenit St. Petersburg          MSK Zilina         2.88\n",
       "1192     Zenit St. Petersburg     Spartak Nalchik         1.80\n",
       "\n",
       "[1193 rows x 3 columns]"
      ]
     },
     "execution_count": 22,
     "metadata": {},
     "output_type": "execute_result"
    }
   ],
   "source": [
    "DF = DF.reset_index()\n",
    "del DF[\"index\"]\n",
    "DF"
   ]
  },
  {
   "cell_type": "markdown",
   "metadata": {},
   "source": [
    "## Second Data Set: Undirected\n",
    "Combine both transfer fees from A to B and B to A as one \"transfer volume\""
   ]
  },
  {
   "cell_type": "code",
   "execution_count": 23,
   "metadata": {},
   "outputs": [],
   "source": [
    "DFun =  pd.DataFrame({'club1' : [],\n",
    "                         \"club2\":[],\n",
    "                         \"fee_cleaned\":[]})"
   ]
  },
  {
   "cell_type": "code",
   "execution_count": 24,
   "metadata": {},
   "outputs": [],
   "source": [
    "DFun[\"club1\"] = np.minimum(DF['club_name'], DF['club_involved_name']) \n",
    "DFun[\"club2\"] = np.maximum(DF['club_name'], DF['club_involved_name']) "
   ]
  },
  {
   "cell_type": "code",
   "execution_count": 25,
   "metadata": {},
   "outputs": [],
   "source": [
    "       \n",
    "def AddFeesUndirected(DF): # adds fees of multiple transfers from club a to b\n",
    "    # output\n",
    "    DF_out = pd.DataFrame({'club_name' : [],\n",
    "                         \"club_involved_name\":[],\n",
    "                         \"fee_cleaned\":[]})\n",
    "    \n",
    "    for i in range(DF.shape[0]):\n",
    "        # is this a new match?\n",
    "        \n",
    "        if ((DF_out.loc[(DF_out[\"club_name\"]== DF[\"club_name\"].iloc[i])&  \n",
    "                     DF_out[\"club_involved_name\"].isin([DF[\"club_involved_name\"].iloc[i]])].size ==0) and \n",
    "            (DF_out.loc[(DF_out[\"club_involved_name\"]== DF[\"club_name\"].iloc[i])&  # Neither direction!\n",
    "                     DF_out[\"club_name\"].isin([DF[\"club_involved_name\"].iloc[i]])].size ==0)):\n",
    "            DF_out = DF_out.append(DF.iloc[i])\n",
    "        \n",
    "        elif (DF_out.loc[(DF_out[\"club_name\"]== DF[\"club_name\"].iloc[i])&  \n",
    "                     DF_out[\"club_involved_name\"].isin([DF[\"club_involved_name\"].iloc[i]])].size > 0):\n",
    "            # add fee value to already existing value\n",
    "            DF_out[\"fee_cleaned\"].loc[(DF_out[\"club_name\"]== DF[\"club_name\"].iloc[i])&  \n",
    "                     DF_out[\"club_involved_name\"].isin([DF[\"club_involved_name\"].iloc[i]])] += DF[\"fee_cleaned\"].iloc[i]\n",
    "        \n",
    "        else: # add the \"reversed\" fee to existing value\n",
    "            DF_out[\"fee_cleaned\"].loc[(DF_out[\"club_involved_name\"]== DF[\"club_name\"].iloc[i])&  \n",
    "                     DF_out[\"club_name\"].isin([DF[\"club_involved_name\"].iloc[i]])] += DF[\"fee_cleaned\"].iloc[i]\n",
    "            \n",
    "            \n",
    "    return(DF_out)    \n",
    "        "
   ]
  },
  {
   "cell_type": "code",
   "execution_count": 26,
   "metadata": {},
   "outputs": [
    {
     "name": "stderr",
     "output_type": "stream",
     "text": [
      "/home/users/t_wand01/.local/lib/python3.7/site-packages/pandas/core/indexing.py:1732: SettingWithCopyWarning: \n",
      "A value is trying to be set on a copy of a slice from a DataFrame\n",
      "\n",
      "See the caveats in the documentation: https://pandas.pydata.org/pandas-docs/stable/user_guide/indexing.html#returning-a-view-versus-a-copy\n",
      "  self._setitem_single_block(indexer, value, name)\n"
     ]
    }
   ],
   "source": [
    "DFun = AddFeesUndirected(DF)"
   ]
  },
  {
   "cell_type": "markdown",
   "metadata": {},
   "source": [
    "# Graphs"
   ]
  },
  {
   "cell_type": "code",
   "execution_count": 27,
   "metadata": {},
   "outputs": [],
   "source": [
    "G = nx.from_pandas_edgelist(DF, \n",
    "                            source = \"club_name\",\n",
    "                            target = \"club_involved_name\",\n",
    "                            edge_attr=[\"fee_cleaned\"],#, \"colour\"],\n",
    "                            create_using=networkx.DiGraph()\n",
    "                           )"
   ]
  },
  {
   "cell_type": "code",
   "execution_count": 28,
   "metadata": {},
   "outputs": [],
   "source": [
    "# Teams of individual leagues 19/20\n",
    "BL_teams = list(set(BuLi[\"club_name\"])) # Bundesliga\n",
    "BLList = pd.Series(BL_teams)\n",
    "\n",
    "PLList = pd.Series(list(set(PL[\"club_name\"])))\n",
    "SAList = pd.Series(list(set(SA[\"club_name\"])))\n",
    "PDList = pd.Series(list(set(PD[\"club_name\"])))\n",
    "L1List = pd.Series(list(set(L1[\"club_name\"])))\n",
    "\n"
   ]
  },
  {
   "cell_type": "markdown",
   "metadata": {},
   "source": [
    "\n",
    "l = [\"red\", \"blue\"]\n",
    "print(len(G.nodes))\n",
    "Colours = random.choices(l, k=len(G.nodes))"
   ]
  },
  {
   "cell_type": "code",
   "execution_count": 29,
   "metadata": {},
   "outputs": [],
   "source": [
    "Colours = [\"none\"]*len(G.nodes)\n",
    "j = 0\n",
    "for i in G.nodes:\n",
    "    if np.sum(BLList.isin([i])) > 0: # if Bundesliga-Team\n",
    "        Colours[j] = \"red\"\n",
    "    j = j+1"
   ]
  },
  {
   "cell_type": "code",
   "execution_count": 30,
   "metadata": {},
   "outputs": [
    {
     "data": {
      "image/png": "[encoded data removed]",
      "text/plain": [
       "<Figure size 432x288 with 1 Axes>"
      ]
     },
     "metadata": {},
     "output_type": "display_data"
    }
   ],
   "source": [
    "networkx.draw_kamada_kawai(G,node_color = Colours, with_labels=False, alpha=0.1)"
   ]
  },
  {
   "cell_type": "code",
   "execution_count": 31,
   "metadata": {},
   "outputs": [],
   "source": [
    "def Colour1(node):\n",
    "    if np.sum(BLList.isin([node])):\n",
    "        out = \"red\"\n",
    "    elif np.sum(PLList.isin([node])):\n",
    "        out = \"blue\"\n",
    "    elif np.sum(SAList.isin([node])):\n",
    "        out = \"green\" \n",
    "    elif np.sum(PDList.isin([node])):\n",
    "        out = \"yellow\"\n",
    "    elif np.sum(L1List.isin([node])):\n",
    "        out = \"purple\"\n",
    "    else:\n",
    "        out = \"none\"\n",
    "    return(out)"
   ]
  },
  {
   "cell_type": "code",
   "execution_count": 32,
   "metadata": {},
   "outputs": [],
   "source": [
    "j = 0\n",
    "for i in G.nodes:\n",
    "    Colours[j] = Colour1(i)\n",
    "    j = j+1"
   ]
  },
  {
   "cell_type": "code",
   "execution_count": 33,
   "metadata": {},
   "outputs": [
    {
     "data": {
      "image/png": "[encoded data removed]",
      "text/plain": [
       "<Figure size 432x288 with 1 Axes>"
      ]
     },
     "metadata": {},
     "output_type": "display_data"
    }
   ],
   "source": [
    "networkx.draw_spring(G,node_color = Colours, with_labels=False, alpha = 0.1)\n"
   ]
  },
  {
   "cell_type": "code",
   "execution_count": 34,
   "metadata": {},
   "outputs": [
    {
     "data": {
      "image/png": "[encoded data removed]",
      "text/plain": [
       "<Figure size 432x288 with 1 Axes>"
      ]
     },
     "metadata": {},
     "output_type": "display_data"
    }
   ],
   "source": [
    "networkx.draw_circular(G,node_color = Colours, with_labels=False, alpha = 0.1)\n",
    "# one can see blocks of the individual countries + crosslinks\n",
    "plt.savefig(year+\"_Circular\")"
   ]
  },
  {
   "cell_type": "code",
   "execution_count": 35,
   "metadata": {},
   "outputs": [],
   "source": [
    "# Visual inspection: much less \"Small World\"-connected than before!"
   ]
  },
  {
   "cell_type": "code",
   "execution_count": null,
   "metadata": {},
   "outputs": [],
   "source": []
  },
  {
   "cell_type": "code",
   "execution_count": 36,
   "metadata": {
    "scrolled": true
   },
   "outputs": [
    {
     "data": {
      "text/html": [
       "\n",
       "        <iframe\n",
       "            width=\"800px\"\n",
       "            height=\"800px\"\n",
       "            src=\"Test.html\"\n",
       "            frameborder=\"0\"\n",
       "            allowfullscreen\n",
       "            \n",
       "        ></iframe>\n",
       "        "
      ],
      "text/plain": [
       "<IPython.lib.display.IFrame at 0x7f5bae045748>"
      ]
     },
     "execution_count": 36,
     "metadata": {},
     "output_type": "execute_result"
    }
   ],
   "source": [
    "net = Network(\"800px\", \"800px\",notebook=True)\n",
    "net.from_nx(G)\n",
    "net.show(\"Test.html\")\n",
    "# net.save_graph(\"Test.html\")"
   ]
  },
  {
   "cell_type": "markdown",
   "metadata": {},
   "source": [
    "## Pyvis"
   ]
  },
  {
   "cell_type": "code",
   "execution_count": 37,
   "metadata": {},
   "outputs": [],
   "source": [
    "g = Network(\"800px\", \"800px\",notebook=True)\n",
    "g.toggle_physics(True)\n",
    "G = nx.from_pandas_edgelist(DFun, \n",
    "                            source = \"club_involved_name\",\n",
    "                            target = \"club_name\",\n",
    "                            edge_attr=[\"fee_cleaned\"],#, \"colour\"],\n",
    "                            create_using=networkx.DiGraph()\n",
    "                           )"
   ]
  },
  {
   "cell_type": "markdown",
   "metadata": {},
   "source": [
    "g.add_nodes(np.array(G.nodes), \n",
    "            color = random.choices([\"red\",\"grey\"], k=len(G.nodes)),\n",
    "            options = {\n",
    "                \"title\":\"lel\"\n",
    "            })"
   ]
  },
  {
   "cell_type": "code",
   "execution_count": 38,
   "metadata": {},
   "outputs": [],
   "source": [
    "def Colour(node):\n",
    "    # from https://www.hexcolortool.com/#f429ff,0.33\n",
    "    if np.sum(BLList.isin([node])):\n",
    "        out = \"rgba(244, 15, 11, 0.66)\"\n",
    "    elif np.sum(PLList.isin([node])):\n",
    "        out = \"rgba(41, 155, 255, 0.66)\"\n",
    "    elif np.sum(SAList.isin([node])):\n",
    "        out = \"rgba(41, 255, 77, 0.66)\" \n",
    "    elif np.sum(PDList.isin([node])):\n",
    "        out = \"rgba(255, 241, 41, 0.66)\"\n",
    "    elif np.sum(L1List.isin([node])):\n",
    "        out = \"rgba(244, 41, 255, 0.66)\"\n",
    "    else:\n",
    "        out = \"rgba(0, 0, 0, 0.22)\"\n",
    "    return(out)"
   ]
  },
  {
   "cell_type": "code",
   "execution_count": 39,
   "metadata": {},
   "outputs": [],
   "source": [
    "# https://www.hexcolortool.com/#f40f0b,0.33\n",
    "for node in G.nodes:\n",
    "    g.add_node(str(node), color = Colour(node), #alpha=0.1,\n",
    "              options = {\"physics\":False\n",
    "              })"
   ]
  },
  {
   "cell_type": "code",
   "execution_count": 40,
   "metadata": {},
   "outputs": [],
   "source": [
    "#var options = {\n",
    "# \"nodes\": {\n",
    "#    \"color\": {\n",
    "#      \"border\": \"rgba(43,124,233,0.46)\",\n",
    "#      \"background\": \"rgba(90,65,252,0.51)\"\n",
    "#    }\n",
    "#  },\n",
    "#  \"edges\": {\n",
    "#    \"color\": {\n",
    "#      \"inherit\": true\n",
    "#    },\n",
    "#    \"smooth\": false\n",
    "#  },\n",
    "#  \"physics\": {\n",
    "# \"enabled\": false,\n",
    "#    \"repulsion\": {\n",
    "#     \"springLength\": 500\n",
    "#   },\n",
    "#    \"minVelocity\": 0.75,\n",
    "#    \"solver\": \"repulsion\"\n",
    "#  }\n",
    "#}"
   ]
  },
  {
   "cell_type": "code",
   "execution_count": 41,
   "metadata": {},
   "outputs": [],
   "source": [
    "#g.add_edges(DF19[\"club_name\"],DF19[\"club_involved_name\"], value =DF19[\"fee_cleaned\"])"
   ]
  },
  {
   "cell_type": "code",
   "execution_count": 42,
   "metadata": {},
   "outputs": [],
   "source": [
    "for i in range(DFun.shape[0]):\n",
    "    g.add_edge(DFun[\"club_name\"].iloc[i], \n",
    "              DFun[\"club_involved_name\"].iloc[i],\n",
    "              value=DFun[\"fee_cleaned\"].iloc[i], \n",
    "            kwargs ={\n",
    "               \"physics\":False\n",
    "           })\n"
   ]
  },
  {
   "cell_type": "code",
   "execution_count": 43,
   "metadata": {
    "scrolled": true
   },
   "outputs": [
    {
     "data": {
      "text/html": [
       "\n",
       "        <iframe\n",
       "            width=\"800px\"\n",
       "            height=\"800px\"\n",
       "            src=\"Test.html\"\n",
       "            frameborder=\"0\"\n",
       "            allowfullscreen\n",
       "            \n",
       "        ></iframe>\n",
       "        "
      ],
      "text/plain": [
       "<IPython.lib.display.IFrame at 0x7f5babe92240>"
      ]
     },
     "execution_count": 43,
     "metadata": {},
     "output_type": "execute_result"
    }
   ],
   "source": [
    "\n",
    "#g.show_buttons(filter_=[\"nodes\", \"edges\", \"physics\"])\n",
    "g.show(\"Test.html\")"
   ]
  },
  {
   "cell_type": "code",
   "execution_count": 44,
   "metadata": {},
   "outputs": [
    {
     "data": {
      "text/plain": [
       "['Ittihad']"
      ]
     },
     "execution_count": 44,
     "metadata": {},
     "output_type": "execute_result"
    }
   ],
   "source": [
    "[\"Ittihad\"]"
   ]
  },
  {
   "cell_type": "code",
   "execution_count": 45,
   "metadata": {},
   "outputs": [],
   "source": [
    "g.save_graph(year+\"_allLeagues.html\")"
   ]
  },
  {
   "cell_type": "code",
   "execution_count": 46,
   "metadata": {},
   "outputs": [
    {
     "data": {
      "text/html": [
       "<div>\n",
       "<style scoped>\n",
       "    .dataframe tbody tr th:only-of-type {\n",
       "        vertical-align: middle;\n",
       "    }\n",
       "\n",
       "    .dataframe tbody tr th {\n",
       "        vertical-align: top;\n",
       "    }\n",
       "\n",
       "    .dataframe thead th {\n",
       "        text-align: right;\n",
       "    }\n",
       "</style>\n",
       "<table border=\"1\" class=\"dataframe\">\n",
       "  <thead>\n",
       "    <tr style=\"text-align: right;\">\n",
       "      <th></th>\n",
       "      <th>club_name</th>\n",
       "      <th>club_involved_name</th>\n",
       "      <th>fee_cleaned</th>\n",
       "    </tr>\n",
       "  </thead>\n",
       "  <tbody>\n",
       "  </tbody>\n",
       "</table>\n",
       "</div>"
      ],
      "text/plain": [
       "Empty DataFrame\n",
       "Columns: [club_name, club_involved_name, fee_cleaned]\n",
       "Index: []"
      ]
     },
     "execution_count": 46,
     "metadata": {},
     "output_type": "execute_result"
    }
   ],
   "source": [
    "DFun.loc[DFun[\"club_name\"]==\"Sheriff Tiraspol\"]"
   ]
  },
  {
   "cell_type": "code",
   "execution_count": 47,
   "metadata": {},
   "outputs": [
    {
     "data": {
      "text/html": [
       "<div>\n",
       "<style scoped>\n",
       "    .dataframe tbody tr th:only-of-type {\n",
       "        vertical-align: middle;\n",
       "    }\n",
       "\n",
       "    .dataframe tbody tr th {\n",
       "        vertical-align: top;\n",
       "    }\n",
       "\n",
       "    .dataframe thead th {\n",
       "        text-align: right;\n",
       "    }\n",
       "</style>\n",
       "<table border=\"1\" class=\"dataframe\">\n",
       "  <thead>\n",
       "    <tr style=\"text-align: right;\">\n",
       "      <th></th>\n",
       "      <th>club_name</th>\n",
       "      <th>club_involved_name</th>\n",
       "      <th>fee_cleaned</th>\n",
       "    </tr>\n",
       "  </thead>\n",
       "  <tbody>\n",
       "    <tr>\n",
       "      <th>434</th>\n",
       "      <td>FK Khimki</td>\n",
       "      <td>Sheriff</td>\n",
       "      <td>0.27</td>\n",
       "    </tr>\n",
       "  </tbody>\n",
       "</table>\n",
       "</div>"
      ],
      "text/plain": [
       "     club_name club_involved_name  fee_cleaned\n",
       "434  FK Khimki            Sheriff         0.27"
      ]
     },
     "execution_count": 47,
     "metadata": {},
     "output_type": "execute_result"
    }
   ],
   "source": [
    "DFun.loc[DFun[\"club_involved_name\"]==\"Sheriff\"]"
   ]
  },
  {
   "cell_type": "code",
   "execution_count": 48,
   "metadata": {},
   "outputs": [
    {
     "data": {
      "text/plain": [
       "'Vitória Guimarães SC'"
      ]
     },
     "execution_count": 48,
     "metadata": {},
     "output_type": "execute_result"
    }
   ],
   "source": [
    "\"Vitória Guimarães SC\""
   ]
  },
  {
   "cell_type": "code",
   "execution_count": 49,
   "metadata": {},
   "outputs": [
    {
     "data": {
      "text/html": [
       "<div>\n",
       "<style scoped>\n",
       "    .dataframe tbody tr th:only-of-type {\n",
       "        vertical-align: middle;\n",
       "    }\n",
       "\n",
       "    .dataframe tbody tr th {\n",
       "        vertical-align: top;\n",
       "    }\n",
       "\n",
       "    .dataframe thead th {\n",
       "        text-align: right;\n",
       "    }\n",
       "</style>\n",
       "<table border=\"1\" class=\"dataframe\">\n",
       "  <thead>\n",
       "    <tr style=\"text-align: right;\">\n",
       "      <th></th>\n",
       "      <th>club_name</th>\n",
       "      <th>player_name</th>\n",
       "      <th>age</th>\n",
       "      <th>position</th>\n",
       "      <th>club_involved_name</th>\n",
       "      <th>fee</th>\n",
       "      <th>transfer_movement</th>\n",
       "      <th>transfer_period</th>\n",
       "      <th>fee_cleaned</th>\n",
       "      <th>league_name</th>\n",
       "      <th>year</th>\n",
       "      <th>season</th>\n",
       "    </tr>\n",
       "  </thead>\n",
       "  <tbody>\n",
       "    <tr>\n",
       "      <th>83</th>\n",
       "      <td>Deportivo de La Coruña</td>\n",
       "      <td>Andrés Guardado</td>\n",
       "      <td>20</td>\n",
       "      <td>Central Midfield</td>\n",
       "      <td>Atlas</td>\n",
       "      <td>£6.30m</td>\n",
       "      <td>in</td>\n",
       "      <td>Summer</td>\n",
       "      <td>6.300</td>\n",
       "      <td>Primera Division</td>\n",
       "      <td>2007</td>\n",
       "      <td>2007/2008</td>\n",
       "    </tr>\n",
       "    <tr>\n",
       "      <th>84</th>\n",
       "      <td>Deportivo de La Coruña</td>\n",
       "      <td>Aythami Artiles</td>\n",
       "      <td>21</td>\n",
       "      <td>Centre-Back</td>\n",
       "      <td>UD Las Palmas</td>\n",
       "      <td>£855Th.</td>\n",
       "      <td>in</td>\n",
       "      <td>Summer</td>\n",
       "      <td>0.855</td>\n",
       "      <td>Primera Division</td>\n",
       "      <td>2007</td>\n",
       "      <td>2007/2008</td>\n",
       "    </tr>\n",
       "    <tr>\n",
       "      <th>85</th>\n",
       "      <td>Deportivo de La Coruña</td>\n",
       "      <td>Ángel Lafita</td>\n",
       "      <td>22</td>\n",
       "      <td>Left Winger</td>\n",
       "      <td>Real Zaragoza</td>\n",
       "      <td>Loan</td>\n",
       "      <td>in</td>\n",
       "      <td>Summer</td>\n",
       "      <td>0.000</td>\n",
       "      <td>Primera Division</td>\n",
       "      <td>2007</td>\n",
       "      <td>2007/2008</td>\n",
       "    </tr>\n",
       "    <tr>\n",
       "      <th>86</th>\n",
       "      <td>Deportivo de La Coruña</td>\n",
       "      <td>Manu Fernández</td>\n",
       "      <td>21</td>\n",
       "      <td>Goalkeeper</td>\n",
       "      <td>Sporting Gijón</td>\n",
       "      <td>Free transfer</td>\n",
       "      <td>in</td>\n",
       "      <td>Summer</td>\n",
       "      <td>0.000</td>\n",
       "      <td>Primera Division</td>\n",
       "      <td>2007</td>\n",
       "      <td>2007/2008</td>\n",
       "    </tr>\n",
       "    <tr>\n",
       "      <th>87</th>\n",
       "      <td>Deportivo de La Coruña</td>\n",
       "      <td>Jairo Álvarez</td>\n",
       "      <td>21</td>\n",
       "      <td>Attacking Midfield</td>\n",
       "      <td>Deportivo B</td>\n",
       "      <td>-</td>\n",
       "      <td>in</td>\n",
       "      <td>Summer</td>\n",
       "      <td>0.000</td>\n",
       "      <td>Primera Division</td>\n",
       "      <td>2007</td>\n",
       "      <td>2007/2008</td>\n",
       "    </tr>\n",
       "    <tr>\n",
       "      <th>88</th>\n",
       "      <td>Deportivo de La Coruña</td>\n",
       "      <td>Adrián López</td>\n",
       "      <td>20</td>\n",
       "      <td>Centre-Back</td>\n",
       "      <td>Deportivo B</td>\n",
       "      <td>-</td>\n",
       "      <td>in</td>\n",
       "      <td>Summer</td>\n",
       "      <td>0.000</td>\n",
       "      <td>Primera Division</td>\n",
       "      <td>2007</td>\n",
       "      <td>2007/2008</td>\n",
       "    </tr>\n",
       "    <tr>\n",
       "      <th>89</th>\n",
       "      <td>Deportivo de La Coruña</td>\n",
       "      <td>Rubén Castro</td>\n",
       "      <td>26</td>\n",
       "      <td>Centre-Forward</td>\n",
       "      <td>Gimnàstic</td>\n",
       "      <td>End of loanJun 30, 2007</td>\n",
       "      <td>in</td>\n",
       "      <td>Summer</td>\n",
       "      <td>0.000</td>\n",
       "      <td>Primera Division</td>\n",
       "      <td>2007</td>\n",
       "      <td>2007/2008</td>\n",
       "    </tr>\n",
       "    <tr>\n",
       "      <th>90</th>\n",
       "      <td>Deportivo de La Coruña</td>\n",
       "      <td>Momo</td>\n",
       "      <td>24</td>\n",
       "      <td>Left Winger</td>\n",
       "      <td>Racing</td>\n",
       "      <td>End of loanJun 30, 2007</td>\n",
       "      <td>in</td>\n",
       "      <td>Summer</td>\n",
       "      <td>0.000</td>\n",
       "      <td>Primera Division</td>\n",
       "      <td>2007</td>\n",
       "      <td>2007/2008</td>\n",
       "    </tr>\n",
       "    <tr>\n",
       "      <th>91</th>\n",
       "      <td>Deportivo de La Coruña</td>\n",
       "      <td>Antonio Tomás</td>\n",
       "      <td>22</td>\n",
       "      <td>Central Midfield</td>\n",
       "      <td>Racing</td>\n",
       "      <td>End of loanJun 30, 2007</td>\n",
       "      <td>in</td>\n",
       "      <td>Summer</td>\n",
       "      <td>0.000</td>\n",
       "      <td>Primera Division</td>\n",
       "      <td>2007</td>\n",
       "      <td>2007/2008</td>\n",
       "    </tr>\n",
       "    <tr>\n",
       "      <th>92</th>\n",
       "      <td>Deportivo de La Coruña</td>\n",
       "      <td>Rodri</td>\n",
       "      <td>22</td>\n",
       "      <td>Centre-Back</td>\n",
       "      <td>UD Almería</td>\n",
       "      <td>End of loanJun 30, 2007</td>\n",
       "      <td>in</td>\n",
       "      <td>Summer</td>\n",
       "      <td>0.000</td>\n",
       "      <td>Primera Division</td>\n",
       "      <td>2007</td>\n",
       "      <td>2007/2008</td>\n",
       "    </tr>\n",
       "    <tr>\n",
       "      <th>93</th>\n",
       "      <td>Deportivo de La Coruña</td>\n",
       "      <td>Xisco</td>\n",
       "      <td>21</td>\n",
       "      <td>Centre-Forward</td>\n",
       "      <td>UD Vecindario</td>\n",
       "      <td>End of loanJun 30, 2007</td>\n",
       "      <td>in</td>\n",
       "      <td>Summer</td>\n",
       "      <td>0.000</td>\n",
       "      <td>Primera Division</td>\n",
       "      <td>2007</td>\n",
       "      <td>2007/2008</td>\n",
       "    </tr>\n",
       "    <tr>\n",
       "      <th>94</th>\n",
       "      <td>Deportivo de La Coruña</td>\n",
       "      <td>Pablo Amo</td>\n",
       "      <td>29</td>\n",
       "      <td>Centre-Back</td>\n",
       "      <td>Recr. Huelva</td>\n",
       "      <td>End of loanJun 30, 2007</td>\n",
       "      <td>in</td>\n",
       "      <td>Summer</td>\n",
       "      <td>0.000</td>\n",
       "      <td>Primera Division</td>\n",
       "      <td>2007</td>\n",
       "      <td>2007/2008</td>\n",
       "    </tr>\n",
       "    <tr>\n",
       "      <th>95</th>\n",
       "      <td>Deportivo de La Coruña</td>\n",
       "      <td>Ángel Guirado</td>\n",
       "      <td>22</td>\n",
       "      <td>Centre-Forward</td>\n",
       "      <td>CD Lugo</td>\n",
       "      <td>End of loanJun 30, 2007</td>\n",
       "      <td>in</td>\n",
       "      <td>Summer</td>\n",
       "      <td>0.000</td>\n",
       "      <td>Primera Division</td>\n",
       "      <td>2007</td>\n",
       "      <td>2007/2008</td>\n",
       "    </tr>\n",
       "    <tr>\n",
       "      <th>96</th>\n",
       "      <td>Deportivo de La Coruña</td>\n",
       "      <td>Javier Arizmendi</td>\n",
       "      <td>23</td>\n",
       "      <td>Centre-Forward</td>\n",
       "      <td>Valencia</td>\n",
       "      <td>£10.80m</td>\n",
       "      <td>out</td>\n",
       "      <td>Summer</td>\n",
       "      <td>10.800</td>\n",
       "      <td>Primera Division</td>\n",
       "      <td>2007</td>\n",
       "      <td>2007/2008</td>\n",
       "    </tr>\n",
       "    <tr>\n",
       "      <th>97</th>\n",
       "      <td>Deportivo de La Coruña</td>\n",
       "      <td>Jorge Andrade</td>\n",
       "      <td>29</td>\n",
       "      <td>Centre-Back</td>\n",
       "      <td>Juventus</td>\n",
       "      <td>£9.00m</td>\n",
       "      <td>out</td>\n",
       "      <td>Summer</td>\n",
       "      <td>9.000</td>\n",
       "      <td>Primera Division</td>\n",
       "      <td>2007</td>\n",
       "      <td>2007/2008</td>\n",
       "    </tr>\n",
       "    <tr>\n",
       "      <th>98</th>\n",
       "      <td>Deportivo de La Coruña</td>\n",
       "      <td>Adrián López</td>\n",
       "      <td>20</td>\n",
       "      <td>Centre-Forward</td>\n",
       "      <td>Alavés</td>\n",
       "      <td>Loan</td>\n",
       "      <td>out</td>\n",
       "      <td>Summer</td>\n",
       "      <td>0.000</td>\n",
       "      <td>Primera Division</td>\n",
       "      <td>2007</td>\n",
       "      <td>2007/2008</td>\n",
       "    </tr>\n",
       "    <tr>\n",
       "      <th>99</th>\n",
       "      <td>Deportivo de La Coruña</td>\n",
       "      <td>Iago Iglesias</td>\n",
       "      <td>23</td>\n",
       "      <td>Attacking Midfield</td>\n",
       "      <td>Elche CF</td>\n",
       "      <td>Loan</td>\n",
       "      <td>out</td>\n",
       "      <td>Summer</td>\n",
       "      <td>0.000</td>\n",
       "      <td>Primera Division</td>\n",
       "      <td>2007</td>\n",
       "      <td>2007/2008</td>\n",
       "    </tr>\n",
       "    <tr>\n",
       "      <th>100</th>\n",
       "      <td>Deportivo de La Coruña</td>\n",
       "      <td>Ángel Guirado</td>\n",
       "      <td>22</td>\n",
       "      <td>Centre-Forward</td>\n",
       "      <td>Levante B</td>\n",
       "      <td>Free transfer</td>\n",
       "      <td>out</td>\n",
       "      <td>Summer</td>\n",
       "      <td>0.000</td>\n",
       "      <td>Primera Division</td>\n",
       "      <td>2007</td>\n",
       "      <td>2007/2008</td>\n",
       "    </tr>\n",
       "    <tr>\n",
       "      <th>101</th>\n",
       "      <td>Deportivo de La Coruña</td>\n",
       "      <td>Pablo Álvarez</td>\n",
       "      <td>27</td>\n",
       "      <td>Right Winger</td>\n",
       "      <td>Racing</td>\n",
       "      <td>Loan</td>\n",
       "      <td>out</td>\n",
       "      <td>Summer</td>\n",
       "      <td>0.000</td>\n",
       "      <td>Primera Division</td>\n",
       "      <td>2007</td>\n",
       "      <td>2007/2008</td>\n",
       "    </tr>\n",
       "    <tr>\n",
       "      <th>102</th>\n",
       "      <td>Deportivo de La Coruña</td>\n",
       "      <td>Momo</td>\n",
       "      <td>24</td>\n",
       "      <td>Left Winger</td>\n",
       "      <td>Xerez CD</td>\n",
       "      <td>Loan</td>\n",
       "      <td>out</td>\n",
       "      <td>Summer</td>\n",
       "      <td>0.000</td>\n",
       "      <td>Primera Division</td>\n",
       "      <td>2007</td>\n",
       "      <td>2007/2008</td>\n",
       "    </tr>\n",
       "    <tr>\n",
       "      <th>103</th>\n",
       "      <td>Deportivo de La Coruña</td>\n",
       "      <td>Juanma Delgado</td>\n",
       "      <td>30</td>\n",
       "      <td>Centre-Back</td>\n",
       "      <td>CD Tenerife</td>\n",
       "      <td>Free transfer</td>\n",
       "      <td>out</td>\n",
       "      <td>Summer</td>\n",
       "      <td>0.000</td>\n",
       "      <td>Primera Division</td>\n",
       "      <td>2007</td>\n",
       "      <td>2007/2008</td>\n",
       "    </tr>\n",
       "    <tr>\n",
       "      <th>104</th>\n",
       "      <td>Deportivo de La Coruña</td>\n",
       "      <td>Aldo Duscher</td>\n",
       "      <td>28</td>\n",
       "      <td>Defensive Midfield</td>\n",
       "      <td>Racing</td>\n",
       "      <td>Free transfer</td>\n",
       "      <td>out</td>\n",
       "      <td>Summer</td>\n",
       "      <td>0.000</td>\n",
       "      <td>Primera Division</td>\n",
       "      <td>2007</td>\n",
       "      <td>2007/2008</td>\n",
       "    </tr>\n",
       "    <tr>\n",
       "      <th>105</th>\n",
       "      <td>Deportivo de La Coruña</td>\n",
       "      <td>Joan Capdevila</td>\n",
       "      <td>29</td>\n",
       "      <td>Left-Back</td>\n",
       "      <td>Villarreal CF</td>\n",
       "      <td>Free transfer</td>\n",
       "      <td>out</td>\n",
       "      <td>Summer</td>\n",
       "      <td>0.000</td>\n",
       "      <td>Primera Division</td>\n",
       "      <td>2007</td>\n",
       "      <td>2007/2008</td>\n",
       "    </tr>\n",
       "    <tr>\n",
       "      <th>106</th>\n",
       "      <td>Deportivo de La Coruña</td>\n",
       "      <td>Rodri</td>\n",
       "      <td>22</td>\n",
       "      <td>Centre-Back</td>\n",
       "      <td>Poli Ejido</td>\n",
       "      <td>Loan</td>\n",
       "      <td>out</td>\n",
       "      <td>Summer</td>\n",
       "      <td>0.000</td>\n",
       "      <td>Primera Division</td>\n",
       "      <td>2007</td>\n",
       "      <td>2007/2008</td>\n",
       "    </tr>\n",
       "    <tr>\n",
       "      <th>107</th>\n",
       "      <td>Deportivo de La Coruña</td>\n",
       "      <td>Fabián Estoyanoff</td>\n",
       "      <td>24</td>\n",
       "      <td>Right Midfield</td>\n",
       "      <td>Valencia</td>\n",
       "      <td>End of loanJun 30, 2007</td>\n",
       "      <td>out</td>\n",
       "      <td>Summer</td>\n",
       "      <td>0.000</td>\n",
       "      <td>Primera Division</td>\n",
       "      <td>2007</td>\n",
       "      <td>2007/2008</td>\n",
       "    </tr>\n",
       "    <tr>\n",
       "      <th>543</th>\n",
       "      <td>Deportivo de La Coruña</td>\n",
       "      <td>Christian Wilhelmsson</td>\n",
       "      <td>28</td>\n",
       "      <td>Right Winger</td>\n",
       "      <td>FC Nantes</td>\n",
       "      <td>Loan</td>\n",
       "      <td>in</td>\n",
       "      <td>Winter</td>\n",
       "      <td>0.000</td>\n",
       "      <td>Primera Division</td>\n",
       "      <td>2007</td>\n",
       "      <td>2007/2008</td>\n",
       "    </tr>\n",
       "    <tr>\n",
       "      <th>544</th>\n",
       "      <td>Deportivo de La Coruña</td>\n",
       "      <td>Fabri</td>\n",
       "      <td>20</td>\n",
       "      <td>Goalkeeper</td>\n",
       "      <td>Deportivo B</td>\n",
       "      <td>-</td>\n",
       "      <td>in</td>\n",
       "      <td>Winter</td>\n",
       "      <td>0.000</td>\n",
       "      <td>Primera Division</td>\n",
       "      <td>2007</td>\n",
       "      <td>2007/2008</td>\n",
       "    </tr>\n",
       "    <tr>\n",
       "      <th>545</th>\n",
       "      <td>Deportivo de La Coruña</td>\n",
       "      <td>Chapi</td>\n",
       "      <td>22</td>\n",
       "      <td>Centre-Back</td>\n",
       "      <td>Deportivo B</td>\n",
       "      <td>-</td>\n",
       "      <td>in</td>\n",
       "      <td>Winter</td>\n",
       "      <td>0.000</td>\n",
       "      <td>Primera Division</td>\n",
       "      <td>2007</td>\n",
       "      <td>2007/2008</td>\n",
       "    </tr>\n",
       "    <tr>\n",
       "      <th>546</th>\n",
       "      <td>Deportivo de La Coruña</td>\n",
       "      <td>Aythami Artiles</td>\n",
       "      <td>21</td>\n",
       "      <td>Centre-Back</td>\n",
       "      <td>Xerez CD</td>\n",
       "      <td>Loan</td>\n",
       "      <td>out</td>\n",
       "      <td>Winter</td>\n",
       "      <td>0.000</td>\n",
       "      <td>Primera Division</td>\n",
       "      <td>2007</td>\n",
       "      <td>2007/2008</td>\n",
       "    </tr>\n",
       "    <tr>\n",
       "      <th>547</th>\n",
       "      <td>Deportivo de La Coruña</td>\n",
       "      <td>Jairo Álvarez</td>\n",
       "      <td>21</td>\n",
       "      <td>Attacking Midfield</td>\n",
       "      <td>Alavés</td>\n",
       "      <td>Loan</td>\n",
       "      <td>out</td>\n",
       "      <td>Winter</td>\n",
       "      <td>0.000</td>\n",
       "      <td>Primera Division</td>\n",
       "      <td>2007</td>\n",
       "      <td>2007/2008</td>\n",
       "    </tr>\n",
       "  </tbody>\n",
       "</table>\n",
       "</div>"
      ],
      "text/plain": [
       "                  club_name            player_name  age            position  \\\n",
       "83   Deportivo de La Coruña        Andrés Guardado   20    Central Midfield   \n",
       "84   Deportivo de La Coruña        Aythami Artiles   21         Centre-Back   \n",
       "85   Deportivo de La Coruña           Ángel Lafita   22         Left Winger   \n",
       "86   Deportivo de La Coruña         Manu Fernández   21          Goalkeeper   \n",
       "87   Deportivo de La Coruña          Jairo Álvarez   21  Attacking Midfield   \n",
       "88   Deportivo de La Coruña           Adrián López   20         Centre-Back   \n",
       "89   Deportivo de La Coruña           Rubén Castro   26      Centre-Forward   \n",
       "90   Deportivo de La Coruña                   Momo   24         Left Winger   \n",
       "91   Deportivo de La Coruña          Antonio Tomás   22    Central Midfield   \n",
       "92   Deportivo de La Coruña                  Rodri   22         Centre-Back   \n",
       "93   Deportivo de La Coruña                  Xisco   21      Centre-Forward   \n",
       "94   Deportivo de La Coruña              Pablo Amo   29         Centre-Back   \n",
       "95   Deportivo de La Coruña          Ángel Guirado   22      Centre-Forward   \n",
       "96   Deportivo de La Coruña       Javier Arizmendi   23      Centre-Forward   \n",
       "97   Deportivo de La Coruña          Jorge Andrade   29         Centre-Back   \n",
       "98   Deportivo de La Coruña           Adrián López   20      Centre-Forward   \n",
       "99   Deportivo de La Coruña          Iago Iglesias   23  Attacking Midfield   \n",
       "100  Deportivo de La Coruña          Ángel Guirado   22      Centre-Forward   \n",
       "101  Deportivo de La Coruña          Pablo Álvarez   27        Right Winger   \n",
       "102  Deportivo de La Coruña                   Momo   24         Left Winger   \n",
       "103  Deportivo de La Coruña         Juanma Delgado   30         Centre-Back   \n",
       "104  Deportivo de La Coruña           Aldo Duscher   28  Defensive Midfield   \n",
       "105  Deportivo de La Coruña         Joan Capdevila   29           Left-Back   \n",
       "106  Deportivo de La Coruña                  Rodri   22         Centre-Back   \n",
       "107  Deportivo de La Coruña      Fabián Estoyanoff   24      Right Midfield   \n",
       "543  Deportivo de La Coruña  Christian Wilhelmsson   28        Right Winger   \n",
       "544  Deportivo de La Coruña                  Fabri   20          Goalkeeper   \n",
       "545  Deportivo de La Coruña                  Chapi   22         Centre-Back   \n",
       "546  Deportivo de La Coruña        Aythami Artiles   21         Centre-Back   \n",
       "547  Deportivo de La Coruña          Jairo Álvarez   21  Attacking Midfield   \n",
       "\n",
       "    club_involved_name                      fee transfer_movement  \\\n",
       "83               Atlas                   £6.30m                in   \n",
       "84       UD Las Palmas                  £855Th.                in   \n",
       "85       Real Zaragoza                     Loan                in   \n",
       "86      Sporting Gijón            Free transfer                in   \n",
       "87         Deportivo B                        -                in   \n",
       "88         Deportivo B                        -                in   \n",
       "89           Gimnàstic  End of loanJun 30, 2007                in   \n",
       "90              Racing  End of loanJun 30, 2007                in   \n",
       "91              Racing  End of loanJun 30, 2007                in   \n",
       "92          UD Almería  End of loanJun 30, 2007                in   \n",
       "93       UD Vecindario  End of loanJun 30, 2007                in   \n",
       "94        Recr. Huelva  End of loanJun 30, 2007                in   \n",
       "95             CD Lugo  End of loanJun 30, 2007                in   \n",
       "96            Valencia                  £10.80m               out   \n",
       "97            Juventus                   £9.00m               out   \n",
       "98              Alavés                     Loan               out   \n",
       "99            Elche CF                     Loan               out   \n",
       "100          Levante B            Free transfer               out   \n",
       "101             Racing                     Loan               out   \n",
       "102           Xerez CD                     Loan               out   \n",
       "103        CD Tenerife            Free transfer               out   \n",
       "104             Racing            Free transfer               out   \n",
       "105      Villarreal CF            Free transfer               out   \n",
       "106         Poli Ejido                     Loan               out   \n",
       "107           Valencia  End of loanJun 30, 2007               out   \n",
       "543          FC Nantes                     Loan                in   \n",
       "544        Deportivo B                        -                in   \n",
       "545        Deportivo B                        -                in   \n",
       "546           Xerez CD                     Loan               out   \n",
       "547             Alavés                     Loan               out   \n",
       "\n",
       "    transfer_period  fee_cleaned       league_name  year     season  \n",
       "83           Summer        6.300  Primera Division  2007  2007/2008  \n",
       "84           Summer        0.855  Primera Division  2007  2007/2008  \n",
       "85           Summer        0.000  Primera Division  2007  2007/2008  \n",
       "86           Summer        0.000  Primera Division  2007  2007/2008  \n",
       "87           Summer        0.000  Primera Division  2007  2007/2008  \n",
       "88           Summer        0.000  Primera Division  2007  2007/2008  \n",
       "89           Summer        0.000  Primera Division  2007  2007/2008  \n",
       "90           Summer        0.000  Primera Division  2007  2007/2008  \n",
       "91           Summer        0.000  Primera Division  2007  2007/2008  \n",
       "92           Summer        0.000  Primera Division  2007  2007/2008  \n",
       "93           Summer        0.000  Primera Division  2007  2007/2008  \n",
       "94           Summer        0.000  Primera Division  2007  2007/2008  \n",
       "95           Summer        0.000  Primera Division  2007  2007/2008  \n",
       "96           Summer       10.800  Primera Division  2007  2007/2008  \n",
       "97           Summer        9.000  Primera Division  2007  2007/2008  \n",
       "98           Summer        0.000  Primera Division  2007  2007/2008  \n",
       "99           Summer        0.000  Primera Division  2007  2007/2008  \n",
       "100          Summer        0.000  Primera Division  2007  2007/2008  \n",
       "101          Summer        0.000  Primera Division  2007  2007/2008  \n",
       "102          Summer        0.000  Primera Division  2007  2007/2008  \n",
       "103          Summer        0.000  Primera Division  2007  2007/2008  \n",
       "104          Summer        0.000  Primera Division  2007  2007/2008  \n",
       "105          Summer        0.000  Primera Division  2007  2007/2008  \n",
       "106          Summer        0.000  Primera Division  2007  2007/2008  \n",
       "107          Summer        0.000  Primera Division  2007  2007/2008  \n",
       "543          Winter        0.000  Primera Division  2007  2007/2008  \n",
       "544          Winter        0.000  Primera Division  2007  2007/2008  \n",
       "545          Winter        0.000  Primera Division  2007  2007/2008  \n",
       "546          Winter        0.000  Primera Division  2007  2007/2008  \n",
       "547          Winter        0.000  Primera Division  2007  2007/2008  "
      ]
     },
     "execution_count": 49,
     "metadata": {},
     "output_type": "execute_result"
    }
   ],
   "source": [
    "PD.loc[PD[\"club_name\"]==\"Deportivo de La Coruña\"]"
   ]
  },
  {
   "cell_type": "code",
   "execution_count": 50,
   "metadata": {},
   "outputs": [
    {
     "data": {
      "text/html": [
       "<div>\n",
       "<style scoped>\n",
       "    .dataframe tbody tr th:only-of-type {\n",
       "        vertical-align: middle;\n",
       "    }\n",
       "\n",
       "    .dataframe tbody tr th {\n",
       "        vertical-align: top;\n",
       "    }\n",
       "\n",
       "    .dataframe thead th {\n",
       "        text-align: right;\n",
       "    }\n",
       "</style>\n",
       "<table border=\"1\" class=\"dataframe\">\n",
       "  <thead>\n",
       "    <tr style=\"text-align: right;\">\n",
       "      <th></th>\n",
       "      <th>club_name</th>\n",
       "      <th>club_involved_name</th>\n",
       "      <th>fee_cleaned</th>\n",
       "    </tr>\n",
       "  </thead>\n",
       "  <tbody>\n",
       "    <tr>\n",
       "      <th>297</th>\n",
       "      <td>Deportivo de La Coruña</td>\n",
       "      <td>UD Las Palmas</td>\n",
       "      <td>0.855</td>\n",
       "    </tr>\n",
       "    <tr>\n",
       "      <th>298</th>\n",
       "      <td>Deportivo de La Coruña</td>\n",
       "      <td>Atlas</td>\n",
       "      <td>6.300</td>\n",
       "    </tr>\n",
       "  </tbody>\n",
       "</table>\n",
       "</div>"
      ],
      "text/plain": [
       "                  club_name club_involved_name  fee_cleaned\n",
       "297  Deportivo de La Coruña      UD Las Palmas        0.855\n",
       "298  Deportivo de La Coruña              Atlas        6.300"
      ]
     },
     "execution_count": 50,
     "metadata": {},
     "output_type": "execute_result"
    }
   ],
   "source": [
    "DF.loc[DF[\"club_name\"]==\"Deportivo de La Coruña\"]"
   ]
  },
  {
   "cell_type": "code",
   "execution_count": 51,
   "metadata": {},
   "outputs": [
    {
     "data": {
      "text/plain": [
       "1193"
      ]
     },
     "execution_count": 51,
     "metadata": {},
     "output_type": "execute_result"
    }
   ],
   "source": [
    "DF.shape[0]"
   ]
  },
  {
   "cell_type": "code",
   "execution_count": null,
   "metadata": {},
   "outputs": [],
   "source": []
  },
  {
   "cell_type": "code",
   "execution_count": null,
   "metadata": {},
   "outputs": [],
   "source": []
  },
  {
   "cell_type": "markdown",
   "metadata": {},
   "source": [
    "## Analysis"
   ]
  },
  {
   "cell_type": "code",
   "execution_count": 52,
   "metadata": {},
   "outputs": [],
   "source": [
    "G_undir = nx.from_pandas_edgelist(DFun, \n",
    "                            source = \"club_name\",\n",
    "                            target = \"club_involved_name\",\n",
    "                            edge_attr=\"fee_cleaned\",\n",
    "                            create_using=networkx.Graph # or Graph, DiGraph, MultiGraph, MultiDiGraph\n",
    "                           )"
   ]
  },
  {
   "cell_type": "code",
   "execution_count": 53,
   "metadata": {},
   "outputs": [],
   "source": [
    "G_dir = nx.from_pandas_edgelist(DF, \n",
    "                            source = \"club_name\",\n",
    "                            target = \"club_involved_name\",\n",
    "                            edge_attr=[\"fee_cleaned\"],#, \"colour\"],\n",
    "                            create_using=networkx.DiGraph()\n",
    "                           )"
   ]
  },
  {
   "cell_type": "markdown",
   "metadata": {},
   "source": [
    "#### Small World"
   ]
  },
  {
   "cell_type": "code",
   "execution_count": 54,
   "metadata": {},
   "outputs": [],
   "source": [
    "## Small world\n",
    "\n",
    "# random reference graph\n",
    "#G_ref = networkx.algorithms.smallworld.random_reference(G_undir, seed = 10)\n",
    "#DFcon19 = DFun19.iloc[DFun19[\"club_name\"]!=\"SC Paderborn 07\"]\n",
    "#DFcon19 = DFcon19.iloc[DFcon19[\"club_involved_name\"]!=\"SC Paderborn 07\"]\n",
    "SepList20 = [\"CD Nacional\", \"Al-Batin\", \"Shimizu S-Pulse\", \"Portimonense SC\", \"SV Sandhausen\",\n",
    "            \"CD Tondela\", \"Coventry\"]\n",
    "SepList19 = [\"Vitória Setúbal FC\",\"RKC Waalwijk\",\"Portimonense SC\",\"ADO Den Haag\",\"Sparta Rotterdam\",\n",
    "             \"FC Paços de Ferreira\"]\n",
    "SepList18 = [\"CD Santa Clara\", \"Pau FC\", \"FC Emmen\", \"KS Samara\",\"Khimki\", \"Tottenham Hotspur\",\n",
    "            \"C. Rizespor\", \"CD Nacional\"]\n",
    "SepList17 = [\"Omiya Ardija\", \"SK Brann\"]\n",
    "SepList16 = [\"FK Orenburg\",\"Rotherham United\",\"Belenenses SAD\", \"SC Heerenveen\",\"MVV Maastricht\",\n",
    "            \"Ross County\", \"GD Chaves\"]\n",
    "SepList15 = [\"Boavista FC\", \"RSC Charleroi\", \"Helmond Sport\",\"Lienden\",\"Go Ahead Eagles\"]\n",
    "SepList14 = [ \"Cracovia\",\"Gaish\",\"FK Ufa\", \"FC Nantes\", \"Brisbane Roar\", \"Shinnik\"]\n",
    "SepList13 = [\"CFR Cluj\",\"Zawisza\",\"Académica Coimbra\", \"Tom Tomsk\",\"Rio Ave FC\",\"Alianza Lima\",\n",
    "             \"Belenenses SAD\",\"Waterford FC\", \"Leeds\"]\n",
    "SepList12 = [\"Mordovia Saransk\",\"Telstar\", \"CS Marítimo\"]\n",
    "SepList11 = [\"Rio Ave FC\",\"SC Olhanense\",\"Sheriff\", \"Indjija\"]\n",
    "SepList10 = [\"SM Caen\",\"CS Marítimo\",\"Sligo Rovers\", \"Roda JC Kerkrade\", \"Athletic Bilbao\", \n",
    "             \"Watford FC\", \"Cracovia\",\"FK Rostov\"]\n",
    "SepList09 = [\"AS Trencin\", \"Santo André\",\"Anorthosis\", \"Sharjah FC\"]\n",
    "SepList08 = [\"Ittihad\"]\n",
    "SepList07 = [\"CF Estrela Amadora SAD\"]\n",
    "\n",
    "\n",
    "SepList = SepList07\n",
    "\n",
    "DFcon= DFun.drop(DFun[ DFun['club_involved_name'].isin( SepList)].index)\n",
    "\n",
    "DFcon = DFcon.drop(DFcon[ DFcon['club_name'].isin(SepList)].index)\n",
    "\n",
    "#networkx.algorithms.smallworld.sigma(G_undir,niter=10, seed=10)"
   ]
  },
  {
   "cell_type": "code",
   "execution_count": null,
   "metadata": {},
   "outputs": [],
   "source": []
  },
  {
   "cell_type": "code",
   "execution_count": 55,
   "metadata": {},
   "outputs": [],
   "source": [
    "G_undirconnected = nx.from_pandas_edgelist(DFcon, \n",
    "                            source = \"club_name\",\n",
    "                            target = \"club_involved_name\",\n",
    "                            edge_attr=\"fee_cleaned\",\n",
    "                            create_using=networkx.Graph # or Graph, DiGraph, MultiGraph, MultiDiGraph\n",
    "                           )\n",
    "\n",
    "\n"
   ]
  },
  {
   "cell_type": "code",
   "execution_count": 56,
   "metadata": {
    "scrolled": false
   },
   "outputs": [
    {
     "data": {
      "text/html": [
       "\n",
       "        <iframe\n",
       "            width=\"800px\"\n",
       "            height=\"800px\"\n",
       "            src=\"nx.html\"\n",
       "            frameborder=\"0\"\n",
       "            allowfullscreen\n",
       "            \n",
       "        ></iframe>\n",
       "        "
      ],
      "text/plain": [
       "<IPython.lib.display.IFrame at 0x7f5baa107320>"
      ]
     },
     "execution_count": 56,
     "metadata": {},
     "output_type": "execute_result"
    }
   ],
   "source": [
    "# Quick check: plot\n",
    "nt = Network('800px', '800px',notebook=True)\n",
    "#nt.from_nx(G_undirconnected)\n",
    "\n",
    "\n",
    "for node in G_undirconnected.nodes:\n",
    "    nt.add_node(str(node), color = Colour(node), #alpha=0.1,\n",
    "              options = {\n",
    "              })\n",
    "    \n",
    "for i in range(DFcon.shape[0]):\n",
    "    nt.add_edge(DFcon[\"club_name\"].iloc[i], \n",
    "              DFcon[\"club_involved_name\"].iloc[i],\n",
    "              value=DFcon[\"fee_cleaned\"].iloc[i], \n",
    "            kwargs ={\n",
    "               \"physics\":False\n",
    "           })\n",
    "\n",
    "nt.show('nx.html')\n",
    "# Is connected!!"
   ]
  },
  {
   "cell_type": "code",
   "execution_count": 57,
   "metadata": {},
   "outputs": [],
   "source": [
    "nt.save_graph(year+\"_connection.html\")"
   ]
  },
  {
   "cell_type": "code",
   "execution_count": null,
   "metadata": {},
   "outputs": [],
   "source": []
  },
  {
   "cell_type": "code",
   "execution_count": null,
   "metadata": {},
   "outputs": [],
   "source": []
  },
  {
   "cell_type": "code",
   "execution_count": null,
   "metadata": {},
   "outputs": [],
   "source": []
  },
  {
   "cell_type": "code",
   "execution_count": null,
   "metadata": {},
   "outputs": [],
   "source": [
    "\n",
    "start = time.time()\n",
    "\n",
    "SW = networkx.algorithms.smallworld.sigma(G_undirconnected,niter=20, seed=42)\n",
    "print(SW)\n",
    "\n",
    "end = time.time()\n",
    "print(end - start)"
   ]
  },
  {
   "cell_type": "code",
   "execution_count": null,
   "metadata": {},
   "outputs": [],
   "source": []
  },
  {
   "cell_type": "markdown",
   "metadata": {},
   "source": [
    "#### Degree Distribution"
   ]
  },
  {
   "cell_type": "code",
   "execution_count": null,
   "metadata": {},
   "outputs": [],
   "source": [
    "networkx.classes.function.degree_histogram(G_undir)"
   ]
  },
  {
   "cell_type": "code",
   "execution_count": null,
   "metadata": {},
   "outputs": [],
   "source": []
  },
  {
   "cell_type": "code",
   "execution_count": null,
   "metadata": {},
   "outputs": [],
   "source": [
    "import networkx as nx\n",
    "\n",
    "def plot_degree_dist(G):\n",
    "    degrees = [G.degree(n) for n in G.nodes()]\n",
    "    plt.hist(degrees)\n",
    "    plt.show()\n",
    "\n",
    "plot_degree_dist(G_undir)"
   ]
  },
  {
   "cell_type": "code",
   "execution_count": null,
   "metadata": {},
   "outputs": [],
   "source": [
    "def plot_degree_dist(G):\n",
    "    degrees = [G.degree(n) for n in G.nodes()]\n",
    "    plt.hist(np.log(degrees), bins = int(len(G.nodes())/20), log = True)\n",
    "    plt.show()\n",
    "\n",
    "plot_degree_dist(G_undir)"
   ]
  },
  {
   "cell_type": "code",
   "execution_count": null,
   "metadata": {},
   "outputs": [],
   "source": [
    "degrees = [G.degree(n) for n in G.nodes()]\n",
    "log_degrees = np.log(degrees)\n",
    "print(np.mean(log_degrees), np.std(log_degrees), skew(log_degrees))\n"
   ]
  },
  {
   "cell_type": "code",
   "execution_count": null,
   "metadata": {},
   "outputs": [],
   "source": [
    "plt.hist(degrees, bins = np.arange(-0.5,max(degrees)+0.5,1))\n",
    "plt.show()"
   ]
  },
  {
   "cell_type": "code",
   "execution_count": null,
   "metadata": {},
   "outputs": [],
   "source": [
    "degree_dist = np.zeros(max(degrees)+1)"
   ]
  },
  {
   "cell_type": "code",
   "execution_count": null,
   "metadata": {},
   "outputs": [],
   "source": [
    "for i in range(max(degrees)):\n",
    "    degree_dist[i] = np.sum(np.array(degrees) == i)"
   ]
  },
  {
   "cell_type": "code",
   "execution_count": null,
   "metadata": {},
   "outputs": [],
   "source": [
    "degree_dist"
   ]
  },
  {
   "cell_type": "code",
   "execution_count": null,
   "metadata": {},
   "outputs": [],
   "source": [
    "plt.scatter(np.arange(max(degrees)+1), degree_dist)\n",
    "plt.show()"
   ]
  },
  {
   "cell_type": "markdown",
   "metadata": {},
   "source": [
    "#### in-degree"
   ]
  },
  {
   "cell_type": "code",
   "execution_count": null,
   "metadata": {},
   "outputs": [],
   "source": [
    "indegrees = [G_dir.in_degree(n) for n in G_dir.nodes()]\n",
    "indegree_dist = np.zeros(max(indegrees)+1)\n",
    "for i in range(max(indegrees)+1):\n",
    "    indegree_dist[i] = np.sum(np.array(indegrees) == i)\n",
    "    print(i,indegree_dist[i])\n",
    "plt.scatter(np.arange(max(indegrees)+1), indegree_dist)\n",
    "plt.show()"
   ]
  },
  {
   "cell_type": "code",
   "execution_count": null,
   "metadata": {},
   "outputs": [],
   "source": [
    "# calculate for everything without 0 (artifact because of limited data)"
   ]
  },
  {
   "cell_type": "code",
   "execution_count": null,
   "metadata": {},
   "outputs": [],
   "source": [
    "indegree_dist"
   ]
  },
  {
   "cell_type": "code",
   "execution_count": null,
   "metadata": {},
   "outputs": [],
   "source": [
    "x = np.arange(1,max(indegrees)+1)\n",
    "y = indegree_dist[1:]\n",
    "\n",
    "\n",
    "plt.xscale('log')\n",
    "plt.yscale('log')\n",
    "plt.scatter(x, y)\n",
    "plt.ylim(0.99, 1.5*max(y))\n",
    "#plt.plot(np.exp(np.arange(0,3,0.01)), \n",
    " #       np.exp(reg.predict(np.arange(0,3,0.01).reshape(-1, 1))), color=\"red\")\n",
    "\n",
    "ax = plt.gca()\n",
    "ax.xaxis.set_major_formatter(ScalarFormatter())\n",
    "plt.xlabel(\"k - Out-Degree of Nodes\")\n",
    "plt.ylabel(\"Number of Nodes\")\n",
    "plt.savefig(year+\"_InNodeDistrPlot\")\n",
    "\n",
    "plt.show()"
   ]
  },
  {
   "cell_type": "code",
   "execution_count": null,
   "metadata": {},
   "outputs": [],
   "source": [
    "# Probably not an argument against Power-Law, but also probably not enough data with really many connections"
   ]
  },
  {
   "cell_type": "code",
   "execution_count": null,
   "metadata": {},
   "outputs": [],
   "source": [
    "#### Out-Degree"
   ]
  },
  {
   "cell_type": "code",
   "execution_count": null,
   "metadata": {},
   "outputs": [],
   "source": [
    "outdegrees = [G_dir.out_degree(n) for n in G_dir.nodes()]\n",
    "outdegrees_dist = np.zeros(max(outdegrees)+1)\n",
    "for i in range(max(outdegrees)+1):\n",
    "    outdegrees_dist[i] = np.sum(np.array(outdegrees) == i)\n",
    "    print(i,outdegrees_dist[i])\n"
   ]
  },
  {
   "cell_type": "code",
   "execution_count": null,
   "metadata": {},
   "outputs": [],
   "source": [
    "x = np.arange(1,max(outdegrees)+1)\n",
    "y = outdegrees_dist[1:]\n",
    "\n",
    "\n",
    "plt.xscale('log')\n",
    "plt.yscale('log')\n",
    "plt.scatter(x, y)\n",
    "plt.ylim(0.99, 1.5*max(y))\n",
    "#plt.plot(np.exp(np.arange(0,3,0.01)), \n",
    " #       np.exp(reg.predict(np.arange(0,3,0.01).reshape(-1, 1))), color=\"red\")\n",
    "\n",
    "ax = plt.gca()\n",
    "ax.xaxis.set_major_formatter(ScalarFormatter())\n",
    "plt.xlabel(\"k - Out-Degree of Nodes\")\n",
    "plt.ylabel(\"Number of Nodes\")\n",
    "plt.savefig(year+\"_OutNodeDistrPlot\")\n",
    "\n",
    "plt.show()"
   ]
  },
  {
   "cell_type": "markdown",
   "metadata": {},
   "source": [
    "### Clustering"
   ]
  },
  {
   "cell_type": "code",
   "execution_count": null,
   "metadata": {},
   "outputs": [],
   "source": [
    "G_dir = nx.from_pandas_edgelist(DF, \n",
    "                            source = \"club_involved_name\",\n",
    "                            target = \"club_name\",\n",
    "                            edge_attr=\"fee_cleaned\",\n",
    "                            create_using=networkx.DiGraph # or Graph, DiGraph, MultiGraph, MultiDiGraph\n",
    "                           )"
   ]
  },
  {
   "cell_type": "code",
   "execution_count": null,
   "metadata": {},
   "outputs": [],
   "source": [
    "networkx.algorithms.hierarchy.flow_hierarchy(G_dir)"
   ]
  },
  {
   "cell_type": "code",
   "execution_count": null,
   "metadata": {},
   "outputs": [],
   "source": [
    "# Regular Clustering\n",
    "\n",
    "Clust = networkx.algorithms.cluster.clustering(G_dir)\n",
    "BDN_C = np.mean(list(Clust.values()))\n",
    "print(BDN_C)"
   ]
  },
  {
   "cell_type": "code",
   "execution_count": null,
   "metadata": {},
   "outputs": [],
   "source": [
    "WeightClust = networkx.algorithms.cluster.clustering(G_dir, weight = \"fee_cleaned\")"
   ]
  },
  {
   "cell_type": "code",
   "execution_count": null,
   "metadata": {},
   "outputs": [],
   "source": [
    "# Weighted Clustering\n",
    "# https://journals.aps.org/pre/abstract/10.1103/PhysRevE.76.026107\n",
    "\n",
    "WDN_C = np.mean(list(WeightClust.values()))  ## ?\n",
    "print(WDN_C)"
   ]
  },
  {
   "cell_type": "code",
   "execution_count": null,
   "metadata": {},
   "outputs": [],
   "source": [
    "NumberNodes = len(list(G_dir.nodes))\n",
    "NumberEdges = len(list(G_dir.edges))\n",
    "\n",
    "p = 2*NumberEdges / (NumberNodes*(NumberNodes-1)) # p. 19 in Large Scale Structures....\n",
    "print(p)"
   ]
  },
  {
   "cell_type": "markdown",
   "metadata": {},
   "source": [
    "Kind of like Eq. (11) in https://journals.aps.org/pre/abstract/10.1103/PhysRevE.76.026107\n",
    "it holds that Clustering_WDN < Clustering_BDN ~ p_random"
   ]
  },
  {
   "cell_type": "markdown",
   "metadata": {},
   "source": [
    "### Calculate Node Strength Distribution"
   ]
  },
  {
   "cell_type": "code",
   "execution_count": null,
   "metadata": {},
   "outputs": [],
   "source": [
    "l=0\n",
    "for n in G.nodes():\n",
    "    l = l+1\n",
    "print(l)\n",
    "print(len(G.nodes()))\n",
    "print(int(len(G.nodes())/20))"
   ]
  },
  {
   "cell_type": "code",
   "execution_count": null,
   "metadata": {},
   "outputs": [],
   "source": [
    "# Roughly symmetrical around 1.5?\n",
    "def plot_strength_dist(G):\n",
    "    strengths = [G.degree(n, weight=\"fee_cleaned\") for n in G.nodes()]\n",
    "    plt.hist(np.log(strengths), bins = int(len(G.nodes())/20), log = True)\n",
    "    print(min(strengths), max(strengths))\n",
    "    plt.savefig(year+\"_LogStrengthDistrib\")\n",
    "    plt.show()\n",
    "plot_strength_dist(G_dir)\n",
    "\n"
   ]
  },
  {
   "cell_type": "code",
   "execution_count": null,
   "metadata": {},
   "outputs": [],
   "source": [
    "strengths = [G.degree(n, weight=\"fee_cleaned\") for n in G.nodes()]\n",
    "log_strengths = np.log(strengths)\n",
    "print(np.mean(log_strengths), np.std(log_strengths), skew(log_strengths))"
   ]
  },
  {
   "cell_type": "markdown",
   "metadata": {},
   "source": [
    "### Disparity for undirected Network"
   ]
  },
  {
   "cell_type": "code",
   "execution_count": null,
   "metadata": {},
   "outputs": [],
   "source": [
    "A = networkx.linalg.graphmatrix.adjacency_matrix(G_undir, weight = \"fee_cleaned\")"
   ]
  },
  {
   "cell_type": "code",
   "execution_count": null,
   "metadata": {},
   "outputs": [],
   "source": [
    "print(A.shape)"
   ]
  },
  {
   "cell_type": "code",
   "execution_count": null,
   "metadata": {},
   "outputs": [],
   "source": [
    "## Sanity check: should be 0\n",
    "print(np.sum(A[i,i] for i in range(A.shape[0])))"
   ]
  },
  {
   "cell_type": "code",
   "execution_count": null,
   "metadata": {},
   "outputs": [],
   "source": [
    "print(DF)"
   ]
  },
  {
   "cell_type": "code",
   "execution_count": null,
   "metadata": {},
   "outputs": [],
   "source": [
    "print(A)"
   ]
  },
  {
   "cell_type": "code",
   "execution_count": null,
   "metadata": {},
   "outputs": [],
   "source": [
    "strengths_undir = [G_undir.degree(n, weight=\"fee_cleaned\") for n in G_undir.nodes()]"
   ]
  },
  {
   "cell_type": "code",
   "execution_count": null,
   "metadata": {},
   "outputs": [],
   "source": [
    "strengths_undir"
   ]
  },
  {
   "cell_type": "code",
   "execution_count": null,
   "metadata": {},
   "outputs": [],
   "source": [
    "j = 0\n",
    "Y = np.zeros(A.shape[0])\n",
    "for i in G_undir.nodes:\n",
    "    row = (A[j,:]/np.sum(A[j,:]))\n",
    "    row = row.toarray()\n",
    "    Y[j] = np.sum(row**2)\n",
    "    j = j+1\n",
    "    \n",
    "    \n",
    "print(j)"
   ]
  },
  {
   "cell_type": "code",
   "execution_count": null,
   "metadata": {},
   "outputs": [],
   "source": [
    "degrees_undir = [G_undir.degree(n) for n in G_undir.nodes()]"
   ]
  },
  {
   "cell_type": "code",
   "execution_count": null,
   "metadata": {},
   "outputs": [],
   "source": [
    "import sklearn\n",
    "from sklearn.linear_model import LinearRegression\n",
    "reg = LinearRegression().fit(np.log(degrees_undir).reshape(-1, 1), np.log(Y).reshape(-1, 1))"
   ]
  },
  {
   "cell_type": "code",
   "execution_count": null,
   "metadata": {},
   "outputs": [],
   "source": [
    "print(reg.coef_[0]) # reasonably close to -1?\n"
   ]
  },
  {
   "cell_type": "code",
   "execution_count": null,
   "metadata": {},
   "outputs": [],
   "source": [
    "\n",
    "\n",
    "x = degrees_undir\n",
    "y = Y\n",
    "\n",
    "plt.scatter(x, y)\n",
    "plt.xscale('log')\n",
    "plt.yscale('log')\n",
    "\n",
    "plt.plot(np.exp(np.arange(0,3,0.01)), \n",
    "        np.exp(reg.predict(np.arange(0,3,0.01).reshape(-1, 1))), color=\"red\")\n",
    "\n",
    "ax = plt.gca()\n",
    "ax.xaxis.set_major_formatter(ScalarFormatter())\n",
    "plt.xlabel(\"log(k) - Number of Neighbours\")\n",
    "plt.ylabel(\"log(Y) - Disparity\")\n",
    "plt.savefig(year+\"_DisparityPlot\")\n",
    "\n",
    "plt.show()\n"
   ]
  },
  {
   "cell_type": "markdown",
   "metadata": {},
   "source": [
    "## Conclusion\n",
    "Save some important results as an exported txt"
   ]
  },
  {
   "cell_type": "code",
   "execution_count": null,
   "metadata": {},
   "outputs": [],
   "source": [
    "Out = pd.DataFrame(data={\"Year\":year,\n",
    "                         \"NumberClubs\": NumberNodes,\n",
    "                         \"NumberTransfers\": DF_clean.shape[0],\n",
    "                         \"SmallWorld\": SW,\n",
    "                        \"DisparityExponent\": reg.coef_[0],\n",
    "                         \"BDN_RandomClusteringExpecation\": p,\n",
    "                        \"BDN_Clustering\": BDN_C,\n",
    "                        \"WDN_Clustering\":WDN_C,\n",
    "                        \"MeanLogStrength\":np.mean(log_strengths), \n",
    "                         \"StdLogStrength\":np.std(log_strengths), \n",
    "                         \"SkewnessLogStrength\":skew(log_strengths)})"
   ]
  },
  {
   "cell_type": "code",
   "execution_count": null,
   "metadata": {},
   "outputs": [],
   "source": [
    "Out.to_csv(year+\"_results.csv\",index=False)"
   ]
  },
  {
   "cell_type": "code",
   "execution_count": null,
   "metadata": {},
   "outputs": [],
   "source": [
    "Out"
   ]
  },
  {
   "cell_type": "code",
   "execution_count": null,
   "metadata": {},
   "outputs": [],
   "source": []
  },
  {
   "cell_type": "code",
   "execution_count": null,
   "metadata": {},
   "outputs": [],
   "source": [
    "year"
   ]
  }
 ],
 "metadata": {
  "kernelspec": {
   "display_name": "Python 3 (ipykernel)",
   "language": "python",
   "name": "python3"
  },
  "language_info": {
   "codemirror_mode": {
    "name": "ipython",
    "version": 3
   },
   "file_extension": ".py",
   "mimetype": "text/x-python",
   "name": "python",
   "nbconvert_exporter": "python",
   "pygments_lexer": "ipython3",
   "version": "3.7.3"
  }
 },
 "nbformat": 4,
 "nbformat_minor": 4
}
